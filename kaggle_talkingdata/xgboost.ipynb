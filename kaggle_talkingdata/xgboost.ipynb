{
 "cells": [
  {
   "cell_type": "code",
   "execution_count": 1,
   "metadata": {
    "ExecuteTime": {
     "end_time": "2018-10-19T09:24:18.051708Z",
     "start_time": "2018-10-19T09:24:15.305826Z"
    }
   },
   "outputs": [
    {
     "name": "stderr",
     "output_type": "stream",
     "text": [
      "/home/ubuntu/anaconda3/envs/py36/lib/python3.6/site-packages/sklearn/cross_validation.py:41: DeprecationWarning: This module was deprecated in version 0.18 in favor of the model_selection module into which all the refactored classes and functions are moved. Also note that the interface of the new CV iterators are different from that of this module. This module will be removed in 0.20.\n",
      "  \"This module will be removed in 0.20.\", DeprecationWarning)\n"
     ]
    }
   ],
   "source": [
    "import pandas as pd\n",
    "import time\n",
    "import numpy as np\n",
    "from sklearn.cross_validation import train_test_split\n",
    "import xgboost as xgb\n",
    "import os \n",
    "from sklearn.metrics import confusion_matrix, auc\n",
    "from sklearn import metrics\n",
    "from xgboost import plot_importance\n"
   ]
  },
  {
   "cell_type": "code",
   "execution_count": 2,
   "metadata": {
    "ExecuteTime": {
     "end_time": "2018-10-19T09:24:18.579053Z",
     "start_time": "2018-10-19T09:24:18.576559Z"
    },
    "collapsed": true
   },
   "outputs": [],
   "source": [
    "PATH = \"input\""
   ]
  },
  {
   "cell_type": "code",
   "execution_count": 3,
   "metadata": {
    "ExecuteTime": {
     "end_time": "2018-10-19T09:24:19.092056Z",
     "start_time": "2018-10-19T09:24:18.971125Z"
    }
   },
   "outputs": [
    {
     "name": "stdout",
     "output_type": "stream",
     "text": [
      "sample_submission.csv\t   test_supplement.csv\t    train_sample.csv\r\n",
      "sample_submission.csv.zip  test_supplement.csv.zip  train_sample.csv.zip\r\n",
      "test.csv\t\t   train.csv\r\n",
      "test.csv.zip\t\t   train.csv.zip\r\n"
     ]
    }
   ],
   "source": [
    "!ls {PATH}"
   ]
  },
  {
   "cell_type": "code",
   "execution_count": 4,
   "metadata": {
    "ExecuteTime": {
     "end_time": "2018-10-19T09:24:19.261489Z",
     "start_time": "2018-10-19T09:24:19.256438Z"
    },
    "collapsed": true
   },
   "outputs": [],
   "source": [
    "def dataPreProcessTime(df):\n",
    "    df['click_time'] = pd.to_datetime(df['click_time']).dt.date\n",
    "    df['click_time'] = df['click_time'].apply(lambda x: x.strftime('%d%H%M')).astype(int)\n",
    "    \n",
    "    return df"
   ]
  },
  {
   "cell_type": "code",
   "execution_count": 5,
   "metadata": {
    "ExecuteTime": {
     "end_time": "2018-10-19T09:25:52.133437Z",
     "start_time": "2018-10-19T09:24:19.529518Z"
    }
   },
   "outputs": [
    {
     "name": "stdout",
     "output_type": "stream",
     "text": [
      "reading data\n"
     ]
    },
    {
     "name": "stderr",
     "output_type": "stream",
     "text": [
      "/home/ubuntu/anaconda3/envs/py36/lib/python3.6/site-packages/IPython/core/interactiveshell.py:2698: DtypeWarning: Columns (6) have mixed types. Specify dtype option on import or set low_memory=False.\n",
      "  interactivity=interactivity, compiler=compiler, result=result)\n"
     ]
    }
   ],
   "source": [
    "start_time = time.time()\n",
    "\n",
    "print(\"reading data\")\n",
    "train = pd.read_csv(PATH+\"/train.csv\", skiprows=147403891, nrows=37500000) \n",
    "# nrows in \"train.csv\" is: 184903891\n",
    "train.columns = ['ip', 'app', 'device', 'os', 'channel', 'click_time', 'attributed_time', 'is_attributed']\n",
    "test = pd.read_csv(PATH+\"/test.csv\")\n",
    "\n"
   ]
  },
  {
   "cell_type": "code",
   "execution_count": 6,
   "metadata": {
    "ExecuteTime": {
     "end_time": "2018-10-19T09:29:02.915741Z",
     "start_time": "2018-10-19T09:25:52.135509Z"
    }
   },
   "outputs": [
    {
     "name": "stdout",
     "output_type": "stream",
     "text": [
      "[92.60397005081177] Finished to load data\n"
     ]
    }
   ],
   "source": [
    "print('[{}] Finished to load data'.format(time.time() - start_time))\n",
    "\n",
    "train = dataPreProcessTime(train)\n",
    "test = dataPreProcessTime(test)"
   ]
  },
  {
   "cell_type": "code",
   "execution_count": 7,
   "metadata": {
    "ExecuteTime": {
     "end_time": "2018-10-19T09:29:03.133048Z",
     "start_time": "2018-10-19T09:29:02.917831Z"
    }
   },
   "outputs": [
    {
     "name": "stdout",
     "output_type": "stream",
     "text": [
      "input\t\tsub_xgb_hist_pos_weight.csv.gz\txgboost.ipynb\r\n",
      "lightgbm.ipynb\ttree.ipynb\t\t\txgboost_outout.ipynb\r\n"
     ]
    }
   ],
   "source": [
    "!ls"
   ]
  },
  {
   "cell_type": "code",
   "execution_count": 8,
   "metadata": {
    "ExecuteTime": {
     "end_time": "2018-10-19T09:29:10.454310Z",
     "start_time": "2018-10-19T09:29:03.135128Z"
    },
    "collapsed": true
   },
   "outputs": [],
   "source": [
    "y = train['is_attributed']\n",
    "train.drop(['ip', 'is_attributed', 'attributed_time'], axis=1, inplace=True)\n",
    "\n",
    "sub = pd.DataFrame()\n",
    "sub['click_id'] = test['click_id']\n",
    "test.drop(['ip', 'click_id'], axis=1, inplace=True)"
   ]
  },
  {
   "cell_type": "code",
   "execution_count": null,
   "metadata": {
    "collapsed": true
   },
   "outputs": [],
   "source": []
  },
  {
   "cell_type": "code",
   "execution_count": 9,
   "metadata": {
    "ExecuteTime": {
     "end_time": "2018-10-14T23:55:24.123341Z",
     "start_time": "2018-10-14T23:55:24.096312Z"
    }
   },
   "outputs": [
    {
     "name": "stdout",
     "output_type": "stream",
     "text": [
      "training set | data types: \n",
      "<class 'pandas.core.frame.DataFrame'>\n",
      "RangeIndex: 37499999 entries, 0 to 37499998\n",
      "Data columns (total 5 columns):\n",
      "app           int64\n",
      "device        int64\n",
      "os            int64\n",
      "channel       int64\n",
      "click_time    int64\n",
      "dtypes: int64(5)\n",
      "memory usage: 1.4 GB\n",
      "None\n",
      "train size:  37499999\n",
      "test size:  18790469\n",
      "[267.90895986557007] Start XGBoost Training\n"
     ]
    }
   ],
   "source": [
    "print(\"training set | data types: \")\n",
    "print(train.info())\n",
    "print(\"train size: \", len(train))\n",
    "print(\"test size: \", len(test))\n",
    "\n",
    "print('[{}] Start XGBoost Training'.format(time.time() - start_time))"
   ]
  },
  {
   "cell_type": "code",
   "execution_count": null,
   "metadata": {
    "collapsed": true
   },
   "outputs": [],
   "source": []
  },
  {
   "cell_type": "code",
   "execution_count": 10,
   "metadata": {
    "ExecuteTime": {
     "end_time": "2018-10-14T23:57:05.653669Z",
     "start_time": "2018-10-14T23:56:39.442355Z"
    },
    "collapsed": true
   },
   "outputs": [],
   "source": [
    "params = {'eta': 0.6, \n",
    "          'tree_method': \"hist\",      # Fast histogram optimized approximate greedy algorithm. \n",
    "          'grow_policy': \"lossguide\", # split at nodes with highest loss change\n",
    "          'max_leaves': 1400,         # Maximum number of nodes to be added. (for lossguide grow policy | custom number: 2^max_depth(~10.5))\n",
    "          'max_depth': 0,             # 0 means no limit (useful only for depth wise grow policy)\n",
    "          'subsample': 0.9,           \n",
    "          'colsample_bytree': 0.7, \n",
    "          'colsample_bylevel':0.7,\n",
    "          'min_child_weight':0,       # The larger, the more conservative the algorithm will be\n",
    "          'alpha':4,\n",
    "          'objective': 'binary:logistic', \n",
    "      #    'scale_pos_weight':9,       # because training data is extremely unbalanced \n",
    "          'eval_metric': 'auc', \n",
    "          'nthread':8,\n",
    "          'random_state': 84, \n",
    "          'silent': True}\n",
    "\n",
    "          \n",
    "x1, x2, y1, y2 = train_test_split(train, y, test_size=0.1, random_state=84)\n",
    "\n",
    "# watch list to observe the change in error in training and validation data\n",
    "watchlist = [(xgb.DMatrix(x1, y1), 'train'), (xgb.DMatrix(x2, y2), 'valid')]\n",
    "\n"
   ]
  },
  {
   "cell_type": "code",
   "execution_count": 11,
   "metadata": {
    "ExecuteTime": {
     "end_time": "2018-10-14T23:57:05.675231Z",
     "start_time": "2018-10-14T23:57:05.656251Z"
    }
   },
   "outputs": [
    {
     "data": {
      "text/html": [
       "<div>\n",
       "<style scoped>\n",
       "    .dataframe tbody tr th:only-of-type {\n",
       "        vertical-align: middle;\n",
       "    }\n",
       "\n",
       "    .dataframe tbody tr th {\n",
       "        vertical-align: top;\n",
       "    }\n",
       "\n",
       "    .dataframe thead th {\n",
       "        text-align: right;\n",
       "    }\n",
       "</style>\n",
       "<table border=\"1\" class=\"dataframe\">\n",
       "  <thead>\n",
       "    <tr style=\"text-align: right;\">\n",
       "      <th></th>\n",
       "      <th>app</th>\n",
       "      <th>device</th>\n",
       "      <th>os</th>\n",
       "      <th>channel</th>\n",
       "      <th>click_time</th>\n",
       "    </tr>\n",
       "  </thead>\n",
       "  <tbody>\n",
       "    <tr>\n",
       "      <th>3876180</th>\n",
       "      <td>3</td>\n",
       "      <td>1</td>\n",
       "      <td>6</td>\n",
       "      <td>280</td>\n",
       "      <td>90000</td>\n",
       "    </tr>\n",
       "    <tr>\n",
       "      <th>36413389</th>\n",
       "      <td>18</td>\n",
       "      <td>1</td>\n",
       "      <td>10</td>\n",
       "      <td>107</td>\n",
       "      <td>90000</td>\n",
       "    </tr>\n",
       "    <tr>\n",
       "      <th>18997479</th>\n",
       "      <td>9</td>\n",
       "      <td>1</td>\n",
       "      <td>36</td>\n",
       "      <td>127</td>\n",
       "      <td>90000</td>\n",
       "    </tr>\n",
       "    <tr>\n",
       "      <th>35793788</th>\n",
       "      <td>3</td>\n",
       "      <td>1</td>\n",
       "      <td>53</td>\n",
       "      <td>130</td>\n",
       "      <td>90000</td>\n",
       "    </tr>\n",
       "    <tr>\n",
       "      <th>926462</th>\n",
       "      <td>15</td>\n",
       "      <td>1</td>\n",
       "      <td>13</td>\n",
       "      <td>480</td>\n",
       "      <td>90000</td>\n",
       "    </tr>\n",
       "  </tbody>\n",
       "</table>\n",
       "</div>"
      ],
      "text/plain": [
       "          app  device  os  channel  click_time\n",
       "3876180     3       1   6      280       90000\n",
       "36413389   18       1  10      107       90000\n",
       "18997479    9       1  36      127       90000\n",
       "35793788    3       1  53      130       90000\n",
       "926462     15       1  13      480       90000"
      ]
     },
     "execution_count": 11,
     "metadata": {},
     "output_type": "execute_result"
    }
   ],
   "source": [
    "x1.head()"
   ]
  },
  {
   "cell_type": "code",
   "execution_count": 14,
   "metadata": {
    "ExecuteTime": {
     "end_time": "2018-10-15T00:06:32.167790Z",
     "start_time": "2018-10-15T00:06:32.162124Z"
    },
    "collapsed": true
   },
   "outputs": [],
   "source": [
    "params = {\n",
    "          'objective': 'binary:logistic', \n",
    "          'eval_metric': 'auc', \n",
    "          'random_state': 84, \n",
    "          'silent': True}\n",
    "\n"
   ]
  },
  {
   "cell_type": "code",
   "execution_count": 33,
   "metadata": {
    "ExecuteTime": {
     "end_time": "2018-10-15T00:36:35.905974Z",
     "start_time": "2018-10-15T00:36:35.899628Z"
    },
    "collapsed": true
   },
   "outputs": [],
   "source": [
    "?xgb.train"
   ]
  },
  {
   "cell_type": "code",
   "execution_count": 15,
   "metadata": {
    "ExecuteTime": {
     "end_time": "2018-10-15T00:16:46.590569Z",
     "start_time": "2018-10-15T00:06:33.070490Z"
    }
   },
   "outputs": [
    {
     "name": "stdout",
     "output_type": "stream",
     "text": [
      "[00:06:44] Tree method is automatically selected to be 'approx' for faster speed. to use old behavior(exact greedy algorithm on single machine), set tree_method to 'exact'\n",
      "[0]\ttrain-auc:0.907593\tvalid-auc:0.90671\n",
      "Multiple eval metrics have been passed: 'valid-auc' will be used for early stopping.\n",
      "\n",
      "Will train until valid-auc hasn't improved in 10 rounds.\n",
      "[1]\ttrain-auc:0.934969\tvalid-auc:0.935963\n",
      "[2]\ttrain-auc:0.935024\tvalid-auc:0.936117\n",
      "[3]\ttrain-auc:0.935174\tvalid-auc:0.936267\n",
      "[4]\ttrain-auc:0.935246\tvalid-auc:0.936346\n",
      "[5]\ttrain-auc:0.935386\tvalid-auc:0.936472\n",
      "[6]\ttrain-auc:0.935421\tvalid-auc:0.936492\n",
      "[7]\ttrain-auc:0.93574\tvalid-auc:0.936735\n",
      "[8]\ttrain-auc:0.935745\tvalid-auc:0.936732\n",
      "[9]\ttrain-auc:0.935862\tvalid-auc:0.936811\n",
      "[10]\ttrain-auc:0.936059\tvalid-auc:0.936956\n",
      "[11]\ttrain-auc:0.936202\tvalid-auc:0.937222\n",
      "[12]\ttrain-auc:0.949378\tvalid-auc:0.949504\n",
      "[13]\ttrain-auc:0.950767\tvalid-auc:0.950844\n",
      "[14]\ttrain-auc:0.951316\tvalid-auc:0.951342\n",
      "[15]\ttrain-auc:0.951931\tvalid-auc:0.951996\n",
      "[16]\ttrain-auc:0.952378\tvalid-auc:0.952325\n",
      "[17]\ttrain-auc:0.953331\tvalid-auc:0.953377\n",
      "[18]\ttrain-auc:0.953583\tvalid-auc:0.953574\n",
      "[19]\ttrain-auc:0.953834\tvalid-auc:0.953701\n",
      "[20]\ttrain-auc:0.953778\tvalid-auc:0.953743\n",
      "[21]\ttrain-auc:0.954891\tvalid-auc:0.954786\n",
      "[22]\ttrain-auc:0.954853\tvalid-auc:0.954672\n",
      "[23]\ttrain-auc:0.954981\tvalid-auc:0.954818\n",
      "[24]\ttrain-auc:0.955011\tvalid-auc:0.954929\n",
      "[25]\ttrain-auc:0.955175\tvalid-auc:0.955067\n",
      "[26]\ttrain-auc:0.95542\tvalid-auc:0.955366\n",
      "[27]\ttrain-auc:0.956012\tvalid-auc:0.955962\n",
      "[28]\ttrain-auc:0.957177\tvalid-auc:0.957146\n",
      "[29]\ttrain-auc:0.958318\tvalid-auc:0.958234\n",
      "[30]\ttrain-auc:0.95874\tvalid-auc:0.958462\n",
      "[31]\ttrain-auc:0.958828\tvalid-auc:0.958509\n",
      "[32]\ttrain-auc:0.959052\tvalid-auc:0.958853\n",
      "[33]\ttrain-auc:0.95925\tvalid-auc:0.959075\n",
      "[34]\ttrain-auc:0.95982\tvalid-auc:0.959571\n",
      "[35]\ttrain-auc:0.96015\tvalid-auc:0.959883\n",
      "[36]\ttrain-auc:0.959115\tvalid-auc:0.958632\n",
      "[37]\ttrain-auc:0.959225\tvalid-auc:0.958732\n",
      "[38]\ttrain-auc:0.959295\tvalid-auc:0.958858\n",
      "[39]\ttrain-auc:0.959411\tvalid-auc:0.958956\n",
      "[40]\ttrain-auc:0.959611\tvalid-auc:0.959131\n",
      "[41]\ttrain-auc:0.959706\tvalid-auc:0.959222\n",
      "[42]\ttrain-auc:0.9598\tvalid-auc:0.959332\n",
      "[43]\ttrain-auc:0.95987\tvalid-auc:0.959364\n",
      "[44]\ttrain-auc:0.959914\tvalid-auc:0.959416\n",
      "[45]\ttrain-auc:0.959987\tvalid-auc:0.95946\n",
      "Stopping. Best iteration:\n",
      "[35]\ttrain-auc:0.96015\tvalid-auc:0.959883\n",
      "\n",
      "[1550.3768813610077] Finish XGBoost Training\n"
     ]
    }
   ],
   "source": [
    "model = xgb.train(params, xgb.DMatrix(x1, y1), num_boost_round=50, evals=watchlist, maximize=True, \n",
    "                  early_stopping_rounds = 10, verbose_eval=1)\n",
    "\n",
    "print('[{}] Finish XGBoost Training'.format(time.time() - start_time))\n",
    "\n"
   ]
  },
  {
   "cell_type": "code",
   "execution_count": 16,
   "metadata": {
    "ExecuteTime": {
     "end_time": "2018-10-15T00:22:37.405835Z",
     "start_time": "2018-10-15T00:20:07.544599Z"
    },
    "collapsed": true
   },
   "outputs": [],
   "source": [
    "sub['is_attributed'] = model.predict(xgb.DMatrix(test), ntree_limit=model.best_ntree_limit)\n",
    "sub.to_csv('sub_xgb_hist_pos_weight.csv.gz',index=False,compression=\"gzip\")"
   ]
  },
  {
   "cell_type": "code",
   "execution_count": 17,
   "metadata": {
    "ExecuteTime": {
     "end_time": "2018-10-15T00:22:37.416147Z",
     "start_time": "2018-10-15T00:22:37.409493Z"
    }
   },
   "outputs": [
    {
     "data": {
      "text/plain": [
       "37499999"
      ]
     },
     "execution_count": 17,
     "metadata": {},
     "output_type": "execute_result"
    }
   ],
   "source": [
    "len(train)"
   ]
  },
  {
   "cell_type": "code",
   "execution_count": 18,
   "metadata": {
    "ExecuteTime": {
     "end_time": "2018-10-15T00:22:37.437732Z",
     "start_time": "2018-10-15T00:22:37.419043Z"
    }
   },
   "outputs": [
    {
     "data": {
      "text/plain": [
       "5"
      ]
     },
     "execution_count": 18,
     "metadata": {},
     "output_type": "execute_result"
    }
   ],
   "source": [
    "len(train.columns)"
   ]
  },
  {
   "cell_type": "code",
   "execution_count": 19,
   "metadata": {
    "ExecuteTime": {
     "end_time": "2018-10-15T00:22:37.444944Z",
     "start_time": "2018-10-15T00:22:37.440137Z"
    }
   },
   "outputs": [
    {
     "data": {
      "text/plain": [
       "(37499999, 5)"
      ]
     },
     "execution_count": 19,
     "metadata": {},
     "output_type": "execute_result"
    }
   ],
   "source": [
    "train.shape"
   ]
  },
  {
   "cell_type": "code",
   "execution_count": 20,
   "metadata": {
    "ExecuteTime": {
     "end_time": "2018-10-15T00:22:37.457883Z",
     "start_time": "2018-10-15T00:22:37.447121Z"
    }
   },
   "outputs": [
    {
     "data": {
      "text/html": [
       "<div>\n",
       "<style scoped>\n",
       "    .dataframe tbody tr th:only-of-type {\n",
       "        vertical-align: middle;\n",
       "    }\n",
       "\n",
       "    .dataframe tbody tr th {\n",
       "        vertical-align: top;\n",
       "    }\n",
       "\n",
       "    .dataframe thead th {\n",
       "        text-align: right;\n",
       "    }\n",
       "</style>\n",
       "<table border=\"1\" class=\"dataframe\">\n",
       "  <thead>\n",
       "    <tr style=\"text-align: right;\">\n",
       "      <th></th>\n",
       "      <th>app</th>\n",
       "      <th>device</th>\n",
       "      <th>os</th>\n",
       "      <th>channel</th>\n",
       "      <th>click_time</th>\n",
       "    </tr>\n",
       "  </thead>\n",
       "  <tbody>\n",
       "    <tr>\n",
       "      <th>0</th>\n",
       "      <td>3</td>\n",
       "      <td>1</td>\n",
       "      <td>18</td>\n",
       "      <td>130</td>\n",
       "      <td>90000</td>\n",
       "    </tr>\n",
       "    <tr>\n",
       "      <th>1</th>\n",
       "      <td>10</td>\n",
       "      <td>1</td>\n",
       "      <td>9</td>\n",
       "      <td>377</td>\n",
       "      <td>90000</td>\n",
       "    </tr>\n",
       "    <tr>\n",
       "      <th>2</th>\n",
       "      <td>18</td>\n",
       "      <td>1</td>\n",
       "      <td>17</td>\n",
       "      <td>121</td>\n",
       "      <td>90000</td>\n",
       "    </tr>\n",
       "    <tr>\n",
       "      <th>3</th>\n",
       "      <td>12</td>\n",
       "      <td>1</td>\n",
       "      <td>17</td>\n",
       "      <td>497</td>\n",
       "      <td>90000</td>\n",
       "    </tr>\n",
       "    <tr>\n",
       "      <th>4</th>\n",
       "      <td>3</td>\n",
       "      <td>1</td>\n",
       "      <td>13</td>\n",
       "      <td>280</td>\n",
       "      <td>90000</td>\n",
       "    </tr>\n",
       "  </tbody>\n",
       "</table>\n",
       "</div>"
      ],
      "text/plain": [
       "   app  device  os  channel  click_time\n",
       "0    3       1  18      130       90000\n",
       "1   10       1   9      377       90000\n",
       "2   18       1  17      121       90000\n",
       "3   12       1  17      497       90000\n",
       "4    3       1  13      280       90000"
      ]
     },
     "execution_count": 20,
     "metadata": {},
     "output_type": "execute_result"
    }
   ],
   "source": [
    "train.head()"
   ]
  },
  {
   "cell_type": "code",
   "execution_count": 21,
   "metadata": {
    "ExecuteTime": {
     "end_time": "2018-10-15T00:22:37.996617Z",
     "start_time": "2018-10-15T00:22:37.460026Z"
    }
   },
   "outputs": [
    {
     "data": {
      "text/plain": [
       "0    37405507\n",
       "1       94492\n",
       "Name: is_attributed, dtype: int64"
      ]
     },
     "execution_count": 21,
     "metadata": {},
     "output_type": "execute_result"
    }
   ],
   "source": [
    "y.value_counts()"
   ]
  },
  {
   "cell_type": "code",
   "execution_count": 22,
   "metadata": {
    "ExecuteTime": {
     "end_time": "2018-10-15T00:22:38.032053Z",
     "start_time": "2018-10-15T00:22:37.998501Z"
    },
    "collapsed": true
   },
   "outputs": [],
   "source": [
    "?model.predict"
   ]
  },
  {
   "cell_type": "code",
   "execution_count": 23,
   "metadata": {
    "ExecuteTime": {
     "end_time": "2018-10-15T00:22:39.168965Z",
     "start_time": "2018-10-15T00:22:38.034593Z"
    },
    "collapsed": true
   },
   "outputs": [],
   "source": [
    "y_pred = model.predict(xgb.DMatrix(x2), ntree_limit=model.best_ntree_limit)"
   ]
  },
  {
   "cell_type": "code",
   "execution_count": 24,
   "metadata": {
    "ExecuteTime": {
     "end_time": "2018-10-15T00:22:39.176555Z",
     "start_time": "2018-10-15T00:22:39.171298Z"
    }
   },
   "outputs": [
    {
     "data": {
      "text/plain": [
       "array([ 0.00021744,  0.13953386,  0.00043834, ...,  0.00065274,\n",
       "        0.00036475,  0.00021646], dtype=float32)"
      ]
     },
     "execution_count": 24,
     "metadata": {},
     "output_type": "execute_result"
    }
   ],
   "source": [
    "y_pred"
   ]
  },
  {
   "cell_type": "code",
   "execution_count": 25,
   "metadata": {
    "ExecuteTime": {
     "end_time": "2018-10-15T00:22:47.695388Z",
     "start_time": "2018-10-15T00:22:39.178661Z"
    }
   },
   "outputs": [
    {
     "data": {
      "text/plain": [
       "array([[3739954,     688],\n",
       "       [   7336,    2022]])"
      ]
     },
     "execution_count": 25,
     "metadata": {},
     "output_type": "execute_result"
    }
   ],
   "source": [
    "cm = confusion_matrix(y2, (y_pred>0.5))\n",
    "cm"
   ]
  },
  {
   "cell_type": "code",
   "execution_count": 26,
   "metadata": {
    "ExecuteTime": {
     "end_time": "2018-10-15T00:22:47.703005Z",
     "start_time": "2018-10-15T00:22:47.698348Z"
    }
   },
   "outputs": [
    {
     "data": {
      "text/plain": [
       "0.9940442666666667"
      ]
     },
     "execution_count": 26,
     "metadata": {},
     "output_type": "execute_result"
    }
   ],
   "source": [
    "(3721139+6527)/ (len(y2))"
   ]
  },
  {
   "cell_type": "code",
   "execution_count": 27,
   "metadata": {
    "ExecuteTime": {
     "end_time": "2018-10-15T00:22:47.710221Z",
     "start_time": "2018-10-15T00:22:47.705461Z"
    }
   },
   "outputs": [
    {
     "data": {
      "text/plain": [
       "0.9923037333333333"
      ]
     },
     "execution_count": 27,
     "metadata": {},
     "output_type": "execute_result"
    }
   ],
   "source": [
    "(3721139)/ (len(y2))"
   ]
  },
  {
   "cell_type": "code",
   "execution_count": null,
   "metadata": {
    "collapsed": true
   },
   "outputs": [],
   "source": []
  },
  {
   "cell_type": "code",
   "execution_count": 28,
   "metadata": {
    "ExecuteTime": {
     "end_time": "2018-10-15T00:22:47.719213Z",
     "start_time": "2018-10-15T00:22:47.712553Z"
    },
    "collapsed": true
   },
   "outputs": [],
   "source": [
    "baseline_predictions = np.zeros(len(y2))"
   ]
  },
  {
   "cell_type": "code",
   "execution_count": null,
   "metadata": {
    "collapsed": true
   },
   "outputs": [],
   "source": []
  },
  {
   "cell_type": "code",
   "execution_count": 29,
   "metadata": {
    "ExecuteTime": {
     "end_time": "2018-10-15T00:22:48.093639Z",
     "start_time": "2018-10-15T00:22:47.721362Z"
    }
   },
   "outputs": [
    {
     "data": {
      "text/plain": [
       "0.5"
      ]
     },
     "execution_count": 29,
     "metadata": {},
     "output_type": "execute_result"
    }
   ],
   "source": [
    "fpr, tpr, thresholds = metrics.roc_curve(y2, baseline_predictions)\n",
    "metrics.auc(fpr, tpr)\n"
   ]
  },
  {
   "cell_type": "code",
   "execution_count": 30,
   "metadata": {
    "ExecuteTime": {
     "end_time": "2018-10-15T00:22:49.027813Z",
     "start_time": "2018-10-15T00:22:48.095780Z"
    }
   },
   "outputs": [
    {
     "data": {
      "text/plain": [
       "0.95988285729143019"
      ]
     },
     "execution_count": 30,
     "metadata": {},
     "output_type": "execute_result"
    }
   ],
   "source": [
    "fpr, tpr, thresholds = metrics.roc_curve(y2, y_pred)\n",
    "metrics.auc(fpr, tpr)"
   ]
  },
  {
   "cell_type": "code",
   "execution_count": null,
   "metadata": {
    "collapsed": true
   },
   "outputs": [],
   "source": [
    "?metrics.roc_curve"
   ]
  },
  {
   "cell_type": "code",
   "execution_count": null,
   "metadata": {
    "ExecuteTime": {
     "end_time": "2018-10-14T23:01:42.653820Z",
     "start_time": "2018-10-14T23:01:41.344309Z"
    },
    "collapsed": true
   },
   "outputs": [],
   "source": [
    "plot_importance(model)"
   ]
  },
  {
   "cell_type": "code",
   "execution_count": null,
   "metadata": {
    "collapsed": true
   },
   "outputs": [],
   "source": [
    "?plot_importance"
   ]
  },
  {
   "cell_type": "code",
   "execution_count": null,
   "metadata": {
    "ExecuteTime": {
     "end_time": "2018-10-14T23:01:42.778910Z",
     "start_time": "2018-10-14T23:01:42.655680Z"
    },
    "collapsed": true
   },
   "outputs": [],
   "source": [
    "model.get_split_value_histogram()"
   ]
  },
  {
   "cell_type": "code",
   "execution_count": null,
   "metadata": {
    "ExecuteTime": {
     "end_time": "2018-10-14T23:03:09.355901Z",
     "start_time": "2018-10-14T23:03:09.352438Z"
    },
    "collapsed": true
   },
   "outputs": [],
   "source": [
    "import matplotlib.pyplot as plt\n"
   ]
  },
  {
   "cell_type": "code",
   "execution_count": null,
   "metadata": {
    "ExecuteTime": {
     "start_time": "2018-10-14T23:03:09.555Z"
    },
    "collapsed": true
   },
   "outputs": [],
   "source": [
    "fig, ax = plt.subplots(figsize=(800, 800))\n",
    "xgb.plot_tree(model, num_trees=4, ax=ax)\n",
    "plt.show()"
   ]
  },
  {
   "cell_type": "code",
   "execution_count": null,
   "metadata": {
    "collapsed": true
   },
   "outputs": [],
   "source": []
  }
 ],
 "metadata": {
  "kernelspec": {
   "display_name": "Python [default]",
   "language": "python",
   "name": "python3"
  },
  "language_info": {
   "codemirror_mode": {
    "name": "ipython",
    "version": 3
   },
   "file_extension": ".py",
   "mimetype": "text/x-python",
   "name": "python",
   "nbconvert_exporter": "python",
   "pygments_lexer": "ipython3",
   "version": "3.6.3"
  }
 },
 "nbformat": 4,
 "nbformat_minor": 2
}
