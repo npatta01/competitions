{
 "cells": [
  {
   "cell_type": "markdown",
   "metadata": {},
   "source": [
    "# Kaggle Competition:  Iceberg or Ship"
   ]
  },
  {
   "cell_type": "markdown",
   "metadata": {},
   "source": [
    "# resnext50 architecture \n",
    "\n",
    "## increase epochs\n"
   ]
  },
  {
   "cell_type": "markdown",
   "metadata": {},
   "source": [
    "---\n",
    "## Import libraries"
   ]
  },
  {
   "cell_type": "code",
   "execution_count": 36,
   "metadata": {},
   "outputs": [
    {
     "name": "stdout",
     "output_type": "stream",
     "text": [
      "total 2716\r\n",
      "-rw-rw-r-- 1 ubuntu ubuntu 625023 Jan 14 18:47 1_getdata.ipynb\r\n",
      "-rw-rw-r-- 1 ubuntu ubuntu 245619 Jan 14 18:36 2_model_resnet34.ipynb\r\n",
      "-rw-rw-r-- 1 ubuntu ubuntu  13445 Jan 14 18:36 3_model_resnext50.ipynb\r\n",
      "-rw-rw-r-- 1 ubuntu ubuntu  14220 Jan 13 21:14 4_model_nasnet.ipynb\r\n",
      "-rw-rw-r-- 1 ubuntu ubuntu  64965 Jan 14 19:40 4_resnext_resize.ipynb\r\n",
      "-rw-rw-r-- 1 ubuntu ubuntu 147078 Jan 14 19:57 5_resnet18_resize.ipynb\r\n",
      "-rw-rw-r-- 1 ubuntu ubuntu 138629 Jan 14 19:52 6_resnext50_resize.ipynb\r\n",
      "-rw-rw-r-- 1 ubuntu ubuntu  49776 Jan 15 01:30 7_5_resnext50_more_epoch_update_sz.ipynb\r\n",
      "-rw-rw-r-- 1 ubuntu ubuntu 206248 Jan 15 01:31 7_resnext50_more_epoch.ipynb\r\n",
      "-rw-rw-r-- 1 ubuntu ubuntu 179449 Jan 14 21:28 7_resnext50_sz_100.ipynb\r\n",
      "-rw-rw-r-- 1 ubuntu ubuntu 159533 Jan 15 01:30 8_resnext50_more_epoch_sz300.ipynb\r\n",
      "-rw-rw-r-- 1 ubuntu ubuntu 137540 Jan 14 18:36 baseline.ipynb\r\n",
      "-rw-rw-r-- 1 ubuntu ubuntu    536 Jan 14 18:36 helper.py\r\n",
      "-rw-rw-r-- 1 ubuntu ubuntu 767392 Jan 14 18:36 other_groverpr.ipynb\r\n",
      "drwxrwxr-x 2 ubuntu ubuntu   4096 Jan 14 18:51 __pycache__\r\n",
      "-rw-rw-r-- 1 ubuntu ubuntu   1026 Jan 15 01:29 README.md\r\n"
     ]
    }
   ],
   "source": [
    "!ls -l"
   ]
  },
  {
   "cell_type": "code",
   "execution_count": 37,
   "metadata": {},
   "outputs": [],
   "source": [
    "# Put these at the top of every notebook, to get automatic reloading and inline plotting\n",
    "%reload_ext autoreload\n",
    "%autoreload 2\n",
    "%matplotlib inline"
   ]
  },
  {
   "cell_type": "code",
   "execution_count": 38,
   "metadata": {},
   "outputs": [],
   "source": [
    "from fastai.imports import *"
   ]
  },
  {
   "cell_type": "code",
   "execution_count": 39,
   "metadata": {},
   "outputs": [],
   "source": [
    "# This file contains all the main external libs we'll use\n",
    "from fastai.imports import *\n",
    "from fastai.transforms import *\n",
    "from fastai.conv_learner import *\n",
    "from fastai.model import *\n",
    "from fastai.dataset import *\n",
    "from fastai.sgdr import *\n",
    "from fastai.plots import *\n",
    "import pandas as pd\n",
    "import numpy as np\n",
    "import shutil\n",
    "from IPython.display import FileLink, FileLinks\n",
    "\n",
    "from sklearn.model_selection import train_test_split\n",
    "import helper"
   ]
  },
  {
   "cell_type": "code",
   "execution_count": 40,
   "metadata": {},
   "outputs": [],
   "source": [
    "#PATH = \"/home/nidhin/data/iceberg/\"\n",
    "PATH = os.path.expanduser(\"~/data/iceberg/\")"
   ]
  },
  {
   "cell_type": "code",
   "execution_count": 41,
   "metadata": {},
   "outputs": [
    {
     "name": "stdout",
     "output_type": "stream",
     "text": [
      "total 1973260\r\n",
      "drwxrwxr-x  2 ubuntu ubuntu       4096 Jan  9 00:38 models\r\n",
      "-rw-rw-r--  1 ubuntu ubuntu     117951 Oct 23 17:27 sample_submission.csv\r\n",
      "-rw-rw-r--  1 ubuntu ubuntu      38566 Jan  7 20:36 sample_submission.csv.7z\r\n",
      "drwxrwxr-x  2 ubuntu ubuntu     274432 Jan 14 18:44 test\r\n",
      "-rw-rw-r--  1 ubuntu ubuntu 1521771850 Oct 23 17:27 test.json\r\n",
      "-rw-rw-r--  1 ubuntu ubuntu  257127394 Jan  7 20:36 test.json.7z\r\n",
      "drwxrwxr-x 10 ubuntu ubuntu       4096 Jan 15 01:04 tmp\r\n",
      "drwxrwxr-x  4 ubuntu ubuntu       4096 Jan 14 18:43 train\r\n",
      "-rw-rw-r--  1 ubuntu ubuntu  196313674 Oct 23 17:23 train.json\r\n",
      "-rw-rw-r--  1 ubuntu ubuntu   44932785 Jan  7 20:36 train.json.7z\r\n",
      "drwxrwxr-x  4 ubuntu ubuntu       4096 Jan 14 18:43 valid\r\n"
     ]
    }
   ],
   "source": [
    "!ls -l {PATH}"
   ]
  },
  {
   "cell_type": "code",
   "execution_count": 42,
   "metadata": {},
   "outputs": [],
   "source": [
    "np.random.seed(0)"
   ]
  },
  {
   "cell_type": "markdown",
   "metadata": {},
   "source": [
    "## Set Architecture"
   ]
  },
  {
   "cell_type": "code",
   "execution_count": 43,
   "metadata": {},
   "outputs": [],
   "source": [
    "arch=resnext50\n",
    "sz=150\n",
    "bs=32\n",
    "lr = 0.005"
   ]
  },
  {
   "cell_type": "code",
   "execution_count": 44,
   "metadata": {},
   "outputs": [
    {
     "data": {
      "application/vnd.jupyter.widget-view+json": {
       "model_id": "15cb74377039417db91d9f3404efe46d",
       "version_major": 2,
       "version_minor": 0
      },
      "text/html": [
       "<p>Failed to display Jupyter Widget of type <code>HBox</code>.</p>\n",
       "<p>\n",
       "  If you're reading this message in the Jupyter Notebook or JupyterLab Notebook, it may mean\n",
       "  that the widgets JavaScript is still loading. If this message persists, it\n",
       "  likely means that the widgets JavaScript library is either not installed or\n",
       "  not enabled. See the <a href=\"https://ipywidgets.readthedocs.io/en/stable/user_install.html\">Jupyter\n",
       "  Widgets Documentation</a> for setup instructions.\n",
       "</p>\n",
       "<p>\n",
       "  If you're reading this message in another frontend (for example, a static\n",
       "  rendering on GitHub or <a href=\"https://nbviewer.jupyter.org/\">NBViewer</a>),\n",
       "  it may mean that your frontend doesn't currently support widgets.\n",
       "</p>\n"
      ],
      "text/plain": [
       "HBox(children=(IntProgress(value=0, max=6), HTML(value='')))"
      ]
     },
     "metadata": {},
     "output_type": "display_data"
    },
    {
     "name": "stdout",
     "output_type": "stream",
     "text": [
      "\n"
     ]
    }
   ],
   "source": [
    "def get_data(sz, bs):\n",
    "    tfms = tfms_from_model(arch, sz, aug_tfms=transforms_top_down, max_zoom=1.00)\n",
    "    data = ImageClassifierData.from_paths(PATH, tfms=tfms, bs=bs,test_name='test')\n",
    "    return data\n",
    "\n",
    "data = get_data(sz, bs)\n",
    "data = data.resize(int(sz*1.3), 'tmp')"
   ]
  },
  {
   "cell_type": "code",
   "execution_count": 45,
   "metadata": {},
   "outputs": [],
   "source": [
    "#tfms = tfms_from_model(arch, sz, aug_tfms=transforms_side_on, max_zoom=1.1)\n",
    "#data = ImageClassifierData.from_paths(PATH, tfms=tfms, bs=bs,test_name='test',)\n",
    "\n",
    "learn = ConvLearner.pretrained(arch, data, precompute=True, ps=0.5)"
   ]
  },
  {
   "cell_type": "markdown",
   "metadata": {},
   "source": [
    "### Learning Rate Finder"
   ]
  },
  {
   "cell_type": "code",
   "execution_count": 46,
   "metadata": {},
   "outputs": [
    {
     "data": {
      "application/vnd.jupyter.widget-view+json": {
       "model_id": "51a6ad6561fb4e0eb3c6a3a8cdc7dde3",
       "version_major": 2,
       "version_minor": 0
      },
      "text/html": [
       "<p>Failed to display Jupyter Widget of type <code>HBox</code>.</p>\n",
       "<p>\n",
       "  If you're reading this message in the Jupyter Notebook or JupyterLab Notebook, it may mean\n",
       "  that the widgets JavaScript is still loading. If this message persists, it\n",
       "  likely means that the widgets JavaScript library is either not installed or\n",
       "  not enabled. See the <a href=\"https://ipywidgets.readthedocs.io/en/stable/user_install.html\">Jupyter\n",
       "  Widgets Documentation</a> for setup instructions.\n",
       "</p>\n",
       "<p>\n",
       "  If you're reading this message in another frontend (for example, a static\n",
       "  rendering on GitHub or <a href=\"https://nbviewer.jupyter.org/\">NBViewer</a>),\n",
       "  it may mean that your frontend doesn't currently support widgets.\n",
       "</p>\n"
      ],
      "text/plain": [
       "HBox(children=(IntProgress(value=0, description='Epoch', max=1), HTML(value='')))"
      ]
     },
     "metadata": {},
     "output_type": "display_data"
    },
    {
     "name": "stdout",
     "output_type": "stream",
     "text": [
      " 63%|██████▎   | 26/41 [00:00<00:00, 49.45it/s, loss=12.6] \n",
      "                                                          \r"
     ]
    }
   ],
   "source": [
    "lrf = learn.lr_find()"
   ]
  },
  {
   "cell_type": "code",
   "execution_count": 47,
   "metadata": {},
   "outputs": [
    {
     "data": {
      "image/png": "[encoded data removed]",
      "text/plain": [
       "<matplotlib.figure.Figure at 0x7fd048680828>"
      ]
     },
     "metadata": {},
     "output_type": "display_data"
    }
   ],
   "source": [
    "learn.sched.plot_lr()"
   ]
  },
  {
   "cell_type": "code",
   "execution_count": 48,
   "metadata": {},
   "outputs": [
    {
     "data": {
      "image/png": "[encoded data removed]",
      "text/plain": [
       "<matplotlib.figure.Figure at 0x7fd0481e59b0>"
      ]
     },
     "metadata": {},
     "output_type": "display_data"
    }
   ],
   "source": [
    "learn.sched.plot() "
   ]
  },
  {
   "cell_type": "code",
   "execution_count": 49,
   "metadata": {},
   "outputs": [
    {
     "data": {
      "application/vnd.jupyter.widget-view+json": {
       "model_id": "507f8710444a4a05965bbfbcaa352a1a",
       "version_major": 2,
       "version_minor": 0
      },
      "text/html": [
       "<p>Failed to display Jupyter Widget of type <code>HBox</code>.</p>\n",
       "<p>\n",
       "  If you're reading this message in the Jupyter Notebook or JupyterLab Notebook, it may mean\n",
       "  that the widgets JavaScript is still loading. If this message persists, it\n",
       "  likely means that the widgets JavaScript library is either not installed or\n",
       "  not enabled. See the <a href=\"https://ipywidgets.readthedocs.io/en/stable/user_install.html\">Jupyter\n",
       "  Widgets Documentation</a> for setup instructions.\n",
       "</p>\n",
       "<p>\n",
       "  If you're reading this message in another frontend (for example, a static\n",
       "  rendering on GitHub or <a href=\"https://nbviewer.jupyter.org/\">NBViewer</a>),\n",
       "  it may mean that your frontend doesn't currently support widgets.\n",
       "</p>\n"
      ],
      "text/plain": [
       "HBox(children=(IntProgress(value=0, description='Epoch', max=10), HTML(value='')))"
      ]
     },
     "metadata": {},
     "output_type": "display_data"
    },
    {
     "name": "stdout",
     "output_type": "stream",
     "text": [
      "[0.      0.57287 0.34829 0.84091]                          \n",
      "[1.      0.47014 0.29065 0.875  ]                          \n",
      "[2.      0.46306 0.30295 0.87784]                          \n",
      "[3.      0.40557 0.28736 0.87216]                          \n",
      "[4.      0.40038 0.27163 0.875  ]                          \n",
      "[5.      0.37548 0.28542 0.86364]                          \n",
      "[6.      0.34352 0.27652 0.88352]                          \n",
      "[7.      0.33688 0.27711 0.88068]                          \n",
      "[8.      0.33155 0.27699 0.86932]                          \n",
      "[9.      0.33102 0.29422 0.86648]                          \n",
      "\n"
     ]
    }
   ],
   "source": [
    "learn.fit(lr, 10)\n",
    "learn.precompute=False"
   ]
  },
  {
   "cell_type": "markdown",
   "metadata": {},
   "source": [
    "### Stochastic Gradient Descent with Restart"
   ]
  },
  {
   "cell_type": "code",
   "execution_count": 50,
   "metadata": {},
   "outputs": [
    {
     "data": {
      "application/vnd.jupyter.widget-view+json": {
       "model_id": "0e7929c4f16d412084d3e5e030c8658b",
       "version_major": 2,
       "version_minor": 0
      },
      "text/html": [
       "<p>Failed to display Jupyter Widget of type <code>HBox</code>.</p>\n",
       "<p>\n",
       "  If you're reading this message in the Jupyter Notebook or JupyterLab Notebook, it may mean\n",
       "  that the widgets JavaScript is still loading. If this message persists, it\n",
       "  likely means that the widgets JavaScript library is either not installed or\n",
       "  not enabled. See the <a href=\"https://ipywidgets.readthedocs.io/en/stable/user_install.html\">Jupyter\n",
       "  Widgets Documentation</a> for setup instructions.\n",
       "</p>\n",
       "<p>\n",
       "  If you're reading this message in another frontend (for example, a static\n",
       "  rendering on GitHub or <a href=\"https://nbviewer.jupyter.org/\">NBViewer</a>),\n",
       "  it may mean that your frontend doesn't currently support widgets.\n",
       "</p>\n"
      ],
      "text/plain": [
       "HBox(children=(IntProgress(value=0, description='Epoch', max=31), HTML(value='')))"
      ]
     },
     "metadata": {},
     "output_type": "display_data"
    },
    {
     "name": "stdout",
     "output_type": "stream",
     "text": [
      "[0.      0.54513 0.28379 0.86648]                          \n",
      "[1.      0.4572  0.27839 0.88636]                          \n",
      "[2.      0.41219 0.27955 0.89773]                          \n",
      "[3.      0.43353 0.29683 0.86364]                          \n",
      "[4.      0.4329  0.29051 0.87216]                          \n",
      "[5.      0.42221 0.28305 0.875  ]                          \n",
      "[6.      0.41527 0.29611 0.86648]                          \n",
      "[7.      0.43743 0.28625 0.86364]                          \n",
      "[8.      0.42604 0.28498 0.88352]                          \n",
      "[9.      0.44338 0.28109 0.88068]                          \n",
      "[10.       0.41329  0.28446  0.87784]                      \n",
      "[11.       0.40828  0.28211  0.86932]                      \n",
      "[12.       0.39784  0.27164  0.87784]                      \n",
      "[13.       0.38189  0.27654  0.87784]                      \n",
      "[14.       0.38852  0.2727   0.87784]                      \n",
      "[15.       0.41554  0.2845   0.86648]                      \n",
      "[16.       0.43568  0.28075  0.875  ]                      \n",
      "[17.       0.42095  0.27443  0.88352]                      \n",
      "[18.       0.40781  0.28009  0.87216]                      \n",
      "[19.       0.42653  0.26718  0.86648]                      \n",
      "[20.       0.39065  0.28478  0.875  ]                      \n",
      "[21.       0.38808  0.29024  0.86932]                      \n",
      "[22.       0.38899  0.27746  0.87216]                      \n",
      "[23.       0.39838  0.31406  0.84943]                      \n",
      "[24.       0.37563  0.27554  0.88636]                      \n",
      "[25.       0.36301  0.27152  0.88352]                      \n",
      "[26.       0.35885  0.27336  0.875  ]                      \n",
      "[27.       0.3717   0.27522  0.87216]                      \n",
      "[28.       0.37178  0.30121  0.84943]                      \n",
      "[29.       0.36746  0.27059  0.88352]                      \n",
      "[30.       0.35996  0.26852  0.88068]                      \n",
      "\n"
     ]
    }
   ],
   "source": [
    "#learn.fit(lr, 4, cycle_len=2)\n",
    "learn.fit(lr, 5, cycle_len=1, cycle_mult=2)"
   ]
  },
  {
   "cell_type": "code",
   "execution_count": 51,
   "metadata": {},
   "outputs": [
    {
     "data": {
      "image/png": "[encoded data removed]",
      "text/plain": [
       "<matplotlib.figure.Figure at 0x7fd04b892c18>"
      ]
     },
     "metadata": {},
     "output_type": "display_data"
    }
   ],
   "source": [
    "learn.sched.plot_lr()"
   ]
  },
  {
   "cell_type": "code",
   "execution_count": 52,
   "metadata": {},
   "outputs": [
    {
     "data": {
      "image/png": "[encoded data removed]",
      "text/plain": [
       "<matplotlib.figure.Figure at 0x7fd04b92e240>"
      ]
     },
     "metadata": {},
     "output_type": "display_data"
    }
   ],
   "source": [
    "learn.sched.plot_loss()"
   ]
  },
  {
   "cell_type": "code",
   "execution_count": 53,
   "metadata": {},
   "outputs": [
    {
     "name": "stdout",
     "output_type": "stream",
     "text": [
      "                                             \r"
     ]
    },
    {
     "data": {
      "text/plain": [
       "(0.28586956342000025, 0.8691588785046729)"
      ]
     },
     "execution_count": 53,
     "metadata": {},
     "output_type": "execute_result"
    }
   ],
   "source": [
    "log_preds,y = learn.TTA()\n",
    "preds = np.mean(np.exp(log_preds),axis=0)\n",
    "(metrics.log_loss(y,preds), accuracy(preds,y))"
   ]
  },
  {
   "cell_type": "code",
   "execution_count": null,
   "metadata": {},
   "outputs": [],
   "source": []
  },
  {
   "cell_type": "markdown",
   "metadata": {},
   "source": [
    "### Unfreeze Layers"
   ]
  },
  {
   "cell_type": "code",
   "execution_count": 54,
   "metadata": {},
   "outputs": [],
   "source": [
    "# unfreeze layers\n",
    "learn.unfreeze()\n",
    "#lrs = np.array([lr/15,lr/12,lr/9])\n",
    "lrs = np.array([lr/9,lr/3,lr/1])\n",
    "\n",
    "#wd = 0.025\n",
    "#wds=[wd/100, wd/10, wd]\n",
    "#wds=[0.0025,0.025,0.25]\n"
   ]
  },
  {
   "cell_type": "markdown",
   "metadata": {},
   "source": [
    "### Run Learner Again"
   ]
  },
  {
   "cell_type": "code",
   "execution_count": 55,
   "metadata": {},
   "outputs": [
    {
     "data": {
      "application/vnd.jupyter.widget-view+json": {
       "model_id": "2e49c1e3c5cc4cc692b6c3b1236846ec",
       "version_major": 2,
       "version_minor": 0
      },
      "text/html": [
       "<p>Failed to display Jupyter Widget of type <code>HBox</code>.</p>\n",
       "<p>\n",
       "  If you're reading this message in the Jupyter Notebook or JupyterLab Notebook, it may mean\n",
       "  that the widgets JavaScript is still loading. If this message persists, it\n",
       "  likely means that the widgets JavaScript library is either not installed or\n",
       "  not enabled. See the <a href=\"https://ipywidgets.readthedocs.io/en/stable/user_install.html\">Jupyter\n",
       "  Widgets Documentation</a> for setup instructions.\n",
       "</p>\n",
       "<p>\n",
       "  If you're reading this message in another frontend (for example, a static\n",
       "  rendering on GitHub or <a href=\"https://nbviewer.jupyter.org/\">NBViewer</a>),\n",
       "  it may mean that your frontend doesn't currently support widgets.\n",
       "</p>\n"
      ],
      "text/plain": [
       "HBox(children=(IntProgress(value=0, description='Epoch', max=31), HTML(value='')))"
      ]
     },
     "metadata": {},
     "output_type": "display_data"
    },
    {
     "name": "stdout",
     "output_type": "stream",
     "text": [
      "[0.      0.53807 0.41887 0.71875]                          \n",
      "[1.      0.49472 0.29159 0.87216]                          \n",
      "[2.      0.42283 0.31259 0.83807]                          \n",
      "[3.      0.39959 0.32258 0.84943]                          \n",
      "[4.      0.38208 0.28328 0.86364]                          \n",
      "[5.      0.38165 0.25929 0.88068]                          \n",
      "[6.      0.34044 0.31344 0.85511]                          \n",
      "[7.      0.37211 0.24899 0.88921]                          \n",
      "[8.      0.33125 0.44354 0.81818]                          \n",
      "[9.      0.29615 0.27662 0.88352]                          \n",
      "[10.       0.28538  0.32928  0.875  ]                      \n",
      "[11.       0.24391  0.26289  0.89204]                      \n",
      "[12.       0.23319  0.25978  0.89773]                      \n",
      "[13.       0.2272   0.28245  0.88636]                      \n",
      "[14.       0.20979  0.27199  0.88636]                      \n",
      "[15.       0.2319   0.46345  0.79546]                      \n",
      "[16.       0.28758  0.31308  0.86364]                      \n",
      "[17.       0.31896  0.3469   0.85511]                      \n",
      "[18.       0.32592  0.24296  0.90057]                      \n",
      "[19.       0.27805  0.28564  0.86364]                      \n",
      "[20.       0.23209  0.28793  0.87784]                      \n",
      "[21.       0.22187  0.27726  0.88352]                      \n",
      "[22.       0.20423  0.36247  0.85796]                      \n",
      "[23.       0.18868  0.24849  0.90625]                      \n",
      "[24.       0.16998  0.29129  0.88636]                      \n",
      "[25.       0.20482  0.30584  0.88636]                      \n",
      "[26.       0.17789  0.28197  0.89204]                      \n",
      "[27.       0.17406  0.29822  0.88636]                      \n",
      "[28.       0.19134  0.32553  0.88636]                      \n",
      "[29.       0.15985  0.31979  0.87784]                      \n",
      "[30.       0.16878  0.31555  0.88636]                      \n",
      "\n"
     ]
    }
   ],
   "source": [
    "learn.fit(lrs, 5, cycle_len=1, cycle_mult=2)\n",
    "#learn.fit(lrs, 5, cycle_len=1, cycle_mult=2,use_wd_sched=True,wds=wds)"
   ]
  },
  {
   "cell_type": "code",
   "execution_count": 56,
   "metadata": {},
   "outputs": [
    {
     "data": {
      "image/png": "[encoded data removed]",
      "text/plain": [
       "<matplotlib.figure.Figure at 0x7fd048047ba8>"
      ]
     },
     "metadata": {},
     "output_type": "display_data"
    }
   ],
   "source": [
    "learn.sched.plot_lr()"
   ]
  },
  {
   "cell_type": "code",
   "execution_count": 57,
   "metadata": {},
   "outputs": [
    {
     "data": {
      "image/png": "[encoded data removed]",
      "text/plain": [
       "<matplotlib.figure.Figure at 0x7fd04b7aa588>"
      ]
     },
     "metadata": {},
     "output_type": "display_data"
    }
   ],
   "source": [
    "learn.sched.plot_loss()"
   ]
  },
  {
   "cell_type": "code",
   "execution_count": 58,
   "metadata": {},
   "outputs": [
    {
     "name": "stdout",
     "output_type": "stream",
     "text": [
      "                                             \r"
     ]
    },
    {
     "data": {
      "text/plain": [
       "(0.2690163635546516, 0.8909657320872274)"
      ]
     },
     "execution_count": 58,
     "metadata": {},
     "output_type": "execute_result"
    }
   ],
   "source": [
    "log_preds,y = learn.TTA()\n",
    "preds = np.mean(np.exp(log_preds),axis=0)\n",
    "(metrics.log_loss(y,preds), accuracy(preds,y))"
   ]
  },
  {
   "cell_type": "code",
   "execution_count": 63,
   "metadata": {},
   "outputs": [],
   "source": [
    "learn.save('resnext50_sz150_zm13')"
   ]
  },
  {
   "cell_type": "code",
   "execution_count": 64,
   "metadata": {},
   "outputs": [],
   "source": [
    "learn.load('resnext50_sz150_zm13')"
   ]
  },
  {
   "cell_type": "code",
   "execution_count": 65,
   "metadata": {},
   "outputs": [
    {
     "name": "stdout",
     "output_type": "stream",
     "text": [
      "                                             \r"
     ]
    }
   ],
   "source": [
    "helper.make_submission(learn=learn, data=data, output_file_name = f'{PATH}sub/resnext50_sz150_zm13.csv')"
   ]
  },
  {
   "cell_type": "code",
   "execution_count": null,
   "metadata": {},
   "outputs": [],
   "source": [
    "# submission log loss\n",
    "# submitted Jan 14, 9:30pm\n",
    "# 0.2566"
   ]
  },
  {
   "cell_type": "code",
   "execution_count": null,
   "metadata": {},
   "outputs": [],
   "source": [
    "# End here\n"
   ]
  },
  {
   "cell_type": "code",
   "execution_count": null,
   "metadata": {},
   "outputs": [],
   "source": []
  },
  {
   "cell_type": "code",
   "execution_count": null,
   "metadata": {},
   "outputs": [],
   "source": []
  },
  {
   "cell_type": "markdown",
   "metadata": {},
   "source": [
    "### Run Learner again"
   ]
  },
  {
   "cell_type": "code",
   "execution_count": 30,
   "metadata": {},
   "outputs": [
    {
     "data": {
      "application/vnd.jupyter.widget-view+json": {
       "model_id": "ef131f5ed35b458e8570a7b03983c03f",
       "version_major": 2,
       "version_minor": 0
      },
      "text/html": [
       "<p>Failed to display Jupyter Widget of type <code>HBox</code>.</p>\n",
       "<p>\n",
       "  If you're reading this message in the Jupyter Notebook or JupyterLab Notebook, it may mean\n",
       "  that the widgets JavaScript is still loading. If this message persists, it\n",
       "  likely means that the widgets JavaScript library is either not installed or\n",
       "  not enabled. See the <a href=\"https://ipywidgets.readthedocs.io/en/stable/user_install.html\">Jupyter\n",
       "  Widgets Documentation</a> for setup instructions.\n",
       "</p>\n",
       "<p>\n",
       "  If you're reading this message in another frontend (for example, a static\n",
       "  rendering on GitHub or <a href=\"https://nbviewer.jupyter.org/\">NBViewer</a>),\n",
       "  it may mean that your frontend doesn't currently support widgets.\n",
       "</p>\n"
      ],
      "text/plain": [
       "HBox(children=(IntProgress(value=0, description='Epoch', max=31), HTML(value='')))"
      ]
     },
     "metadata": {},
     "output_type": "display_data"
    },
    {
     "name": "stdout",
     "output_type": "stream",
     "text": [
      "[0.      0.20958 0.22138 0.90909]                          \n",
      "[1.      0.20881 0.21258 0.90341]                          \n",
      "[2.      0.19942 0.2125  0.90909]                          \n",
      "[3.      0.19933 0.23313 0.89773]                          \n",
      "[4.      0.19827 0.24482 0.90909]                          \n",
      "[5.      0.18044 0.23777 0.90909]                          \n",
      "[6.      0.20355 0.23141 0.91477]                          \n",
      "[7.      0.19331 0.25434 0.90341]                          \n",
      "[8.      0.16975 0.23403 0.90057]                          \n",
      "[9.      0.17037 0.24765 0.89489]                          \n",
      "[10.       0.16388  0.25717  0.90057]                      \n",
      "[11.       0.1503   0.24492  0.89773]                      \n",
      "[12.       0.13647  0.25068  0.90625]                      \n",
      "[13.       0.15974  0.28722  0.91193]                      \n",
      "[14.       0.17652  0.26302  0.90909]                      \n",
      "[15.       0.19685  0.25512  0.90909]                      \n",
      "[16.       0.17593  0.29663  0.90057]                      \n",
      "[17.       0.16011  0.30097  0.89489]                      \n",
      "[18.       0.20117  0.32136  0.87784]                      \n",
      "[19.       0.16593  0.28353  0.88921]                      \n",
      "[20.       0.13266  0.24585  0.90909]                      \n",
      "[21.       0.18125  0.24515  0.90057]                      \n",
      "[22.       0.14959  0.28544  0.89489]                      \n",
      "[23.       0.14173  0.25145  0.91193]                      \n",
      "[24.       0.12604  0.24839  0.91193]                      \n",
      "[25.       0.10135  0.25911  0.90625]                       \n",
      "[26.       0.13002  0.274    0.90341]                       \n",
      "[27.       0.10147  0.26065  0.90057]                      \n",
      "[28.       0.10863  0.26904  0.90341]                       \n",
      "[29.       0.10057  0.28213  0.90057]                       \n",
      "[30.       0.09782  0.26741  0.90625]                       \n",
      "\n"
     ]
    }
   ],
   "source": [
    "learn.fit(lrs, 5, cycle_len=1, cycle_mult=2)"
   ]
  },
  {
   "cell_type": "code",
   "execution_count": 31,
   "metadata": {},
   "outputs": [
    {
     "data": {
      "image/png": "[encoded data removed]",
      "text/plain": [
       "<matplotlib.figure.Figure at 0x7fd048515588>"
      ]
     },
     "metadata": {},
     "output_type": "display_data"
    }
   ],
   "source": [
    "learn.sched.plot_loss()"
   ]
  },
  {
   "cell_type": "code",
   "execution_count": null,
   "metadata": {},
   "outputs": [],
   "source": [
    "log_preds,y = learn.TTA()\n",
    "preds = np.mean(np.exp(log_preds),axis=0)\n",
    "(metrics.log_loss(y,preds), accuracy(preds,y))"
   ]
  },
  {
   "cell_type": "markdown",
   "metadata": {},
   "source": [
    "### Run Learner again"
   ]
  },
  {
   "cell_type": "code",
   "execution_count": 32,
   "metadata": {},
   "outputs": [
    {
     "data": {
      "application/vnd.jupyter.widget-view+json": {
       "model_id": "39bf60c08819406186fc116a980bc3b6",
       "version_major": 2,
       "version_minor": 0
      },
      "text/html": [
       "<p>Failed to display Jupyter Widget of type <code>HBox</code>.</p>\n",
       "<p>\n",
       "  If you're reading this message in the Jupyter Notebook or JupyterLab Notebook, it may mean\n",
       "  that the widgets JavaScript is still loading. If this message persists, it\n",
       "  likely means that the widgets JavaScript library is either not installed or\n",
       "  not enabled. See the <a href=\"https://ipywidgets.readthedocs.io/en/stable/user_install.html\">Jupyter\n",
       "  Widgets Documentation</a> for setup instructions.\n",
       "</p>\n",
       "<p>\n",
       "  If you're reading this message in another frontend (for example, a static\n",
       "  rendering on GitHub or <a href=\"https://nbviewer.jupyter.org/\">NBViewer</a>),\n",
       "  it may mean that your frontend doesn't currently support widgets.\n",
       "</p>\n"
      ],
      "text/plain": [
       "HBox(children=(IntProgress(value=0, description='Epoch', max=31), HTML(value='')))"
      ]
     },
     "metadata": {},
     "output_type": "display_data"
    },
    {
     "name": "stdout",
     "output_type": "stream",
     "text": [
      "[0.      0.06747 0.27543 0.90909]                           \n",
      "[1.      0.13168 0.36439 0.90341]                           \n",
      "[2.      0.16096 0.26995 0.92329]                          \n",
      "[3.      0.23736 0.33589 0.88068]                          \n",
      "[4.      0.22001 0.1987  0.92046]                          \n",
      "[5.      0.15744 0.22887 0.91477]                          \n",
      "[6.      0.12595 0.21722 0.91761]                          \n",
      "[7.      0.12573 0.27703 0.88921]                          \n",
      "[8.      0.11847 0.31128 0.89489]                          \n",
      "[9.      0.11071 0.29136 0.89489]                          \n",
      "[10.       0.15551  0.29155  0.90625]                       \n",
      "[11.       0.11461  0.2512   0.90057]                      \n",
      "[12.       0.15903  0.26684  0.90341]                      \n",
      "[13.       0.10583  0.281    0.90057]                      \n",
      "[14.       0.10634  0.26464  0.90909]                       \n",
      "[15.       0.14829  0.32006  0.88068]                      \n",
      "[16.       0.21266  0.22886  0.89489]                      \n",
      "[17.       0.1762   0.24629  0.90909]                      \n",
      "[18.       0.17496  0.26191  0.90909]                      \n",
      "[19.       0.15971  0.26058  0.90341]                      \n",
      "[20.       0.13547  0.23318  0.92898]                      \n",
      "[21.       0.11436  0.28011  0.92329]                       \n",
      "[22.       0.09279  0.25335  0.90909]                       \n",
      "[23.       0.0692   0.27419  0.92329]                       \n",
      "[24.       0.10301  0.26715  0.92898]                       \n",
      "[25.       0.10838  0.27682  0.91761]                       \n",
      "[26.       0.08762  0.29772  0.91761]                       \n",
      "[27.       0.06678  0.29041  0.91193]                       \n",
      "[28.       0.05278  0.30512  0.90625]                       \n",
      "[29.       0.07105  0.28266  0.91477]                       \n",
      "[30.       0.09409  0.26697  0.92329]                       \n",
      "\n"
     ]
    }
   ],
   "source": [
    "learn.fit(lrs, 5, cycle_len=1, cycle_mult=2)"
   ]
  },
  {
   "cell_type": "code",
   "execution_count": 33,
   "metadata": {},
   "outputs": [
    {
     "data": {
      "image/png": "[encoded data removed]",
      "text/plain": [
       "<matplotlib.figure.Figure at 0x7fd0485b9048>"
      ]
     },
     "metadata": {},
     "output_type": "display_data"
    }
   ],
   "source": [
    "learn.sched.plot_loss()"
   ]
  },
  {
   "cell_type": "markdown",
   "metadata": {},
   "source": [
    "## Log Loss | Accuracy (final model here)"
   ]
  },
  {
   "cell_type": "code",
   "execution_count": 34,
   "metadata": {},
   "outputs": [
    {
     "name": "stdout",
     "output_type": "stream",
     "text": [
      "                                             \r"
     ]
    },
    {
     "data": {
      "text/plain": [
       "(0.24686469631131677, 0.9158878504672897)"
      ]
     },
     "execution_count": 34,
     "metadata": {},
     "output_type": "execute_result"
    }
   ],
   "source": [
    "log_preds,y = learn.TTA()\n",
    "preds = np.mean(np.exp(log_preds),axis=0)\n",
    "(metrics.log_loss(y,preds), accuracy(preds,y))"
   ]
  },
  {
   "cell_type": "markdown",
   "metadata": {},
   "source": [
    "## Save predictions"
   ]
  },
  {
   "cell_type": "code",
   "execution_count": 35,
   "metadata": {},
   "outputs": [],
   "source": [
    "# test_df = pd.read_json(PATH+\"/test.json\")\n",
    "# helper.make_test_file(log_preds,test_df,model_name='resnext50_sz75_zm15_bs32_comp_band',\n",
    "#                       classes=data.classes,\n",
    "#                       submission_folder =f'{PATH}sub'\n",
    "#                      )"
   ]
  }
 ],
 "metadata": {
  "kernelspec": {
   "display_name": "Python 3",
   "language": "python",
   "name": "python3"
  },
  "language_info": {
   "codemirror_mode": {
    "name": "ipython",
    "version": 3
   },
   "file_extension": ".py",
   "mimetype": "text/x-python",
   "name": "python",
   "nbconvert_exporter": "python",
   "pygments_lexer": "ipython3",
   "version": "3.6.4"
  }
 },
 "nbformat": 4,
 "nbformat_minor": 2
}
