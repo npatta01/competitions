{
 "cells": [
  {
   "cell_type": "markdown",
   "metadata": {},
   "source": [
    "# Setup"
   ]
  },
  {
   "cell_type": "code",
   "execution_count": 1,
   "metadata": {},
   "outputs": [
    {
     "name": "stdout",
     "output_type": "stream",
     "text": [
      "1_getdata.ipynb\t\t3_model_resnext50.ipynb  README.md\r\n",
      "2_model_resnet34.ipynb\tbaseline.ipynb\r\n"
     ]
    }
   ],
   "source": [
    "!ls"
   ]
  },
  {
   "cell_type": "code",
   "execution_count": 2,
   "metadata": {},
   "outputs": [],
   "source": [
    "# Put these at the top of every notebook, to get automatic reloading and inline plotting\n",
    "%reload_ext autoreload\n",
    "%autoreload 2\n",
    "%matplotlib inline"
   ]
  },
  {
   "cell_type": "code",
   "execution_count": 3,
   "metadata": {},
   "outputs": [],
   "source": [
    "#import sys\n",
    "#sys.path.insert(0,'/home/nidhin/fastai')\n",
    "\n",
    "#export PYTHONPATH=$PYTHONPATH:/home/nidhin/fastai\n"
   ]
  },
  {
   "cell_type": "code",
   "execution_count": 4,
   "metadata": {},
   "outputs": [],
   "source": [
    "from fastai.imports import *"
   ]
  },
  {
   "cell_type": "code",
   "execution_count": null,
   "metadata": {},
   "outputs": [],
   "source": []
  },
  {
   "cell_type": "code",
   "execution_count": 5,
   "metadata": {},
   "outputs": [],
   "source": [
    "# This file contains all the main external libs we'll use\n",
    "from fastai.imports import *\n",
    "from fastai.transforms import *\n",
    "from fastai.conv_learner import *\n",
    "from fastai.model import *\n",
    "from fastai.dataset import *\n",
    "from fastai.sgdr import *\n",
    "from fastai.plots import *\n",
    "import pandas as pd\n",
    "import numpy as np\n",
    "import shutil\n",
    "from IPython.display import FileLink, FileLinks\n",
    "\n",
    "from sklearn.model_selection import train_test_split\n"
   ]
  },
  {
   "cell_type": "code",
   "execution_count": 6,
   "metadata": {},
   "outputs": [
    {
     "name": "stdout",
     "output_type": "stream",
     "text": [
      "models\t\t\t  sub\t     test.json.7z  train.json\t       valid\r\n",
      "sample_submission.csv\t  test\t     tmp\t   train.json.7z\r\n",
      "sample_submission.csv.7z  test.json  train\t   train_modified.zip\r\n"
     ]
    }
   ],
   "source": [
    "!ls /home/nidhin/data/iceberg"
   ]
  },
  {
   "cell_type": "code",
   "execution_count": 7,
   "metadata": {},
   "outputs": [],
   "source": [
    "PATH = \"/home/nidhin/data/iceberg/\""
   ]
  },
  {
   "cell_type": "code",
   "execution_count": 8,
   "metadata": {},
   "outputs": [
    {
     "name": "stdout",
     "output_type": "stream",
     "text": [
      "models\t\t\t  sub\t     test.json.7z  train.json\t       valid\r\n",
      "sample_submission.csv\t  test\t     tmp\t   train.json.7z\r\n",
      "sample_submission.csv.7z  test.json  train\t   train_modified.zip\r\n"
     ]
    }
   ],
   "source": [
    "!ls {PATH}"
   ]
  },
  {
   "cell_type": "code",
   "execution_count": 9,
   "metadata": {},
   "outputs": [],
   "source": [
    "class_map = {1:'ice',0:'ship'}"
   ]
  },
  {
   "cell_type": "code",
   "execution_count": 10,
   "metadata": {},
   "outputs": [],
   "source": [
    "train_df = pd.read_json(PATH+\"/train.json\")\n",
    "train_df['classes'] = train_df['is_iceberg'].map(class_map)\n",
    "\n",
    "test_df = pd.read_json(PATH+\"/test.json\")\n"
   ]
  },
  {
   "cell_type": "code",
   "execution_count": 11,
   "metadata": {},
   "outputs": [
    {
     "data": {
      "text/html": [
       "<div>\n",
       "<style scoped>\n",
       "    .dataframe tbody tr th:only-of-type {\n",
       "        vertical-align: middle;\n",
       "    }\n",
       "\n",
       "    .dataframe tbody tr th {\n",
       "        vertical-align: top;\n",
       "    }\n",
       "\n",
       "    .dataframe thead th {\n",
       "        text-align: right;\n",
       "    }\n",
       "</style>\n",
       "<table border=\"1\" class=\"dataframe\">\n",
       "  <thead>\n",
       "    <tr style=\"text-align: right;\">\n",
       "      <th></th>\n",
       "      <th>band_1</th>\n",
       "      <th>band_2</th>\n",
       "      <th>id</th>\n",
       "      <th>inc_angle</th>\n",
       "      <th>is_iceberg</th>\n",
       "      <th>classes</th>\n",
       "    </tr>\n",
       "  </thead>\n",
       "  <tbody>\n",
       "    <tr>\n",
       "      <th>0</th>\n",
       "      <td>[-27.878360999999998, -27.15416, -28.668615, -...</td>\n",
       "      <td>[-27.154118, -29.537888, -31.0306, -32.190483,...</td>\n",
       "      <td>dfd5f913</td>\n",
       "      <td>43.9239</td>\n",
       "      <td>0</td>\n",
       "      <td>ship</td>\n",
       "    </tr>\n",
       "    <tr>\n",
       "      <th>1</th>\n",
       "      <td>[-12.242375, -14.920304999999999, -14.920363, ...</td>\n",
       "      <td>[-31.506321, -27.984554, -26.645678, -23.76760...</td>\n",
       "      <td>e25388fd</td>\n",
       "      <td>38.1562</td>\n",
       "      <td>0</td>\n",
       "      <td>ship</td>\n",
       "    </tr>\n",
       "    <tr>\n",
       "      <th>2</th>\n",
       "      <td>[-24.603676, -24.603714, -24.871029, -23.15277...</td>\n",
       "      <td>[-24.870956, -24.092632, -20.653963, -19.41104...</td>\n",
       "      <td>58b2aaa0</td>\n",
       "      <td>45.2859</td>\n",
       "      <td>1</td>\n",
       "      <td>ice</td>\n",
       "    </tr>\n",
       "    <tr>\n",
       "      <th>3</th>\n",
       "      <td>[-22.454607, -23.082819, -23.998013, -23.99805...</td>\n",
       "      <td>[-27.889421, -27.519794, -27.165262, -29.10350...</td>\n",
       "      <td>4cfc3a18</td>\n",
       "      <td>43.8306</td>\n",
       "      <td>0</td>\n",
       "      <td>ship</td>\n",
       "    </tr>\n",
       "    <tr>\n",
       "      <th>4</th>\n",
       "      <td>[-26.006956, -23.164886, -23.164886, -26.89116...</td>\n",
       "      <td>[-27.206915, -30.259186, -30.259186, -23.16495...</td>\n",
       "      <td>271f93f4</td>\n",
       "      <td>35.6256</td>\n",
       "      <td>0</td>\n",
       "      <td>ship</td>\n",
       "    </tr>\n",
       "  </tbody>\n",
       "</table>\n",
       "</div>"
      ],
      "text/plain": [
       "                                              band_1  \\\n",
       "0  [-27.878360999999998, -27.15416, -28.668615, -...   \n",
       "1  [-12.242375, -14.920304999999999, -14.920363, ...   \n",
       "2  [-24.603676, -24.603714, -24.871029, -23.15277...   \n",
       "3  [-22.454607, -23.082819, -23.998013, -23.99805...   \n",
       "4  [-26.006956, -23.164886, -23.164886, -26.89116...   \n",
       "\n",
       "                                              band_2        id inc_angle  \\\n",
       "0  [-27.154118, -29.537888, -31.0306, -32.190483,...  dfd5f913   43.9239   \n",
       "1  [-31.506321, -27.984554, -26.645678, -23.76760...  e25388fd   38.1562   \n",
       "2  [-24.870956, -24.092632, -20.653963, -19.41104...  58b2aaa0   45.2859   \n",
       "3  [-27.889421, -27.519794, -27.165262, -29.10350...  4cfc3a18   43.8306   \n",
       "4  [-27.206915, -30.259186, -30.259186, -23.16495...  271f93f4   35.6256   \n",
       "\n",
       "   is_iceberg classes  \n",
       "0           0    ship  \n",
       "1           0    ship  \n",
       "2           1     ice  \n",
       "3           0    ship  \n",
       "4           0    ship  "
      ]
     },
     "execution_count": 11,
     "metadata": {},
     "output_type": "execute_result"
    }
   ],
   "source": [
    "train_df.head()"
   ]
  },
  {
   "cell_type": "code",
   "execution_count": 12,
   "metadata": {},
   "outputs": [],
   "source": [
    "X_train, X_valid, y_train, y_valid = train_test_split(train_df, train_df['is_iceberg'], test_size=0.20, random_state=42)"
   ]
  },
  {
   "cell_type": "code",
   "execution_count": 13,
   "metadata": {},
   "outputs": [],
   "source": [
    "def normalize_band(band):\n",
    "    normalized_band = (band-np.min(band))/(np.max(band)-np.min(band))\n",
    "    \n",
    "    band = np.array(normalized_band).reshape((75, 75))\n",
    "    pband = band - np.mean(band)\n",
    "    pband[pband < band.std() * 2] = 0\n",
    "    pband = np.mean(np.abs(np.gradient(pband)),axis=0)\n",
    "    return pband\n",
    "    \n",
    "    #positive = band + np.amin(band)\n",
    "    #normalized = positive / np.amax(positive)\n",
    "    \n",
    "    #return normalized\n",
    "    \n",
    "    #return band\n",
    "\n",
    "def scale_image(row):\n",
    "    band_1 = normalize_band(row['band_1'])\n",
    "    band_2 = normalize_band(row['band_2'])\n",
    "        \n",
    "    band_3 = normalize_band(band_1 + band_2)\n",
    "\n",
    "    return np.dstack((band_1, band_2, band_3))\n",
    "    \n",
    "def get_scaled_imgs(df):\n",
    "    imgs = []\n",
    "    for i, row in df.iterrows():\n",
    "        \n",
    "        imgs.append ( scale_image(row)) \n",
    "\n",
    "    return np.array(imgs)\n",
    "\n"
   ]
  },
  {
   "cell_type": "code",
   "execution_count": 14,
   "metadata": {},
   "outputs": [],
   "source": [
    "X_all = get_scaled_imgs(train_df.head(10))\n",
    "#test_all = get_scaled_imgs(test_df)\n",
    "y_all = train_df['is_iceberg'].head(10)\n",
    "y_classes = train_df['classes'].head(10)"
   ]
  },
  {
   "cell_type": "code",
   "execution_count": 15,
   "metadata": {},
   "outputs": [],
   "source": [
    "def plots(ims, figsize=(12,6), rows=1, titles=None):\n",
    "    f = plt.figure(figsize=figsize)\n",
    "    for i in range(len(ims)):\n",
    "        sp = f.add_subplot(rows, len(ims)//rows, i+1)\n",
    "        sp.axis('Off')\n",
    "        if titles is not None: sp.set_title(titles[i], fontsize=16)\n",
    "        plt.imshow(ims[i])"
   ]
  },
  {
   "cell_type": "code",
   "execution_count": 16,
   "metadata": {},
   "outputs": [
    {
     "name": "stdout",
     "output_type": "stream",
     "text": [
      "Band 1\n"
     ]
    },
    {
     "data": {
      "image/png": "[encoded data removed]",
      "text/plain": [
       "<matplotlib.figure.Figure at 0x7f7efdf7b518>"
      ]
     },
     "metadata": {},
     "output_type": "display_data"
    }
   ],
   "source": [
    "print(\"Band 1\")\n",
    "plots(X_all[:,:,:,0],rows=2, titles=y_classes)"
   ]
  },
  {
   "cell_type": "code",
   "execution_count": 17,
   "metadata": {},
   "outputs": [
    {
     "name": "stdout",
     "output_type": "stream",
     "text": [
      "Band 2\n"
     ]
    },
    {
     "data": {
      "image/png": "[encoded data removed]",
      "text/plain": [
       "<matplotlib.figure.Figure at 0x7f7efae0e780>"
      ]
     },
     "metadata": {},
     "output_type": "display_data"
    }
   ],
   "source": [
    "print(\"Band 2\")\n",
    "plots(X_all[:,:,:,1],rows=2, titles=y_classes)"
   ]
  },
  {
   "cell_type": "code",
   "execution_count": 18,
   "metadata": {},
   "outputs": [
    {
     "name": "stdout",
     "output_type": "stream",
     "text": [
      "Band 3\n"
     ]
    },
    {
     "data": {
      "image/png": "[encoded data removed]",
      "text/plain": [
       "<matplotlib.figure.Figure at 0x7f7ca1044668>"
      ]
     },
     "metadata": {},
     "output_type": "display_data"
    }
   ],
   "source": [
    "print(\"Band 3\")\n",
    "plots(X_all[:,:,:,2],rows=2, titles=y_classes)"
   ]
  },
  {
   "cell_type": "code",
   "execution_count": 19,
   "metadata": {},
   "outputs": [
    {
     "name": "stdout",
     "output_type": "stream",
     "text": [
      "All Bands\n"
     ]
    },
    {
     "data": {
      "image/png": "[encoded data removed]",
      "text/plain": [
       "<matplotlib.figure.Figure at 0x7f7efd9a5438>"
      ]
     },
     "metadata": {},
     "output_type": "display_data"
    }
   ],
   "source": [
    "print(\"All Bands\")\n",
    "plots(X_all[:,:,:],rows=2, titles=y_classes)"
   ]
  },
  {
   "cell_type": "code",
   "execution_count": 20,
   "metadata": {},
   "outputs": [
    {
     "data": {
      "text/plain": [
       "0    851\n",
       "1    753\n",
       "Name: is_iceberg, dtype: int64"
      ]
     },
     "execution_count": 20,
     "metadata": {},
     "output_type": "execute_result"
    }
   ],
   "source": [
    "train_df['is_iceberg'].value_counts()"
   ]
  },
  {
   "cell_type": "code",
   "execution_count": 21,
   "metadata": {},
   "outputs": [],
   "source": [
    "for img_class in class_map.values():\n",
    "    shutil.rmtree(f\"{PATH}train/{img_class}\",ignore_errors=True)\n",
    "    os.makedirs(f\"{PATH}train/{img_class}\")\n",
    "\n",
    "    shutil.rmtree(f\"{PATH}valid/{img_class}\",ignore_errors=True)\n",
    "    os.makedirs(f\"{PATH}valid/{img_class}\")\n",
    "    \n",
    "    shutil.rmtree(f\"{PATH}test\",ignore_errors=True)\n",
    "    os.makedirs(f\"{PATH}test\")\n",
    "        \n",
    "\n",
    "def save_images(images_df,folder):\n",
    "    print (f\"Saving {folder}\")\n",
    "    if \"classes\" in images_df:\n",
    "        for _,img_row in images_df.iterrows():\n",
    "            label = img_row['classes']\n",
    "            normalized_img = scale_image(img_row)\n",
    "            img_id = img_row[\"id\"]\n",
    "            plt.imsave(f\"{PATH}{folder}/{label}/{img_id}.jpeg\",normalized_img)\n",
    "    else:\n",
    "        # only for test\n",
    "        for _,img_row in images_df.iterrows():\n",
    "            normalized_img = scale_image(img_row)\n",
    "            img_id = img_row[\"id\"]\n",
    "            plt.imsave(f\"{PATH}{folder}/{img_id}.jpeg\",normalized_img)\n",
    "def binary_loss(y, p):\n",
    "    return np.mean(-(y * np.log(p) + (1-y)*np.log(1-p)))"
   ]
  },
  {
   "cell_type": "code",
   "execution_count": 22,
   "metadata": {},
   "outputs": [
    {
     "data": {
      "text/html": [
       "<div>\n",
       "<style scoped>\n",
       "    .dataframe tbody tr th:only-of-type {\n",
       "        vertical-align: middle;\n",
       "    }\n",
       "\n",
       "    .dataframe tbody tr th {\n",
       "        vertical-align: top;\n",
       "    }\n",
       "\n",
       "    .dataframe thead th {\n",
       "        text-align: right;\n",
       "    }\n",
       "</style>\n",
       "<table border=\"1\" class=\"dataframe\">\n",
       "  <thead>\n",
       "    <tr style=\"text-align: right;\">\n",
       "      <th></th>\n",
       "      <th>band_1</th>\n",
       "      <th>band_2</th>\n",
       "      <th>id</th>\n",
       "      <th>inc_angle</th>\n",
       "      <th>is_iceberg</th>\n",
       "      <th>classes</th>\n",
       "    </tr>\n",
       "  </thead>\n",
       "  <tbody>\n",
       "    <tr>\n",
       "      <th>705</th>\n",
       "      <td>[-1.344282, -1.344282, 0.9948239999999999, -2....</td>\n",
       "      <td>[-14.172397, -14.172397, -10.502144, -14.02402...</td>\n",
       "      <td>fd47c6f9</td>\n",
       "      <td>39.2166</td>\n",
       "      <td>1</td>\n",
       "      <td>ice</td>\n",
       "    </tr>\n",
       "    <tr>\n",
       "      <th>962</th>\n",
       "      <td>[-24.817394, -25.328541, -25.328602, -24.57289...</td>\n",
       "      <td>[-22.634506000000002, -21.719418, -22.443724, ...</td>\n",
       "      <td>94462587</td>\n",
       "      <td>37.254</td>\n",
       "      <td>1</td>\n",
       "      <td>ice</td>\n",
       "    </tr>\n",
       "    <tr>\n",
       "      <th>599</th>\n",
       "      <td>[-14.993799, -16.242653, -18.952848, -21.65787...</td>\n",
       "      <td>[-22.353334, -20.709526, -24.156723, -23.93674...</td>\n",
       "      <td>ec822cf5</td>\n",
       "      <td>34.1486</td>\n",
       "      <td>0</td>\n",
       "      <td>ship</td>\n",
       "    </tr>\n",
       "    <tr>\n",
       "      <th>411</th>\n",
       "      <td>[-19.098007, -17.286678, -15.369007, -16.50553...</td>\n",
       "      <td>[-27.575521, -27.575588, -26.04789, -24.0539, ...</td>\n",
       "      <td>e2a547bf</td>\n",
       "      <td>35.2994</td>\n",
       "      <td>1</td>\n",
       "      <td>ice</td>\n",
       "    </tr>\n",
       "    <tr>\n",
       "      <th>710</th>\n",
       "      <td>[-16.564709, -17.085022, -17.988312, -17.30227...</td>\n",
       "      <td>[-28.406221, -28.810337, -31.172371, -27.65059...</td>\n",
       "      <td>49f4d394</td>\n",
       "      <td>41.8505</td>\n",
       "      <td>0</td>\n",
       "      <td>ship</td>\n",
       "    </tr>\n",
       "  </tbody>\n",
       "</table>\n",
       "</div>"
      ],
      "text/plain": [
       "                                                band_1  \\\n",
       "705  [-1.344282, -1.344282, 0.9948239999999999, -2....   \n",
       "962  [-24.817394, -25.328541, -25.328602, -24.57289...   \n",
       "599  [-14.993799, -16.242653, -18.952848, -21.65787...   \n",
       "411  [-19.098007, -17.286678, -15.369007, -16.50553...   \n",
       "710  [-16.564709, -17.085022, -17.988312, -17.30227...   \n",
       "\n",
       "                                                band_2        id inc_angle  \\\n",
       "705  [-14.172397, -14.172397, -10.502144, -14.02402...  fd47c6f9   39.2166   \n",
       "962  [-22.634506000000002, -21.719418, -22.443724, ...  94462587    37.254   \n",
       "599  [-22.353334, -20.709526, -24.156723, -23.93674...  ec822cf5   34.1486   \n",
       "411  [-27.575521, -27.575588, -26.04789, -24.0539, ...  e2a547bf   35.2994   \n",
       "710  [-28.406221, -28.810337, -31.172371, -27.65059...  49f4d394   41.8505   \n",
       "\n",
       "     is_iceberg classes  \n",
       "705           1     ice  \n",
       "962           1     ice  \n",
       "599           0    ship  \n",
       "411           1     ice  \n",
       "710           0    ship  "
      ]
     },
     "execution_count": 22,
     "metadata": {},
     "output_type": "execute_result"
    }
   ],
   "source": [
    "X_train.head()"
   ]
  },
  {
   "cell_type": "code",
   "execution_count": 23,
   "metadata": {},
   "outputs": [
    {
     "name": "stdout",
     "output_type": "stream",
     "text": [
      "Saving train\n",
      "Saving valid\n",
      "Saving test\n"
     ]
    }
   ],
   "source": [
    "save_images(X_train,\"train\")\n",
    "save_images(X_valid,\"valid\")\n",
    "save_images(test_df,\"test\")\n"
   ]
  },
  {
   "cell_type": "code",
   "execution_count": 24,
   "metadata": {},
   "outputs": [
    {
     "data": {
      "application/vnd.jupyter.widget-view+json": {
       "model_id": "a0b576e95d9042f586fb3c382e7641a9",
       "version_major": 2,
       "version_minor": 0
      },
      "text/html": [
       "<p>Failed to display Jupyter Widget of type <code>HBox</code>.</p>\n",
       "<p>\n",
       "  If you're reading this message in the Jupyter Notebook or JupyterLab Notebook, it may mean\n",
       "  that the widgets JavaScript is still loading. If this message persists, it\n",
       "  likely means that the widgets JavaScript library is either not installed or\n",
       "  not enabled. See the <a href=\"https://ipywidgets.readthedocs.io/en/stable/user_install.html\">Jupyter\n",
       "  Widgets Documentation</a> for setup instructions.\n",
       "</p>\n",
       "<p>\n",
       "  If you're reading this message in another frontend (for example, a static\n",
       "  rendering on GitHub or <a href=\"https://nbviewer.jupyter.org/\">NBViewer</a>),\n",
       "  it may mean that your frontend doesn't currently support widgets.\n",
       "</p>\n"
      ],
      "text/plain": [
       "HBox(children=(IntProgress(value=0, description='Epoch', max=5), HTML(value='')))"
      ]
     },
     "metadata": {},
     "output_type": "display_data"
    },
    {
     "name": "stdout",
     "output_type": "stream",
     "text": [
      "[ 0.       0.87326  0.68691  0.5026 ]                      \n",
      "[ 1.       0.79344  0.65516  0.54167]                      \n",
      "[ 2.       0.75461  0.60778  0.74219]                      \n",
      "[ 3.       0.69731  0.58305  0.73698]                      \n",
      "[ 4.       0.64567  0.59281  0.59115]                      \n",
      "\n"
     ]
    }
   ],
   "source": [
    "arch=resnet34\n",
    "sz=125\n",
    "\n",
    "data  = ImageClassifierData.from_paths(PATH, tfms=tfms_from_model(arch,sz),test_name='test')\n",
    "learn = ConvLearner.pretrained(arch, data, precompute=False)\n",
    "learn.fit(0.001, 5)"
   ]
  },
  {
   "cell_type": "code",
   "execution_count": null,
   "metadata": {},
   "outputs": [],
   "source": []
  },
  {
   "cell_type": "code",
   "execution_count": 25,
   "metadata": {},
   "outputs": [
    {
     "name": "stdout",
     "output_type": "stream",
     "text": [
      "                                             \r"
     ]
    },
    {
     "data": {
      "text/plain": [
       "(0.56259776320420152, 0.70716510903426788)"
      ]
     },
     "execution_count": 25,
     "metadata": {},
     "output_type": "execute_result"
    }
   ],
   "source": [
    "log_preds,y = learn.TTA()\n",
    "preds = np.mean(np.exp(log_preds),axis=0)\n",
    "(metrics.log_loss(y,preds), accuracy(preds,y))"
   ]
  },
  {
   "cell_type": "code",
   "execution_count": 1,
   "metadata": {},
   "outputs": [
    {
     "ename": "NameError",
     "evalue": "name 'X_train' is not defined",
     "output_type": "error",
     "traceback": [
      "\u001b[0;31m---------------------------------------------------------------------------\u001b[0m",
      "\u001b[0;31mNameError\u001b[0m                                 Traceback (most recent call last)",
      "\u001b[0;32m<ipython-input-1-d2ba684acd0f>\u001b[0m in \u001b[0;36m<module>\u001b[0;34m()\u001b[0m\n\u001b[0;32m----> 1\u001b[0;31m \u001b[0mX_train\u001b[0m\u001b[0;34m.\u001b[0m\u001b[0mshape\u001b[0m\u001b[0;34m\u001b[0m\u001b[0m\n\u001b[0m",
      "\u001b[0;31mNameError\u001b[0m: name 'X_train' is not defined"
     ]
    }
   ],
   "source": [
    "X_train.shape"
   ]
  },
  {
   "cell_type": "code",
   "execution_count": 2,
   "metadata": {},
   "outputs": [
    {
     "ename": "NameError",
     "evalue": "name 'X_valid' is not defined",
     "output_type": "error",
     "traceback": [
      "\u001b[0;31m---------------------------------------------------------------------------\u001b[0m",
      "\u001b[0;31mNameError\u001b[0m                                 Traceback (most recent call last)",
      "\u001b[0;32m<ipython-input-2-3e9b12e3fc58>\u001b[0m in \u001b[0;36m<module>\u001b[0;34m()\u001b[0m\n\u001b[0;32m----> 1\u001b[0;31m \u001b[0mX_valid\u001b[0m\u001b[0;34m.\u001b[0m\u001b[0mshape\u001b[0m\u001b[0;34m\u001b[0m\u001b[0m\n\u001b[0m",
      "\u001b[0;31mNameError\u001b[0m: name 'X_valid' is not defined"
     ]
    }
   ],
   "source": [
    "X_valid.shape"
   ]
  },
  {
   "cell_type": "code",
   "execution_count": 28,
   "metadata": {},
   "outputs": [
    {
     "name": "stdout",
     "output_type": "stream",
     "text": [
      "[[124  40]\n",
      " [ 54 103]]\n"
     ]
    },
    {
     "data": {
      "image/png": "[encoded data removed]",
      "text/plain": [
       "<matplotlib.figure.Figure at 0x7f7ee15fd908>"
      ]
     },
     "metadata": {},
     "output_type": "display_data"
    }
   ],
   "source": [
    "#log_preds,y = learn.TTA()\n",
    "#probs = np.mean(np.exp(log_preds),0)\n",
    "#preds = np.argmax(log_preds, axis=1)\n",
    "#probs = np.exp(log_preds[:,1])\n",
    "\n",
    "from sklearn.metrics import confusion_matrix\n",
    "y_predicted= np.argmax(preds,axis=1)\n",
    "cm = confusion_matrix(y, y_predicted)\n",
    "\n",
    "\n",
    "plot_confusion_matrix(cm, data.classes)"
   ]
  },
  {
   "cell_type": "markdown",
   "metadata": {},
   "source": [
    "\n",
    "# test set prediction"
   ]
  },
  {
   "cell_type": "code",
   "execution_count": 29,
   "metadata": {},
   "outputs": [
    {
     "name": "stdout",
     "output_type": "stream",
     "text": [
      "                                             \r"
     ]
    }
   ],
   "source": [
    "log_preds,y = learn.TTA(is_test=True)\n",
    "probs = np.exp(log_preds)"
   ]
  },
  {
   "cell_type": "code",
   "execution_count": 30,
   "metadata": {},
   "outputs": [
    {
     "data": {
      "text/plain": [
       "(5, 8424, 2)"
      ]
     },
     "execution_count": 30,
     "metadata": {},
     "output_type": "execute_result"
    }
   ],
   "source": [
    "probs.shape"
   ]
  },
  {
   "cell_type": "code",
   "execution_count": 31,
   "metadata": {},
   "outputs": [],
   "source": [
    "def make_test_file(probs,test_df):\n",
    "    probs = np.mean(probs,axis=0)\n",
    "    df = pd.DataFrame(probs)\n",
    "    df.columns = data.classes\n",
    "    df['id'] = test_df['id']\n",
    "    df=df.drop('ship',axis=1)\n",
    "    df=df.rename(columns={'ice':'is_iceberg'})\n",
    "    SUBM = f'{PATH}sub/'\n",
    "    os.makedirs(SUBM, exist_ok=True)\n",
    "    df.to_csv(f'{SUBM}subm.gz', compression='gzip', index=False)\n",
    "    FileLink(f'{SUBM}subm.gz')\n",
    "    "
   ]
  },
  {
   "cell_type": "code",
   "execution_count": null,
   "metadata": {},
   "outputs": [],
   "source": [
    "make_test_file(log_preds,test_df)"
   ]
  },
  {
   "cell_type": "code",
   "execution_count": null,
   "metadata": {},
   "outputs": [],
   "source": []
  },
  {
   "cell_type": "code",
   "execution_count": null,
   "metadata": {},
   "outputs": [],
   "source": []
  }
 ],
 "metadata": {
  "kernelspec": {
   "display_name": "Python [default]",
   "language": "python",
   "name": "python3"
  },
  "language_info": {
   "codemirror_mode": {
    "name": "ipython",
    "version": 3
   },
   "file_extension": ".py",
   "mimetype": "text/x-python",
   "name": "python",
   "nbconvert_exporter": "python",
   "pygments_lexer": "ipython3",
   "version": "3.6.4"
  }
 },
 "nbformat": 4,
 "nbformat_minor": 2
}
