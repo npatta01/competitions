{
 "cells": [
  {
   "cell_type": "code",
   "execution_count": 4,
   "metadata": {
    "ExecuteTime": {
     "end_time": "2018-08-01T03:21:06.525136Z",
     "start_time": "2018-08-01T03:21:06.518808Z"
    }
   },
   "outputs": [],
   "source": [
    "import pandas as pd\n",
    "import os"
   ]
  },
  {
   "cell_type": "code",
   "execution_count": 6,
   "metadata": {
    "ExecuteTime": {
     "end_time": "2018-08-01T03:21:11.491930Z",
     "start_time": "2018-08-01T03:21:11.486194Z"
    }
   },
   "outputs": [],
   "source": [
    "COMPETITION_NAME= 'airbus-ship-detection'"
   ]
  },
  {
   "cell_type": "code",
   "execution_count": 2,
   "metadata": {
    "ExecuteTime": {
     "end_time": "2018-08-01T03:10:24.894376Z",
     "start_time": "2018-08-01T03:07:52.785230Z"
    }
   },
   "outputs": [
    {
     "name": "stdout",
     "output_type": "stream",
     "text": [
      "Warning: Looks like you're using an outdated API Version, please consider updating (server 1.4.4 / client 1.3.12)\n",
      "Downloading sample_submission.csv.zip to /home/ubuntu/.kaggle/competitions/airbus-ship-detection\n",
      "  0%|                                                | 0.00/448k [00:00<?, ?B/s]\n",
      "100%|████████████████████████████████████████| 448k/448k [00:00<00:00, 84.7MB/s]\n",
      "Downloading train_ship_segmentations.csv.zip to /home/ubuntu/.kaggle/competitions/airbus-ship-detection\n",
      " 41%|███████████████▊                      | 5.00M/12.1M [00:00<00:00, 50.8MB/s]\n",
      "100%|██████████████████████████████████████| 12.1M/12.1M [00:00<00:00, 99.0MB/s]\n",
      "Downloading test.zip to /home/ubuntu/.kaggle/competitions/airbus-ship-detection\n",
      "100%|██████████████████████████████████████▉| 12.2G/12.2G [01:21<00:00, 198MB/s]\n",
      "100%|███████████████████████████████████████| 12.2G/12.2G [01:21<00:00, 160MB/s]\n",
      "Downloading train.zip to /home/ubuntu/.kaggle/competitions/airbus-ship-detection\n",
      "100%|██████████████████████████████████████▉| 14.3G/14.3G [01:06<00:00, 188MB/s]\n",
      "100%|███████████████████████████████████████| 14.3G/14.3G [01:06<00:00, 230MB/s]\n"
     ]
    }
   ],
   "source": [
    "!kaggle competitions download -c {COMPETITION_NAME}"
   ]
  },
  {
   "cell_type": "code",
   "execution_count": 7,
   "metadata": {
    "ExecuteTime": {
     "end_time": "2018-08-01T03:21:12.866533Z",
     "start_time": "2018-08-01T03:21:12.861473Z"
    }
   },
   "outputs": [],
   "source": [
    "PATH = os.path.expanduser(f\"~/.kaggle/competitions/{COMPETITION_NAME}\")"
   ]
  },
  {
   "cell_type": "code",
   "execution_count": 22,
   "metadata": {
    "ExecuteTime": {
     "end_time": "2018-08-01T03:25:57.584206Z",
     "start_time": "2018-08-01T03:25:56.715920Z"
    }
   },
   "outputs": [],
   "source": [
    "!rm -rf  {PATH}/*.jpg \n",
    "!rm -rf  {PATH}/*.csv \n",
    "!rm -rf  {PATH}/train\n",
    "!rm -rf  {PATH}/test"
   ]
  },
  {
   "cell_type": "code",
   "execution_count": 23,
   "metadata": {
    "ExecuteTime": {
     "end_time": "2018-08-01T03:25:57.702227Z",
     "start_time": "2018-08-01T03:25:57.587040Z"
    }
   },
   "outputs": [
    {
     "name": "stdout",
     "output_type": "stream",
     "text": [
      "sample_submission.csv.zip  train_ship_segmentations.csv.zip\r\n",
      "test.zip\t\t   train.zip\r\n"
     ]
    }
   ],
   "source": [
    "!ls {PATH}"
   ]
  },
  {
   "cell_type": "code",
   "execution_count": 24,
   "metadata": {
    "ExecuteTime": {
     "end_time": "2018-08-01T03:32:00.530484Z",
     "start_time": "2018-08-01T03:25:59.044913Z"
    }
   },
   "outputs": [
    {
     "name": "stdout",
     "output_type": "stream",
     "text": [
      "Archive:  /home/ubuntu/.kaggle/competitions/airbus-ship-detection/sample_submission.csv.zip\n",
      "  inflating: /home/ubuntu/.kaggle/competitions/airbus-ship-detection/sample_submission.csv  \n",
      "Archive:  /home/ubuntu/.kaggle/competitions/airbus-ship-detection/train_ship_segmentations.csv.zip\n",
      "  inflating: /home/ubuntu/.kaggle/competitions/airbus-ship-detection/train_ship_segmentations.csv  \n"
     ]
    }
   ],
   "source": [
    "!unzip {PATH+\"/sample_submission.csv.zip\"} -d {PATH}\n",
    "!unzip {PATH+\"/train_ship_segmentations.csv.zip\"} -d {PATH}\n",
    "\n",
    "!unzip -q {PATH+\"/test.zip\"} -d {PATH+\"/test\"}\n",
    "!unzip -q {PATH+\"/train.zip\"} -d {PATH+\"/train\"}\n"
   ]
  },
  {
   "cell_type": "code",
   "execution_count": null,
   "metadata": {},
   "outputs": [],
   "source": []
  }
 ],
 "metadata": {
  "kernelspec": {
   "display_name": "Python [conda env:fastai]",
   "language": "python",
   "name": "conda-env-fastai-py"
  },
  "language_info": {
   "codemirror_mode": {
    "name": "ipython",
    "version": 3
   },
   "file_extension": ".py",
   "mimetype": "text/x-python",
   "name": "python",
   "nbconvert_exporter": "python",
   "pygments_lexer": "ipython3",
   "version": "3.6.5"
  }
 },
 "nbformat": 4,
 "nbformat_minor": 2
}
