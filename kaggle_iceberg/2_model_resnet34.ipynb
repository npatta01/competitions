{
 "cells": [
  {
   "cell_type": "markdown",
   "metadata": {},
   "source": [
    "# Kaggle Competition:  Iceberg or Ship"
   ]
  },
  {
   "cell_type": "markdown",
   "metadata": {},
   "source": [
    "## Notebook 2:\n",
    "## run resnet34 architecture"
   ]
  },
  {
   "cell_type": "code",
   "execution_count": 1,
   "metadata": {},
   "outputs": [
    {
     "name": "stdout",
     "output_type": "stream",
     "text": [
      "total 476\r\n",
      "-rw-rw-r-- 1 ubuntu ubuntu 120926 Jan  8 22:22 1_getdata.ipynb\r\n",
      "-rw-rw-r-- 1 ubuntu ubuntu 223609 Jan  8 23:56 2_model_resnet34.ipynb\r\n",
      "-rw-rw-r-- 1 ubuntu ubuntu 134887 Jan  8 21:26 baseline.ipynb\r\n",
      "-rw-rw-r-- 1 ubuntu ubuntu    185 Jan  8 22:18 README.md\r\n"
     ]
    }
   ],
   "source": [
    "!ls -l"
   ]
  },
  {
   "cell_type": "code",
   "execution_count": 2,
   "metadata": {},
   "outputs": [],
   "source": [
    "# Put these at the top of every notebook, to get automatic reloading and inline plotting\n",
    "%reload_ext autoreload\n",
    "%autoreload 2\n",
    "%matplotlib inline"
   ]
  },
  {
   "cell_type": "code",
   "execution_count": 3,
   "metadata": {},
   "outputs": [],
   "source": [
    "from fastai.imports import *"
   ]
  },
  {
   "cell_type": "code",
   "execution_count": 4,
   "metadata": {},
   "outputs": [],
   "source": [
    "# This file contains all the main external libs we'll use\n",
    "from fastai.imports import *\n",
    "from fastai.transforms import *\n",
    "from fastai.conv_learner import *\n",
    "from fastai.model import *\n",
    "from fastai.dataset import *\n",
    "from fastai.sgdr import *\n",
    "from fastai.plots import *\n",
    "import pandas as pd\n",
    "import numpy as np\n",
    "import shutil\n",
    "from IPython.display import FileLink, FileLinks\n",
    "\n",
    "from sklearn.model_selection import train_test_split\n"
   ]
  },
  {
   "cell_type": "code",
   "execution_count": 5,
   "metadata": {},
   "outputs": [
    {
     "name": "stdout",
     "output_type": "stream",
     "text": [
      "total 1973260\r\n",
      "drwxrwxr-x  2 ubuntu ubuntu       4096 Jan  8 22:29 models\r\n",
      "-rw-rw-r--  1 ubuntu ubuntu     117951 Oct 23 17:27 sample_submission.csv\r\n",
      "-rw-rw-r--  1 ubuntu ubuntu      38566 Jan  7 20:36 sample_submission.csv.7z\r\n",
      "drwxrwxr-x  2 ubuntu ubuntu     274432 Jan  8 21:46 test\r\n",
      "-rw-rw-r--  1 ubuntu ubuntu 1521771850 Oct 23 17:27 test.json\r\n",
      "-rw-rw-r--  1 ubuntu ubuntu  257127394 Jan  7 20:36 test.json.7z\r\n",
      "drwxrwxr-x 14 ubuntu ubuntu       4096 Jan  8 23:54 tmp\r\n",
      "drwxrwxr-x  4 ubuntu ubuntu       4096 Jan  8 21:45 train\r\n",
      "-rw-rw-r--  1 ubuntu ubuntu  196313674 Oct 23 17:23 train.json\r\n",
      "-rw-rw-r--  1 ubuntu ubuntu   44932785 Jan  7 20:36 train.json.7z\r\n",
      "drwxrwxr-x  4 ubuntu ubuntu       4096 Jan  8 21:45 valid\r\n"
     ]
    }
   ],
   "source": [
    "#!ls /home/nidhin/data/iceberg\n",
    "!ls -l /home/ubuntu/data/iceberg"
   ]
  },
  {
   "cell_type": "code",
   "execution_count": 6,
   "metadata": {},
   "outputs": [],
   "source": [
    "#PATH = \"/home/nidhin/data/iceberg/\"\n",
    "PATH = \"/home/ubuntu/data/iceberg/\""
   ]
  },
  {
   "cell_type": "code",
   "execution_count": 7,
   "metadata": {},
   "outputs": [
    {
     "name": "stdout",
     "output_type": "stream",
     "text": [
      "total 1973260\r\n",
      "drwxrwxr-x  2 ubuntu ubuntu       4096 Jan  8 22:29 models\r\n",
      "-rw-rw-r--  1 ubuntu ubuntu     117951 Oct 23 17:27 sample_submission.csv\r\n",
      "-rw-rw-r--  1 ubuntu ubuntu      38566 Jan  7 20:36 sample_submission.csv.7z\r\n",
      "drwxrwxr-x  2 ubuntu ubuntu     274432 Jan  8 21:46 test\r\n",
      "-rw-rw-r--  1 ubuntu ubuntu 1521771850 Oct 23 17:27 test.json\r\n",
      "-rw-rw-r--  1 ubuntu ubuntu  257127394 Jan  7 20:36 test.json.7z\r\n",
      "drwxrwxr-x 14 ubuntu ubuntu       4096 Jan  8 23:54 tmp\r\n",
      "drwxrwxr-x  4 ubuntu ubuntu       4096 Jan  8 21:45 train\r\n",
      "-rw-rw-r--  1 ubuntu ubuntu  196313674 Oct 23 17:23 train.json\r\n",
      "-rw-rw-r--  1 ubuntu ubuntu   44932785 Jan  7 20:36 train.json.7z\r\n",
      "drwxrwxr-x  4 ubuntu ubuntu       4096 Jan  8 21:45 valid\r\n"
     ]
    }
   ],
   "source": [
    "!ls -l {PATH}"
   ]
  },
  {
   "cell_type": "markdown",
   "metadata": {},
   "source": [
    "## 1) resnet34, `sz=75`\n",
    "### run default model with original image size\n",
    "- resnet34 is the one to start with, and probably end with. it is fast and accurate. If you can't get a good result with resnet34, something else is probably wrong  \n",
    "\n",
    "----> It's true accuracy of ~ 0.75 is pretty good for a first time model"
   ]
  },
  {
   "cell_type": "markdown",
   "metadata": {},
   "source": [
    "- **Number of Epochs** - how many times do you want your algorithm to go through your images and read them? Start with 1. If that doesn't work, then run more.\n",
    "- **Learning Rate** - this is the only one that is complex to pick. With gradient descent, can pick out which direction to move downhill and take a small step in that direction. Mathematically, we take the derivative of the function. Learning rate is what do you multiply the derivative by."
   ]
  },
  {
   "cell_type": "markdown",
   "metadata": {},
   "source": [
    "## Choose a learning rate"
   ]
  },
  {
   "cell_type": "code",
   "execution_count": 8,
   "metadata": {},
   "outputs": [],
   "source": [
    "arch=resnet34\n",
    "sz=75\n",
    "data  = ImageClassifierData.from_paths(PATH, tfms=tfms_from_model(arch, sz))\n",
    "learn = ConvLearner.pretrained(arch, data, precompute=True)"
   ]
  },
  {
   "cell_type": "code",
   "execution_count": 9,
   "metadata": {},
   "outputs": [
    {
     "data": {
      "application/vnd.jupyter.widget-view+json": {
       "model_id": "c40ea2b70fbf4b029b48746ce1f29a9a",
       "version_major": 2,
       "version_minor": 0
      },
      "text/html": [
       "<p>Failed to display Jupyter Widget of type <code>HBox</code>.</p>\n",
       "<p>\n",
       "  If you're reading this message in the Jupyter Notebook or JupyterLab Notebook, it may mean\n",
       "  that the widgets JavaScript is still loading. If this message persists, it\n",
       "  likely means that the widgets JavaScript library is either not installed or\n",
       "  not enabled. See the <a href=\"https://ipywidgets.readthedocs.io/en/stable/user_install.html\">Jupyter\n",
       "  Widgets Documentation</a> for setup instructions.\n",
       "</p>\n",
       "<p>\n",
       "  If you're reading this message in another frontend (for example, a static\n",
       "  rendering on GitHub or <a href=\"https://nbviewer.jupyter.org/\">NBViewer</a>),\n",
       "  it may mean that your frontend doesn't currently support widgets.\n",
       "</p>\n"
      ],
      "text/plain": [
       "HBox(children=(IntProgress(value=0, description='Epoch', max=1), HTML(value='')))"
      ]
     },
     "metadata": {},
     "output_type": "display_data"
    },
    {
     "name": "stdout",
     "output_type": "stream",
     "text": [
      "[   0.         1.94689  160.14763    0.53646]             \n",
      "\n"
     ]
    }
   ],
   "source": [
    "lrf = learn.lr_find()"
   ]
  },
  {
   "cell_type": "code",
   "execution_count": 10,
   "metadata": {},
   "outputs": [
    {
     "data": {
      "image/png": "[encoded data removed]",
      "text/plain": [
       "<matplotlib.figure.Figure at 0x7fa1aab10940>"
      ]
     },
     "metadata": {},
     "output_type": "display_data"
    }
   ],
   "source": [
    "learn.sched.plot_lr()"
   ]
  },
  {
   "cell_type": "code",
   "execution_count": 11,
   "metadata": {},
   "outputs": [
    {
     "data": {
      "image/png": "[encoded data removed]",
      "text/plain": [
       "<matplotlib.figure.Figure at 0x7fa1ef4746d8>"
      ]
     },
     "metadata": {},
     "output_type": "display_data"
    }
   ],
   "source": [
    "learn.sched.plot()"
   ]
  },
  {
   "cell_type": "code",
   "execution_count": null,
   "metadata": {},
   "outputs": [],
   "source": []
  },
  {
   "cell_type": "markdown",
   "metadata": {},
   "source": [
    "### precompute=False"
   ]
  },
  {
   "cell_type": "code",
   "execution_count": 12,
   "metadata": {},
   "outputs": [
    {
     "data": {
      "application/vnd.jupyter.widget-view+json": {
       "model_id": "292e3cb487b7441da7fcbabfcbb52e88",
       "version_major": 2,
       "version_minor": 0
      },
      "text/html": [
       "<p>Failed to display Jupyter Widget of type <code>HBox</code>.</p>\n",
       "<p>\n",
       "  If you're reading this message in the Jupyter Notebook or JupyterLab Notebook, it may mean\n",
       "  that the widgets JavaScript is still loading. If this message persists, it\n",
       "  likely means that the widgets JavaScript library is either not installed or\n",
       "  not enabled. See the <a href=\"https://ipywidgets.readthedocs.io/en/stable/user_install.html\">Jupyter\n",
       "  Widgets Documentation</a> for setup instructions.\n",
       "</p>\n",
       "<p>\n",
       "  If you're reading this message in another frontend (for example, a static\n",
       "  rendering on GitHub or <a href=\"https://nbviewer.jupyter.org/\">NBViewer</a>),\n",
       "  it may mean that your frontend doesn't currently support widgets.\n",
       "</p>\n"
      ],
      "text/plain": [
       "HBox(children=(IntProgress(value=0, description='Epoch', max=6), HTML(value='')))"
      ]
     },
     "metadata": {},
     "output_type": "display_data"
    },
    {
     "name": "stdout",
     "output_type": "stream",
     "text": [
      "[ 0.       0.75508  0.46643  0.77604]                      \n",
      "[ 1.       0.65084  0.40912  0.81771]                      \n",
      "[ 2.       0.6196   0.41578  0.79427]                      \n",
      "[ 3.       0.59421  0.40262  0.81771]                      \n",
      "[ 4.       0.58294  0.42992  0.82552]                      \n",
      "[ 5.       0.56092  0.39568  0.83333]                      \n",
      "\n"
     ]
    }
   ],
   "source": [
    "\n",
    "# create a learner\n",
    "learn = ConvLearner.pretrained(arch, data, precompute=False)\n",
    "learn.fit(0.01, 6)"
   ]
  },
  {
   "cell_type": "markdown",
   "metadata": {},
   "source": [
    "### precompute=True"
   ]
  },
  {
   "cell_type": "code",
   "execution_count": 13,
   "metadata": {},
   "outputs": [
    {
     "data": {
      "application/vnd.jupyter.widget-view+json": {
       "model_id": "e2e850025c5648a0a69f5a973f934378",
       "version_major": 2,
       "version_minor": 0
      },
      "text/html": [
       "<p>Failed to display Jupyter Widget of type <code>HBox</code>.</p>\n",
       "<p>\n",
       "  If you're reading this message in the Jupyter Notebook or JupyterLab Notebook, it may mean\n",
       "  that the widgets JavaScript is still loading. If this message persists, it\n",
       "  likely means that the widgets JavaScript library is either not installed or\n",
       "  not enabled. See the <a href=\"https://ipywidgets.readthedocs.io/en/stable/user_install.html\">Jupyter\n",
       "  Widgets Documentation</a> for setup instructions.\n",
       "</p>\n",
       "<p>\n",
       "  If you're reading this message in another frontend (for example, a static\n",
       "  rendering on GitHub or <a href=\"https://nbviewer.jupyter.org/\">NBViewer</a>),\n",
       "  it may mean that your frontend doesn't currently support widgets.\n",
       "</p>\n"
      ],
      "text/plain": [
       "HBox(children=(IntProgress(value=0, description='Epoch', max=5), HTML(value='')))"
      ]
     },
     "metadata": {},
     "output_type": "display_data"
    },
    {
     "name": "stdout",
     "output_type": "stream",
     "text": [
      "[ 0.       0.8353   0.49865  0.76302]                     \n",
      "[ 1.       0.75103  0.50165  0.76562]                     \n",
      "[ 2.       0.66908  0.44567  0.79167]                      \n",
      "[ 3.       0.62526  0.43623  0.77865]                      \n",
      "[ 4.       0.58316  0.40806  0.80729]                     \n",
      "\n"
     ]
    }
   ],
   "source": [
    "data  = ImageClassifierData.from_paths(PATH, tfms=tfms_from_model(arch, sz), test_name='test')\n",
    "\n",
    "# create a learner\n",
    "learn = ConvLearner.pretrained(arch, data, precompute=True)\n",
    "learn.fit(0.01, 5)"
   ]
  },
  {
   "cell_type": "code",
   "execution_count": 14,
   "metadata": {},
   "outputs": [],
   "source": [
    "#lrf=learn.lr_find()"
   ]
  },
  {
   "cell_type": "code",
   "execution_count": 15,
   "metadata": {},
   "outputs": [],
   "source": [
    "#learn.sched.plot_lr()"
   ]
  },
  {
   "cell_type": "code",
   "execution_count": 16,
   "metadata": {},
   "outputs": [],
   "source": [
    "#learn.sched.plot()"
   ]
  },
  {
   "cell_type": "markdown",
   "metadata": {},
   "source": [
    "## Improving model - data augmentation\n",
    "If you try training for more epochs, you'll notice that we start to *overfit*, which means that our model is learning to recognize the specific images in the training set, rather than generalizaing such that we also get good results on the validation set. One way to fix this is to effectively create more data, through *data augmentation*. This refers to randomly changing the images in ways that shouldn't impact their interpretation, such as horizontal flipping, zooming, and rotating.\n",
    "\n",
    "We can do this by passing `aug_tfms` (*augmentation transforms*) to `tfms_from_model`, with a list of functions to apply that randomly change the image however we wish. For photos that are largely taken from the side (e.g. most photos of dogs and cats, as opposed to photos taken from the top down, such as satellite imagery) we can use the pre-defined list of functions `transforms_side_on`. We can also specify random zooming of images up to specified scale by adding the `max_zoom` parameter."
   ]
  },
  {
   "cell_type": "code",
   "execution_count": 19,
   "metadata": {},
   "outputs": [],
   "source": [
    "tfms = tfms_from_model(resnet34, sz, aug_tfms=transforms_side_on, max_zoom=1.1)"
   ]
  },
  {
   "cell_type": "code",
   "execution_count": 20,
   "metadata": {},
   "outputs": [],
   "source": [
    "def get_augs():\n",
    "    data = ImageClassifierData.from_paths(PATH, bs=2, tfms=tfms, num_workers=1)\n",
    "    x,_ = next(iter(data.aug_dl))\n",
    "    return data.trn_ds.denorm(x)[1]"
   ]
  },
  {
   "cell_type": "code",
   "execution_count": 21,
   "metadata": {},
   "outputs": [],
   "source": [
    "ims = np.stack([get_augs() for i in range(6)])"
   ]
  },
  {
   "cell_type": "code",
   "execution_count": 22,
   "metadata": {},
   "outputs": [
    {
     "data": {
      "image/png": "[encoded data removed]",
      "text/plain": [
       "<matplotlib.figure.Figure at 0x7fa1af3e6be0>"
      ]
     },
     "metadata": {},
     "output_type": "display_data"
    }
   ],
   "source": [
    "plots(ims, rows=2)\n"
   ]
  },
  {
   "cell_type": "code",
   "execution_count": 23,
   "metadata": {},
   "outputs": [],
   "source": [
    "# create a new data object that includes augmentation in the transforms\n",
    "data = ImageClassifierData.from_paths(PATH, tfms=tfms)\n",
    "learn = ConvLearner.pretrained(arch, data, precompute=True)"
   ]
  },
  {
   "cell_type": "code",
   "execution_count": 24,
   "metadata": {},
   "outputs": [
    {
     "data": {
      "application/vnd.jupyter.widget-view+json": {
       "model_id": "324b7e669fb24d8984cae67d0137d91f",
       "version_major": 2,
       "version_minor": 0
      },
      "text/html": [
       "<p>Failed to display Jupyter Widget of type <code>HBox</code>.</p>\n",
       "<p>\n",
       "  If you're reading this message in the Jupyter Notebook or JupyterLab Notebook, it may mean\n",
       "  that the widgets JavaScript is still loading. If this message persists, it\n",
       "  likely means that the widgets JavaScript library is either not installed or\n",
       "  not enabled. See the <a href=\"https://ipywidgets.readthedocs.io/en/stable/user_install.html\">Jupyter\n",
       "  Widgets Documentation</a> for setup instructions.\n",
       "</p>\n",
       "<p>\n",
       "  If you're reading this message in another frontend (for example, a static\n",
       "  rendering on GitHub or <a href=\"https://nbviewer.jupyter.org/\">NBViewer</a>),\n",
       "  it may mean that your frontend doesn't currently support widgets.\n",
       "</p>\n"
      ],
      "text/plain": [
       "HBox(children=(IntProgress(value=0, description='Epoch', max=1), HTML(value='')))"
      ]
     },
     "metadata": {},
     "output_type": "display_data"
    },
    {
     "name": "stdout",
     "output_type": "stream",
     "text": [
      "[ 0.       0.74313  0.55602  0.78906]                     \n",
      "\n"
     ]
    }
   ],
   "source": [
    "learn.fit(1e-2, 1)"
   ]
  },
  {
   "cell_type": "code",
   "execution_count": 25,
   "metadata": {},
   "outputs": [],
   "source": [
    "learn.precompute=False"
   ]
  },
  {
   "cell_type": "code",
   "execution_count": 26,
   "metadata": {},
   "outputs": [
    {
     "data": {
      "application/vnd.jupyter.widget-view+json": {
       "model_id": "0f5ad8a221694f6f821fd09bdd4f3087",
       "version_major": 2,
       "version_minor": 0
      },
      "text/html": [
       "<p>Failed to display Jupyter Widget of type <code>HBox</code>.</p>\n",
       "<p>\n",
       "  If you're reading this message in the Jupyter Notebook or JupyterLab Notebook, it may mean\n",
       "  that the widgets JavaScript is still loading. If this message persists, it\n",
       "  likely means that the widgets JavaScript library is either not installed or\n",
       "  not enabled. See the <a href=\"https://ipywidgets.readthedocs.io/en/stable/user_install.html\">Jupyter\n",
       "  Widgets Documentation</a> for setup instructions.\n",
       "</p>\n",
       "<p>\n",
       "  If you're reading this message in another frontend (for example, a static\n",
       "  rendering on GitHub or <a href=\"https://nbviewer.jupyter.org/\">NBViewer</a>),\n",
       "  it may mean that your frontend doesn't currently support widgets.\n",
       "</p>\n"
      ],
      "text/plain": [
       "HBox(children=(IntProgress(value=0, description='Epoch', max=8), HTML(value='')))"
      ]
     },
     "metadata": {},
     "output_type": "display_data"
    },
    {
     "name": "stdout",
     "output_type": "stream",
     "text": [
      "[ 0.       0.6369   0.4642   0.78385]                      \n",
      "[ 1.       0.61301  0.46768  0.78125]                      \n",
      "[ 2.       0.60963  0.4995   0.74219]                      \n",
      "[ 3.       0.62941  0.46663  0.78125]                      \n",
      "[ 4.       0.64633  0.61842  0.71615]                      \n",
      "[ 5.       0.60944  0.56978  0.73177]                      \n",
      "[ 6.       0.60198  0.43637  0.79948]                      \n",
      "[ 7.       0.58591  0.44646  0.78646]                      \n",
      "\n"
     ]
    }
   ],
   "source": [
    "learn.fit(1e-2, 4, cycle_len=2)"
   ]
  },
  {
   "cell_type": "code",
   "execution_count": 27,
   "metadata": {},
   "outputs": [
    {
     "data": {
      "image/png": "[encoded data removed]",
      "text/plain": [
       "<matplotlib.figure.Figure at 0x7fa1a90c0278>"
      ]
     },
     "metadata": {},
     "output_type": "display_data"
    }
   ],
   "source": [
    "learn.sched.plot_lr()"
   ]
  },
  {
   "cell_type": "code",
   "execution_count": 28,
   "metadata": {},
   "outputs": [
    {
     "name": "stdout",
     "output_type": "stream",
     "text": [
      "100%|██████████| 21/21 [00:04<00:00,  4.85it/s]\n",
      "100%|██████████| 6/6 [00:01<00:00,  5.52it/s]\n"
     ]
    },
    {
     "data": {
      "application/vnd.jupyter.widget-view+json": {
       "model_id": "24fc38169c8947d880c2cb690b61b69e",
       "version_major": 2,
       "version_minor": 0
      },
      "text/html": [
       "<p>Failed to display Jupyter Widget of type <code>HBox</code>.</p>\n",
       "<p>\n",
       "  If you're reading this message in the Jupyter Notebook or JupyterLab Notebook, it may mean\n",
       "  that the widgets JavaScript is still loading. If this message persists, it\n",
       "  likely means that the widgets JavaScript library is either not installed or\n",
       "  not enabled. See the <a href=\"https://ipywidgets.readthedocs.io/en/stable/user_install.html\">Jupyter\n",
       "  Widgets Documentation</a> for setup instructions.\n",
       "</p>\n",
       "<p>\n",
       "  If you're reading this message in another frontend (for example, a static\n",
       "  rendering on GitHub or <a href=\"https://nbviewer.jupyter.org/\">NBViewer</a>),\n",
       "  it may mean that your frontend doesn't currently support widgets.\n",
       "</p>\n"
      ],
      "text/plain": [
       "HBox(children=(IntProgress(value=0, description='Epoch', max=5), HTML(value='')))"
      ]
     },
     "metadata": {},
     "output_type": "display_data"
    },
    {
     "name": "stdout",
     "output_type": "stream",
     "text": [
      "[ 0.       0.82022  0.52906  0.75521]                     \n",
      "[ 1.       0.71406  0.45046  0.79948]                     \n",
      "[ 2.       0.65477  0.44598  0.78906]                      \n",
      "[ 3.       0.61044  0.4699   0.78646]                      \n",
      "[ 4.       0.57422  0.45854  0.80469]                     \n",
      "\n"
     ]
    }
   ],
   "source": [
    "sz=150\n",
    "tfms = tfms_from_model(resnet34, sz, aug_tfms=transforms_side_on, max_zoom=1.1)\n",
    "arch=resnet34\n",
    "\n",
    "\n",
    "data = ImageClassifierData.from_paths(PATH, tfms=tfms)\n",
    "learn = ConvLearner.pretrained(arch, data, precompute=True)\n",
    "learn.fit(0.01, 5)\n"
   ]
  },
  {
   "cell_type": "code",
   "execution_count": 29,
   "metadata": {},
   "outputs": [
    {
     "data": {
      "application/vnd.jupyter.widget-view+json": {
       "model_id": "a63e129e750d48ca9ef46e1d9d851227",
       "version_major": 2,
       "version_minor": 0
      },
      "text/html": [
       "<p>Failed to display Jupyter Widget of type <code>HBox</code>.</p>\n",
       "<p>\n",
       "  If you're reading this message in the Jupyter Notebook or JupyterLab Notebook, it may mean\n",
       "  that the widgets JavaScript is still loading. If this message persists, it\n",
       "  likely means that the widgets JavaScript library is either not installed or\n",
       "  not enabled. See the <a href=\"https://ipywidgets.readthedocs.io/en/stable/user_install.html\">Jupyter\n",
       "  Widgets Documentation</a> for setup instructions.\n",
       "</p>\n",
       "<p>\n",
       "  If you're reading this message in another frontend (for example, a static\n",
       "  rendering on GitHub or <a href=\"https://nbviewer.jupyter.org/\">NBViewer</a>),\n",
       "  it may mean that your frontend doesn't currently support widgets.\n",
       "</p>\n"
      ],
      "text/plain": [
       "HBox(children=(IntProgress(value=0, description='Epoch', max=5), HTML(value='')))"
      ]
     },
     "metadata": {},
     "output_type": "display_data"
    },
    {
     "name": "stdout",
     "output_type": "stream",
     "text": [
      "[ 0.       0.74851  0.52915  0.77865]                     \n",
      "[ 1.       0.62714  0.46133  0.79167]                      \n",
      "[ 2.       0.61331  0.48226  0.82292]                     \n",
      "[ 3.       0.58417  0.46668  0.79427]                      \n",
      "[ 4.       0.56412  0.47685  0.79688]                      \n",
      "\n"
     ]
    }
   ],
   "source": [
    "sz=150\n",
    "tfms = tfms_from_model(resnet34, sz, aug_tfms=transforms_side_on, max_zoom=1.3)\n",
    "arch=resnet34\n",
    "\n",
    "\n",
    "data = ImageClassifierData.from_paths(PATH, tfms=tfms)\n",
    "learn = ConvLearner.pretrained(arch, data, precompute=True)\n",
    "learn.fit(0.01, 5)\n"
   ]
  },
  {
   "cell_type": "code",
   "execution_count": 30,
   "metadata": {},
   "outputs": [
    {
     "data": {
      "application/vnd.jupyter.widget-view+json": {
       "model_id": "b78076eb75c947e2a1a12b14079e6632",
       "version_major": 2,
       "version_minor": 0
      },
      "text/html": [
       "<p>Failed to display Jupyter Widget of type <code>HBox</code>.</p>\n",
       "<p>\n",
       "  If you're reading this message in the Jupyter Notebook or JupyterLab Notebook, it may mean\n",
       "  that the widgets JavaScript is still loading. If this message persists, it\n",
       "  likely means that the widgets JavaScript library is either not installed or\n",
       "  not enabled. See the <a href=\"https://ipywidgets.readthedocs.io/en/stable/user_install.html\">Jupyter\n",
       "  Widgets Documentation</a> for setup instructions.\n",
       "</p>\n",
       "<p>\n",
       "  If you're reading this message in another frontend (for example, a static\n",
       "  rendering on GitHub or <a href=\"https://nbviewer.jupyter.org/\">NBViewer</a>),\n",
       "  it may mean that your frontend doesn't currently support widgets.\n",
       "</p>\n"
      ],
      "text/plain": [
       "HBox(children=(IntProgress(value=0, description='Epoch', max=5), HTML(value='')))"
      ]
     },
     "metadata": {},
     "output_type": "display_data"
    },
    {
     "name": "stdout",
     "output_type": "stream",
     "text": [
      "[ 0.       0.79448  0.4753   0.7474 ]                     \n",
      "[ 1.       0.6773   0.43598  0.75781]                     \n",
      "[ 2.       0.61891  0.43777  0.7526 ]                      \n",
      "[ 3.       0.56005  0.43328  0.76042]                     \n",
      "[ 4.       0.53163  0.39025  0.78906]                     \n",
      "\n"
     ]
    }
   ],
   "source": [
    "sz=200\n",
    "tfms = tfms_from_model(resnet34, sz, aug_tfms=transforms_side_on, max_zoom=1.3)\n",
    "arch=resnet34\n",
    "\n",
    "\n",
    "data = ImageClassifierData.from_paths(PATH, tfms=tfms)\n",
    "learn = ConvLearner.pretrained(arch, data, precompute=True)\n",
    "learn.fit(0.01, 5)\n"
   ]
  },
  {
   "cell_type": "code",
   "execution_count": 38,
   "metadata": {},
   "outputs": [
    {
     "data": {
      "application/vnd.jupyter.widget-view+json": {
       "model_id": "25b5cd51839a4378ac485bfda87bd7fa",
       "version_major": 2,
       "version_minor": 0
      },
      "text/html": [
       "<p>Failed to display Jupyter Widget of type <code>HBox</code>.</p>\n",
       "<p>\n",
       "  If you're reading this message in the Jupyter Notebook or JupyterLab Notebook, it may mean\n",
       "  that the widgets JavaScript is still loading. If this message persists, it\n",
       "  likely means that the widgets JavaScript library is either not installed or\n",
       "  not enabled. See the <a href=\"https://ipywidgets.readthedocs.io/en/stable/user_install.html\">Jupyter\n",
       "  Widgets Documentation</a> for setup instructions.\n",
       "</p>\n",
       "<p>\n",
       "  If you're reading this message in another frontend (for example, a static\n",
       "  rendering on GitHub or <a href=\"https://nbviewer.jupyter.org/\">NBViewer</a>),\n",
       "  it may mean that your frontend doesn't currently support widgets.\n",
       "</p>\n"
      ],
      "text/plain": [
       "HBox(children=(IntProgress(value=0, description='Epoch', max=15), HTML(value='')))"
      ]
     },
     "metadata": {},
     "output_type": "display_data"
    },
    {
     "name": "stdout",
     "output_type": "stream",
     "text": [
      "[ 0.       0.71768  0.45812  0.77604]                     \n",
      "[ 1.       0.59081  0.43442  0.78385]                      \n",
      "[ 2.       0.56973  0.40699  0.79427]                      \n",
      "[ 3.       0.57567  0.45593  0.79167]                     \n",
      "[ 4.       0.54321  0.37333  0.82292]                     \n",
      "[ 5.       0.52835  0.3895   0.82552]                      \n",
      "[ 6.       0.52982  0.44553  0.79948]                     \n",
      "[ 7.       0.49836  0.41541  0.80469]                     \n",
      "[ 8.       0.48344  0.38498  0.80208]                     \n",
      "[ 9.       0.45579  0.35471  0.82812]                     \n",
      "[ 10.        0.45414   0.38399   0.81771]                 \n",
      "[ 11.        0.42462   0.40983   0.82552]                 \n",
      "[ 12.        0.44617   0.36813   0.82552]                 \n",
      "[ 13.        0.45096   0.40077   0.8099 ]                 \n",
      "[ 14.        0.42649   0.376     0.82031]                 \n",
      "\n"
     ]
    }
   ],
   "source": [
    "sz=250\n",
    "tfms = tfms_from_model(resnet34, sz, aug_tfms=transforms_side_on, max_zoom=1.15)\n",
    "arch=resnet34\n",
    "\n",
    "\n",
    "data = ImageClassifierData.from_paths(PATH, tfms=tfms)\n",
    "learn = ConvLearner.pretrained(arch, data, precompute=True)\n",
    "learn.fit(0.01, 15)\n"
   ]
  },
  {
   "cell_type": "code",
   "execution_count": 32,
   "metadata": {},
   "outputs": [
    {
     "data": {
      "application/vnd.jupyter.widget-view+json": {
       "model_id": "a61c9a43a76b485e9d083a060693777f",
       "version_major": 2,
       "version_minor": 0
      },
      "text/html": [
       "<p>Failed to display Jupyter Widget of type <code>HBox</code>.</p>\n",
       "<p>\n",
       "  If you're reading this message in the Jupyter Notebook or JupyterLab Notebook, it may mean\n",
       "  that the widgets JavaScript is still loading. If this message persists, it\n",
       "  likely means that the widgets JavaScript library is either not installed or\n",
       "  not enabled. See the <a href=\"https://ipywidgets.readthedocs.io/en/stable/user_install.html\">Jupyter\n",
       "  Widgets Documentation</a> for setup instructions.\n",
       "</p>\n",
       "<p>\n",
       "  If you're reading this message in another frontend (for example, a static\n",
       "  rendering on GitHub or <a href=\"https://nbviewer.jupyter.org/\">NBViewer</a>),\n",
       "  it may mean that your frontend doesn't currently support widgets.\n",
       "</p>\n"
      ],
      "text/plain": [
       "HBox(children=(IntProgress(value=0, description='Epoch', max=5), HTML(value='')))"
      ]
     },
     "metadata": {},
     "output_type": "display_data"
    },
    {
     "name": "stdout",
     "output_type": "stream",
     "text": [
      "[ 0.       0.74844  0.55948  0.58073]                     \n",
      "[ 1.       0.6959   0.49039  0.80729]                     \n",
      "[ 2.       0.644    0.48945  0.79688]                      \n",
      "[ 3.       0.58865  0.41913  0.82292]                     \n",
      "[ 4.       0.53976  0.36452  0.84375]                     \n",
      "\n"
     ]
    }
   ],
   "source": [
    "sz=300\n",
    "tfms = tfms_from_model(resnet34, sz, aug_tfms=transforms_side_on, max_zoom=1.25)\n",
    "arch=resnet34\n",
    "\n",
    "\n",
    "data = ImageClassifierData.from_paths(PATH, tfms=tfms)\n",
    "learn = ConvLearner.pretrained(arch, data, precompute=True)\n",
    "learn.fit(0.01, 5)"
   ]
  },
  {
   "cell_type": "code",
   "execution_count": 46,
   "metadata": {},
   "outputs": [
    {
     "name": "stdout",
     "output_type": "stream",
     "text": [
      "100%|██████████| 21/21 [00:16<00:00,  1.28it/s]\n",
      "100%|██████████| 6/6 [00:04<00:00,  1.39it/s]\n"
     ]
    },
    {
     "data": {
      "application/vnd.jupyter.widget-view+json": {
       "model_id": "61e6f05d8809469fbb1d1a5933abaa6b",
       "version_major": 2,
       "version_minor": 0
      },
      "text/html": [
       "<p>Failed to display Jupyter Widget of type <code>HBox</code>.</p>\n",
       "<p>\n",
       "  If you're reading this message in the Jupyter Notebook or JupyterLab Notebook, it may mean\n",
       "  that the widgets JavaScript is still loading. If this message persists, it\n",
       "  likely means that the widgets JavaScript library is either not installed or\n",
       "  not enabled. See the <a href=\"https://ipywidgets.readthedocs.io/en/stable/user_install.html\">Jupyter\n",
       "  Widgets Documentation</a> for setup instructions.\n",
       "</p>\n",
       "<p>\n",
       "  If you're reading this message in another frontend (for example, a static\n",
       "  rendering on GitHub or <a href=\"https://nbviewer.jupyter.org/\">NBViewer</a>),\n",
       "  it may mean that your frontend doesn't currently support widgets.\n",
       "</p>\n"
      ],
      "text/plain": [
       "HBox(children=(IntProgress(value=0, description='Epoch', max=20), HTML(value='')))"
      ]
     },
     "metadata": {},
     "output_type": "display_data"
    },
    {
     "name": "stdout",
     "output_type": "stream",
     "text": [
      "[ 0.       0.61897  0.48585  0.79427]                     \n",
      "[ 1.       0.5604   0.37532  0.8099 ]                      \n",
      "[ 2.       0.55367  0.39825  0.82812]                     \n",
      "[ 3.       0.56613  0.40228  0.83333]                     \n",
      "[ 4.       0.5307   0.35779  0.82552]                     \n",
      "[ 5.       0.5295   0.3536   0.82552]                      \n",
      "[ 6.       0.50396  0.3472   0.83073]                      \n",
      "[ 7.       0.48926  0.36424  0.83073]                     \n",
      "[ 8.       0.47307  0.35414  0.84115]                     \n",
      "[ 9.       0.46583  0.32324  0.84115]                     \n",
      "[ 10.        0.45637   0.38688   0.85417]                 \n",
      "[ 11.        0.46575   0.33224   0.85156]                 \n",
      "[ 12.        0.44698   0.32958   0.84635]                 \n",
      "[ 13.        0.42827   0.39059   0.8125 ]                 \n",
      "[ 14.        0.41616   0.4295    0.81771]                  \n",
      "[ 15.        0.41004   0.34692   0.82031]                 \n",
      "[ 16.        0.40226   0.30368   0.83854]                 \n",
      "[ 17.        0.38395   0.35782   0.83594]                 \n",
      "[ 18.        0.374     0.40275   0.83333]                  \n",
      "[ 19.        0.37378   0.31332   0.84896]                 \n",
      "\n"
     ]
    }
   ],
   "source": [
    "# transforms = top down\n",
    "sz=350\n",
    "tfms = tfms_from_model(resnet34, sz, aug_tfms=transforms_top_down, max_zoom=1.1)\n",
    "arch=resnet34\n",
    "\n",
    "\n",
    "data = ImageClassifierData.from_paths(PATH, tfms=tfms)\n",
    "learn = ConvLearner.pretrained(arch, data, precompute=True)\n",
    "learn.fit(0.01, 20)"
   ]
  },
  {
   "cell_type": "code",
   "execution_count": 35,
   "metadata": {},
   "outputs": [
    {
     "data": {
      "application/vnd.jupyter.widget-view+json": {
       "model_id": "eb6505a926274bf1be08542c41192e69",
       "version_major": 2,
       "version_minor": 0
      },
      "text/html": [
       "<p>Failed to display Jupyter Widget of type <code>HBox</code>.</p>\n",
       "<p>\n",
       "  If you're reading this message in the Jupyter Notebook or JupyterLab Notebook, it may mean\n",
       "  that the widgets JavaScript is still loading. If this message persists, it\n",
       "  likely means that the widgets JavaScript library is either not installed or\n",
       "  not enabled. See the <a href=\"https://ipywidgets.readthedocs.io/en/stable/user_install.html\">Jupyter\n",
       "  Widgets Documentation</a> for setup instructions.\n",
       "</p>\n",
       "<p>\n",
       "  If you're reading this message in another frontend (for example, a static\n",
       "  rendering on GitHub or <a href=\"https://nbviewer.jupyter.org/\">NBViewer</a>),\n",
       "  it may mean that your frontend doesn't currently support widgets.\n",
       "</p>\n"
      ],
      "text/plain": [
       "HBox(children=(IntProgress(value=0, description='Epoch', max=20), HTML(value='')))"
      ]
     },
     "metadata": {},
     "output_type": "display_data"
    },
    {
     "name": "stdout",
     "output_type": "stream",
     "text": [
      "[ 0.       0.89811  0.66582  0.66146]                     \n",
      "[ 1.       0.79593  0.6148   0.5651 ]                     \n",
      "[ 2.       0.73209  0.58069  0.60156]                     \n",
      "[ 3.       0.66504  0.55096  0.59375]                     \n",
      "[ 4.       0.62734  0.54098  0.59375]                     \n",
      "[ 5.       0.59382  0.512    0.76562]                     \n",
      "[ 6.       0.56218  0.50094  0.77344]                     \n",
      "[ 7.       0.54107  0.50097  0.78906]                      \n",
      "[ 8.       0.54222  0.47884  0.79427]                     \n",
      "[ 9.       0.52484  0.48452  0.79688]                     \n",
      "[ 10.        0.51995   0.50241   0.63281]                 \n",
      "[ 11.        0.48889   0.47393   0.79427]                  \n",
      "[ 12.        0.49995   0.47213   0.79688]                 \n",
      "[ 13.        0.49352   0.49357   0.64844]                 \n",
      "[ 14.        0.48413   0.47261   0.80208]                 \n",
      "[ 15.        0.47066   0.48002   0.8099 ]                 \n",
      "[ 16.        0.46425   0.46485   0.80208]                 \n",
      "[ 17.        0.47806   0.4742    0.8099 ]                  \n",
      "[ 18.        0.47067   0.44509   0.82292]                  \n",
      "[ 19.        0.46273   0.45987   0.80729]                 \n",
      "\n"
     ]
    }
   ],
   "source": [
    "sz=300\n",
    "tfms = tfms_from_model(resnet34, sz, aug_tfms=transforms_side_on, max_zoom=1.1)\n",
    "arch=resnet34\n",
    "\n",
    "\n",
    "data = ImageClassifierData.from_paths(PATH, tfms=tfms)\n",
    "learn = ConvLearner.pretrained(arch, data, precompute=True)\n",
    "learn.fit(0.001, 20)"
   ]
  },
  {
   "cell_type": "code",
   "execution_count": 36,
   "metadata": {},
   "outputs": [
    {
     "data": {
      "application/vnd.jupyter.widget-view+json": {
       "model_id": "da06e9e42afa4de78a168f4bfa787cc7",
       "version_major": 2,
       "version_minor": 0
      },
      "text/html": [
       "<p>Failed to display Jupyter Widget of type <code>HBox</code>.</p>\n",
       "<p>\n",
       "  If you're reading this message in the Jupyter Notebook or JupyterLab Notebook, it may mean\n",
       "  that the widgets JavaScript is still loading. If this message persists, it\n",
       "  likely means that the widgets JavaScript library is either not installed or\n",
       "  not enabled. See the <a href=\"https://ipywidgets.readthedocs.io/en/stable/user_install.html\">Jupyter\n",
       "  Widgets Documentation</a> for setup instructions.\n",
       "</p>\n",
       "<p>\n",
       "  If you're reading this message in another frontend (for example, a static\n",
       "  rendering on GitHub or <a href=\"https://nbviewer.jupyter.org/\">NBViewer</a>),\n",
       "  it may mean that your frontend doesn't currently support widgets.\n",
       "</p>\n"
      ],
      "text/plain": [
       "HBox(children=(IntProgress(value=0, description='Epoch', max=20), HTML(value='')))"
      ]
     },
     "metadata": {},
     "output_type": "display_data"
    },
    {
     "name": "stdout",
     "output_type": "stream",
     "text": [
      "[ 0.       0.73921  0.68444  0.60156]                     \n",
      "[ 1.       0.68056  0.45354  0.82552]                      \n",
      "[ 2.       0.68815  0.42104  0.83073]                     \n",
      "[ 3.       0.61453  0.46441  0.80729]                     \n",
      "[ 4.       0.58373  0.39951  0.83594]                     \n",
      "[ 5.       0.5685   0.38131  0.85938]                     \n",
      "[ 6.       0.56345  0.47061  0.79948]                      \n",
      "[ 7.       0.54819  0.39482  0.83333]                     \n",
      "[ 8.       0.5042   0.45958  0.65885]                     \n",
      "[ 9.       0.4857   0.4605   0.69531]                     \n",
      "[ 10.        0.46008   0.39426   0.86458]                 \n",
      "[ 11.        0.4413    0.52706   0.64583]                 \n",
      "[ 12.        0.43078   0.47595   0.65625]                  \n",
      "[ 13.        0.42612   0.40406   0.83854]                 \n",
      "[ 14.        0.42306   0.38567   0.84896]                  \n",
      "[ 15.        0.42459   0.34915   0.85938]                  \n",
      "[ 16.        0.40864   0.39301   0.86458]                  \n",
      "[ 17.        0.41731   0.48463   0.6849 ]                  \n",
      "[ 18.        0.41647   0.36071   0.84896]                 \n",
      "[ 19.        0.42396   0.3531    0.85938]                 \n",
      "\n"
     ]
    }
   ],
   "source": [
    "sz=300\n",
    "tfms = tfms_from_model(resnet34, sz, aug_tfms=transforms_side_on, max_zoom=1.1)\n",
    "arch=resnet34\n",
    "\n",
    "\n",
    "data = ImageClassifierData.from_paths(PATH, tfms=tfms)\n",
    "learn = ConvLearner.pretrained(arch, data, precompute=True)\n",
    "learn.fit(0.01, 20)"
   ]
  },
  {
   "cell_type": "code",
   "execution_count": 49,
   "metadata": {},
   "outputs": [
    {
     "data": {
      "application/vnd.jupyter.widget-view+json": {
       "model_id": "188b88dbdaa748409969cc67cc323848",
       "version_major": 2,
       "version_minor": 0
      },
      "text/html": [
       "<p>Failed to display Jupyter Widget of type <code>HBox</code>.</p>\n",
       "<p>\n",
       "  If you're reading this message in the Jupyter Notebook or JupyterLab Notebook, it may mean\n",
       "  that the widgets JavaScript is still loading. If this message persists, it\n",
       "  likely means that the widgets JavaScript library is either not installed or\n",
       "  not enabled. See the <a href=\"https://ipywidgets.readthedocs.io/en/stable/user_install.html\">Jupyter\n",
       "  Widgets Documentation</a> for setup instructions.\n",
       "</p>\n",
       "<p>\n",
       "  If you're reading this message in another frontend (for example, a static\n",
       "  rendering on GitHub or <a href=\"https://nbviewer.jupyter.org/\">NBViewer</a>),\n",
       "  it may mean that your frontend doesn't currently support widgets.\n",
       "</p>\n"
      ],
      "text/plain": [
       "HBox(children=(IntProgress(value=0, description='Epoch', max=20), HTML(value='')))"
      ]
     },
     "metadata": {},
     "output_type": "display_data"
    },
    {
     "name": "stdout",
     "output_type": "stream",
     "text": [
      "[ 0.       0.65531  0.48181  0.79948]                      \n",
      "[ 1.       0.56399  0.4624   0.80729]                      \n",
      "[ 2.       0.51748  0.37813  0.80208]                     \n",
      "[ 3.       0.5281   0.32703  0.83073]                     \n",
      "[ 4.       0.50944  0.37132  0.82031]                     \n",
      "[ 5.       0.50438  0.34015  0.81771]                     \n",
      "[ 6.       0.49455  0.39384  0.8125 ]                     \n",
      "[ 7.       0.46982  0.35196  0.84635]                     \n",
      "[ 8.       0.48585  0.3789   0.81771]                     \n",
      "[ 9.       0.45298  0.36026  0.83333]                     \n",
      "[ 10.        0.42237   0.34081   0.82812]                  \n",
      "[ 11.        0.40618   0.33461   0.84635]                 \n",
      "[ 12.        0.40139   0.39234   0.83333]                 \n",
      "[ 13.        0.40033   0.38171   0.84115]                 \n",
      "[ 14.        0.43229   0.35294   0.83333]                 \n",
      "[ 15.        0.42195   0.42581   0.84375]                 \n",
      "[ 16.        0.4023    0.34461   0.83854]                 \n",
      "[ 17.        0.37381   0.32944   0.84635]                 \n",
      "[ 18.        0.35069   0.33057   0.83594]                 \n",
      "[ 19.        0.36263   0.35024   0.84375]                 \n",
      "\n"
     ]
    }
   ],
   "source": [
    "# transforms = top down\n",
    "sz=350\n",
    "tfms = tfms_from_model(resnet34, sz, aug_tfms=transforms_top_down, max_zoom=1.2)\n",
    "arch=resnet34\n",
    "\n",
    "\n",
    "data = ImageClassifierData.from_paths(PATH, tfms=tfms)\n",
    "learn = ConvLearner.pretrained(arch, data, precompute=True)\n",
    "learn.fit(0.01, 15)"
   ]
  },
  {
   "cell_type": "code",
   "execution_count": 58,
   "metadata": {},
   "outputs": [
    {
     "data": {
      "application/vnd.jupyter.widget-view+json": {
       "model_id": "8bea550319484f129ba467c43f865e84",
       "version_major": 2,
       "version_minor": 0
      },
      "text/html": [
       "<p>Failed to display Jupyter Widget of type <code>HBox</code>.</p>\n",
       "<p>\n",
       "  If you're reading this message in the Jupyter Notebook or JupyterLab Notebook, it may mean\n",
       "  that the widgets JavaScript is still loading. If this message persists, it\n",
       "  likely means that the widgets JavaScript library is either not installed or\n",
       "  not enabled. See the <a href=\"https://ipywidgets.readthedocs.io/en/stable/user_install.html\">Jupyter\n",
       "  Widgets Documentation</a> for setup instructions.\n",
       "</p>\n",
       "<p>\n",
       "  If you're reading this message in another frontend (for example, a static\n",
       "  rendering on GitHub or <a href=\"https://nbviewer.jupyter.org/\">NBViewer</a>),\n",
       "  it may mean that your frontend doesn't currently support widgets.\n",
       "</p>\n"
      ],
      "text/plain": [
       "HBox(children=(IntProgress(value=0, description='Epoch', max=25), HTML(value='')))"
      ]
     },
     "metadata": {},
     "output_type": "display_data"
    },
    {
     "name": "stdout",
     "output_type": "stream",
     "text": [
      "[ 0.       0.89946  0.60649  0.70573]                      \n",
      "[ 1.       0.81841  0.48429  0.82031]                     \n",
      "[ 2.       0.70871  0.43515  0.83333]                     \n",
      "[ 3.       0.64972  0.42043  0.84115]                     \n",
      "[ 4.       0.62848  0.39616  0.84896]                     \n",
      "[ 5.       0.58858  0.38537  0.83854]                     \n",
      "[ 6.       0.58344  0.3716   0.83594]                     \n",
      "[ 7.       0.56136  0.3676   0.83594]                     \n",
      "[ 8.       0.54183  0.36144  0.84115]                      \n",
      "[ 9.       0.52628  0.35863  0.84115]                     \n",
      "[ 10.        0.5021    0.37068   0.83854]                 \n",
      "[ 11.        0.48463   0.35917   0.83854]                  \n",
      "[ 12.        0.47375   0.35408   0.84115]                  \n",
      "[ 13.        0.45457   0.35579   0.83333]                 \n",
      "[ 14.        0.44998   0.33694   0.84896]                  \n",
      "[ 15.        0.44012   0.35764   0.84115]                 \n",
      "[ 16.        0.45868   0.3449    0.83594]                 \n",
      "[ 17.        0.45524   0.33255   0.84635]                 \n",
      "[ 18.        0.43815   0.33408   0.85156]                  \n",
      "[ 19.        0.43994   0.33387   0.83854]                 \n",
      "[ 20.        0.43328   0.33328   0.83854]                 \n",
      "[ 21.        0.42178   0.34481   0.83333]                 \n",
      "[ 22.        0.42677   0.32975   0.85417]                 \n",
      "[ 23.        0.41775   0.34918   0.84896]                 \n",
      "[ 24.        0.41083   0.33724   0.83333]                 \n",
      "\n"
     ]
    }
   ],
   "source": [
    "# transforms = top down\n",
    "sz=320\n",
    "tfms = tfms_from_model(resnet34, sz, aug_tfms=transforms_side_on, max_zoom=1.2)\n",
    "arch=resnet34\n",
    "\n",
    "\n",
    "data = ImageClassifierData.from_paths(PATH, tfms=tfms)\n",
    "learn = ConvLearner.pretrained(arch, data, precompute=True)\n",
    "learn.fit(0.001, 25)"
   ]
  },
  {
   "cell_type": "code",
   "execution_count": 59,
   "metadata": {},
   "outputs": [
    {
     "data": {
      "application/vnd.jupyter.widget-view+json": {
       "model_id": "81f42fa356b34fefad40806889bcde07",
       "version_major": 2,
       "version_minor": 0
      },
      "text/html": [
       "<p>Failed to display Jupyter Widget of type <code>HBox</code>.</p>\n",
       "<p>\n",
       "  If you're reading this message in the Jupyter Notebook or JupyterLab Notebook, it may mean\n",
       "  that the widgets JavaScript is still loading. If this message persists, it\n",
       "  likely means that the widgets JavaScript library is either not installed or\n",
       "  not enabled. See the <a href=\"https://ipywidgets.readthedocs.io/en/stable/user_install.html\">Jupyter\n",
       "  Widgets Documentation</a> for setup instructions.\n",
       "</p>\n",
       "<p>\n",
       "  If you're reading this message in another frontend (for example, a static\n",
       "  rendering on GitHub or <a href=\"https://nbviewer.jupyter.org/\">NBViewer</a>),\n",
       "  it may mean that your frontend doesn't currently support widgets.\n",
       "</p>\n"
      ],
      "text/plain": [
       "HBox(children=(IntProgress(value=0, description='Epoch', max=25), HTML(value='')))"
      ]
     },
     "metadata": {},
     "output_type": "display_data"
    },
    {
     "name": "stdout",
     "output_type": "stream",
     "text": [
      "[ 0.       0.86722  0.66464  0.51302]                     \n",
      "[ 1.       0.76956  0.5865   0.57552]                     \n",
      "[ 2.       0.6893   0.53885  0.76823]                      \n",
      "[ 3.       0.64056  0.52174  0.75781]                     \n",
      "[ 4.       0.6126   0.51165  0.77604]                     \n",
      "[ 5.       0.58547  0.49639  0.78906]                      \n",
      "[ 6.       0.58114  0.47564  0.79427]                     \n",
      "[ 7.       0.57392  0.45657  0.79167]                     \n",
      "[ 8.       0.55553  0.47193  0.79427]                     \n",
      "[ 9.       0.53558  0.43976  0.82031]                      \n",
      "[ 10.        0.53412   0.4428    0.82031]                 \n",
      "[ 11.        0.52585   0.45195   0.80729]                 \n",
      "[ 12.        0.50604   0.45552   0.8125 ]                  \n",
      "[ 13.        0.50109   0.4505    0.8151 ]                 \n",
      "[ 14.        0.48187   0.46074   0.82552]                  \n",
      "[ 15.        0.47918   0.43574   0.82552]                  \n",
      "[ 16.        0.47532   0.45311   0.82031]                 \n",
      "[ 17.        0.4702    0.43589   0.8151 ]                 \n",
      "[ 18.        0.46397   0.41861   0.83073]                 \n",
      "[ 19.        0.45352   0.42988   0.83854]                  \n",
      "[ 20.        0.46342   0.42058   0.83594]                  \n",
      "[ 21.        0.48024   0.39997   0.83333]                 \n",
      "[ 22.        0.4822    0.41375   0.83854]                 \n",
      "[ 23.        0.49624   0.42459   0.83854]                  \n",
      "[ 24.        0.49922   0.41931   0.84375]                 \n",
      "\n"
     ]
    }
   ],
   "source": [
    "# transforms = top down\n",
    "sz=300\n",
    "tfms = tfms_from_model(resnet34, sz, aug_tfms=transforms_side_on, max_zoom=1.3)\n",
    "arch=resnet34\n",
    "\n",
    "\n",
    "data = ImageClassifierData.from_paths(PATH, tfms=tfms)\n",
    "learn = ConvLearner.pretrained(arch, data, precompute=True)\n",
    "learn.fit(0.001, 25)"
   ]
  },
  {
   "cell_type": "code",
   "execution_count": 66,
   "metadata": {},
   "outputs": [
    {
     "data": {
      "application/vnd.jupyter.widget-view+json": {
       "model_id": "258e532ffd30442291e244230ed0ced5",
       "version_major": 2,
       "version_minor": 0
      },
      "text/html": [
       "<p>Failed to display Jupyter Widget of type <code>HBox</code>.</p>\n",
       "<p>\n",
       "  If you're reading this message in the Jupyter Notebook or JupyterLab Notebook, it may mean\n",
       "  that the widgets JavaScript is still loading. If this message persists, it\n",
       "  likely means that the widgets JavaScript library is either not installed or\n",
       "  not enabled. See the <a href=\"https://ipywidgets.readthedocs.io/en/stable/user_install.html\">Jupyter\n",
       "  Widgets Documentation</a> for setup instructions.\n",
       "</p>\n",
       "<p>\n",
       "  If you're reading this message in another frontend (for example, a static\n",
       "  rendering on GitHub or <a href=\"https://nbviewer.jupyter.org/\">NBViewer</a>),\n",
       "  it may mean that your frontend doesn't currently support widgets.\n",
       "</p>\n"
      ],
      "text/plain": [
       "HBox(children=(IntProgress(value=0, description='Epoch', max=25), HTML(value='')))"
      ]
     },
     "metadata": {},
     "output_type": "display_data"
    },
    {
     "name": "stdout",
     "output_type": "stream",
     "text": [
      "[ 0.       0.84901  0.69598  0.63021]                     \n",
      "[ 1.       0.76471  0.59476  0.71875]                      \n",
      "[ 2.       0.71238  0.54819  0.74479]                     \n",
      "[ 3.       0.65642  0.49274  0.78125]                      \n",
      "[ 4.       0.60729  0.47282  0.77604]                      \n",
      "[ 5.       0.58316  0.45909  0.78906]                      \n",
      "[ 6.       0.55684  0.4659   0.79948]                     \n",
      "[ 7.       0.5417   0.4385   0.80729]                     \n",
      "[ 8.       0.54251  0.43341  0.79948]                     \n",
      "[ 9.       0.53137  0.42596  0.79688]                     \n",
      "[ 10.        0.53712   0.41881   0.8151 ]                  \n",
      "[ 11.        0.51457   0.42911   0.81771]                  \n",
      "[ 12.        0.50938   0.42097   0.82292]                 \n",
      "[ 13.        0.50296   0.40719   0.82292]                  \n",
      "[ 14.        0.51268   0.41509   0.8099 ]                 \n",
      "[ 15.        0.51389   0.40509   0.83333]                  \n",
      "[ 16.        0.51969   0.42082   0.82812]                 \n",
      "[ 17.        0.50182   0.40355   0.81771]                 \n",
      "[ 18.        0.48145   0.40825   0.82812]                 \n",
      "[ 19.        0.4702    0.42373   0.81771]                 \n",
      "[ 20.        0.4578    0.41945   0.8125 ]                 \n",
      "[ 21.        0.45531   0.41084   0.81771]                  \n",
      "[ 22.        0.4488    0.3979    0.82552]                  \n",
      "[ 23.        0.44505   0.40774   0.82812]                  \n",
      "[ 24.        0.43673   0.39708   0.83854]                 \n",
      "\n"
     ]
    }
   ],
   "source": [
    "# transforms = top down\n",
    "sz=300\n",
    "tfms = tfms_from_model(resnet34, sz, aug_tfms=transforms_side_on, max_zoom=1.4)\n",
    "arch=resnet34\n",
    "\n",
    "\n",
    "data = ImageClassifierData.from_paths(PATH, tfms=tfms)\n",
    "learn = ConvLearner.pretrained(arch, data, precompute=True)\n",
    "learn.fit(0.001, 25)"
   ]
  },
  {
   "cell_type": "code",
   "execution_count": 37,
   "metadata": {},
   "outputs": [
    {
     "name": "stdout",
     "output_type": "stream",
     "text": [
      "log loss, accuracy                           \n"
     ]
    },
    {
     "data": {
      "text/plain": [
       "(0.47877670776928016, 0.7819314641744548)"
      ]
     },
     "execution_count": 37,
     "metadata": {},
     "output_type": "execute_result"
    }
   ],
   "source": [
    "log_preds,y = learn.TTA()\n",
    "preds = np.mean(np.exp(log_preds),axis=0)\n",
    "print(\"log loss, accuracy\")\n",
    "(metrics.log_loss(y,preds), accuracy(preds,y))"
   ]
  },
  {
   "cell_type": "code",
   "execution_count": 13,
   "metadata": {},
   "outputs": [
    {
     "name": "stdout",
     "output_type": "stream",
     "text": [
      "[[117  47]\n",
      " [ 54 103]]\n"
     ]
    },
    {
     "data": {
      "image/png": "[encoded data removed]",
      "text/plain": [
       "<matplotlib.figure.Figure at 0x7f71e3f03390>"
      ]
     },
     "metadata": {},
     "output_type": "display_data"
    }
   ],
   "source": [
    "from sklearn.metrics import confusion_matrix\n",
    "y_predicted= np.argmax(preds,axis=1)\n",
    "cm = confusion_matrix(y, y_predicted)\n",
    "\n",
    "\n",
    "plot_confusion_matrix(cm, data.classes)"
   ]
  },
  {
   "cell_type": "code",
   "execution_count": null,
   "metadata": {},
   "outputs": [],
   "source": []
  },
  {
   "cell_type": "code",
   "execution_count": null,
   "metadata": {},
   "outputs": [],
   "source": []
  },
  {
   "cell_type": "code",
   "execution_count": null,
   "metadata": {},
   "outputs": [],
   "source": []
  },
  {
   "cell_type": "code",
   "execution_count": null,
   "metadata": {},
   "outputs": [],
   "source": []
  },
  {
   "cell_type": "code",
   "execution_count": null,
   "metadata": {},
   "outputs": [],
   "source": []
  },
  {
   "cell_type": "code",
   "execution_count": null,
   "metadata": {},
   "outputs": [],
   "source": []
  },
  {
   "cell_type": "markdown",
   "metadata": {},
   "source": [
    "---"
   ]
  },
  {
   "cell_type": "markdown",
   "metadata": {},
   "source": [
    "## View images"
   ]
  },
  {
   "cell_type": "code",
   "execution_count": 18,
   "metadata": {},
   "outputs": [],
   "source": [
    "def plots(ims, figsize=(12,6), rows=1, titles=None):\n",
    "    f = plt.figure(figsize=figsize)\n",
    "    for i in range(len(ims)):\n",
    "        sp = f.add_subplot(rows, len(ims)//rows, i+1)\n",
    "        sp.axis('Off')\n",
    "        if titles is not None: sp.set_title(titles[i], fontsize=16)\n",
    "        plt.imshow(ims[i])"
   ]
  },
  {
   "cell_type": "code",
   "execution_count": 19,
   "metadata": {},
   "outputs": [
    {
     "name": "stdout",
     "output_type": "stream",
     "text": [
      "Band 1\n"
     ]
    },
    {
     "data": {
      "image/png": "[encoded data removed]",
      "text/plain": [
       "<matplotlib.figure.Figure at 0x7f01b706e9b0>"
      ]
     },
     "metadata": {},
     "output_type": "display_data"
    }
   ],
   "source": [
    "print(\"Band 1\")\n",
    "plots(X_all[:,:,:,0],rows=2, titles=y_classes)"
   ]
  },
  {
   "cell_type": "code",
   "execution_count": 20,
   "metadata": {},
   "outputs": [
    {
     "name": "stdout",
     "output_type": "stream",
     "text": [
      "Band 2\n"
     ]
    },
    {
     "data": {
      "image/png": "[encoded data removed]",
      "text/plain": [
       "<matplotlib.figure.Figure at 0x7eff4f3d2550>"
      ]
     },
     "metadata": {},
     "output_type": "display_data"
    }
   ],
   "source": [
    "print(\"Band 2\")\n",
    "plots(X_all[:,:,:,1],rows=2, titles=y_classes)"
   ]
  },
  {
   "cell_type": "code",
   "execution_count": 21,
   "metadata": {},
   "outputs": [
    {
     "name": "stdout",
     "output_type": "stream",
     "text": [
      "Band 3\n"
     ]
    },
    {
     "data": {
      "image/png": "[encoded data removed]",
      "text/plain": [
       "<matplotlib.figure.Figure at 0x7f019b6bd860>"
      ]
     },
     "metadata": {},
     "output_type": "display_data"
    }
   ],
   "source": [
    "print(\"Band 3\")\n",
    "plots(X_all[:,:,:,2],rows=2, titles=y_classes)"
   ]
  },
  {
   "cell_type": "code",
   "execution_count": 22,
   "metadata": {},
   "outputs": [
    {
     "name": "stdout",
     "output_type": "stream",
     "text": [
      "All Bands\n"
     ]
    },
    {
     "data": {
      "image/png": "[encoded data removed]",
      "text/plain": [
       "<matplotlib.figure.Figure at 0x7f01b76c3d68>"
      ]
     },
     "metadata": {},
     "output_type": "display_data"
    }
   ],
   "source": [
    "print(\"All Bands\")\n",
    "plots(X_all[:,:,:],rows=2, titles=y_classes)"
   ]
  },
  {
   "cell_type": "code",
   "execution_count": 24,
   "metadata": {},
   "outputs": [
    {
     "data": {
      "text/plain": [
       "0    851\n",
       "1    753\n",
       "Name: is_iceberg, dtype: int64"
      ]
     },
     "execution_count": 24,
     "metadata": {},
     "output_type": "execute_result"
    }
   ],
   "source": [
    "# see breakdown of classes in training dataset\n",
    "train_df['is_iceberg'].value_counts()"
   ]
  },
  {
   "cell_type": "code",
   "execution_count": 27,
   "metadata": {},
   "outputs": [
    {
     "data": {
      "text/plain": [
       "0    0.530549\n",
       "1    0.469451\n",
       "Name: is_iceberg, dtype: float64"
      ]
     },
     "execution_count": 27,
     "metadata": {},
     "output_type": "execute_result"
    }
   ],
   "source": [
    "# get percents\n",
    "train_df['is_iceberg'].value_counts(normalize=True)"
   ]
  },
  {
   "cell_type": "markdown",
   "metadata": {},
   "source": [
    "---\n",
    "# test set prediction"
   ]
  },
  {
   "cell_type": "code",
   "execution_count": 57,
   "metadata": {},
   "outputs": [
    {
     "name": "stdout",
     "output_type": "stream",
     "text": [
      "                                             \r"
     ]
    }
   ],
   "source": [
    "log_preds,y = learn.TTA(is_test=True)\n",
    "probs = np.exp(log_preds)"
   ]
  },
  {
   "cell_type": "code",
   "execution_count": 61,
   "metadata": {},
   "outputs": [
    {
     "data": {
      "text/plain": [
       "(5, 8424, 2)"
      ]
     },
     "execution_count": 61,
     "metadata": {},
     "output_type": "execute_result"
    }
   ],
   "source": [
    "probs.shape"
   ]
  },
  {
   "cell_type": "code",
   "execution_count": 94,
   "metadata": {},
   "outputs": [],
   "source": [
    "def make_test_file(probs,test_df):\n",
    "    probs = np.mean(probs,axis=0)\n",
    "    df = pd.DataFrame(probs)\n",
    "    df.columns = data.classes\n",
    "    df['id'] = test_df['id']\n",
    "    df=df.drop('ship',axis=1)\n",
    "    df=df.rename(columns={'ice':'is_iceberg'})\n",
    "    SUBM = f'{PATH}sub/'\n",
    "    os.makedirs(SUBM, exist_ok=True)\n",
    "    df.to_csv(f'{SUBM}subm.gz', compression='gzip', index=False)\n",
    "    FileLink(f'{SUBM}subm.gz')\n",
    "    "
   ]
  },
  {
   "cell_type": "code",
   "execution_count": 95,
   "metadata": {},
   "outputs": [],
   "source": [
    "make_test_file(probs,test_df)"
   ]
  }
 ],
 "metadata": {
  "kernelspec": {
   "display_name": "Python [default]",
   "language": "python",
   "name": "python3"
  },
  "language_info": {
   "codemirror_mode": {
    "name": "ipython",
    "version": 3
   },
   "file_extension": ".py",
   "mimetype": "text/x-python",
   "name": "python",
   "nbconvert_exporter": "python",
   "pygments_lexer": "ipython3",
   "version": "3.6.4"
  }
 },
 "nbformat": 4,
 "nbformat_minor": 2
}
