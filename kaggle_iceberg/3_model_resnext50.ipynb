{
 "cells": [
  {
   "cell_type": "markdown",
   "metadata": {},
   "source": [
    "# Kaggle Competition:  Iceberg or Ship"
   ]
  },
  {
   "cell_type": "markdown",
   "metadata": {},
   "source": [
    "## Notebook 3\n",
    "## run resnext50 architecture"
   ]
  },
  {
   "cell_type": "code",
   "execution_count": 1,
   "metadata": {},
   "outputs": [
    {
     "name": "stdout",
     "output_type": "stream",
     "text": [
      "total 1864\r\n",
      "-rw-rw-r-- 1 nidhin nidhin 623462 Jan 13 22:48 1_getdata.ipynb\r\n",
      "-rw-rw-r-- 1 nidhin nidhin 245619 Jan 13 21:50 2_model_resnet34.ipynb\r\n",
      "-rw-rw-r-- 1 nidhin nidhin  14278 Jan 14 01:06 3_model_resnext50-Copy1.ipynb\r\n",
      "-rw-rw-r-- 1 nidhin nidhin  30340 Jan 14 17:25 3_model_resnext50.ipynb\r\n",
      "-rw-rw-r-- 1 nidhin nidhin  64965 Jan 14 00:26 4_resnext_resize.ipynb\r\n",
      "-rw-rw-r-- 1 nidhin nidhin 137540 Jan 14 01:27 baseline.ipynb\r\n",
      "-rw-rw-r-- 1 nidhin nidhin    536 Jan 13 19:15 helper.py\r\n",
      "-rw-rw-r-- 1 nidhin nidhin 767392 Jan 14 16:25 other_groverpr.ipynb\r\n",
      "drwxrwxr-x 2 nidhin nidhin   4096 Jan 13 19:15 __pycache__\r\n",
      "-rw-rw-r-- 1 nidhin nidhin    185 Jan 13 17:48 README.md\r\n"
     ]
    }
   ],
   "source": [
    "!ls -l"
   ]
  },
  {
   "cell_type": "code",
   "execution_count": 2,
   "metadata": {},
   "outputs": [],
   "source": [
    "# Put these at the top of every notebook, to get automatic reloading and inline plotting\n",
    "%reload_ext autoreload\n",
    "%autoreload 2\n",
    "%matplotlib inline"
   ]
  },
  {
   "cell_type": "code",
   "execution_count": 3,
   "metadata": {},
   "outputs": [],
   "source": [
    "from fastai.imports import *"
   ]
  },
  {
   "cell_type": "code",
   "execution_count": 4,
   "metadata": {},
   "outputs": [],
   "source": [
    "# This file contains all the main external libs we'll use\n",
    "from fastai.imports import *\n",
    "from fastai.transforms import *\n",
    "from fastai.conv_learner import *\n",
    "from fastai.model import *\n",
    "from fastai.dataset import *\n",
    "from fastai.sgdr import *\n",
    "from fastai.plots import *\n",
    "import pandas as pd\n",
    "import numpy as np\n",
    "import shutil\n",
    "from IPython.display import FileLink, FileLinks\n",
    "\n",
    "from sklearn.model_selection import train_test_split\n",
    "import helper"
   ]
  },
  {
   "cell_type": "code",
   "execution_count": 5,
   "metadata": {},
   "outputs": [],
   "source": [
    "#PATH = \"/home/nidhin/data/iceberg/\"\n",
    "PATH = os.path.expanduser(\"~/data/iceberg/\")"
   ]
  },
  {
   "cell_type": "code",
   "execution_count": 6,
   "metadata": {},
   "outputs": [
    {
     "name": "stdout",
     "output_type": "stream",
     "text": [
      "total 1975500\r\n",
      "drwxrwxr-x  6 nidhin nidhin       4096 Jan 14 01:19 composites\r\n",
      "drwxrwxr-x  2 nidhin nidhin       4096 Jan 13 19:06 models\r\n",
      "-rw-rw-r--  1 nidhin nidhin     117951 Oct 23 17:27 sample_submission.csv\r\n",
      "-rw-rw-r--  1 nidhin nidhin      38566 Jan  7 20:28 sample_submission.csv.7z\r\n",
      "drwxrwxr-x  4 nidhin nidhin       4096 Jan 14 17:22 sub\r\n",
      "drwxrwxr-x  2 nidhin nidhin     286720 Jan 13 22:48 test\r\n",
      "-rw-rw-r--  1 nidhin nidhin 1521771850 Oct 23 17:27 test.json\r\n",
      "-rw-rw-r--  1 nidhin nidhin  257127394 Jan  7 20:28 test.json.7z\r\n",
      "drwxrwxr-x 15 nidhin nidhin       4096 Jan 13 21:50 tmp\r\n",
      "drwxrwxr-x  4 nidhin nidhin       4096 Jan 13 22:48 train\r\n",
      "-rw-rw-r--  1 nidhin nidhin  196313674 Oct 23 17:23 train.json\r\n",
      "-rw-rw-r--  1 nidhin nidhin   44932785 Jan  7 20:28 train.json.7z\r\n",
      "-rw-rw-r--  1 nidhin nidhin    2275916 Jan  8 01:44 train_modified.zip\r\n",
      "drwxrwxr-x  4 nidhin nidhin       4096 Jan 13 22:48 valid\r\n"
     ]
    }
   ],
   "source": [
    "!ls -l {PATH}"
   ]
  },
  {
   "cell_type": "code",
   "execution_count": 7,
   "metadata": {},
   "outputs": [],
   "source": [
    "sz=299\n",
    "arch=resnext50\n",
    "bs=20"
   ]
  },
  {
   "cell_type": "code",
   "execution_count": 8,
   "metadata": {},
   "outputs": [],
   "source": [
    "tfms = tfms_from_model(arch, sz, aug_tfms=transforms_side_on, max_zoom=1.1)\n",
    "data = ImageClassifierData.from_paths(PATH, tfms=tfms, bs=bs,test_name='test',)\n",
    "learn = ConvLearner.pretrained(arch, data, precompute=True, ps=0.5)"
   ]
  },
  {
   "cell_type": "code",
   "execution_count": 9,
   "metadata": {},
   "outputs": [
    {
     "data": {
      "application/vnd.jupyter.widget-view+json": {
       "model_id": "f0c3d07d01a649dfa86c65d0114bae34",
       "version_major": 2,
       "version_minor": 0
      },
      "text/html": [
       "<p>Failed to display Jupyter Widget of type <code>HBox</code>.</p>\n",
       "<p>\n",
       "  If you're reading this message in the Jupyter Notebook or JupyterLab Notebook, it may mean\n",
       "  that the widgets JavaScript is still loading. If this message persists, it\n",
       "  likely means that the widgets JavaScript library is either not installed or\n",
       "  not enabled. See the <a href=\"https://ipywidgets.readthedocs.io/en/stable/user_install.html\">Jupyter\n",
       "  Widgets Documentation</a> for setup instructions.\n",
       "</p>\n",
       "<p>\n",
       "  If you're reading this message in another frontend (for example, a static\n",
       "  rendering on GitHub or <a href=\"https://nbviewer.jupyter.org/\">NBViewer</a>),\n",
       "  it may mean that your frontend doesn't currently support widgets.\n",
       "</p>\n"
      ],
      "text/plain": [
       "HBox(children=(IntProgress(value=0, description='Epoch', max=8), HTML(value='')))"
      ]
     },
     "metadata": {},
     "output_type": "display_data"
    },
    {
     "name": "stdout",
     "output_type": "stream",
     "text": [
      "[ 0.       0.69323  0.71376  0.71176]                      \n",
      "[ 1.       0.62528  0.58398  0.70588]                       \n",
      "[ 2.       0.57636  0.45172  0.80294]                       \n",
      "[ 3.       0.55199  0.4703   0.79706]                       \n",
      "[ 4.       0.48557  0.4464   0.82941]                       \n",
      "[ 5.       0.47288  0.46801  0.79412]                       \n",
      "[ 6.       0.45848  0.47164  0.80882]                       \n",
      "[ 7.       0.51028  0.44751  0.81471]                       \n",
      "\n"
     ]
    }
   ],
   "source": [
    "learn.fit(1e-2, 8)\n",
    "learn.precompute=False"
   ]
  },
  {
   "cell_type": "code",
   "execution_count": 10,
   "metadata": {},
   "outputs": [
    {
     "data": {
      "application/vnd.jupyter.widget-view+json": {
       "model_id": "0e69aa65dfed48608fb7a91524c90ce7",
       "version_major": 2,
       "version_minor": 0
      },
      "text/html": [
       "<p>Failed to display Jupyter Widget of type <code>HBox</code>.</p>\n",
       "<p>\n",
       "  If you're reading this message in the Jupyter Notebook or JupyterLab Notebook, it may mean\n",
       "  that the widgets JavaScript is still loading. If this message persists, it\n",
       "  likely means that the widgets JavaScript library is either not installed or\n",
       "  not enabled. See the <a href=\"https://ipywidgets.readthedocs.io/en/stable/user_install.html\">Jupyter\n",
       "  Widgets Documentation</a> for setup instructions.\n",
       "</p>\n",
       "<p>\n",
       "  If you're reading this message in another frontend (for example, a static\n",
       "  rendering on GitHub or <a href=\"https://nbviewer.jupyter.org/\">NBViewer</a>),\n",
       "  it may mean that your frontend doesn't currently support widgets.\n",
       "</p>\n"
      ],
      "text/plain": [
       "HBox(children=(IntProgress(value=0, description='Epoch', max=8), HTML(value='')))"
      ]
     },
     "metadata": {},
     "output_type": "display_data"
    },
    {
     "name": "stdout",
     "output_type": "stream",
     "text": [
      "[ 0.       0.70789  0.48105  0.75294]                      \n",
      "[ 1.       0.55353  0.49911  0.75294]                      \n",
      "[ 2.       0.52519  0.44617  0.77647]                      \n",
      "[ 3.       0.46936  0.47276  0.77647]                      \n",
      "[ 4.       0.45942  0.39246  0.82059]                      \n",
      "[ 5.       0.44453  0.48581  0.77059]                      \n",
      "[ 6.       0.43383  0.43481  0.8    ]                      \n",
      "[ 7.       0.46675  0.46652  0.79118]                      \n",
      "\n"
     ]
    }
   ],
   "source": [
    "learn.fit(1e-2, 4, cycle_len=2)"
   ]
  },
  {
   "cell_type": "code",
   "execution_count": 11,
   "metadata": {},
   "outputs": [],
   "source": [
    "learn.unfreeze()\n",
    "lr=np.array([1e-4,1e-3,1e-2])"
   ]
  },
  {
   "cell_type": "code",
   "execution_count": 12,
   "metadata": {},
   "outputs": [
    {
     "data": {
      "application/vnd.jupyter.widget-view+json": {
       "model_id": "006087cae85e49e28bf3bb22b094ed92",
       "version_major": 2,
       "version_minor": 0
      },
      "text/html": [
       "<p>Failed to display Jupyter Widget of type <code>HBox</code>.</p>\n",
       "<p>\n",
       "  If you're reading this message in the Jupyter Notebook or JupyterLab Notebook, it may mean\n",
       "  that the widgets JavaScript is still loading. If this message persists, it\n",
       "  likely means that the widgets JavaScript library is either not installed or\n",
       "  not enabled. See the <a href=\"https://ipywidgets.readthedocs.io/en/stable/user_install.html\">Jupyter\n",
       "  Widgets Documentation</a> for setup instructions.\n",
       "</p>\n",
       "<p>\n",
       "  If you're reading this message in another frontend (for example, a static\n",
       "  rendering on GitHub or <a href=\"https://nbviewer.jupyter.org/\">NBViewer</a>),\n",
       "  it may mean that your frontend doesn't currently support widgets.\n",
       "</p>\n"
      ],
      "text/plain": [
       "HBox(children=(IntProgress(value=0, description='Epoch', max=9), HTML(value='')))"
      ]
     },
     "metadata": {},
     "output_type": "display_data"
    },
    {
     "name": "stdout",
     "output_type": "stream",
     "text": [
      "[ 0.       0.6032   0.4318   0.78235]                      \n",
      "[ 1.       0.43402  0.42972  0.80882]                      \n",
      "[ 2.       0.3596   0.5016   0.78824]                      \n",
      "[ 3.       0.41441  0.58758  0.70882]                      \n",
      "[ 4.       0.47549  0.66059  0.73529]                      \n",
      "[ 5.       0.46787  0.68278  0.7    ]                      \n",
      "[ 6.       0.48694  0.73478  0.70588]                      \n",
      "[ 7.       0.42102  0.84079  0.70588]                      \n",
      "[ 8.       0.37834  0.96813  0.66177]                      \n",
      "\n"
     ]
    }
   ],
   "source": [
    "learn.fit(lr, 3, cycle_len=3,)"
   ]
  },
  {
   "cell_type": "code",
   "execution_count": 13,
   "metadata": {},
   "outputs": [],
   "source": [
    "learn.save('224_all_50')"
   ]
  },
  {
   "cell_type": "code",
   "execution_count": 14,
   "metadata": {},
   "outputs": [],
   "source": [
    "learn.load('224_all_50')"
   ]
  },
  {
   "cell_type": "code",
   "execution_count": null,
   "metadata": {},
   "outputs": [],
   "source": []
  },
  {
   "cell_type": "code",
   "execution_count": 15,
   "metadata": {},
   "outputs": [
    {
     "name": "stdout",
     "output_type": "stream",
     "text": [
      "                                             \r"
     ]
    },
    {
     "data": {
      "text/plain": [
       "(0.33778778430372924, 0.84423676012461057)"
      ]
     },
     "execution_count": 15,
     "metadata": {},
     "output_type": "execute_result"
    }
   ],
   "source": [
    "log_preds,y = learn.TTA()\n",
    "preds = np.mean(np.exp(log_preds),axis=0)\n",
    "(metrics.log_loss(y,preds), accuracy(preds,y))"
   ]
  },
  {
   "cell_type": "code",
   "execution_count": null,
   "metadata": {},
   "outputs": [],
   "source": []
  },
  {
   "cell_type": "code",
   "execution_count": 19,
   "metadata": {},
   "outputs": [
    {
     "name": "stdout",
     "output_type": "stream",
     "text": [
      "                                              \r"
     ]
    }
   ],
   "source": [
    "helper.make_submission(learn=learn\n",
    "               ,data=data\n",
    "               ,output_file_name = f'{PATH}/sub/resnext50_sz299_bs20_colorscale_ordered.csv'\n",
    "               )"
   ]
  },
  {
   "cell_type": "code",
   "execution_count": 21,
   "metadata": {},
   "outputs": [],
   "source": [
    "submmission_df = pd.read_csv(f'{PATH}/sub/resnext50_sz299_bs20_colorscale_ordered.csv')"
   ]
  },
  {
   "cell_type": "code",
   "execution_count": 23,
   "metadata": {},
   "outputs": [
    {
     "data": {
      "text/plain": [
       "8424"
      ]
     },
     "execution_count": 23,
     "metadata": {},
     "output_type": "execute_result"
    }
   ],
   "source": [
    "len(submmission_df)"
   ]
  },
  {
   "cell_type": "code",
   "execution_count": null,
   "metadata": {},
   "outputs": [],
   "source": []
  }
 ],
 "metadata": {
  "kernelspec": {
   "display_name": "Python [default]",
   "language": "python",
   "name": "python3"
  },
  "language_info": {
   "codemirror_mode": {
    "name": "ipython",
    "version": 3
   },
   "file_extension": ".py",
   "mimetype": "text/x-python",
   "name": "python",
   "nbconvert_exporter": "python",
   "pygments_lexer": "ipython3",
   "version": "3.6.4"
  }
 },
 "nbformat": 4,
 "nbformat_minor": 2
}
