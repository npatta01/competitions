{
 "cells": [
  {
   "cell_type": "markdown",
   "metadata": {},
   "source": [
    "# Kaggle Competition:  Iceberg or Ship"
   ]
  },
  {
   "cell_type": "markdown",
   "metadata": {},
   "source": [
    "## Notebook 3\n",
    "## run resnext50 architecture"
   ]
  },
  {
   "cell_type": "code",
   "execution_count": 1,
   "metadata": {},
   "outputs": [
    {
     "name": "stdout",
     "output_type": "stream",
     "text": [
      "total 1756\r\n",
      "-rw-rw-r-- 1 nidhin nidhin 623462 Jan 13 22:48 1_getdata.ipynb\r\n",
      "-rw-rw-r-- 1 nidhin nidhin 245619 Jan 13 21:50 2_model_resnet34.ipynb\r\n",
      "-rw-rw-r-- 1 nidhin nidhin  13184 Jan 13 23:37 3_model_resnext50.ipynb\r\n",
      "-rw-rw-r-- 1 nidhin nidhin   6048 Jan 14 00:02 4_resnext_resize.ipynb\r\n",
      "-rw-rw-r-- 1 nidhin nidhin 137540 Jan 13 21:44 baseline.ipynb\r\n",
      "-rw-rw-r-- 1 nidhin nidhin    536 Jan 13 19:15 helper.py\r\n",
      "-rw-rw-r-- 1 nidhin nidhin 747405 Jan 13 22:32 other_groverpr.ipynb\r\n",
      "drwxrwxr-x 2 nidhin nidhin   4096 Jan 13 19:15 __pycache__\r\n",
      "-rw-rw-r-- 1 nidhin nidhin    185 Jan 13 17:48 README.md\r\n"
     ]
    }
   ],
   "source": [
    "!ls -l"
   ]
  },
  {
   "cell_type": "code",
   "execution_count": 2,
   "metadata": {},
   "outputs": [],
   "source": [
    "# Put these at the top of every notebook, to get automatic reloading and inline plotting\n",
    "%reload_ext autoreload\n",
    "%autoreload 2\n",
    "%matplotlib inline"
   ]
  },
  {
   "cell_type": "code",
   "execution_count": 3,
   "metadata": {},
   "outputs": [],
   "source": [
    "from fastai.imports import *"
   ]
  },
  {
   "cell_type": "code",
   "execution_count": 4,
   "metadata": {},
   "outputs": [],
   "source": [
    "# This file contains all the main external libs we'll use\n",
    "from fastai.imports import *\n",
    "from fastai.transforms import *\n",
    "from fastai.conv_learner import *\n",
    "from fastai.model import *\n",
    "from fastai.dataset import *\n",
    "from fastai.sgdr import *\n",
    "from fastai.plots import *\n",
    "import pandas as pd\n",
    "import numpy as np\n",
    "import shutil\n",
    "from IPython.display import FileLink, FileLinks\n",
    "\n",
    "from sklearn.model_selection import train_test_split\n",
    "import helper"
   ]
  },
  {
   "cell_type": "code",
   "execution_count": 5,
   "metadata": {},
   "outputs": [],
   "source": [
    "#PATH = \"/home/nidhin/data/iceberg/\"\n",
    "PATH = os.path.expanduser(\"~/data/iceberg/\")"
   ]
  },
  {
   "cell_type": "code",
   "execution_count": 6,
   "metadata": {},
   "outputs": [
    {
     "name": "stdout",
     "output_type": "stream",
     "text": [
      "total 1975500\r\n",
      "drwxrwxr-x  6 nidhin nidhin       4096 Jan 13 21:37 composites\r\n",
      "drwxrwxr-x  2 nidhin nidhin       4096 Jan 13 19:06 models\r\n",
      "-rw-rw-r--  1 nidhin nidhin     117951 Oct 23 17:27 sample_submission.csv\r\n",
      "-rw-rw-r--  1 nidhin nidhin      38566 Jan  7 20:28 sample_submission.csv.7z\r\n",
      "drwxrwxr-x  3 nidhin nidhin       4096 Jan 13 21:20 sub\r\n",
      "drwxrwxr-x  2 nidhin nidhin     286720 Jan 13 22:48 test\r\n",
      "-rw-rw-r--  1 nidhin nidhin 1521771850 Oct 23 17:27 test.json\r\n",
      "-rw-rw-r--  1 nidhin nidhin  257127394 Jan  7 20:28 test.json.7z\r\n",
      "drwxrwxr-x 15 nidhin nidhin       4096 Jan 13 21:50 tmp\r\n",
      "drwxrwxr-x  4 nidhin nidhin       4096 Jan 13 22:48 train\r\n",
      "-rw-rw-r--  1 nidhin nidhin  196313674 Oct 23 17:23 train.json\r\n",
      "-rw-rw-r--  1 nidhin nidhin   44932785 Jan  7 20:28 train.json.7z\r\n",
      "-rw-rw-r--  1 nidhin nidhin    2275916 Jan  8 01:44 train_modified.zip\r\n",
      "drwxrwxr-x  4 nidhin nidhin       4096 Jan 13 22:48 valid\r\n"
     ]
    }
   ],
   "source": [
    "!ls -l {PATH}"
   ]
  },
  {
   "cell_type": "code",
   "execution_count": 43,
   "metadata": {},
   "outputs": [],
   "source": [
    "np.random.seed(0)"
   ]
  },
  {
   "cell_type": "code",
   "execution_count": 44,
   "metadata": {},
   "outputs": [],
   "source": [
    "sz=75\n",
    "#arch=resnext50\n",
    "arch=resnet18\n",
    "bs=32\n",
    "lr = 1e-2"
   ]
  },
  {
   "cell_type": "code",
   "execution_count": 45,
   "metadata": {},
   "outputs": [
    {
     "data": {
      "application/vnd.jupyter.widget-view+json": {
       "model_id": "70bf63d5ef6745738dca8b12048f1ed5",
       "version_major": 2,
       "version_minor": 0
      },
      "text/html": [
       "<p>Failed to display Jupyter Widget of type <code>HBox</code>.</p>\n",
       "<p>\n",
       "  If you're reading this message in the Jupyter Notebook or JupyterLab Notebook, it may mean\n",
       "  that the widgets JavaScript is still loading. If this message persists, it\n",
       "  likely means that the widgets JavaScript library is either not installed or\n",
       "  not enabled. See the <a href=\"https://ipywidgets.readthedocs.io/en/stable/user_install.html\">Jupyter\n",
       "  Widgets Documentation</a> for setup instructions.\n",
       "</p>\n",
       "<p>\n",
       "  If you're reading this message in another frontend (for example, a static\n",
       "  rendering on GitHub or <a href=\"https://nbviewer.jupyter.org/\">NBViewer</a>),\n",
       "  it may mean that your frontend doesn't currently support widgets.\n",
       "</p>\n"
      ],
      "text/plain": [
       "HBox(children=(IntProgress(value=0, max=6), HTML(value='')))"
      ]
     },
     "metadata": {},
     "output_type": "display_data"
    },
    {
     "name": "stdout",
     "output_type": "stream",
     "text": [
      "\n"
     ]
    }
   ],
   "source": [
    "tfms = tfms_from_model(arch, sz, aug_tfms=transforms_side_on, max_zoom=1.1)\n",
    "data = ImageClassifierData.from_paths(PATH, tfms=tfms, bs=bs,test_name='test',)\n",
    "data = data.resize(int(sz*1.3), 'tmp')\n",
    "learn = ConvLearner.pretrained(arch, data, precompute=True, ps=0.5)"
   ]
  },
  {
   "cell_type": "code",
   "execution_count": 46,
   "metadata": {},
   "outputs": [
    {
     "data": {
      "application/vnd.jupyter.widget-view+json": {
       "model_id": "a95014b96beb4c0799c037d40f21cdad",
       "version_major": 2,
       "version_minor": 0
      },
      "text/html": [
       "<p>Failed to display Jupyter Widget of type <code>HBox</code>.</p>\n",
       "<p>\n",
       "  If you're reading this message in the Jupyter Notebook or JupyterLab Notebook, it may mean\n",
       "  that the widgets JavaScript is still loading. If this message persists, it\n",
       "  likely means that the widgets JavaScript library is either not installed or\n",
       "  not enabled. See the <a href=\"https://ipywidgets.readthedocs.io/en/stable/user_install.html\">Jupyter\n",
       "  Widgets Documentation</a> for setup instructions.\n",
       "</p>\n",
       "<p>\n",
       "  If you're reading this message in another frontend (for example, a static\n",
       "  rendering on GitHub or <a href=\"https://nbviewer.jupyter.org/\">NBViewer</a>),\n",
       "  it may mean that your frontend doesn't currently support widgets.\n",
       "</p>\n"
      ],
      "text/plain": [
       "HBox(children=(IntProgress(value=0, description='Epoch', max=1), HTML(value='')))"
      ]
     },
     "metadata": {},
     "output_type": "display_data"
    },
    {
     "name": "stdout",
     "output_type": "stream",
     "text": [
      " 24%|██▍       | 10/41 [00:00<00:00, 34.20it/s, loss=6.58] \n",
      "                                                          \r"
     ]
    }
   ],
   "source": [
    "lrf = learn.lr_find()"
   ]
  },
  {
   "cell_type": "code",
   "execution_count": 47,
   "metadata": {},
   "outputs": [
    {
     "data": {
      "image/png": "[encoded data removed]",
      "text/plain": [
       "<matplotlib.figure.Figure at 0x7fdf32bdef98>"
      ]
     },
     "metadata": {},
     "output_type": "display_data"
    }
   ],
   "source": [
    "learn.sched.plot_lr()"
   ]
  },
  {
   "cell_type": "code",
   "execution_count": 48,
   "metadata": {},
   "outputs": [
    {
     "data": {
      "image/png": "[encoded data removed]",
      "text/plain": [
       "<matplotlib.figure.Figure at 0x7fdf32982828>"
      ]
     },
     "metadata": {},
     "output_type": "display_data"
    }
   ],
   "source": [
    "learn.sched.plot() "
   ]
  },
  {
   "cell_type": "code",
   "execution_count": 50,
   "metadata": {},
   "outputs": [
    {
     "data": {
      "application/vnd.jupyter.widget-view+json": {
       "model_id": "da32888fe9094b77b27e9216b047e32f",
       "version_major": 2,
       "version_minor": 0
      },
      "text/html": [
       "<p>Failed to display Jupyter Widget of type <code>HBox</code>.</p>\n",
       "<p>\n",
       "  If you're reading this message in the Jupyter Notebook or JupyterLab Notebook, it may mean\n",
       "  that the widgets JavaScript is still loading. If this message persists, it\n",
       "  likely means that the widgets JavaScript library is either not installed or\n",
       "  not enabled. See the <a href=\"https://ipywidgets.readthedocs.io/en/stable/user_install.html\">Jupyter\n",
       "  Widgets Documentation</a> for setup instructions.\n",
       "</p>\n",
       "<p>\n",
       "  If you're reading this message in another frontend (for example, a static\n",
       "  rendering on GitHub or <a href=\"https://nbviewer.jupyter.org/\">NBViewer</a>),\n",
       "  it may mean that your frontend doesn't currently support widgets.\n",
       "</p>\n"
      ],
      "text/plain": [
       "HBox(children=(IntProgress(value=0, description='Epoch', max=8), HTML(value='')))"
      ]
     },
     "metadata": {},
     "output_type": "display_data"
    },
    {
     "name": "stdout",
     "output_type": "stream",
     "text": [
      "[ 0.       0.74729  0.55952  0.66193]                      \n",
      "[ 1.       0.66326  0.50032  0.79261]                      \n",
      "[ 2.       0.64766  0.59095  0.64773]                      \n",
      "[ 3.       0.63932  0.51294  0.76704]                      \n",
      "[ 4.       0.62515  0.52346  0.69602]                     \n",
      "[ 5.       0.6392   0.54949  0.74148]                      \n",
      "[ 6.       0.59203  0.53264  0.69318]                      \n",
      "[ 7.       0.55984  0.5024   0.77273]                      \n",
      "\n"
     ]
    }
   ],
   "source": [
    "learn.fit(lr, 8)\n",
    "learn.precompute=False"
   ]
  },
  {
   "cell_type": "code",
   "execution_count": 51,
   "metadata": {},
   "outputs": [
    {
     "data": {
      "application/vnd.jupyter.widget-view+json": {
       "model_id": "861ef5cd80724d39a130405c8e98d63b",
       "version_major": 2,
       "version_minor": 0
      },
      "text/html": [
       "<p>Failed to display Jupyter Widget of type <code>HBox</code>.</p>\n",
       "<p>\n",
       "  If you're reading this message in the Jupyter Notebook or JupyterLab Notebook, it may mean\n",
       "  that the widgets JavaScript is still loading. If this message persists, it\n",
       "  likely means that the widgets JavaScript library is either not installed or\n",
       "  not enabled. See the <a href=\"https://ipywidgets.readthedocs.io/en/stable/user_install.html\">Jupyter\n",
       "  Widgets Documentation</a> for setup instructions.\n",
       "</p>\n",
       "<p>\n",
       "  If you're reading this message in another frontend (for example, a static\n",
       "  rendering on GitHub or <a href=\"https://nbviewer.jupyter.org/\">NBViewer</a>),\n",
       "  it may mean that your frontend doesn't currently support widgets.\n",
       "</p>\n"
      ],
      "text/plain": [
       "HBox(children=(IntProgress(value=0, description='Epoch', max=8), HTML(value='')))"
      ]
     },
     "metadata": {},
     "output_type": "display_data"
    },
    {
     "name": "stdout",
     "output_type": "stream",
     "text": [
      "[ 0.       0.58331  0.50234  0.72159]                      \n",
      "[ 1.       0.55796  0.47582  0.76704]                      \n",
      "[ 2.       0.55608  0.47539  0.78125]                      \n",
      "[ 3.       0.55618  0.46742  0.78977]                      \n",
      "[ 4.       0.56283  0.49922  0.75284]                      \n",
      "[ 5.       0.54766  0.50126  0.68466]                      \n",
      "[ 6.       0.51581  0.46939  0.76704]                      \n",
      "[ 7.       0.52282  0.46142  0.78409]                      \n",
      "\n"
     ]
    }
   ],
   "source": [
    "learn.fit(lr, 4, cycle_len=2)"
   ]
  },
  {
   "cell_type": "code",
   "execution_count": 53,
   "metadata": {},
   "outputs": [
    {
     "data": {
      "text/plain": [
       "0.001"
      ]
     },
     "execution_count": 53,
     "metadata": {},
     "output_type": "execute_result"
    }
   ],
   "source": [
    "lr/10"
   ]
  },
  {
   "cell_type": "code",
   "execution_count": 36,
   "metadata": {},
   "outputs": [
    {
     "data": {
      "text/plain": [
       "0.0011111111111111111"
      ]
     },
     "execution_count": 36,
     "metadata": {},
     "output_type": "execute_result"
    }
   ],
   "source": [
    "lr/9"
   ]
  },
  {
   "cell_type": "code",
   "execution_count": 38,
   "metadata": {},
   "outputs": [
    {
     "data": {
      "text/plain": [
       "0.0033333333333333335"
      ]
     },
     "execution_count": 38,
     "metadata": {},
     "output_type": "execute_result"
    }
   ],
   "source": [
    "lr/3"
   ]
  },
  {
   "cell_type": "code",
   "execution_count": 39,
   "metadata": {},
   "outputs": [
    {
     "data": {
      "text/plain": [
       "0.0025"
      ]
     },
     "execution_count": 39,
     "metadata": {},
     "output_type": "execute_result"
    }
   ],
   "source": [
    "lr/4"
   ]
  },
  {
   "cell_type": "code",
   "execution_count": 54,
   "metadata": {},
   "outputs": [],
   "source": [
    "learn.unfreeze()\n",
    "lrs = np.array([lr/15,lr/12,lr/9])\n",
    "wd = 0.025\n",
    "wds=[wd/100, wd/10, wd]\n",
    "wds=[0.0025,0.025,0.25]\n"
   ]
  },
  {
   "cell_type": "code",
   "execution_count": 58,
   "metadata": {},
   "outputs": [
    {
     "data": {
      "application/vnd.jupyter.widget-view+json": {
       "model_id": "b9a8a8fa01d74dc3894b53f641eebb20",
       "version_major": 2,
       "version_minor": 0
      },
      "text/html": [
       "<p>Failed to display Jupyter Widget of type <code>HBox</code>.</p>\n",
       "<p>\n",
       "  If you're reading this message in the Jupyter Notebook or JupyterLab Notebook, it may mean\n",
       "  that the widgets JavaScript is still loading. If this message persists, it\n",
       "  likely means that the widgets JavaScript library is either not installed or\n",
       "  not enabled. See the <a href=\"https://ipywidgets.readthedocs.io/en/stable/user_install.html\">Jupyter\n",
       "  Widgets Documentation</a> for setup instructions.\n",
       "</p>\n",
       "<p>\n",
       "  If you're reading this message in another frontend (for example, a static\n",
       "  rendering on GitHub or <a href=\"https://nbviewer.jupyter.org/\">NBViewer</a>),\n",
       "  it may mean that your frontend doesn't currently support widgets.\n",
       "</p>\n"
      ],
      "text/plain": [
       "HBox(children=(IntProgress(value=0, description='Epoch', max=31), HTML(value='')))"
      ]
     },
     "metadata": {},
     "output_type": "display_data"
    },
    {
     "name": "stdout",
     "output_type": "stream",
     "text": [
      "[ 0.       0.66874  0.69314  0.53409]                      \n",
      "[ 1.       0.68564  0.69307  0.53409]                      \n",
      "[ 2.       0.69023  0.69315  0.53409]                      \n",
      "[ 3.       0.69185  0.69302  0.53409]                      \n",
      "[ 4.       0.69251  0.69312  0.53409]                      \n",
      "[ 5.       0.69286  0.69312  0.53409]                      \n",
      "[ 6.       0.69301  0.69315  0.53409]                      \n",
      "[ 7.       0.69304  0.69305  0.53409]                      \n",
      "[ 8.       0.69299  0.69297  0.53409]                      \n",
      "[ 9.       0.693    0.69308  0.53409]                      \n",
      "[ 10.        0.69306   0.69312   0.53409]                  \n",
      "[ 11.        0.69309   0.6931    0.53409]                  \n",
      "[ 12.        0.69311   0.69314   0.53409]                  \n",
      "[ 13.        0.69313   0.69314   0.53409]                  \n",
      "[ 14.        0.69314   0.69315   0.53409]                  \n",
      "[ 15.        0.6931    0.69309   0.53409]                  \n",
      "[ 16.        0.69308   0.693     0.53409]                  \n",
      "[ 17.        0.69304   0.69309   0.53409]                  \n",
      "[ 18.        0.69305   0.69307   0.53409]                  \n",
      "[ 19.        0.69305   0.69303   0.53409]                  \n",
      "[ 20.        0.69303   0.69305   0.53409]                  \n",
      "[ 21.        0.69307   0.6931    0.53409]                  \n",
      "[ 22.        0.69308   0.69307   0.53409]                  \n",
      "[ 23.        0.69307   0.69308   0.53409]                  \n",
      "[ 24.        0.69308   0.69313   0.53409]                  \n",
      "[ 25.        0.6931    0.69311   0.53409]                  \n",
      "[ 26.        0.69311   0.69312   0.53409]                  \n",
      "[ 27.        0.69312   0.69314   0.53409]                  \n",
      "[ 28.        0.69313   0.69314   0.53409]                  \n",
      "[ 29.        0.69314   0.69315   0.53409]                  \n",
      "[ 30.        0.69314   0.69315   0.53409]                  \n",
      "\n"
     ]
    }
   ],
   "source": [
    "#learn.fit(lrs, 5, cycle_len=1, cycle_mult=2)\n",
    "learn.fit(lrs, 5, cycle_len=1, cycle_mult=2,use_wd_sched=True,wds=wds)"
   ]
  },
  {
   "cell_type": "code",
   "execution_count": null,
   "metadata": {},
   "outputs": [],
   "source": []
  },
  {
   "cell_type": "code",
   "execution_count": 30,
   "metadata": {},
   "outputs": [],
   "source": [
    "learn.save('224_all_50')"
   ]
  },
  {
   "cell_type": "code",
   "execution_count": 31,
   "metadata": {},
   "outputs": [],
   "source": [
    "learn.load('224_all_50')"
   ]
  },
  {
   "cell_type": "code",
   "execution_count": 32,
   "metadata": {},
   "outputs": [
    {
     "data": {
      "image/png": "[encoded data removed]",
      "text/plain": [
       "<matplotlib.figure.Figure at 0x7fdf3f021a90>"
      ]
     },
     "metadata": {},
     "output_type": "display_data"
    }
   ],
   "source": [
    "learn.sched.plot_loss()"
   ]
  },
  {
   "cell_type": "code",
   "execution_count": 56,
   "metadata": {},
   "outputs": [
    {
     "name": "stdout",
     "output_type": "stream",
     "text": [
      "                                             \r"
     ]
    },
    {
     "data": {
      "text/plain": [
       "(0.37887625457759588, 0.84735202492211836)"
      ]
     },
     "execution_count": 56,
     "metadata": {},
     "output_type": "execute_result"
    }
   ],
   "source": [
    "log_preds,y = learn.TTA()\n",
    "preds = np.mean(np.exp(log_preds),axis=0)\n",
    "(metrics.log_loss(y,preds), accuracy(preds,y))"
   ]
  },
  {
   "cell_type": "code",
   "execution_count": null,
   "metadata": {},
   "outputs": [],
   "source": []
  },
  {
   "cell_type": "code",
   "execution_count": null,
   "metadata": {},
   "outputs": [],
   "source": []
  },
  {
   "cell_type": "code",
   "execution_count": null,
   "metadata": {},
   "outputs": [],
   "source": [
    "test_df = pd.read_json(PATH+\"/test.json\")\n",
    "helper.make_test_file(log_preds,test_df,model_name='resnext50_sz75_13_bs20_comp_band',\n",
    "                      classes=data.classes,\n",
    "                      submission_folder =f'{PATH}sub'\n",
    "                     )"
   ]
  },
  {
   "cell_type": "code",
   "execution_count": null,
   "metadata": {},
   "outputs": [],
   "source": []
  },
  {
   "cell_type": "code",
   "execution_count": null,
   "metadata": {},
   "outputs": [],
   "source": []
  }
 ],
 "metadata": {
  "kernelspec": {
   "display_name": "Python [default]",
   "language": "python",
   "name": "python3"
  },
  "language_info": {
   "codemirror_mode": {
    "name": "ipython",
    "version": 3
   },
   "file_extension": ".py",
   "mimetype": "text/x-python",
   "name": "python",
   "nbconvert_exporter": "python",
   "pygments_lexer": "ipython3",
   "version": "3.6.4"
  }
 },
 "nbformat": 4,
 "nbformat_minor": 2
}
