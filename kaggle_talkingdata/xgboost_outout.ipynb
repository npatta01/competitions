{
 "cells": [
  {
   "cell_type": "code",
   "execution_count": 1,
   "metadata": {
    "ExecuteTime": {
     "end_time": "2018-10-14T23:50:52.369066Z",
     "start_time": "2018-10-14T23:50:51.714270Z"
    },
    "papermill": {
     "duration": 1.944691,
     "end_time": "2018-10-16T03:01:20.712127",
     "exception": false,
     "start_time": "2018-10-16T03:01:18.767436",
     "status": "completed"
    },
    "tags": []
   },
   "outputs": [
    {
     "name": "stderr",
     "output_type": "stream",
     "text": [
      "/home/ubuntu/anaconda3/envs/py36/lib/python3.6/site-packages/sklearn/cross_validation.py:41: DeprecationWarning: This module was deprecated in version 0.18 in favor of the model_selection module into which all the refactored classes and functions are moved. Also note that the interface of the new CV iterators are different from that of this module. This module will be removed in 0.20.\n",
      "  \"This module will be removed in 0.20.\", DeprecationWarning)\n"
     ]
    }
   ],
   "source": [
    "import pandas as pd\n",
    "import time\n",
    "import numpy as np\n",
    "from sklearn.cross_validation import train_test_split\n",
    "import xgboost as xgb\n",
    "import os \n",
    "from sklearn.metrics import confusion_matrix, auc\n",
    "from sklearn import metrics\n",
    "from xgboost import plot_importance\n"
   ]
  },
  {
   "cell_type": "code",
   "execution_count": 2,
   "metadata": {
    "ExecuteTime": {
     "end_time": "2018-10-14T23:50:52.583756Z",
     "start_time": "2018-10-14T23:50:52.580643Z"
    },
    "collapsed": true,
    "papermill": {
     "duration": 0.022276,
     "end_time": "2018-10-16T03:01:20.735188",
     "exception": false,
     "start_time": "2018-10-16T03:01:20.712912",
     "status": "completed"
    },
    "tags": []
   },
   "outputs": [],
   "source": [
    "PATH = \"input\""
   ]
  },
  {
   "cell_type": "code",
   "execution_count": 3,
   "metadata": {
    "ExecuteTime": {
     "end_time": "2018-10-14T23:50:53.505728Z",
     "start_time": "2018-10-14T23:50:53.385676Z"
    },
    "papermill": {
     "duration": 0.136399,
     "end_time": "2018-10-16T03:01:20.911101",
     "exception": false,
     "start_time": "2018-10-16T03:01:20.774702",
     "status": "completed"
    },
    "tags": []
   },
   "outputs": [
    {
     "name": "stdout",
     "output_type": "stream",
     "text": [
      "sample_submission.csv\t   test_supplement.csv\t    train_sample.csv\r\n",
      "sample_submission.csv.zip  test_supplement.csv.zip  train_sample.csv.zip\r\n",
      "test.csv\t\t   train.csv\r\n",
      "test.csv.zip\t\t   train.csv.zip\r\n"
     ]
    }
   ],
   "source": [
    "!ls {PATH}"
   ]
  },
  {
   "cell_type": "code",
   "execution_count": 4,
   "metadata": {
    "ExecuteTime": {
     "end_time": "2018-10-14T23:50:54.075927Z",
     "start_time": "2018-10-14T23:50:54.070063Z"
    },
    "collapsed": true,
    "papermill": {
     "duration": 0.022025,
     "end_time": "2018-10-16T03:01:20.933335",
     "exception": false,
     "start_time": "2018-10-16T03:01:20.911310",
     "status": "completed"
    },
    "tags": []
   },
   "outputs": [],
   "source": [
    "def dataPreProcessTime(df):\n",
    "    df['click_time'] = pd.to_datetime(df['click_time']).dt.date\n",
    "    df['click_time'] = df['click_time'].apply(lambda x: x.strftime('%d%H%M')).astype(int)\n",
    "    \n",
    "    return df"
   ]
  },
  {
   "cell_type": "code",
   "execution_count": 5,
   "metadata": {
    "ExecuteTime": {
     "end_time": "2018-10-14T23:52:08.474718Z",
     "start_time": "2018-10-14T23:50:56.207343Z"
    },
    "papermill": {
     "duration": 88.648131,
     "end_time": "2018-10-16T03:02:49.581572",
     "exception": false,
     "start_time": "2018-10-16T03:01:20.933441",
     "status": "completed"
    },
    "tags": []
   },
   "outputs": [
    {
     "name": "stdout",
     "output_type": "stream",
     "text": [
      "reading data\n"
     ]
    },
    {
     "name": "stderr",
     "output_type": "stream",
     "text": [
      "/home/ubuntu/anaconda3/envs/py36/lib/python3.6/site-packages/IPython/core/interactiveshell.py:2698: DtypeWarning: Columns (6) have mixed types. Specify dtype option on import or set low_memory=False.\n",
      "  interactivity=interactivity, compiler=compiler, result=result)\n"
     ]
    }
   ],
   "source": [
    "start_time = time.time()\n",
    "\n",
    "print(\"reading data\")\n",
    "train = pd.read_csv(PATH+\"/train.csv\", skiprows=147403891, nrows=37500000) \n",
    "# nrows in \"train.csv\" is: 184903891\n",
    "train.columns = ['ip', 'app', 'device', 'os', 'channel', 'click_time', 'attributed_time', 'is_attributed']\n",
    "test = pd.read_csv(PATH+\"/test.csv\")\n",
    "\n"
   ]
  },
  {
   "cell_type": "code",
   "execution_count": 6,
   "metadata": {
    "ExecuteTime": {
     "end_time": "2018-10-14T23:55:14.566842Z",
     "start_time": "2018-10-14T23:52:08.477151Z"
    },
    "papermill": {
     "duration": 164.279441,
     "end_time": "2018-10-16T03:05:33.861204",
     "exception": false,
     "start_time": "2018-10-16T03:02:49.581763",
     "status": "completed"
    },
    "tags": []
   },
   "outputs": [
    {
     "name": "stdout",
     "output_type": "stream",
     "text": [
      "[88.64120650291443] Finished to load data\n"
     ]
    }
   ],
   "source": [
    "print('[{}] Finished to load data'.format(time.time() - start_time))\n",
    "\n",
    "train = dataPreProcessTime(train)\n",
    "test = dataPreProcessTime(test)"
   ]
  },
  {
   "cell_type": "code",
   "execution_count": 7,
   "metadata": {
    "ExecuteTime": {
     "end_time": "2018-10-14T23:55:14.794205Z",
     "start_time": "2018-10-14T23:55:14.569506Z"
    },
    "papermill": {
     "duration": 0.21123,
     "end_time": "2018-10-16T03:05:34.072629",
     "exception": false,
     "start_time": "2018-10-16T03:05:33.861399",
     "status": "completed"
    },
    "tags": []
   },
   "outputs": [
    {
     "name": "stdout",
     "output_type": "stream",
     "text": [
      "input\t\tsub_xgb_hist_pos_weight.csv.gz\txgboost.ipynb\r\n",
      "lightgbm.ipynb\ttree.ipynb\t\t\txgboost_outout.ipynb\r\n"
     ]
    }
   ],
   "source": [
    "!ls"
   ]
  },
  {
   "cell_type": "code",
   "execution_count": 8,
   "metadata": {
    "ExecuteTime": {
     "end_time": "2018-10-14T23:55:24.093906Z",
     "start_time": "2018-10-14T23:55:14.797139Z"
    },
    "collapsed": true,
    "papermill": {
     "duration": 9.008092,
     "end_time": "2018-10-16T03:05:43.080892",
     "exception": false,
     "start_time": "2018-10-16T03:05:34.072800",
     "status": "completed"
    },
    "tags": []
   },
   "outputs": [],
   "source": [
    "y = train['is_attributed']\n",
    "train.drop(['ip', 'is_attributed', 'attributed_time'], axis=1, inplace=True)\n",
    "\n",
    "sub = pd.DataFrame()\n",
    "sub['click_id'] = test['click_id']\n",
    "test.drop(['ip', 'click_id'], axis=1, inplace=True)"
   ]
  },
  {
   "cell_type": "code",
   "execution_count": null,
   "metadata": {
    "collapsed": true,
    "papermill": {
     "duration": 3e-06,
     "end_time": "2018-10-16T03:05:43.081102",
     "exception": null,
     "start_time": "2018-10-16T03:05:43.081099",
     "status": "completed"
    },
    "tags": []
   },
   "outputs": [],
   "source": []
  },
  {
   "cell_type": "code",
   "execution_count": 9,
   "metadata": {
    "ExecuteTime": {
     "end_time": "2018-10-14T23:55:24.123341Z",
     "start_time": "2018-10-14T23:55:24.096312Z"
    },
    "papermill": {
     "duration": 0.027296,
     "end_time": "2018-10-16T03:05:43.127433",
     "exception": false,
     "start_time": "2018-10-16T03:05:43.100137",
     "status": "completed"
    },
    "tags": []
   },
   "outputs": [
    {
     "name": "stdout",
     "output_type": "stream",
     "text": [
      "training set | data types: \n",
      "<class 'pandas.core.frame.DataFrame'>\n",
      "RangeIndex: 37499999 entries, 0 to 37499998\n",
      "Data columns (total 5 columns):\n",
      "app           int64\n",
      "device        int64\n",
      "os            int64\n",
      "channel       int64\n",
      "click_time    int64\n",
      "dtypes: int64(5)\n",
      "memory usage: 1.4 GB\n",
      "None\n",
      "train size:  37499999\n",
      "test size:  18790469\n",
      "[262.17932391166687] Start XGBoost Training\n"
     ]
    }
   ],
   "source": [
    "print(\"training set | data types: \")\n",
    "print(train.info())\n",
    "print(\"train size: \", len(train))\n",
    "print(\"test size: \", len(test))\n",
    "\n",
    "print('[{}] Start XGBoost Training'.format(time.time() - start_time))"
   ]
  },
  {
   "cell_type": "code",
   "execution_count": null,
   "metadata": {
    "collapsed": true,
    "papermill": {
     "duration": 3e-06,
     "end_time": "2018-10-16T03:05:43.127504",
     "exception": null,
     "start_time": "2018-10-16T03:05:43.127501",
     "status": "completed"
    },
    "tags": []
   },
   "outputs": [],
   "source": []
  },
  {
   "cell_type": "code",
   "execution_count": null,
   "metadata": {
    "ExecuteTime": {
     "end_time": "2018-10-14T23:57:05.653669Z",
     "start_time": "2018-10-14T23:56:39.442355Z"
    },
    "collapsed": true,
    "papermill": {
     "duration": null,
     "end_time": null,
     "exception": null,
     "start_time": null,
     "status": "running"
    },
    "tags": []
   },
   "outputs": [],
   "source": [
    "params = {'eta': 0.6, \n",
    "          'tree_method': \"hist\",      # Fast histogram optimized approximate greedy algorithm. \n",
    "          'grow_policy': \"lossguide\", # split at nodes with highest loss change\n",
    "          'max_leaves': 1400,         # Maximum number of nodes to be added. (for lossguide grow policy | custom number: 2^max_depth(~10.5))\n",
    "          'max_depth': 0,             # 0 means no limit (useful only for depth wise grow policy)\n",
    "          'subsample': 0.9,           \n",
    "          'colsample_bytree': 0.7, \n",
    "          'colsample_bylevel':0.7,\n",
    "          'min_child_weight':0,       # The larger, the more conservative the algorithm will be\n",
    "          'alpha':4,\n",
    "          'objective': 'binary:logistic', \n",
    "      #    'scale_pos_weight':9,       # because training data is extremely unbalanced \n",
    "          'eval_metric': 'auc', \n",
    "          'nthread':8,\n",
    "          'random_state': 84, \n",
    "          'silent': True}\n",
    "\n",
    "          \n",
    "x1, x2, y1, y2 = train_test_split(train, y, test_size=0.1, random_state=84)\n",
    "\n",
    "# watch list to observe the change in error in training and validation data\n",
    "watchlist = [(xgb.DMatrix(x1, y1), 'train'), (xgb.DMatrix(x2, y2), 'valid')]\n",
    "\n"
   ]
  },
  {
   "cell_type": "code",
   "execution_count": null,
   "metadata": {
    "ExecuteTime": {
     "end_time": "2018-10-14T23:57:05.675231Z",
     "start_time": "2018-10-14T23:57:05.656251Z"
    },
    "papermill": {
     "duration": null,
     "end_time": null,
     "exception": null,
     "start_time": null,
     "status": "pending"
    },
    "tags": []
   },
   "outputs": [],
   "source": [
    "x1.head()"
   ]
  },
  {
   "cell_type": "code",
   "execution_count": null,
   "metadata": {
    "ExecuteTime": {
     "end_time": "2018-10-15T00:06:32.167790Z",
     "start_time": "2018-10-15T00:06:32.162124Z"
    },
    "papermill": {
     "duration": null,
     "end_time": null,
     "exception": null,
     "start_time": null,
     "status": "pending"
    },
    "tags": []
   },
   "outputs": [],
   "source": [
    "params = {\n",
    "          'objective': 'binary:logistic', \n",
    "          'eval_metric': 'auc', \n",
    "          'random_state': 84, \n",
    "          'silent': True}\n",
    "\n"
   ]
  },
  {
   "cell_type": "code",
   "execution_count": null,
   "metadata": {
    "ExecuteTime": {
     "end_time": "2018-10-15T00:36:35.905974Z",
     "start_time": "2018-10-15T00:36:35.899628Z"
    },
    "collapsed": true,
    "papermill": {
     "duration": null,
     "end_time": null,
     "exception": null,
     "start_time": null,
     "status": "pending"
    },
    "tags": []
   },
   "outputs": [],
   "source": [
    "?xgb.train"
   ]
  },
  {
   "cell_type": "code",
   "execution_count": null,
   "metadata": {
    "ExecuteTime": {
     "end_time": "2018-10-15T00:16:46.590569Z",
     "start_time": "2018-10-15T00:06:33.070490Z"
    },
    "papermill": {
     "duration": null,
     "end_time": null,
     "exception": null,
     "start_time": null,
     "status": "pending"
    },
    "tags": []
   },
   "outputs": [],
   "source": [
    "model = xgb.train(params, xgb.DMatrix(x1, y1), num_boost_round=50, evals=watchlist, maximize=True, \n",
    "                  early_stopping_rounds = 10, verbose_eval=1)\n",
    "\n",
    "print('[{}] Finish XGBoost Training'.format(time.time() - start_time))\n",
    "\n"
   ]
  },
  {
   "cell_type": "code",
   "execution_count": null,
   "metadata": {
    "ExecuteTime": {
     "end_time": "2018-10-15T00:22:37.405835Z",
     "start_time": "2018-10-15T00:20:07.544599Z"
    },
    "collapsed": true,
    "papermill": {
     "duration": null,
     "end_time": null,
     "exception": null,
     "start_time": null,
     "status": "pending"
    },
    "tags": []
   },
   "outputs": [],
   "source": [
    "sub['is_attributed'] = model.predict(xgb.DMatrix(test), ntree_limit=model.best_ntree_limit)\n",
    "sub.to_csv('sub_xgb_hist_pos_weight.csv.gz',index=False,compression=\"gzip\")"
   ]
  },
  {
   "cell_type": "code",
   "execution_count": null,
   "metadata": {
    "ExecuteTime": {
     "end_time": "2018-10-15T00:22:37.416147Z",
     "start_time": "2018-10-15T00:22:37.409493Z"
    },
    "papermill": {
     "duration": null,
     "end_time": null,
     "exception": null,
     "start_time": null,
     "status": "pending"
    },
    "tags": []
   },
   "outputs": [],
   "source": [
    "len(train)"
   ]
  },
  {
   "cell_type": "code",
   "execution_count": null,
   "metadata": {
    "ExecuteTime": {
     "end_time": "2018-10-15T00:22:37.437732Z",
     "start_time": "2018-10-15T00:22:37.419043Z"
    },
    "papermill": {
     "duration": null,
     "end_time": null,
     "exception": null,
     "start_time": null,
     "status": "pending"
    },
    "tags": []
   },
   "outputs": [],
   "source": [
    "len(train.columns)"
   ]
  },
  {
   "cell_type": "code",
   "execution_count": null,
   "metadata": {
    "ExecuteTime": {
     "end_time": "2018-10-15T00:22:37.444944Z",
     "start_time": "2018-10-15T00:22:37.440137Z"
    },
    "papermill": {
     "duration": null,
     "end_time": null,
     "exception": null,
     "start_time": null,
     "status": "pending"
    },
    "tags": []
   },
   "outputs": [],
   "source": [
    "train.shape"
   ]
  },
  {
   "cell_type": "code",
   "execution_count": null,
   "metadata": {
    "ExecuteTime": {
     "end_time": "2018-10-15T00:22:37.457883Z",
     "start_time": "2018-10-15T00:22:37.447121Z"
    },
    "papermill": {
     "duration": null,
     "end_time": null,
     "exception": null,
     "start_time": null,
     "status": "pending"
    },
    "tags": []
   },
   "outputs": [],
   "source": [
    "train.head()"
   ]
  },
  {
   "cell_type": "code",
   "execution_count": null,
   "metadata": {
    "ExecuteTime": {
     "end_time": "2018-10-15T00:22:37.996617Z",
     "start_time": "2018-10-15T00:22:37.460026Z"
    },
    "papermill": {
     "duration": null,
     "end_time": null,
     "exception": null,
     "start_time": null,
     "status": "pending"
    },
    "tags": []
   },
   "outputs": [],
   "source": [
    "y.value_counts()"
   ]
  },
  {
   "cell_type": "code",
   "execution_count": null,
   "metadata": {
    "ExecuteTime": {
     "end_time": "2018-10-15T00:22:38.032053Z",
     "start_time": "2018-10-15T00:22:37.998501Z"
    },
    "collapsed": true,
    "papermill": {
     "duration": null,
     "end_time": null,
     "exception": null,
     "start_time": null,
     "status": "pending"
    },
    "tags": []
   },
   "outputs": [],
   "source": [
    "?model.predict"
   ]
  },
  {
   "cell_type": "code",
   "execution_count": null,
   "metadata": {
    "ExecuteTime": {
     "end_time": "2018-10-15T00:22:39.168965Z",
     "start_time": "2018-10-15T00:22:38.034593Z"
    },
    "collapsed": true,
    "papermill": {
     "duration": null,
     "end_time": null,
     "exception": null,
     "start_time": null,
     "status": "pending"
    },
    "tags": []
   },
   "outputs": [],
   "source": [
    "y_pred = model.predict(xgb.DMatrix(x2), ntree_limit=model.best_ntree_limit)"
   ]
  },
  {
   "cell_type": "code",
   "execution_count": null,
   "metadata": {
    "ExecuteTime": {
     "end_time": "2018-10-15T00:22:39.176555Z",
     "start_time": "2018-10-15T00:22:39.171298Z"
    },
    "papermill": {
     "duration": null,
     "end_time": null,
     "exception": null,
     "start_time": null,
     "status": "pending"
    },
    "tags": []
   },
   "outputs": [],
   "source": [
    "y_pred"
   ]
  },
  {
   "cell_type": "code",
   "execution_count": null,
   "metadata": {
    "ExecuteTime": {
     "end_time": "2018-10-15T00:22:47.695388Z",
     "start_time": "2018-10-15T00:22:39.178661Z"
    },
    "papermill": {
     "duration": null,
     "end_time": null,
     "exception": null,
     "start_time": null,
     "status": "pending"
    },
    "tags": []
   },
   "outputs": [],
   "source": [
    "cm = confusion_matrix(y2, (y_pred>0.5))\n",
    "cm"
   ]
  },
  {
   "cell_type": "code",
   "execution_count": null,
   "metadata": {
    "ExecuteTime": {
     "end_time": "2018-10-15T00:22:47.703005Z",
     "start_time": "2018-10-15T00:22:47.698348Z"
    },
    "papermill": {
     "duration": null,
     "end_time": null,
     "exception": null,
     "start_time": null,
     "status": "pending"
    },
    "tags": []
   },
   "outputs": [],
   "source": [
    "(3721139+6527)/ (len(y2))"
   ]
  },
  {
   "cell_type": "code",
   "execution_count": null,
   "metadata": {
    "ExecuteTime": {
     "end_time": "2018-10-15T00:22:47.710221Z",
     "start_time": "2018-10-15T00:22:47.705461Z"
    },
    "papermill": {
     "duration": null,
     "end_time": null,
     "exception": null,
     "start_time": null,
     "status": "pending"
    },
    "tags": []
   },
   "outputs": [],
   "source": [
    "(3721139)/ (len(y2))"
   ]
  },
  {
   "cell_type": "code",
   "execution_count": null,
   "metadata": {
    "collapsed": true,
    "papermill": {
     "duration": null,
     "end_time": null,
     "exception": null,
     "start_time": null,
     "status": "pending"
    },
    "tags": []
   },
   "outputs": [],
   "source": []
  },
  {
   "cell_type": "code",
   "execution_count": null,
   "metadata": {
    "ExecuteTime": {
     "end_time": "2018-10-15T00:22:47.719213Z",
     "start_time": "2018-10-15T00:22:47.712553Z"
    },
    "collapsed": true,
    "papermill": {
     "duration": null,
     "end_time": null,
     "exception": null,
     "start_time": null,
     "status": "pending"
    },
    "tags": []
   },
   "outputs": [],
   "source": [
    "baseline_predictions = np.zeros(len(y2))"
   ]
  },
  {
   "cell_type": "code",
   "execution_count": null,
   "metadata": {
    "collapsed": true,
    "papermill": {
     "duration": null,
     "end_time": null,
     "exception": null,
     "start_time": null,
     "status": "pending"
    },
    "tags": []
   },
   "outputs": [],
   "source": []
  },
  {
   "cell_type": "code",
   "execution_count": null,
   "metadata": {
    "ExecuteTime": {
     "end_time": "2018-10-15T00:22:48.093639Z",
     "start_time": "2018-10-15T00:22:47.721362Z"
    },
    "papermill": {
     "duration": null,
     "end_time": null,
     "exception": null,
     "start_time": null,
     "status": "pending"
    },
    "tags": []
   },
   "outputs": [],
   "source": [
    "fpr, tpr, thresholds = metrics.roc_curve(y2, baseline_predictions)\n",
    "metrics.auc(fpr, tpr)\n"
   ]
  },
  {
   "cell_type": "code",
   "execution_count": null,
   "metadata": {
    "ExecuteTime": {
     "end_time": "2018-10-15T00:22:49.027813Z",
     "start_time": "2018-10-15T00:22:48.095780Z"
    },
    "papermill": {
     "duration": null,
     "end_time": null,
     "exception": null,
     "start_time": null,
     "status": "pending"
    },
    "tags": []
   },
   "outputs": [],
   "source": [
    "fpr, tpr, thresholds = metrics.roc_curve(y2, y_pred)\n",
    "metrics.auc(fpr, tpr)"
   ]
  },
  {
   "cell_type": "code",
   "execution_count": null,
   "metadata": {
    "collapsed": true,
    "papermill": {
     "duration": null,
     "end_time": null,
     "exception": null,
     "start_time": null,
     "status": "pending"
    },
    "tags": []
   },
   "outputs": [],
   "source": [
    "?metrics.roc_curve"
   ]
  },
  {
   "cell_type": "code",
   "execution_count": null,
   "metadata": {
    "ExecuteTime": {
     "end_time": "2018-10-14T23:01:42.653820Z",
     "start_time": "2018-10-14T23:01:41.344309Z"
    },
    "papermill": {
     "duration": null,
     "end_time": null,
     "exception": null,
     "start_time": null,
     "status": "pending"
    },
    "tags": []
   },
   "outputs": [],
   "source": [
    "plot_importance(model)"
   ]
  },
  {
   "cell_type": "code",
   "execution_count": null,
   "metadata": {
    "collapsed": true,
    "papermill": {
     "duration": null,
     "end_time": null,
     "exception": null,
     "start_time": null,
     "status": "pending"
    },
    "tags": []
   },
   "outputs": [],
   "source": [
    "?plot_importance"
   ]
  },
  {
   "cell_type": "code",
   "execution_count": null,
   "metadata": {
    "ExecuteTime": {
     "end_time": "2018-10-14T23:01:42.778910Z",
     "start_time": "2018-10-14T23:01:42.655680Z"
    },
    "papermill": {
     "duration": null,
     "end_time": null,
     "exception": null,
     "start_time": null,
     "status": "pending"
    },
    "tags": []
   },
   "outputs": [],
   "source": [
    "model.get_split_value_histogram()"
   ]
  },
  {
   "cell_type": "code",
   "execution_count": null,
   "metadata": {
    "ExecuteTime": {
     "end_time": "2018-10-14T23:03:09.355901Z",
     "start_time": "2018-10-14T23:03:09.352438Z"
    },
    "collapsed": true,
    "papermill": {
     "duration": null,
     "end_time": null,
     "exception": null,
     "start_time": null,
     "status": "pending"
    },
    "tags": []
   },
   "outputs": [],
   "source": [
    "import matplotlib.pyplot as plt\n"
   ]
  },
  {
   "cell_type": "code",
   "execution_count": null,
   "metadata": {
    "ExecuteTime": {
     "start_time": "2018-10-14T23:03:09.555Z"
    },
    "collapsed": true,
    "papermill": {
     "duration": null,
     "end_time": null,
     "exception": null,
     "start_time": null,
     "status": "pending"
    },
    "tags": []
   },
   "outputs": [],
   "source": [
    "fig, ax = plt.subplots(figsize=(800, 800))\n",
    "xgb.plot_tree(model, num_trees=4, ax=ax)\n",
    "plt.show()"
   ]
  },
  {
   "cell_type": "code",
   "execution_count": null,
   "metadata": {
    "collapsed": true,
    "papermill": {
     "duration": null,
     "end_time": null,
     "exception": null,
     "start_time": null,
     "status": "pending"
    },
    "tags": []
   },
   "outputs": [],
   "source": []
  }
 ],
 "metadata": {
  "kernelspec": {
   "display_name": "Python 3",
   "language": "python",
   "name": "python3"
  },
  "language_info": {
   "codemirror_mode": {
    "name": "ipython",
    "version": 3
   },
   "file_extension": ".py",
   "mimetype": "text/x-python",
   "name": "python",
   "nbconvert_exporter": "python",
   "pygments_lexer": "ipython3",
   "version": "3.5.3"
  },
  "papermill": {
   "environment_variables": {},
   "output_path": "xgboost_outout.ipynb",
   "parameters": {},
   "version": "0.15.1"
  }
 },
 "nbformat": 4,
 "nbformat_minor": 2
}