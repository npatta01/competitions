{
 "cells": [
  {
   "cell_type": "markdown",
   "metadata": {},
   "source": [
    "# Kaggle Competition:  Iceberg or Ship"
   ]
  },
  {
   "cell_type": "markdown",
   "metadata": {},
   "source": [
    "# resnext50 architecture \n",
    "\n",
    "## start with image size of 75, increase epochs, update size recurrently\n"
   ]
  },
  {
   "cell_type": "markdown",
   "metadata": {},
   "source": [
    "---\n",
    "## Import libraries"
   ]
  },
  {
   "cell_type": "code",
   "execution_count": 1,
   "metadata": {},
   "outputs": [
    {
     "name": "stdout",
     "output_type": "stream",
     "text": [
      "total 5040\r\n",
      "-rw-rw-r-- 1 ubuntu ubuntu 1405706 Jan 15 01:35 1b_getdata-csv.ipynb\r\n",
      "-rw-rw-r-- 1 ubuntu ubuntu  625023 Jan 14 18:47 1_getdata.ipynb\r\n",
      "-rw-rw-r-- 1 ubuntu ubuntu  245619 Jan 14 18:36 2_model_resnet34.ipynb\r\n",
      "-rw-rw-r-- 1 ubuntu ubuntu   13742 Jan 15 01:35 3_model_resnext50.ipynb\r\n",
      "-rw-rw-r-- 1 ubuntu ubuntu   14220 Jan 13 21:14 4_model_nasnet.ipynb\r\n",
      "-rw-rw-r-- 1 ubuntu ubuntu   64965 Jan 14 19:40 4_resnext_resize.ipynb\r\n",
      "-rw-rw-r-- 1 ubuntu ubuntu  147078 Jan 14 19:57 5_resnet18_resize.ipynb\r\n",
      "-rw-rw-r-- 1 ubuntu ubuntu  138629 Jan 14 19:52 6_resnext50_resize.ipynb\r\n",
      "-rw-rw-r-- 1 ubuntu ubuntu  205624 Jan 20 20:02 7_1_resnext50_more_epoch_submitted.ipynb\r\n",
      "-rw-rw-r-- 1 ubuntu ubuntu  210001 Jan 15 18:51 7_2_resnext50_more_epoch.ipynb\r\n",
      "-rw-rw-r-- 1 ubuntu ubuntu  254485 Jan 20 19:51 7_5_resnext50_more_epoch_update_sz.ipynb\r\n",
      "-rw-rw-r-- 1 ubuntu ubuntu  253300 Jan 20 20:00 7_6_resnext50_more_epoch_update_sz.ipynb\r\n",
      "-rw-rw-r-- 1 ubuntu ubuntu  251697 Jan 20 20:08 7_7_resnext50_more_epoch_update_sz_zm15.ipynb\r\n",
      "-rw-rw-r-- 1 ubuntu ubuntu  179449 Jan 14 21:28 7_resnext50_sz_100.ipynb\r\n",
      "-rw-rw-r-- 1 ubuntu ubuntu  201400 Jan 15 02:17 8_resnext50_more_epoch_sz300.ipynb\r\n",
      "-rw-rw-r-- 1 ubuntu ubuntu  137540 Jan 14 18:36 baseline.ipynb\r\n",
      "-rw-rw-r-- 1 ubuntu ubuntu    3299 Jan 15 01:35 helper.py\r\n",
      "-rw-rw-r-- 1 ubuntu ubuntu  767392 Jan 14 18:36 other_groverpr.ipynb\r\n",
      "drwxrwxr-x 2 ubuntu ubuntu    4096 Jan 15 01:42 __pycache__\r\n",
      "-rw-rw-r-- 1 ubuntu ubuntu    1492 Jan 15 14:56 README.md\r\n"
     ]
    }
   ],
   "source": [
    "!ls -l"
   ]
  },
  {
   "cell_type": "code",
   "execution_count": 2,
   "metadata": {},
   "outputs": [],
   "source": [
    "# Put these at the top of every notebook, to get automatic reloading and inline plotting\n",
    "%reload_ext autoreload\n",
    "%autoreload 2\n",
    "%matplotlib inline"
   ]
  },
  {
   "cell_type": "code",
   "execution_count": 3,
   "metadata": {},
   "outputs": [],
   "source": [
    "from fastai.imports import *"
   ]
  },
  {
   "cell_type": "code",
   "execution_count": 4,
   "metadata": {},
   "outputs": [],
   "source": [
    "# This file contains all the main external libs we'll use\n",
    "from fastai.imports import *\n",
    "from fastai.transforms import *\n",
    "from fastai.conv_learner import *\n",
    "from fastai.model import *\n",
    "from fastai.dataset import *\n",
    "from fastai.sgdr import *\n",
    "from fastai.plots import *\n",
    "import pandas as pd\n",
    "import numpy as np\n",
    "import shutil\n",
    "from IPython.display import FileLink, FileLinks\n",
    "\n",
    "from sklearn.model_selection import train_test_split\n",
    "import helper"
   ]
  },
  {
   "cell_type": "code",
   "execution_count": 5,
   "metadata": {},
   "outputs": [],
   "source": [
    "#PATH = \"/home/nidhin/data/iceberg/\"\n",
    "PATH = os.path.expanduser(\"~/data/iceberg/\")"
   ]
  },
  {
   "cell_type": "code",
   "execution_count": 6,
   "metadata": {},
   "outputs": [
    {
     "name": "stdout",
     "output_type": "stream",
     "text": [
      "total 1973264\r\n",
      "drwxrwxr-x  2 ubuntu ubuntu       4096 Jan  9 00:38 models\r\n",
      "-rw-rw-r--  1 ubuntu ubuntu     117951 Oct 23 17:27 sample_submission.csv\r\n",
      "-rw-rw-r--  1 ubuntu ubuntu      38566 Jan  7 20:36 sample_submission.csv.7z\r\n",
      "drwxrwxr-x  2 ubuntu ubuntu       4096 Jan 20 19:56 sub\r\n",
      "drwxrwxr-x  2 ubuntu ubuntu     274432 Jan 14 18:44 test\r\n",
      "-rw-rw-r--  1 ubuntu ubuntu 1521771850 Oct 23 17:27 test.json\r\n",
      "-rw-rw-r--  1 ubuntu ubuntu  257127394 Jan  7 20:36 test.json.7z\r\n",
      "drwxrwxr-x 13 ubuntu ubuntu       4096 Jan 15 16:52 tmp\r\n",
      "drwxrwxr-x  4 ubuntu ubuntu       4096 Jan 14 18:43 train\r\n",
      "-rw-rw-r--  1 ubuntu ubuntu  196313674 Oct 23 17:23 train.json\r\n",
      "-rw-rw-r--  1 ubuntu ubuntu   44932785 Jan  7 20:36 train.json.7z\r\n",
      "drwxrwxr-x  4 ubuntu ubuntu       4096 Jan 14 18:43 valid\r\n"
     ]
    }
   ],
   "source": [
    "!ls -l {PATH}"
   ]
  },
  {
   "cell_type": "code",
   "execution_count": 7,
   "metadata": {},
   "outputs": [],
   "source": [
    "np.random.seed(0)"
   ]
  },
  {
   "cell_type": "markdown",
   "metadata": {},
   "source": [
    "## Set Architecture"
   ]
  },
  {
   "cell_type": "code",
   "execution_count": 9,
   "metadata": {},
   "outputs": [],
   "source": [
    "arch=resnext50\n",
    "sz=75\n",
    "bs=32\n",
    "lr = 0.0075"
   ]
  },
  {
   "cell_type": "code",
   "execution_count": 10,
   "metadata": {},
   "outputs": [
    {
     "data": {
      "application/vnd.jupyter.widget-view+json": {
       "model_id": "21e60df317e0462d839050fe607ffba2",
       "version_major": 2,
       "version_minor": 0
      },
      "text/html": [
       "<p>Failed to display Jupyter Widget of type <code>HBox</code>.</p>\n",
       "<p>\n",
       "  If you're reading this message in the Jupyter Notebook or JupyterLab Notebook, it may mean\n",
       "  that the widgets JavaScript is still loading. If this message persists, it\n",
       "  likely means that the widgets JavaScript library is either not installed or\n",
       "  not enabled. See the <a href=\"https://ipywidgets.readthedocs.io/en/stable/user_install.html\">Jupyter\n",
       "  Widgets Documentation</a> for setup instructions.\n",
       "</p>\n",
       "<p>\n",
       "  If you're reading this message in another frontend (for example, a static\n",
       "  rendering on GitHub or <a href=\"https://nbviewer.jupyter.org/\">NBViewer</a>),\n",
       "  it may mean that your frontend doesn't currently support widgets.\n",
       "</p>\n"
      ],
      "text/plain": [
       "HBox(children=(IntProgress(value=0, max=6), HTML(value='')))"
      ]
     },
     "metadata": {},
     "output_type": "display_data"
    },
    {
     "name": "stdout",
     "output_type": "stream",
     "text": [
      "\n"
     ]
    }
   ],
   "source": [
    "def get_data(sz, bs):\n",
    "    tfms = tfms_from_model(arch, sz, aug_tfms=transforms_top_down, max_zoom=1.10)\n",
    "    data = ImageClassifierData.from_paths(PATH, tfms=tfms, bs=bs,test_name='test')\n",
    "    return data\n",
    "\n",
    "data = get_data(sz, bs)\n",
    "data = data.resize(int(sz*1.5), 'tmp')"
   ]
  },
  {
   "cell_type": "code",
   "execution_count": 11,
   "metadata": {},
   "outputs": [],
   "source": [
    "#tfms = tfms_from_model(arch, sz, aug_tfms=transforms_side_on, max_zoom=1.1)\n",
    "#data = ImageClassifierData.from_paths(PATH, tfms=tfms, bs=bs,test_name='test',)\n",
    "\n",
    "learn = ConvLearner.pretrained(arch, data, precompute=True, ps=0.55)"
   ]
  },
  {
   "cell_type": "markdown",
   "metadata": {},
   "source": [
    "### Learning Rate Finder"
   ]
  },
  {
   "cell_type": "code",
   "execution_count": 12,
   "metadata": {},
   "outputs": [
    {
     "data": {
      "application/vnd.jupyter.widget-view+json": {
       "model_id": "8ae7e3063d744100b84276c4b676cf40",
       "version_major": 2,
       "version_minor": 0
      },
      "text/html": [
       "<p>Failed to display Jupyter Widget of type <code>HBox</code>.</p>\n",
       "<p>\n",
       "  If you're reading this message in the Jupyter Notebook or JupyterLab Notebook, it may mean\n",
       "  that the widgets JavaScript is still loading. If this message persists, it\n",
       "  likely means that the widgets JavaScript library is either not installed or\n",
       "  not enabled. See the <a href=\"https://ipywidgets.readthedocs.io/en/stable/user_install.html\">Jupyter\n",
       "  Widgets Documentation</a> for setup instructions.\n",
       "</p>\n",
       "<p>\n",
       "  If you're reading this message in another frontend (for example, a static\n",
       "  rendering on GitHub or <a href=\"https://nbviewer.jupyter.org/\">NBViewer</a>),\n",
       "  it may mean that your frontend doesn't currently support widgets.\n",
       "</p>\n"
      ],
      "text/plain": [
       "HBox(children=(IntProgress(value=0, description='Epoch', max=1), HTML(value='')))"
      ]
     },
     "metadata": {},
     "output_type": "display_data"
    },
    {
     "name": "stdout",
     "output_type": "stream",
     "text": [
      " 59%|█████▊    | 24/41 [00:00<00:00, 25.30it/s, loss=3.75] \n",
      "                                                          \r"
     ]
    }
   ],
   "source": [
    "lrf = learn.lr_find()"
   ]
  },
  {
   "cell_type": "code",
   "execution_count": 13,
   "metadata": {},
   "outputs": [
    {
     "data": {
      "image/png": "[encoded data removed]",
      "text/plain": [
       "<matplotlib.figure.Figure at 0x7f523bbe7898>"
      ]
     },
     "metadata": {},
     "output_type": "display_data"
    }
   ],
   "source": [
    "learn.sched.plot_lr()"
   ]
  },
  {
   "cell_type": "code",
   "execution_count": 14,
   "metadata": {},
   "outputs": [
    {
     "data": {
      "image/png": "[encoded data removed]",
      "text/plain": [
       "<matplotlib.figure.Figure at 0x7f51f07d05c0>"
      ]
     },
     "metadata": {},
     "output_type": "display_data"
    }
   ],
   "source": [
    "learn.sched.plot() "
   ]
  },
  {
   "cell_type": "code",
   "execution_count": 15,
   "metadata": {},
   "outputs": [
    {
     "data": {
      "application/vnd.jupyter.widget-view+json": {
       "model_id": "22dbd245a4234b72838e18a1c827a97c",
       "version_major": 2,
       "version_minor": 0
      },
      "text/html": [
       "<p>Failed to display Jupyter Widget of type <code>HBox</code>.</p>\n",
       "<p>\n",
       "  If you're reading this message in the Jupyter Notebook or JupyterLab Notebook, it may mean\n",
       "  that the widgets JavaScript is still loading. If this message persists, it\n",
       "  likely means that the widgets JavaScript library is either not installed or\n",
       "  not enabled. See the <a href=\"https://ipywidgets.readthedocs.io/en/stable/user_install.html\">Jupyter\n",
       "  Widgets Documentation</a> for setup instructions.\n",
       "</p>\n",
       "<p>\n",
       "  If you're reading this message in another frontend (for example, a static\n",
       "  rendering on GitHub or <a href=\"https://nbviewer.jupyter.org/\">NBViewer</a>),\n",
       "  it may mean that your frontend doesn't currently support widgets.\n",
       "</p>\n"
      ],
      "text/plain": [
       "HBox(children=(IntProgress(value=0, description='Epoch', max=9), HTML(value='')))"
      ]
     },
     "metadata": {},
     "output_type": "display_data"
    },
    {
     "name": "stdout",
     "output_type": "stream",
     "text": [
      "[0.      0.56242 0.42304 0.74148]                          \n",
      "[1.      0.54477 0.44945 0.71875]                          \n",
      "[2.      0.47914 0.46782 0.75   ]                          \n",
      "[3.      0.47397 0.45006 0.71875]                          \n",
      "[4.      0.44333 0.43626 0.74432]                          \n",
      "[5.      0.41688 0.3968  0.82102]                          \n",
      "[6.      0.3809  0.37042 0.84091]                          \n",
      "[7.      0.36076 0.42916 0.73864]                          \n",
      "[8.      0.39199 0.38693 0.80682]                          \n",
      "\n"
     ]
    }
   ],
   "source": [
    "learn.fit(lr, 9)\n",
    "learn.precompute=False"
   ]
  },
  {
   "cell_type": "markdown",
   "metadata": {},
   "source": [
    "### Stochastic Gradient Descent with Restart"
   ]
  },
  {
   "cell_type": "code",
   "execution_count": 16,
   "metadata": {},
   "outputs": [],
   "source": [
    "lr = 0.0075"
   ]
  },
  {
   "cell_type": "code",
   "execution_count": 17,
   "metadata": {},
   "outputs": [
    {
     "data": {
      "application/vnd.jupyter.widget-view+json": {
       "model_id": "9899818acd394ace856c7a1f9ac42c48",
       "version_major": 2,
       "version_minor": 0
      },
      "text/html": [
       "<p>Failed to display Jupyter Widget of type <code>HBox</code>.</p>\n",
       "<p>\n",
       "  If you're reading this message in the Jupyter Notebook or JupyterLab Notebook, it may mean\n",
       "  that the widgets JavaScript is still loading. If this message persists, it\n",
       "  likely means that the widgets JavaScript library is either not installed or\n",
       "  not enabled. See the <a href=\"https://ipywidgets.readthedocs.io/en/stable/user_install.html\">Jupyter\n",
       "  Widgets Documentation</a> for setup instructions.\n",
       "</p>\n",
       "<p>\n",
       "  If you're reading this message in another frontend (for example, a static\n",
       "  rendering on GitHub or <a href=\"https://nbviewer.jupyter.org/\">NBViewer</a>),\n",
       "  it may mean that your frontend doesn't currently support widgets.\n",
       "</p>\n"
      ],
      "text/plain": [
       "HBox(children=(IntProgress(value=0, description='Epoch', max=31), HTML(value='')))"
      ]
     },
     "metadata": {},
     "output_type": "display_data"
    },
    {
     "name": "stdout",
     "output_type": "stream",
     "text": [
      "[0.      0.51907 0.38319 0.80966]                          \n",
      "[1.      0.48204 0.44843 0.79829]                          \n",
      "[2.      0.48863 0.45106 0.77841]                          \n",
      "[3.      0.51176 0.43457 0.77841]                          \n",
      "[4.      0.4935  0.43922 0.77273]                          \n",
      "[5.      0.45966 0.40876 0.79829]                          \n",
      "[6.      0.45424 0.41283 0.78409]                          \n",
      "[7.      0.45797 0.41646 0.78409]                          \n",
      "[8.      0.46156 0.47076 0.79546]                          \n",
      "[9.      0.45666 0.44177 0.79546]                          \n",
      "[10.       0.47594  0.41098  0.78977]                      \n",
      "[11.       0.45665  0.42974  0.79546]                      \n",
      "[12.       0.43958  0.4095   0.80114]                      \n",
      "[13.       0.43123  0.41563  0.80682]                      \n",
      "[14.       0.41881  0.39209  0.80398]                      \n",
      "[15.       0.43531  0.41248  0.78977]                      \n",
      "[16.       0.4345   0.50213  0.77273]                      \n",
      "[17.       0.45222  0.44203  0.78977]                      \n",
      "[18.       0.44954  0.47284  0.78977]                      \n",
      "[19.       0.46703  0.43851  0.78409]                      \n",
      "[20.       0.47505  0.47416  0.76704]                      \n",
      "[21.       0.44432  0.46329  0.79546]                      \n",
      "[22.       0.4765   0.47821  0.79261]                      \n",
      "[23.       0.46645  0.46685  0.78977]                      \n",
      "[24.       0.43863  0.44148  0.79261]                      \n",
      "[25.       0.44881  0.43914  0.79546]                      \n",
      "[26.       0.44036  0.42627  0.79261]                      \n",
      "[27.       0.42989  0.45096  0.78693]                      \n",
      "[28.       0.41391  0.45507  0.77841]                      \n",
      "[29.       0.39981  0.45488  0.77841]                      \n",
      "[30.       0.38788  0.41459  0.79829]                      \n",
      "\n"
     ]
    }
   ],
   "source": [
    "#learn.fit(lr, 4, cycle_len=2)\n",
    "learn.fit(lr, 5, cycle_len=1, cycle_mult=2)"
   ]
  },
  {
   "cell_type": "code",
   "execution_count": 18,
   "metadata": {},
   "outputs": [
    {
     "data": {
      "image/png": "[encoded data removed]",
      "text/plain": [
       "<matplotlib.figure.Figure at 0x7f51f0755c18>"
      ]
     },
     "metadata": {},
     "output_type": "display_data"
    }
   ],
   "source": [
    "learn.sched.plot_lr()"
   ]
  },
  {
   "cell_type": "code",
   "execution_count": 19,
   "metadata": {},
   "outputs": [
    {
     "data": {
      "image/png": "[encoded data removed]",
      "text/plain": [
       "<matplotlib.figure.Figure at 0x7f51f07cae80>"
      ]
     },
     "metadata": {},
     "output_type": "display_data"
    }
   ],
   "source": [
    "learn.sched.plot_loss()"
   ]
  },
  {
   "cell_type": "code",
   "execution_count": 20,
   "metadata": {},
   "outputs": [
    {
     "name": "stdout",
     "output_type": "stream",
     "text": [
      "                                             \r"
     ]
    },
    {
     "data": {
      "text/plain": [
       "(0.3312608037389016, 0.8473520249221184)"
      ]
     },
     "execution_count": 20,
     "metadata": {},
     "output_type": "execute_result"
    }
   ],
   "source": [
    "log_preds,y = learn.TTA()\n",
    "preds = np.mean(np.exp(log_preds),axis=0)\n",
    "(metrics.log_loss(y,preds), accuracy(preds,y))"
   ]
  },
  {
   "cell_type": "code",
   "execution_count": 21,
   "metadata": {},
   "outputs": [],
   "source": [
    "# lr/10"
   ]
  },
  {
   "cell_type": "code",
   "execution_count": 22,
   "metadata": {},
   "outputs": [],
   "source": [
    "# lr/9"
   ]
  },
  {
   "cell_type": "code",
   "execution_count": 23,
   "metadata": {},
   "outputs": [],
   "source": [
    "# lr/3"
   ]
  },
  {
   "cell_type": "code",
   "execution_count": 24,
   "metadata": {},
   "outputs": [],
   "source": [
    "# lr/4"
   ]
  },
  {
   "cell_type": "markdown",
   "metadata": {},
   "source": [
    "### Unfreeze Layers"
   ]
  },
  {
   "cell_type": "code",
   "execution_count": 25,
   "metadata": {},
   "outputs": [],
   "source": [
    "# unfreeze layers\n",
    "learn.unfreeze()\n",
    "#lrs = np.array([lr/15,lr/12,lr/9])\n",
    "lrs = np.array([lr/9,lr/3,lr/1])\n",
    "\n",
    "#wd = 0.025\n",
    "#wds=[wd/100, wd/10, wd]\n",
    "#wds=[0.0025,0.025,0.25]\n"
   ]
  },
  {
   "cell_type": "markdown",
   "metadata": {},
   "source": [
    "### Run Learner Again"
   ]
  },
  {
   "cell_type": "code",
   "execution_count": 26,
   "metadata": {},
   "outputs": [
    {
     "data": {
      "application/vnd.jupyter.widget-view+json": {
       "model_id": "be745f450b414f2d8e5bacb87c75592a",
       "version_major": 2,
       "version_minor": 0
      },
      "text/html": [
       "<p>Failed to display Jupyter Widget of type <code>HBox</code>.</p>\n",
       "<p>\n",
       "  If you're reading this message in the Jupyter Notebook or JupyterLab Notebook, it may mean\n",
       "  that the widgets JavaScript is still loading. If this message persists, it\n",
       "  likely means that the widgets JavaScript library is either not installed or\n",
       "  not enabled. See the <a href=\"https://ipywidgets.readthedocs.io/en/stable/user_install.html\">Jupyter\n",
       "  Widgets Documentation</a> for setup instructions.\n",
       "</p>\n",
       "<p>\n",
       "  If you're reading this message in another frontend (for example, a static\n",
       "  rendering on GitHub or <a href=\"https://nbviewer.jupyter.org/\">NBViewer</a>),\n",
       "  it may mean that your frontend doesn't currently support widgets.\n",
       "</p>\n"
      ],
      "text/plain": [
       "HBox(children=(IntProgress(value=0, description='Epoch', max=31), HTML(value='')))"
      ]
     },
     "metadata": {},
     "output_type": "display_data"
    },
    {
     "name": "stdout",
     "output_type": "stream",
     "text": [
      "[0.      0.54938 0.39896 0.8125 ]                          \n",
      "[1.      0.47224 0.34769 0.83807]                          \n",
      "[2.      0.4341  0.39728 0.81534]                          \n",
      "[3.      0.46143 0.31685 0.86648]                          \n",
      "[4.      0.44943 0.44277 0.80682]                          \n",
      "[5.      0.42375 0.39309 0.83239]                          \n",
      "[6.      0.37432 0.33989 0.82954]                          \n",
      "[7.      0.40852 0.30241 0.85796]                          \n",
      "[8.      0.41929 0.31326 0.86364]                          \n",
      "[9.      0.39248 0.30323 0.86079]                          \n",
      "[10.       0.34353  0.33148  0.85511]                      \n",
      "[11.       0.35365  0.30848  0.86932]                      \n",
      "[12.       0.34072  0.34968  0.83807]                      \n",
      "[13.       0.29897  0.30166  0.86079]                      \n",
      "[14.       0.27892  0.30171  0.87216]                      \n",
      "[15.       0.30944  0.28479  0.875  ]                      \n",
      "[16.       0.30373  0.26455  0.87784]                      \n",
      "[17.       0.29179  0.26998  0.86932]                      \n",
      "[18.       0.25884  0.30804  0.86648]                      \n",
      "[19.       0.24233  0.26804  0.88921]                      \n",
      "[20.       0.27026  0.27316  0.88636]                      \n",
      "[21.       0.24199  0.34831  0.86648]                      \n",
      "[22.       0.28475  0.25915  0.90057]                      \n",
      "[23.       0.25535  0.27949  0.88636]                      \n",
      "[24.       0.23263  0.25624  0.89489]                      \n",
      "[25.       0.21064  0.25205  0.89489]                      \n",
      "[26.       0.19227  0.28482  0.88636]                      \n",
      "[27.       0.18475  0.29045  0.875  ]                      \n",
      "[28.       0.25859  0.27749  0.88921]                      \n",
      "[29.       0.21876  0.2727   0.88068]                      \n",
      "[30.       0.22964  0.2646   0.88921]                      \n",
      "\n"
     ]
    }
   ],
   "source": [
    "learn.fit(lrs, 5, cycle_len=1, cycle_mult=2)\n",
    "#learn.fit(lrs, 5, cycle_len=1, cycle_mult=2,use_wd_sched=True,wds=wds)"
   ]
  },
  {
   "cell_type": "code",
   "execution_count": 27,
   "metadata": {},
   "outputs": [
    {
     "data": {
      "image/png": "[encoded data removed]",
      "text/plain": [
       "<matplotlib.figure.Figure at 0x7f51fb994710>"
      ]
     },
     "metadata": {},
     "output_type": "display_data"
    }
   ],
   "source": [
    "learn.sched.plot_lr()"
   ]
  },
  {
   "cell_type": "code",
   "execution_count": 28,
   "metadata": {},
   "outputs": [
    {
     "data": {
      "image/png": "[encoded data removed]",
      "text/plain": [
       "<matplotlib.figure.Figure at 0x7f51fb994400>"
      ]
     },
     "metadata": {},
     "output_type": "display_data"
    }
   ],
   "source": [
    "learn.sched.plot_loss()"
   ]
  },
  {
   "cell_type": "markdown",
   "metadata": {},
   "source": [
    "## Log Loss | Accuracy"
   ]
  },
  {
   "cell_type": "code",
   "execution_count": 29,
   "metadata": {},
   "outputs": [
    {
     "name": "stdout",
     "output_type": "stream",
     "text": [
      "                                             \r"
     ]
    },
    {
     "data": {
      "text/plain": [
       "(0.2561366987204415, 0.8940809968847352)"
      ]
     },
     "execution_count": 29,
     "metadata": {},
     "output_type": "execute_result"
    }
   ],
   "source": [
    "log_preds,y = learn.TTA()\n",
    "preds = np.mean(np.exp(log_preds),axis=0)\n",
    "(metrics.log_loss(y,preds), accuracy(preds,y))"
   ]
  },
  {
   "cell_type": "markdown",
   "metadata": {},
   "source": [
    "## Resize the images"
   ]
  },
  {
   "cell_type": "code",
   "execution_count": 30,
   "metadata": {},
   "outputs": [],
   "source": [
    "def get_data(sz, bs):\n",
    "    tfms = tfms_from_model(arch, sz, aug_tfms=transforms_top_down, max_zoom=1.10)\n",
    "    data = ImageClassifierData.from_paths(PATH, tfms=tfms, bs=bs,test_name='test')\n",
    "    return data"
   ]
  },
  {
   "cell_type": "markdown",
   "metadata": {},
   "source": [
    "## Image Size of 128"
   ]
  },
  {
   "cell_type": "code",
   "execution_count": 31,
   "metadata": {},
   "outputs": [
    {
     "data": {
      "application/vnd.jupyter.widget-view+json": {
       "model_id": "75047fcdcfbf4c3197a3f576fb2481ad",
       "version_major": 2,
       "version_minor": 0
      },
      "text/html": [
       "<p>Failed to display Jupyter Widget of type <code>HBox</code>.</p>\n",
       "<p>\n",
       "  If you're reading this message in the Jupyter Notebook or JupyterLab Notebook, it may mean\n",
       "  that the widgets JavaScript is still loading. If this message persists, it\n",
       "  likely means that the widgets JavaScript library is either not installed or\n",
       "  not enabled. See the <a href=\"https://ipywidgets.readthedocs.io/en/stable/user_install.html\">Jupyter\n",
       "  Widgets Documentation</a> for setup instructions.\n",
       "</p>\n",
       "<p>\n",
       "  If you're reading this message in another frontend (for example, a static\n",
       "  rendering on GitHub or <a href=\"https://nbviewer.jupyter.org/\">NBViewer</a>),\n",
       "  it may mean that your frontend doesn't currently support widgets.\n",
       "</p>\n"
      ],
      "text/plain": [
       "HBox(children=(IntProgress(value=0, description='Epoch', max=7), HTML(value='')))"
      ]
     },
     "metadata": {},
     "output_type": "display_data"
    },
    {
     "name": "stdout",
     "output_type": "stream",
     "text": [
      "[0.      0.34379 0.33943 0.87784]                          \n",
      "[1.      0.34459 0.28739 0.88636]                          \n",
      "[2.      0.33771 0.30033 0.875  ]                          \n",
      "[3.      0.37517 0.28591 0.875  ]                          \n",
      "[4.      0.39808 0.27198 0.875  ]                          \n",
      "[5.      0.35971 0.2688  0.88636]                          \n",
      "[6.      0.36692 0.27242 0.88636]                          \n",
      "\n"
     ]
    },
    {
     "data": {
      "application/vnd.jupyter.widget-view+json": {
       "model_id": "22a3cdff48fd443897cf70fb8ed2d823",
       "version_major": 2,
       "version_minor": 0
      },
      "text/html": [
       "<p>Failed to display Jupyter Widget of type <code>HBox</code>.</p>\n",
       "<p>\n",
       "  If you're reading this message in the Jupyter Notebook or JupyterLab Notebook, it may mean\n",
       "  that the widgets JavaScript is still loading. If this message persists, it\n",
       "  likely means that the widgets JavaScript library is either not installed or\n",
       "  not enabled. See the <a href=\"https://ipywidgets.readthedocs.io/en/stable/user_install.html\">Jupyter\n",
       "  Widgets Documentation</a> for setup instructions.\n",
       "</p>\n",
       "<p>\n",
       "  If you're reading this message in another frontend (for example, a static\n",
       "  rendering on GitHub or <a href=\"https://nbviewer.jupyter.org/\">NBViewer</a>),\n",
       "  it may mean that your frontend doesn't currently support widgets.\n",
       "</p>\n"
      ],
      "text/plain": [
       "HBox(children=(IntProgress(value=0, description='Epoch', max=7), HTML(value='')))"
      ]
     },
     "metadata": {},
     "output_type": "display_data"
    },
    {
     "name": "stdout",
     "output_type": "stream",
     "text": [
      "[0.      0.4083  0.3132  0.87784]                          \n",
      "[1.      0.39959 0.26961 0.90057]                          \n",
      "[2.      0.32734 0.27795 0.86648]                          \n",
      "[3.      0.33392 0.30541 0.84091]                          \n",
      "[4.      0.2975  0.29386 0.85796]                          \n",
      "[5.      0.26541 0.27222 0.86932]                          \n",
      "[6.      0.25344 0.21916 0.91761]                          \n",
      "\n"
     ]
    }
   ],
   "source": [
    "#train for image size 128x128\n",
    "learn.set_data(get_data(128, 32))\n",
    "\n",
    "learn.freeze()\n",
    "learn.fit(lr, 3, cycle_len=1, cycle_mult=2)\n",
    "\n",
    "learn.unfreeze()\n",
    "learn.fit(lr, 3, cycle_len=1, cycle_mult=2)"
   ]
  },
  {
   "cell_type": "code",
   "execution_count": 32,
   "metadata": {},
   "outputs": [
    {
     "data": {
      "image/png": "[encoded data removed]",
      "text/plain": [
       "<matplotlib.figure.Figure at 0x7f51f0709b38>"
      ]
     },
     "metadata": {},
     "output_type": "display_data"
    }
   ],
   "source": [
    "learn.sched.plot_lr()"
   ]
  },
  {
   "cell_type": "code",
   "execution_count": 33,
   "metadata": {},
   "outputs": [
    {
     "data": {
      "image/png": "[encoded data removed]",
      "text/plain": [
       "<matplotlib.figure.Figure at 0x7f51f07d5198>"
      ]
     },
     "metadata": {},
     "output_type": "display_data"
    }
   ],
   "source": [
    "learn.sched.plot_loss()"
   ]
  },
  {
   "cell_type": "markdown",
   "metadata": {},
   "source": [
    "## Log Loss | Accuracy"
   ]
  },
  {
   "cell_type": "code",
   "execution_count": 34,
   "metadata": {},
   "outputs": [
    {
     "name": "stdout",
     "output_type": "stream",
     "text": [
      "                                             \r"
     ]
    },
    {
     "data": {
      "text/plain": [
       "(0.22726159821349703, 0.9127725856697819)"
      ]
     },
     "execution_count": 34,
     "metadata": {},
     "output_type": "execute_result"
    }
   ],
   "source": [
    "log_preds,y = learn.TTA()\n",
    "preds = np.mean(np.exp(log_preds),axis=0)\n",
    "(metrics.log_loss(y,preds), accuracy(preds,y))"
   ]
  },
  {
   "cell_type": "code",
   "execution_count": 35,
   "metadata": {},
   "outputs": [],
   "source": [
    "learn.save('resnext50_sz75_zm15_sequ')\n",
    "learn.load('resnext50_sz75_zm15_sequ')"
   ]
  },
  {
   "cell_type": "code",
   "execution_count": 36,
   "metadata": {},
   "outputs": [
    {
     "name": "stdout",
     "output_type": "stream",
     "text": [
      "                                             \r"
     ]
    }
   ],
   "source": [
    "helper.make_submission(learn=learn, data=data, output_file_name = f'{PATH}sub/resnext50_sz75_zm15_sequ.csv')"
   ]
  },
  {
   "cell_type": "markdown",
   "metadata": {},
   "source": [
    "---\n",
    "## Image Size of 150"
   ]
  },
  {
   "cell_type": "code",
   "execution_count": 37,
   "metadata": {},
   "outputs": [
    {
     "data": {
      "application/vnd.jupyter.widget-view+json": {
       "model_id": "7f9419837d8d4dd3a936d972b196666a",
       "version_major": 2,
       "version_minor": 0
      },
      "text/html": [
       "<p>Failed to display Jupyter Widget of type <code>HBox</code>.</p>\n",
       "<p>\n",
       "  If you're reading this message in the Jupyter Notebook or JupyterLab Notebook, it may mean\n",
       "  that the widgets JavaScript is still loading. If this message persists, it\n",
       "  likely means that the widgets JavaScript library is either not installed or\n",
       "  not enabled. See the <a href=\"https://ipywidgets.readthedocs.io/en/stable/user_install.html\">Jupyter\n",
       "  Widgets Documentation</a> for setup instructions.\n",
       "</p>\n",
       "<p>\n",
       "  If you're reading this message in another frontend (for example, a static\n",
       "  rendering on GitHub or <a href=\"https://nbviewer.jupyter.org/\">NBViewer</a>),\n",
       "  it may mean that your frontend doesn't currently support widgets.\n",
       "</p>\n"
      ],
      "text/plain": [
       "HBox(children=(IntProgress(value=0, description='Epoch', max=7), HTML(value='')))"
      ]
     },
     "metadata": {},
     "output_type": "display_data"
    },
    {
     "name": "stdout",
     "output_type": "stream",
     "text": [
      "[0.      0.25972 0.26276 0.90774]                          \n",
      "[1.      0.2348  0.27164 0.90476]                          \n",
      "[2.      0.23372 0.25584 0.90774]                          \n",
      "[3.      0.24964 0.27537 0.88691]                          \n",
      "[4.      0.24289 0.28074 0.88393]                          \n",
      "[5.      0.2554  0.27133 0.88988]                          \n",
      "[6.      0.27064 0.25434 0.90476]                          \n",
      "\n"
     ]
    },
    {
     "data": {
      "application/vnd.jupyter.widget-view+json": {
       "model_id": "4eeb4c6e727c489cb4e898485489bafd",
       "version_major": 2,
       "version_minor": 0
      },
      "text/html": [
       "<p>Failed to display Jupyter Widget of type <code>HBox</code>.</p>\n",
       "<p>\n",
       "  If you're reading this message in the Jupyter Notebook or JupyterLab Notebook, it may mean\n",
       "  that the widgets JavaScript is still loading. If this message persists, it\n",
       "  likely means that the widgets JavaScript library is either not installed or\n",
       "  not enabled. See the <a href=\"https://ipywidgets.readthedocs.io/en/stable/user_install.html\">Jupyter\n",
       "  Widgets Documentation</a> for setup instructions.\n",
       "</p>\n",
       "<p>\n",
       "  If you're reading this message in another frontend (for example, a static\n",
       "  rendering on GitHub or <a href=\"https://nbviewer.jupyter.org/\">NBViewer</a>),\n",
       "  it may mean that your frontend doesn't currently support widgets.\n",
       "</p>\n"
      ],
      "text/plain": [
       "HBox(children=(IntProgress(value=0, description='Epoch', max=7), HTML(value='')))"
      ]
     },
     "metadata": {},
     "output_type": "display_data"
    },
    {
     "name": "stdout",
     "output_type": "stream",
     "text": [
      "[0.      0.35281 0.32082 0.85714]                          \n",
      "[1.      0.38489 0.45948 0.79762]                          \n",
      "[2.      0.36389 0.32876 0.86905]                          \n",
      "[3.      0.36407 0.35657 0.84821]                          \n",
      "[4.      0.34956 0.40002 0.83036]                          \n",
      "[5.      0.30501 0.21962 0.90774]                          \n",
      "[6.      0.27121 0.26339 0.88691]                          \n",
      "\n"
     ]
    }
   ],
   "source": [
    "#train for image size 150 x 150\n",
    "learn.set_data(get_data(150, 16))\n",
    "\n",
    "learn.freeze()\n",
    "learn.fit(lr, 3, cycle_len=1, cycle_mult=2)\n",
    "\n",
    "learn.unfreeze()\n",
    "learn.fit(lr, 3, cycle_len=1, cycle_mult=2)"
   ]
  },
  {
   "cell_type": "code",
   "execution_count": 38,
   "metadata": {},
   "outputs": [
    {
     "data": {
      "image/png": "[encoded data removed]",
      "text/plain": [
       "<matplotlib.figure.Figure at 0x7f51f06d47b8>"
      ]
     },
     "metadata": {},
     "output_type": "display_data"
    }
   ],
   "source": [
    "learn.sched.plot_lr()"
   ]
  },
  {
   "cell_type": "code",
   "execution_count": 39,
   "metadata": {},
   "outputs": [
    {
     "data": {
      "image/png": "[encoded data removed]",
      "text/plain": [
       "<matplotlib.figure.Figure at 0x7f51f05eb630>"
      ]
     },
     "metadata": {},
     "output_type": "display_data"
    }
   ],
   "source": [
    "learn.sched.plot_loss()"
   ]
  },
  {
   "cell_type": "markdown",
   "metadata": {},
   "source": [
    "## Log Loss | Accuracy"
   ]
  },
  {
   "cell_type": "code",
   "execution_count": 40,
   "metadata": {},
   "outputs": [
    {
     "name": "stdout",
     "output_type": "stream",
     "text": [
      "                                             \r"
     ]
    },
    {
     "data": {
      "text/plain": [
       "(0.23483152540365582, 0.9127725856697819)"
      ]
     },
     "execution_count": 40,
     "metadata": {},
     "output_type": "execute_result"
    }
   ],
   "source": [
    "log_preds,y = learn.TTA()\n",
    "preds = np.mean(np.exp(log_preds),axis=0)\n",
    "(metrics.log_loss(y,preds), accuracy(preds,y))"
   ]
  },
  {
   "cell_type": "markdown",
   "metadata": {},
   "source": [
    "---\n",
    "## Save learner"
   ]
  },
  {
   "cell_type": "code",
   "execution_count": null,
   "metadata": {},
   "outputs": [],
   "source": [
    "learn.save('resnext50_sz75_sequ')"
   ]
  },
  {
   "cell_type": "code",
   "execution_count": null,
   "metadata": {},
   "outputs": [],
   "source": [
    "learn.load('resnext50_sz75_sequ')"
   ]
  },
  {
   "cell_type": "markdown",
   "metadata": {},
   "source": [
    "## Output predictions to csv file"
   ]
  },
  {
   "cell_type": "code",
   "execution_count": null,
   "metadata": {},
   "outputs": [],
   "source": [
    "helper.make_submission(learn=learn, data=data, output_file_name = f'{PATH}sub/resnext50_sz75_sequ.csv')"
   ]
  },
  {
   "cell_type": "markdown",
   "metadata": {},
   "source": [
    "# END FILE"
   ]
  },
  {
   "cell_type": "markdown",
   "metadata": {},
   "source": [
    "### Run Learner again"
   ]
  },
  {
   "cell_type": "code",
   "execution_count": null,
   "metadata": {},
   "outputs": [],
   "source": [
    "#learn.fit(lrs, 5, cycle_len=1, cycle_mult=2)"
   ]
  },
  {
   "cell_type": "code",
   "execution_count": null,
   "metadata": {},
   "outputs": [],
   "source": [
    "#learn.sched.plot_loss()"
   ]
  },
  {
   "cell_type": "code",
   "execution_count": null,
   "metadata": {},
   "outputs": [],
   "source": [
    "# log_preds,y = learn.TTA()\n",
    "# preds = np.mean(np.exp(log_preds),axis=0)\n",
    "# (metrics.log_loss(y,preds), accuracy(preds,y))"
   ]
  },
  {
   "cell_type": "markdown",
   "metadata": {},
   "source": [
    "### Run Learner again"
   ]
  },
  {
   "cell_type": "code",
   "execution_count": null,
   "metadata": {},
   "outputs": [],
   "source": [
    "#learn.fit(lrs, 5, cycle_len=1, cycle_mult=2)"
   ]
  },
  {
   "cell_type": "code",
   "execution_count": null,
   "metadata": {},
   "outputs": [],
   "source": [
    "#learn.sched.plot_loss()"
   ]
  },
  {
   "cell_type": "markdown",
   "metadata": {},
   "source": [
    "## Log Loss | Accuracy (final model here)"
   ]
  },
  {
   "cell_type": "code",
   "execution_count": null,
   "metadata": {},
   "outputs": [],
   "source": [
    "# log_preds,y = learn.TTA()\n",
    "# preds = np.mean(np.exp(log_preds),axis=0)\n",
    "# (metrics.log_loss(y,preds), accuracy(preds,y))"
   ]
  },
  {
   "cell_type": "markdown",
   "metadata": {},
   "source": [
    "## Save predictions"
   ]
  },
  {
   "cell_type": "code",
   "execution_count": null,
   "metadata": {},
   "outputs": [],
   "source": [
    "# test_df = pd.read_json(PATH+\"/test.json\")\n",
    "# helper.make_test_file(log_preds,test_df,model_name='resnext50_sz75_zm15_bs32_comp_band',\n",
    "#                       classes=data.classes,\n",
    "#                       submission_folder =f'{PATH}sub'\n",
    "#                      )"
   ]
  }
 ],
 "metadata": {
  "kernelspec": {
   "display_name": "Python 3",
   "language": "python",
   "name": "python3"
  },
  "language_info": {
   "codemirror_mode": {
    "name": "ipython",
    "version": 3
   },
   "file_extension": ".py",
   "mimetype": "text/x-python",
   "name": "python",
   "nbconvert_exporter": "python",
   "pygments_lexer": "ipython3",
   "version": "3.6.4"
  }
 },
 "nbformat": 4,
 "nbformat_minor": 2
}
