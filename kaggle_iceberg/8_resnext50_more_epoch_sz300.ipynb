{
 "cells": [
  {
   "cell_type": "markdown",
   "metadata": {},
   "source": [
    "# Kaggle Competition:  Iceberg or Ship"
   ]
  },
  {
   "cell_type": "markdown",
   "metadata": {},
   "source": [
    "# resnext50 architecture \n",
    "\n",
    "## increase epochs\n"
   ]
  },
  {
   "cell_type": "markdown",
   "metadata": {},
   "source": [
    "---\n",
    "## Import libraries"
   ]
  },
  {
   "cell_type": "code",
   "execution_count": 1,
   "metadata": {},
   "outputs": [
    {
     "name": "stdout",
     "output_type": "stream",
     "text": [
      "total 2656\r\n",
      "-rw-rw-r-- 1 ubuntu ubuntu 625023 Jan 14 18:47 1_getdata.ipynb\r\n",
      "-rw-rw-r-- 1 ubuntu ubuntu 245619 Jan 14 18:36 2_model_resnet34.ipynb\r\n",
      "-rw-rw-r-- 1 ubuntu ubuntu  13445 Jan 14 18:36 3_model_resnext50.ipynb\r\n",
      "-rw-rw-r-- 1 ubuntu ubuntu  14220 Jan 13 21:14 4_model_nasnet.ipynb\r\n",
      "-rw-rw-r-- 1 ubuntu ubuntu  64965 Jan 14 19:40 4_resnext_resize.ipynb\r\n",
      "-rw-rw-r-- 1 ubuntu ubuntu 147078 Jan 14 19:57 5_resnet18_resize.ipynb\r\n",
      "-rw-rw-r-- 1 ubuntu ubuntu 138629 Jan 14 19:52 6_resnext50_resize.ipynb\r\n",
      "-rw-rw-r-- 1 ubuntu ubuntu 178957 Jan 14 23:41 7_resnext50_more_epoch.ipynb\r\n",
      "-rw-rw-r-- 1 ubuntu ubuntu 179449 Jan 14 21:28 7_resnext50_sz_100.ipynb\r\n",
      "-rw-rw-r-- 1 ubuntu ubuntu 178748 Jan 14 23:41 8_resnext50_more_epoch_sz300.ipynb\r\n",
      "-rw-rw-r-- 1 ubuntu ubuntu 137540 Jan 14 18:36 baseline.ipynb\r\n",
      "-rw-rw-r-- 1 ubuntu ubuntu    536 Jan 14 18:36 helper.py\r\n",
      "-rw-rw-r-- 1 ubuntu ubuntu 767392 Jan 14 18:36 other_groverpr.ipynb\r\n",
      "drwxrwxr-x 2 ubuntu ubuntu   4096 Jan 14 18:51 __pycache__\r\n",
      "-rw-rw-r-- 1 ubuntu ubuntu    745 Jan 14 20:14 README.md\r\n"
     ]
    }
   ],
   "source": [
    "!ls -l"
   ]
  },
  {
   "cell_type": "code",
   "execution_count": 2,
   "metadata": {},
   "outputs": [],
   "source": [
    "# Put these at the top of every notebook, to get automatic reloading and inline plotting\n",
    "%reload_ext autoreload\n",
    "%autoreload 2\n",
    "%matplotlib inline"
   ]
  },
  {
   "cell_type": "code",
   "execution_count": 3,
   "metadata": {},
   "outputs": [],
   "source": [
    "from fastai.imports import *"
   ]
  },
  {
   "cell_type": "code",
   "execution_count": 4,
   "metadata": {},
   "outputs": [],
   "source": [
    "# This file contains all the main external libs we'll use\n",
    "from fastai.imports import *\n",
    "from fastai.transforms import *\n",
    "from fastai.conv_learner import *\n",
    "from fastai.model import *\n",
    "from fastai.dataset import *\n",
    "from fastai.sgdr import *\n",
    "from fastai.plots import *\n",
    "import pandas as pd\n",
    "import numpy as np\n",
    "import shutil\n",
    "from IPython.display import FileLink, FileLinks\n",
    "\n",
    "from sklearn.model_selection import train_test_split\n",
    "import helper"
   ]
  },
  {
   "cell_type": "code",
   "execution_count": 5,
   "metadata": {},
   "outputs": [],
   "source": [
    "#PATH = \"/home/nidhin/data/iceberg/\"\n",
    "PATH = os.path.expanduser(\"~/data/iceberg/\")"
   ]
  },
  {
   "cell_type": "code",
   "execution_count": 6,
   "metadata": {},
   "outputs": [
    {
     "name": "stdout",
     "output_type": "stream",
     "text": [
      "total 1973260\r\n",
      "drwxrwxr-x 2 ubuntu ubuntu       4096 Jan  9 00:38 models\r\n",
      "-rw-rw-r-- 1 ubuntu ubuntu     117951 Oct 23 17:27 sample_submission.csv\r\n",
      "-rw-rw-r-- 1 ubuntu ubuntu      38566 Jan  7 20:36 sample_submission.csv.7z\r\n",
      "drwxrwxr-x 2 ubuntu ubuntu     274432 Jan 14 18:44 test\r\n",
      "-rw-rw-r-- 1 ubuntu ubuntu 1521771850 Oct 23 17:27 test.json\r\n",
      "-rw-rw-r-- 1 ubuntu ubuntu  257127394 Jan  7 20:36 test.json.7z\r\n",
      "drwxrwxr-x 8 ubuntu ubuntu       4096 Jan 14 23:14 tmp\r\n",
      "drwxrwxr-x 4 ubuntu ubuntu       4096 Jan 14 18:43 train\r\n",
      "-rw-rw-r-- 1 ubuntu ubuntu  196313674 Oct 23 17:23 train.json\r\n",
      "-rw-rw-r-- 1 ubuntu ubuntu   44932785 Jan  7 20:36 train.json.7z\r\n",
      "drwxrwxr-x 4 ubuntu ubuntu       4096 Jan 14 18:43 valid\r\n"
     ]
    }
   ],
   "source": [
    "!ls -l {PATH}"
   ]
  },
  {
   "cell_type": "code",
   "execution_count": 7,
   "metadata": {},
   "outputs": [],
   "source": [
    "np.random.seed(0)"
   ]
  },
  {
   "cell_type": "markdown",
   "metadata": {},
   "source": [
    "## Set Architecture"
   ]
  },
  {
   "cell_type": "code",
   "execution_count": 8,
   "metadata": {},
   "outputs": [],
   "source": [
    "arch=resnext50\n",
    "sz=200\n",
    "bs=32\n",
    "lr = 0.005"
   ]
  },
  {
   "cell_type": "code",
   "execution_count": 9,
   "metadata": {},
   "outputs": [
    {
     "data": {
      "application/vnd.jupyter.widget-view+json": {
       "model_id": "6e019b7bb40e466f98866c85f7df92ea",
       "version_major": 2,
       "version_minor": 0
      },
      "text/html": [
       "<p>Failed to display Jupyter Widget of type <code>HBox</code>.</p>\n",
       "<p>\n",
       "  If you're reading this message in the Jupyter Notebook or JupyterLab Notebook, it may mean\n",
       "  that the widgets JavaScript is still loading. If this message persists, it\n",
       "  likely means that the widgets JavaScript library is either not installed or\n",
       "  not enabled. See the <a href=\"https://ipywidgets.readthedocs.io/en/stable/user_install.html\">Jupyter\n",
       "  Widgets Documentation</a> for setup instructions.\n",
       "</p>\n",
       "<p>\n",
       "  If you're reading this message in another frontend (for example, a static\n",
       "  rendering on GitHub or <a href=\"https://nbviewer.jupyter.org/\">NBViewer</a>),\n",
       "  it may mean that your frontend doesn't currently support widgets.\n",
       "</p>\n"
      ],
      "text/plain": [
       "HBox(children=(IntProgress(value=0, max=6), HTML(value='')))"
      ]
     },
     "metadata": {},
     "output_type": "display_data"
    },
    {
     "name": "stdout",
     "output_type": "stream",
     "text": [
      "                                                     \n"
     ]
    }
   ],
   "source": [
    "def get_data(sz, bs):\n",
    "    tfms = tfms_from_model(arch, sz, aug_tfms=transforms_top_down, max_zoom=1.00)\n",
    "    data = ImageClassifierData.from_paths(PATH, tfms=tfms, bs=bs,test_name='test')\n",
    "    return data\n",
    "\n",
    "data = get_data(sz, bs)\n",
    "data = data.resize(int(sz*1.5), 'tmp')"
   ]
  },
  {
   "cell_type": "code",
   "execution_count": 10,
   "metadata": {},
   "outputs": [
    {
     "name": "stdout",
     "output_type": "stream",
     "text": [
      "100%|██████████| 41/41 [00:26<00:00,  1.56it/s]\n",
      "100%|██████████| 11/11 [00:06<00:00,  1.82it/s]\n",
      "100%|██████████| 264/264 [02:36<00:00,  1.68it/s]\n"
     ]
    }
   ],
   "source": [
    "#tfms = tfms_from_model(arch, sz, aug_tfms=transforms_side_on, max_zoom=1.1)\n",
    "#data = ImageClassifierData.from_paths(PATH, tfms=tfms, bs=bs,test_name='test',)\n",
    "\n",
    "learn = ConvLearner.pretrained(arch, data, precompute=True, ps=0.5)"
   ]
  },
  {
   "cell_type": "markdown",
   "metadata": {},
   "source": [
    "### Learning Rate Finder"
   ]
  },
  {
   "cell_type": "code",
   "execution_count": 11,
   "metadata": {},
   "outputs": [
    {
     "data": {
      "application/vnd.jupyter.widget-view+json": {
       "model_id": "64daedc60ba34657a332594725828e05",
       "version_major": 2,
       "version_minor": 0
      },
      "text/html": [
       "<p>Failed to display Jupyter Widget of type <code>HBox</code>.</p>\n",
       "<p>\n",
       "  If you're reading this message in the Jupyter Notebook or JupyterLab Notebook, it may mean\n",
       "  that the widgets JavaScript is still loading. If this message persists, it\n",
       "  likely means that the widgets JavaScript library is either not installed or\n",
       "  not enabled. See the <a href=\"https://ipywidgets.readthedocs.io/en/stable/user_install.html\">Jupyter\n",
       "  Widgets Documentation</a> for setup instructions.\n",
       "</p>\n",
       "<p>\n",
       "  If you're reading this message in another frontend (for example, a static\n",
       "  rendering on GitHub or <a href=\"https://nbviewer.jupyter.org/\">NBViewer</a>),\n",
       "  it may mean that your frontend doesn't currently support widgets.\n",
       "</p>\n"
      ],
      "text/plain": [
       "HBox(children=(IntProgress(value=0, description='Epoch', max=1), HTML(value='')))"
      ]
     },
     "metadata": {},
     "output_type": "display_data"
    },
    {
     "name": "stdout",
     "output_type": "stream",
     "text": [
      " 71%|███████   | 29/41 [00:00<00:00, 37.60it/s, loss=5.74] \n",
      "                                                          \r"
     ]
    }
   ],
   "source": [
    "lrf = learn.lr_find()"
   ]
  },
  {
   "cell_type": "code",
   "execution_count": 12,
   "metadata": {},
   "outputs": [
    {
     "data": {
      "image/png": "[encoded data removed]",
      "text/plain": [
       "<matplotlib.figure.Figure at 0x7f414d5a25f8>"
      ]
     },
     "metadata": {},
     "output_type": "display_data"
    }
   ],
   "source": [
    "learn.sched.plot_lr()"
   ]
  },
  {
   "cell_type": "code",
   "execution_count": 13,
   "metadata": {},
   "outputs": [
    {
     "data": {
      "image/png": "[encoded data removed]",
      "text/plain": [
       "<matplotlib.figure.Figure at 0x7f414d5c4e48>"
      ]
     },
     "metadata": {},
     "output_type": "display_data"
    }
   ],
   "source": [
    "learn.sched.plot() "
   ]
  },
  {
   "cell_type": "code",
   "execution_count": 14,
   "metadata": {},
   "outputs": [
    {
     "data": {
      "application/vnd.jupyter.widget-view+json": {
       "model_id": "28c11266bf5444d69f61fb8f6f389c37",
       "version_major": 2,
       "version_minor": 0
      },
      "text/html": [
       "<p>Failed to display Jupyter Widget of type <code>HBox</code>.</p>\n",
       "<p>\n",
       "  If you're reading this message in the Jupyter Notebook or JupyterLab Notebook, it may mean\n",
       "  that the widgets JavaScript is still loading. If this message persists, it\n",
       "  likely means that the widgets JavaScript library is either not installed or\n",
       "  not enabled. See the <a href=\"https://ipywidgets.readthedocs.io/en/stable/user_install.html\">Jupyter\n",
       "  Widgets Documentation</a> for setup instructions.\n",
       "</p>\n",
       "<p>\n",
       "  If you're reading this message in another frontend (for example, a static\n",
       "  rendering on GitHub or <a href=\"https://nbviewer.jupyter.org/\">NBViewer</a>),\n",
       "  it may mean that your frontend doesn't currently support widgets.\n",
       "</p>\n"
      ],
      "text/plain": [
       "HBox(children=(IntProgress(value=0, description='Epoch', max=10), HTML(value='')))"
      ]
     },
     "metadata": {},
     "output_type": "display_data"
    },
    {
     "name": "stdout",
     "output_type": "stream",
     "text": [
      "[0.      0.575   0.36835 0.84091]                          \n",
      "[1.      0.50283 0.36706 0.82386]                          \n",
      "[2.      0.44092 0.33442 0.83523]                          \n",
      "[3.      0.40784 0.32021 0.83239]                          \n",
      "[4.      0.36265 0.31447 0.86079]                          \n",
      "[5.      0.38851 0.3316  0.83807]                          \n",
      "[6.      0.34834 0.32499 0.84659]                          \n",
      "[7.      0.32054 0.32331 0.84091]                          \n",
      "[8.      0.31901 0.31272 0.84659]                          \n",
      "[9.      0.30314 0.31837 0.84943]                          \n",
      "\n"
     ]
    }
   ],
   "source": [
    "learn.fit(lr, 10)\n",
    "learn.precompute=False"
   ]
  },
  {
   "cell_type": "markdown",
   "metadata": {},
   "source": [
    "### Stochastic Gradient Descent with Restart"
   ]
  },
  {
   "cell_type": "code",
   "execution_count": 15,
   "metadata": {},
   "outputs": [
    {
     "data": {
      "application/vnd.jupyter.widget-view+json": {
       "model_id": "015424c7ecb249c1bad35265578d87e9",
       "version_major": 2,
       "version_minor": 0
      },
      "text/html": [
       "<p>Failed to display Jupyter Widget of type <code>HBox</code>.</p>\n",
       "<p>\n",
       "  If you're reading this message in the Jupyter Notebook or JupyterLab Notebook, it may mean\n",
       "  that the widgets JavaScript is still loading. If this message persists, it\n",
       "  likely means that the widgets JavaScript library is either not installed or\n",
       "  not enabled. See the <a href=\"https://ipywidgets.readthedocs.io/en/stable/user_install.html\">Jupyter\n",
       "  Widgets Documentation</a> for setup instructions.\n",
       "</p>\n",
       "<p>\n",
       "  If you're reading this message in another frontend (for example, a static\n",
       "  rendering on GitHub or <a href=\"https://nbviewer.jupyter.org/\">NBViewer</a>),\n",
       "  it may mean that your frontend doesn't currently support widgets.\n",
       "</p>\n"
      ],
      "text/plain": [
       "HBox(children=(IntProgress(value=0, description='Epoch', max=63), HTML(value='')))"
      ]
     },
     "metadata": {},
     "output_type": "display_data"
    },
    {
     "name": "stdout",
     "output_type": "stream",
     "text": [
      "[0.      0.42701 0.30452 0.84943]                          \n",
      "[1.      0.43297 0.28763 0.88636]                          \n",
      "[2.      0.43043 0.28029 0.88636]                          \n",
      "[3.      0.42741 0.30146 0.85227]                          \n",
      "[4.      0.43036 0.30558 0.85796]                          \n",
      "[5.      0.41627 0.30468 0.85227]                          \n",
      "[6.      0.4239  0.3017  0.85511]                          \n",
      "[7.      0.40127 0.32226 0.85511]                          \n",
      "[8.      0.40466 0.32664 0.83523]                          \n",
      "[9.      0.41538 0.28473 0.86079]                          \n",
      "[10.       0.4154   0.31276  0.86079]                      \n",
      "[11.       0.42301  0.29041  0.86079]                      \n",
      "[12.       0.38929  0.28799  0.875  ]                      \n",
      "[13.       0.40402  0.29968  0.87216]                      \n",
      "[14.       0.39523  0.28423  0.88352]                      \n",
      "[15.       0.38529  0.33157  0.86648]                      \n",
      "[16.       0.40798  0.31204  0.84375]                      \n",
      "[17.       0.39736  0.2938   0.85227]                      \n",
      "[18.       0.40779  0.2982   0.86364]                      \n",
      "[19.       0.37931  0.28546  0.86079]                      \n",
      "[20.       0.40488  0.28701  0.875  ]                      \n",
      "[21.       0.39238  0.29027  0.87216]                      \n",
      "[22.       0.40603  0.32387  0.86932]                      \n",
      "[23.       0.41828  0.29644  0.84943]                      \n",
      "[24.       0.38979  0.29623  0.86932]                      \n",
      "[25.       0.37024  0.28652  0.86932]                      \n",
      "[26.       0.35854  0.28684  0.86932]                      \n",
      "[27.       0.36355  0.28748  0.86648]                      \n",
      "[28.       0.3571   0.2839   0.86364]                      \n",
      "[29.       0.35536  0.29211  0.875  ]                      \n",
      "[30.       0.36245  0.2827   0.87784]                      \n",
      "[31.       0.39766  0.30764  0.83807]                      \n",
      "[32.       0.39804  0.31971  0.83807]                      \n",
      "[33.       0.39399  0.29782  0.86364]                      \n",
      "[34.       0.38578  0.30637  0.84943]                      \n",
      "[35.       0.36922  0.29556  0.85511]                      \n",
      "[36.       0.39914  0.29789  0.86079]                      \n",
      "[37.       0.37792  0.28813  0.86364]                      \n",
      "[38.       0.39377  0.29142  0.86079]                      \n",
      "[39.       0.39544  0.30298  0.85511]                      \n",
      "[40.       0.38139  0.3125   0.84375]                      \n",
      "[41.       0.35765  0.29868  0.85511]                      \n",
      "[42.       0.3501   0.28783  0.86079]                      \n",
      "[43.       0.37781  0.33559  0.85227]                      \n",
      "[44.       0.36207  0.32437  0.84091]                      \n",
      "[45.       0.36895  0.30215  0.85227]                      \n",
      "[46.       0.3699   0.29523  0.86364]                      \n",
      "[47.       0.342    0.30321  0.85227]                      \n",
      "[48.       0.3369   0.29896  0.86079]                      \n",
      "[49.       0.32657  0.29649  0.85511]                      \n",
      "[50.       0.34544  0.29194  0.86648]                      \n",
      "[51.       0.33682  0.31144  0.86648]                      \n",
      "[52.       0.37716  0.30049  0.875  ]                      \n",
      "[53.       0.35752  0.30651  0.86648]                      \n",
      "[54.       0.34597  0.29794  0.86932]                      \n",
      "[55.       0.34755  0.30453  0.86079]                      \n",
      "[56.       0.35721  0.29731  0.85511]                      \n",
      "[57.       0.36477  0.30911  0.86079]                      \n",
      "[58.       0.35665  0.30496  0.86364]                      \n",
      "[59.       0.35425  0.30419  0.86364]                      \n",
      "[60.       0.36197  0.30969  0.86364]                      \n",
      "[61.       0.38011  0.3094   0.86364]                      \n",
      "[62.       0.36017  0.30173  0.85796]                      \n",
      "\n"
     ]
    }
   ],
   "source": [
    "#learn.fit(lr, 4, cycle_len=2)\n",
    "learn.fit(lr, 6, cycle_len=1, cycle_mult=2)"
   ]
  },
  {
   "cell_type": "code",
   "execution_count": 16,
   "metadata": {},
   "outputs": [
    {
     "data": {
      "image/png": "[encoded data removed]",
      "text/plain": [
       "<matplotlib.figure.Figure at 0x7f414d590b38>"
      ]
     },
     "metadata": {},
     "output_type": "display_data"
    }
   ],
   "source": [
    "learn.sched.plot_lr()"
   ]
  },
  {
   "cell_type": "code",
   "execution_count": 17,
   "metadata": {},
   "outputs": [
    {
     "data": {
      "image/png": "[encoded data removed]",
      "text/plain": [
       "<matplotlib.figure.Figure at 0x7f4164089c88>"
      ]
     },
     "metadata": {},
     "output_type": "display_data"
    }
   ],
   "source": [
    "learn.sched.plot_loss()"
   ]
  },
  {
   "cell_type": "code",
   "execution_count": 18,
   "metadata": {},
   "outputs": [
    {
     "name": "stdout",
     "output_type": "stream",
     "text": [
      "                                             \r"
     ]
    },
    {
     "data": {
      "text/plain": [
       "(0.29436033869896056, 0.8753894080996885)"
      ]
     },
     "execution_count": 18,
     "metadata": {},
     "output_type": "execute_result"
    }
   ],
   "source": [
    "log_preds,y = learn.TTA()\n",
    "preds = np.mean(np.exp(log_preds),axis=0)\n",
    "(metrics.log_loss(y,preds), accuracy(preds,y))"
   ]
  },
  {
   "cell_type": "code",
   "execution_count": 19,
   "metadata": {},
   "outputs": [],
   "source": [
    "# lr/10"
   ]
  },
  {
   "cell_type": "code",
   "execution_count": 20,
   "metadata": {},
   "outputs": [],
   "source": [
    "# lr/9"
   ]
  },
  {
   "cell_type": "code",
   "execution_count": 21,
   "metadata": {},
   "outputs": [],
   "source": [
    "# lr/3"
   ]
  },
  {
   "cell_type": "code",
   "execution_count": 22,
   "metadata": {},
   "outputs": [],
   "source": [
    "# lr/4"
   ]
  },
  {
   "cell_type": "markdown",
   "metadata": {},
   "source": [
    "### Unfreeze Layers"
   ]
  },
  {
   "cell_type": "code",
   "execution_count": 23,
   "metadata": {},
   "outputs": [],
   "source": [
    "# unfreeze layers\n",
    "learn.unfreeze()\n",
    "#lrs = np.array([lr/15,lr/12,lr/9])\n",
    "lrs = np.array([lr/9,lr/3,lr/1])\n",
    "\n",
    "#wd = 0.025\n",
    "#wds=[wd/100, wd/10, wd]\n",
    "#wds=[0.0025,0.025,0.25]\n"
   ]
  },
  {
   "cell_type": "markdown",
   "metadata": {},
   "source": [
    "### Run Learner Again"
   ]
  },
  {
   "cell_type": "code",
   "execution_count": 24,
   "metadata": {},
   "outputs": [
    {
     "data": {
      "application/vnd.jupyter.widget-view+json": {
       "model_id": "d78c1f8868844e3f8c3a8c5ee92b3492",
       "version_major": 2,
       "version_minor": 0
      },
      "text/html": [
       "<p>Failed to display Jupyter Widget of type <code>HBox</code>.</p>\n",
       "<p>\n",
       "  If you're reading this message in the Jupyter Notebook or JupyterLab Notebook, it may mean\n",
       "  that the widgets JavaScript is still loading. If this message persists, it\n",
       "  likely means that the widgets JavaScript library is either not installed or\n",
       "  not enabled. See the <a href=\"https://ipywidgets.readthedocs.io/en/stable/user_install.html\">Jupyter\n",
       "  Widgets Documentation</a> for setup instructions.\n",
       "</p>\n",
       "<p>\n",
       "  If you're reading this message in another frontend (for example, a static\n",
       "  rendering on GitHub or <a href=\"https://nbviewer.jupyter.org/\">NBViewer</a>),\n",
       "  it may mean that your frontend doesn't currently support widgets.\n",
       "</p>\n"
      ],
      "text/plain": [
       "HBox(children=(IntProgress(value=0, description='Epoch', max=63), HTML(value='')))"
      ]
     },
     "metadata": {},
     "output_type": "display_data"
    },
    {
     "name": "stdout",
     "output_type": "stream",
     "text": [
      "[0.      0.51119 0.39686 0.80114]                          \n",
      "[1.      0.41433 0.31581 0.86079]                          \n",
      "[2.      0.34278 0.27269 0.88352]                          \n",
      "[3.      0.33222 0.24953 0.89204]                          \n",
      "[4.      0.31777 0.25916 0.87784]                          \n",
      "[5.      0.28662 0.25582 0.87216]                          \n",
      "[6.      0.24937 0.28932 0.875  ]                          \n",
      "[7.      0.24128 0.24823 0.88636]                          \n",
      "[8.      0.26963 0.23062 0.90057]                          \n",
      "[9.      0.24302 0.34074 0.87216]                          \n",
      "[10.       0.20515  0.25601  0.87784]                      \n",
      "[11.       0.18742  0.2276   0.90341]                      \n",
      "[12.       0.20606  0.23921  0.90909]                      \n",
      "[13.       0.16345  0.24911  0.90057]                      \n",
      "[14.       0.15015  0.25653  0.89204]                      \n",
      "[15.       0.1619   0.24322  0.89773]                      \n",
      "[16.       0.16295  0.34569  0.85227]                      \n",
      "[17.       0.16717  0.29879  0.89204]                      \n",
      "[18.       0.13734  0.27496  0.90057]                      \n",
      "[19.       0.19684  0.37637  0.85511]                      \n",
      "[20.       0.34547  0.28914  0.86364]                      \n",
      "[21.       0.35523  0.34343  0.82671]                      \n",
      "[22.       0.31149  0.32625  0.84091]                      \n",
      "[23.       0.29557  0.62666  0.75   ]                      \n",
      "[24.       0.26373  0.29817  0.86648]                      \n",
      "[25.       0.25974  0.34863  0.84943]                      \n",
      "[26.       0.29316  0.39982  0.80966]                      \n",
      "[27.       0.26724  0.38206  0.80966]                      \n",
      "[28.       0.27338  0.37533  0.81818]                      \n",
      "[29.       0.2805   0.42562  0.80682]                      \n",
      "[30.       0.26991  0.34546  0.82102]                      \n",
      "[31.       0.29634  0.49272  0.78409]                      \n",
      "[32.       0.25314  0.44648  0.82386]                      \n",
      "[33.       0.21112  0.41405  0.82671]                      \n",
      "[34.       0.23994  0.3697   0.83807]                      \n",
      "[35.       0.25962  0.34211  0.85511]                      \n",
      "[36.       0.28556  0.33231  0.87216]                      \n",
      "[37.       0.25013  0.3017   0.86079]                      \n",
      "[38.       0.20309  0.29498  0.87216]                      \n",
      "[39.       0.21233  0.37224  0.85796]                      \n",
      "[40.       0.23568  0.23745  0.88921]                      \n",
      "[41.       0.21293  0.33087  0.85796]                      \n",
      "[42.       0.16585  0.30983  0.87784]                      \n",
      "[43.       0.17554  0.32414  0.87784]                      \n",
      "[44.       0.16752  0.26692  0.89489]                      \n",
      "[45.       0.13979  0.39282  0.86079]                      \n",
      "[46.       0.14255  0.40794  0.85796]                      \n",
      "[47.       0.16094  0.4354   0.87216]                      \n",
      "[48.       0.18868  0.32274  0.88068]                      \n",
      "[49.       0.17607  0.29463  0.88636]                      \n",
      "[50.       0.15747  0.43814  0.84943]                      \n",
      "[51.       0.17167  0.31115  0.87784]                      \n",
      "[52.       0.13538  0.31779  0.88068]                      \n",
      "[53.       0.10884  0.31765  0.88352]                       \n",
      "[54.       0.10098  0.39534  0.875  ]                       \n",
      "[55.       0.09869  0.37504  0.89204]                       \n",
      "[56.       0.08689  0.43664  0.86648]                       \n",
      "[57.       0.11017  0.41909  0.87784]                       \n",
      "[58.       0.11643  0.31197  0.89489]                       \n",
      "[59.       0.08398  0.419    0.87216]                       \n",
      "[60.       0.13489  0.41671  0.86932]                       \n",
      "[61.       0.14833  0.38853  0.89489]                      \n",
      "[62.       0.11285  0.41106  0.88068]                      \n",
      "\n"
     ]
    }
   ],
   "source": [
    "learn.fit(lrs, 6, cycle_len=1, cycle_mult=2)\n",
    "#learn.fit(lrs, 5, cycle_len=1, cycle_mult=2,use_wd_sched=True,wds=wds)"
   ]
  },
  {
   "cell_type": "code",
   "execution_count": 25,
   "metadata": {},
   "outputs": [
    {
     "data": {
      "image/png": "[encoded data removed]",
      "text/plain": [
       "<matplotlib.figure.Figure at 0x7f414d5cdc50>"
      ]
     },
     "metadata": {},
     "output_type": "display_data"
    }
   ],
   "source": [
    "learn.sched.plot_lr()"
   ]
  },
  {
   "cell_type": "code",
   "execution_count": 26,
   "metadata": {},
   "outputs": [
    {
     "data": {
      "image/png": "[encoded data removed]",
      "text/plain": [
       "<matplotlib.figure.Figure at 0x7f414cba16a0>"
      ]
     },
     "metadata": {},
     "output_type": "display_data"
    }
   ],
   "source": [
    "learn.sched.plot_loss()"
   ]
  },
  {
   "cell_type": "code",
   "execution_count": 27,
   "metadata": {},
   "outputs": [
    {
     "name": "stdout",
     "output_type": "stream",
     "text": [
      "                                             \r"
     ]
    },
    {
     "data": {
      "text/plain": [
       "(0.27450479332743705, 0.8940809968847352)"
      ]
     },
     "execution_count": 27,
     "metadata": {},
     "output_type": "execute_result"
    }
   ],
   "source": [
    "log_preds,y = learn.TTA()\n",
    "preds = np.mean(np.exp(log_preds),axis=0)\n",
    "(metrics.log_loss(y,preds), accuracy(preds,y))"
   ]
  },
  {
   "cell_type": "code",
   "execution_count": 28,
   "metadata": {},
   "outputs": [],
   "source": [
    "learn.save('resnext50_sz75_zm12')"
   ]
  },
  {
   "cell_type": "code",
   "execution_count": 29,
   "metadata": {},
   "outputs": [],
   "source": [
    "learn.load('resnext50_sz75_zm12')"
   ]
  },
  {
   "cell_type": "markdown",
   "metadata": {},
   "source": [
    "### Run Learner again"
   ]
  },
  {
   "cell_type": "code",
   "execution_count": 30,
   "metadata": {},
   "outputs": [
    {
     "data": {
      "application/vnd.jupyter.widget-view+json": {
       "model_id": "c0c955aa48de4572a75b1df76400513c",
       "version_major": 2,
       "version_minor": 0
      },
      "text/html": [
       "<p>Failed to display Jupyter Widget of type <code>HBox</code>.</p>\n",
       "<p>\n",
       "  If you're reading this message in the Jupyter Notebook or JupyterLab Notebook, it may mean\n",
       "  that the widgets JavaScript is still loading. If this message persists, it\n",
       "  likely means that the widgets JavaScript library is either not installed or\n",
       "  not enabled. See the <a href=\"https://ipywidgets.readthedocs.io/en/stable/user_install.html\">Jupyter\n",
       "  Widgets Documentation</a> for setup instructions.\n",
       "</p>\n",
       "<p>\n",
       "  If you're reading this message in another frontend (for example, a static\n",
       "  rendering on GitHub or <a href=\"https://nbviewer.jupyter.org/\">NBViewer</a>),\n",
       "  it may mean that your frontend doesn't currently support widgets.\n",
       "</p>\n"
      ],
      "text/plain": [
       "HBox(children=(IntProgress(value=0, description='Epoch', max=63), HTML(value='')))"
      ]
     },
     "metadata": {},
     "output_type": "display_data"
    },
    {
     "name": "stdout",
     "output_type": "stream",
     "text": [
      "[0.      0.12268 0.33517 0.88921]                          \n",
      "[1.      0.15165 0.31365 0.875  ]                          \n",
      "[2.      0.12309 0.34163 0.88068]                          \n",
      "[3.      0.18311 0.27565 0.90341]                          \n",
      "[4.      0.13618 0.30569 0.87784]                          \n",
      "[5.      0.11171 0.34182 0.87784]                          \n",
      "[6.      0.08782 0.35781 0.89204]                           \n",
      "[7.      0.08607 0.30347 0.90625]                           \n",
      "[8.      0.1726  0.50979 0.83807]                           \n",
      "[9.      0.14677 0.3044  0.90625]                          \n",
      "[10.       0.14314  0.39492  0.87784]                      \n",
      "[11.       0.1219   0.46043  0.86648]                      \n",
      "[12.       0.1117   0.43205  0.86648]                       \n",
      "[13.       0.11275  0.35311  0.88636]                       \n",
      "[14.       0.09713  0.37705  0.86932]                       \n",
      "[15.       0.13306  0.58516  0.83523]                      \n",
      "[16.       0.12111  0.36078  0.86648]                      \n",
      "[17.       0.15251  0.31952  0.90057]                       \n",
      "[18.       0.1232   0.43179  0.86932]                      \n",
      "[19.       0.08394  0.41684  0.88352]                       \n",
      "[20.       0.11493  0.66426  0.85796]                       \n",
      "[21.       0.1364   0.41949  0.88921]                      \n",
      "[22.       0.18069  0.59525  0.82102]                      \n",
      "[23.       0.12627  0.35364  0.88636]                      \n",
      "[24.       0.13227  0.46037  0.86648]                       \n",
      "[25.       0.13241  0.35233  0.875  ]                      \n",
      "[26.       0.14076  0.36253  0.88068]                      \n",
      "[27.       0.10788  0.47979  0.87216]                       \n",
      "[28.       0.08854  0.39871  0.875  ]                       \n",
      "[29.       0.07771  0.37563  0.88068]                       \n",
      "[30.       0.06105  0.46     0.875  ]                       \n",
      "[31.       0.06834  0.53877  0.84659]                       \n",
      "[32.       0.07889  0.49499  0.85511]                       \n",
      "[33.       0.0872   0.43733  0.88636]                       \n",
      "[34.       0.12003  0.58429  0.84659]                       \n",
      "[35.       0.1232   0.4414   0.86364]                      \n",
      "[36.       0.10887  0.41911  0.86932]                      \n",
      "[37.       0.0826   0.50516  0.85796]                       \n",
      "[38.       0.07245  0.47599  0.86932]                       \n",
      "[39.       0.05591  0.38545  0.86932]                       \n",
      "[40.       0.05237  0.42439  0.87784]                       \n",
      "[41.       0.15229  0.60266  0.83239]                       \n",
      "[42.       0.14381  0.40646  0.875  ]                       \n",
      "[43.       0.11055  0.43409  0.85511]                      \n",
      "[44.       0.08817  0.41339  0.88068]                       \n",
      "[45.       0.08276  0.40715  0.88921]                       \n",
      "[46.       0.06893  0.39587  0.88068]                       \n",
      "[47.       0.05226  0.38077  0.87784]                       \n",
      "[48.       0.04103  0.47042  0.86648]                       \n",
      "[49.       0.0593   0.49312  0.875  ]                       \n",
      "[50.       0.10371  0.47594  0.86648]                       \n",
      "[51.       0.06428  0.4053   0.87216]                       \n",
      "[52.       0.04861  0.42002  0.875  ]                       \n",
      "[53.       0.11681  0.4532   0.87784]                       \n",
      "[54.       0.09798  0.44153  0.87216]                       \n",
      "[55.       0.05929  0.42417  0.88068]                       \n",
      "[56.       0.05421  0.42152  0.88921]                       \n",
      "[57.       0.04737  0.37579  0.89489]                       \n",
      "[58.       0.03321  0.40086  0.88636]                       \n",
      "[59.       0.07931  0.42718  0.88352]                       \n",
      "[60.       0.05259  0.42606  0.875  ]                       \n",
      "[61.       0.04137  0.41565  0.88636]                       \n",
      "[62.       0.03766  0.42061  0.88352]                       \n",
      "\n"
     ]
    }
   ],
   "source": [
    "learn.fit(lrs, 6, cycle_len=1, cycle_mult=2)"
   ]
  },
  {
   "cell_type": "code",
   "execution_count": 31,
   "metadata": {},
   "outputs": [
    {
     "data": {
      "image/png": "[encoded data removed]",
      "text/plain": [
       "<matplotlib.figure.Figure at 0x7f414d465588>"
      ]
     },
     "metadata": {},
     "output_type": "display_data"
    }
   ],
   "source": [
    "learn.sched.plot_loss()"
   ]
  },
  {
   "cell_type": "code",
   "execution_count": 32,
   "metadata": {},
   "outputs": [
    {
     "name": "stdout",
     "output_type": "stream",
     "text": [
      "                                             \r"
     ]
    },
    {
     "data": {
      "text/plain": [
       "(0.33657381838428085, 0.881619937694704)"
      ]
     },
     "execution_count": 32,
     "metadata": {},
     "output_type": "execute_result"
    }
   ],
   "source": [
    "log_preds,y = learn.TTA()\n",
    "preds = np.mean(np.exp(log_preds),axis=0)\n",
    "(metrics.log_loss(y,preds), accuracy(preds,y))"
   ]
  },
  {
   "cell_type": "markdown",
   "metadata": {},
   "source": [
    "### Run Learner again"
   ]
  },
  {
   "cell_type": "code",
   "execution_count": 33,
   "metadata": {},
   "outputs": [
    {
     "data": {
      "application/vnd.jupyter.widget-view+json": {
       "model_id": "6a950480f09c417abfee56255979b00a",
       "version_major": 2,
       "version_minor": 0
      },
      "text/html": [
       "<p>Failed to display Jupyter Widget of type <code>HBox</code>.</p>\n",
       "<p>\n",
       "  If you're reading this message in the Jupyter Notebook or JupyterLab Notebook, it may mean\n",
       "  that the widgets JavaScript is still loading. If this message persists, it\n",
       "  likely means that the widgets JavaScript library is either not installed or\n",
       "  not enabled. See the <a href=\"https://ipywidgets.readthedocs.io/en/stable/user_install.html\">Jupyter\n",
       "  Widgets Documentation</a> for setup instructions.\n",
       "</p>\n",
       "<p>\n",
       "  If you're reading this message in another frontend (for example, a static\n",
       "  rendering on GitHub or <a href=\"https://nbviewer.jupyter.org/\">NBViewer</a>),\n",
       "  it may mean that your frontend doesn't currently support widgets.\n",
       "</p>\n"
      ],
      "text/plain": [
       "HBox(children=(IntProgress(value=0, description='Epoch', max=63), HTML(value='')))"
      ]
     },
     "metadata": {},
     "output_type": "display_data"
    },
    {
     "name": "stdout",
     "output_type": "stream",
     "text": [
      "[0.      0.18378 0.48322 0.875  ]                           \n",
      "[1.      0.10417 0.42388 0.86364]                           \n",
      "[2.      0.11562 0.33858 0.89489]                           \n",
      "[3.      0.07672 0.30463 0.90057]                           \n",
      "[4.      0.06673 0.3811  0.88068]                           \n",
      "[5.      0.12975 0.37492 0.89204]                           \n",
      "[6.      0.08586 0.34695 0.88921]                           \n",
      "[7.      0.06178 0.39774 0.89773]                           \n",
      "[8.      0.08045 0.40698 0.89204]                           \n",
      "[9.      0.11349 0.47287 0.86648]                          \n",
      "[10.       0.09922  0.34917  0.90625]                       \n",
      "[11.       0.09501  0.36274  0.89489]                       \n",
      "[12.       0.07781  0.39213  0.88921]                       \n",
      "[13.       0.08187  0.34004  0.89489]                       \n",
      "[14.       0.07801  0.37382  0.875  ]                       \n",
      "[15.       0.09595  0.42967  0.88068]                       \n",
      "[16.       0.12496  0.41968  0.85511]                      \n",
      "[17.       0.09355  0.49051  0.86932]                       \n",
      "[18.       0.10343  0.36958  0.88921]                       \n",
      "[19.       0.09544  0.43581  0.85796]                       \n",
      " 44%|████▍     | 18/41 [00:35<00:44,  1.95s/it, loss=0.0843]"
     ]
    },
    {
     "ename": "KeyboardInterrupt",
     "evalue": "",
     "output_type": "error",
     "traceback": [
      "\u001b[0;31m---------------------------------------------------------------------------\u001b[0m",
      "\u001b[0;31mKeyboardInterrupt\u001b[0m                         Traceback (most recent call last)",
      "\u001b[0;32m<ipython-input-33-73791edd19a9>\u001b[0m in \u001b[0;36m<module>\u001b[0;34m()\u001b[0m\n\u001b[0;32m----> 1\u001b[0;31m \u001b[0mlearn\u001b[0m\u001b[0;34m.\u001b[0m\u001b[0mfit\u001b[0m\u001b[0;34m(\u001b[0m\u001b[0mlrs\u001b[0m\u001b[0;34m,\u001b[0m \u001b[0;36m6\u001b[0m\u001b[0;34m,\u001b[0m \u001b[0mcycle_len\u001b[0m\u001b[0;34m=\u001b[0m\u001b[0;36m1\u001b[0m\u001b[0;34m,\u001b[0m \u001b[0mcycle_mult\u001b[0m\u001b[0;34m=\u001b[0m\u001b[0;36m2\u001b[0m\u001b[0;34m)\u001b[0m\u001b[0;34m\u001b[0m\u001b[0m\n\u001b[0m",
      "\u001b[0;32m~/fastai/fastai/learner.py\u001b[0m in \u001b[0;36mfit\u001b[0;34m(self, lrs, n_cycle, wds, **kwargs)\u001b[0m\n\u001b[1;32m    211\u001b[0m         \u001b[0mself\u001b[0m\u001b[0;34m.\u001b[0m\u001b[0msched\u001b[0m \u001b[0;34m=\u001b[0m \u001b[0;32mNone\u001b[0m\u001b[0;34m\u001b[0m\u001b[0m\n\u001b[1;32m    212\u001b[0m         \u001b[0mlayer_opt\u001b[0m \u001b[0;34m=\u001b[0m \u001b[0mself\u001b[0m\u001b[0;34m.\u001b[0m\u001b[0mget_layer_opt\u001b[0m\u001b[0;34m(\u001b[0m\u001b[0mlrs\u001b[0m\u001b[0;34m,\u001b[0m \u001b[0mwds\u001b[0m\u001b[0;34m)\u001b[0m\u001b[0;34m\u001b[0m\u001b[0m\n\u001b[0;32m--> 213\u001b[0;31m         \u001b[0mself\u001b[0m\u001b[0;34m.\u001b[0m\u001b[0mfit_gen\u001b[0m\u001b[0;34m(\u001b[0m\u001b[0mself\u001b[0m\u001b[0;34m.\u001b[0m\u001b[0mmodel\u001b[0m\u001b[0;34m,\u001b[0m \u001b[0mself\u001b[0m\u001b[0;34m.\u001b[0m\u001b[0mdata\u001b[0m\u001b[0;34m,\u001b[0m \u001b[0mlayer_opt\u001b[0m\u001b[0;34m,\u001b[0m \u001b[0mn_cycle\u001b[0m\u001b[0;34m,\u001b[0m \u001b[0;34m**\u001b[0m\u001b[0mkwargs\u001b[0m\u001b[0;34m)\u001b[0m\u001b[0;34m\u001b[0m\u001b[0m\n\u001b[0m\u001b[1;32m    214\u001b[0m \u001b[0;34m\u001b[0m\u001b[0m\n\u001b[1;32m    215\u001b[0m     \u001b[0;32mdef\u001b[0m \u001b[0mwarm_up\u001b[0m\u001b[0;34m(\u001b[0m\u001b[0mself\u001b[0m\u001b[0;34m,\u001b[0m \u001b[0mstart_lr\u001b[0m\u001b[0;34m=\u001b[0m\u001b[0;36m1e-5\u001b[0m\u001b[0;34m,\u001b[0m \u001b[0mend_lr\u001b[0m\u001b[0;34m=\u001b[0m\u001b[0;36m10\u001b[0m\u001b[0;34m,\u001b[0m \u001b[0mwds\u001b[0m\u001b[0;34m=\u001b[0m\u001b[0;32mNone\u001b[0m\u001b[0;34m)\u001b[0m\u001b[0;34m:\u001b[0m\u001b[0;34m\u001b[0m\u001b[0m\n",
      "\u001b[0;32m~/fastai/fastai/learner.py\u001b[0m in \u001b[0;36mfit_gen\u001b[0;34m(self, model, data, layer_opt, n_cycle, cycle_len, cycle_mult, cycle_save_name, metrics, callbacks, use_wd_sched, norm_wds, wds_sched_mult, **kwargs)\u001b[0m\n\u001b[1;32m    158\u001b[0m         \u001b[0mn_epoch\u001b[0m \u001b[0;34m=\u001b[0m \u001b[0msum_geom\u001b[0m\u001b[0;34m(\u001b[0m\u001b[0mcycle_len\u001b[0m \u001b[0;32mif\u001b[0m \u001b[0mcycle_len\u001b[0m \u001b[0;32melse\u001b[0m \u001b[0;36m1\u001b[0m\u001b[0;34m,\u001b[0m \u001b[0mcycle_mult\u001b[0m\u001b[0;34m,\u001b[0m \u001b[0mn_cycle\u001b[0m\u001b[0;34m)\u001b[0m\u001b[0;34m\u001b[0m\u001b[0m\n\u001b[1;32m    159\u001b[0m         fit(model, data, n_epoch, layer_opt.opt, self.crit,\n\u001b[0;32m--> 160\u001b[0;31m             metrics=metrics, callbacks=callbacks, reg_fn=self.reg_fn, clip=self.clip, **kwargs)\n\u001b[0m\u001b[1;32m    161\u001b[0m \u001b[0;34m\u001b[0m\u001b[0m\n\u001b[1;32m    162\u001b[0m     \u001b[0;32mdef\u001b[0m \u001b[0mget_layer_groups\u001b[0m\u001b[0;34m(\u001b[0m\u001b[0mself\u001b[0m\u001b[0;34m)\u001b[0m\u001b[0;34m:\u001b[0m \u001b[0;32mreturn\u001b[0m \u001b[0mself\u001b[0m\u001b[0;34m.\u001b[0m\u001b[0mmodels\u001b[0m\u001b[0;34m.\u001b[0m\u001b[0mget_layer_groups\u001b[0m\u001b[0;34m(\u001b[0m\u001b[0;34m)\u001b[0m\u001b[0;34m\u001b[0m\u001b[0m\n",
      "\u001b[0;32m~/fastai/fastai/model.py\u001b[0m in \u001b[0;36mfit\u001b[0;34m(model, data, epochs, opt, crit, metrics, callbacks, **kwargs)\u001b[0m\n\u001b[1;32m     87\u001b[0m             \u001b[0mbatch_num\u001b[0m \u001b[0;34m+=\u001b[0m \u001b[0;36m1\u001b[0m\u001b[0;34m\u001b[0m\u001b[0m\n\u001b[1;32m     88\u001b[0m             \u001b[0;32mfor\u001b[0m \u001b[0mcb\u001b[0m \u001b[0;32min\u001b[0m \u001b[0mcallbacks\u001b[0m\u001b[0;34m:\u001b[0m \u001b[0mcb\u001b[0m\u001b[0;34m.\u001b[0m\u001b[0mon_batch_begin\u001b[0m\u001b[0;34m(\u001b[0m\u001b[0;34m)\u001b[0m\u001b[0;34m\u001b[0m\u001b[0m\n\u001b[0;32m---> 89\u001b[0;31m             \u001b[0mloss\u001b[0m \u001b[0;34m=\u001b[0m \u001b[0mstepper\u001b[0m\u001b[0;34m.\u001b[0m\u001b[0mstep\u001b[0m\u001b[0;34m(\u001b[0m\u001b[0mV\u001b[0m\u001b[0;34m(\u001b[0m\u001b[0mx\u001b[0m\u001b[0;34m)\u001b[0m\u001b[0;34m,\u001b[0m\u001b[0mV\u001b[0m\u001b[0;34m(\u001b[0m\u001b[0my\u001b[0m\u001b[0;34m)\u001b[0m\u001b[0;34m)\u001b[0m\u001b[0;34m\u001b[0m\u001b[0m\n\u001b[0m\u001b[1;32m     90\u001b[0m             \u001b[0mavg_loss\u001b[0m \u001b[0;34m=\u001b[0m \u001b[0mavg_loss\u001b[0m \u001b[0;34m*\u001b[0m \u001b[0mavg_mom\u001b[0m \u001b[0;34m+\u001b[0m \u001b[0mloss\u001b[0m \u001b[0;34m*\u001b[0m \u001b[0;34m(\u001b[0m\u001b[0;36m1\u001b[0m\u001b[0;34m-\u001b[0m\u001b[0mavg_mom\u001b[0m\u001b[0;34m)\u001b[0m\u001b[0;34m\u001b[0m\u001b[0m\n\u001b[1;32m     91\u001b[0m             \u001b[0mdebias_loss\u001b[0m \u001b[0;34m=\u001b[0m \u001b[0mavg_loss\u001b[0m \u001b[0;34m/\u001b[0m \u001b[0;34m(\u001b[0m\u001b[0;36m1\u001b[0m \u001b[0;34m-\u001b[0m \u001b[0mavg_mom\u001b[0m\u001b[0;34m**\u001b[0m\u001b[0mbatch_num\u001b[0m\u001b[0;34m)\u001b[0m\u001b[0;34m\u001b[0m\u001b[0m\n",
      "\u001b[0;32m~/fastai/fastai/model.py\u001b[0m in \u001b[0;36mstep\u001b[0;34m(self, xs, y)\u001b[0m\n\u001b[1;32m     43\u001b[0m         \u001b[0mloss\u001b[0m \u001b[0;34m=\u001b[0m \u001b[0mraw_loss\u001b[0m \u001b[0;34m=\u001b[0m \u001b[0mself\u001b[0m\u001b[0;34m.\u001b[0m\u001b[0mcrit\u001b[0m\u001b[0;34m(\u001b[0m\u001b[0moutput\u001b[0m\u001b[0;34m,\u001b[0m \u001b[0my\u001b[0m\u001b[0;34m)\u001b[0m\u001b[0;34m\u001b[0m\u001b[0m\n\u001b[1;32m     44\u001b[0m         \u001b[0;32mif\u001b[0m \u001b[0mself\u001b[0m\u001b[0;34m.\u001b[0m\u001b[0mreg_fn\u001b[0m\u001b[0;34m:\u001b[0m \u001b[0mloss\u001b[0m \u001b[0;34m=\u001b[0m \u001b[0mself\u001b[0m\u001b[0;34m.\u001b[0m\u001b[0mreg_fn\u001b[0m\u001b[0;34m(\u001b[0m\u001b[0moutput\u001b[0m\u001b[0;34m,\u001b[0m \u001b[0mxtra\u001b[0m\u001b[0;34m,\u001b[0m \u001b[0mraw_loss\u001b[0m\u001b[0;34m)\u001b[0m\u001b[0;34m\u001b[0m\u001b[0m\n\u001b[0;32m---> 45\u001b[0;31m         \u001b[0mloss\u001b[0m\u001b[0;34m.\u001b[0m\u001b[0mbackward\u001b[0m\u001b[0;34m(\u001b[0m\u001b[0;34m)\u001b[0m\u001b[0;34m\u001b[0m\u001b[0m\n\u001b[0m\u001b[1;32m     46\u001b[0m         \u001b[0;32mif\u001b[0m \u001b[0mself\u001b[0m\u001b[0;34m.\u001b[0m\u001b[0mclip\u001b[0m\u001b[0;34m:\u001b[0m   \u001b[0;31m# Gradient clipping\u001b[0m\u001b[0;34m\u001b[0m\u001b[0m\n\u001b[1;32m     47\u001b[0m             \u001b[0mnn\u001b[0m\u001b[0;34m.\u001b[0m\u001b[0mutils\u001b[0m\u001b[0;34m.\u001b[0m\u001b[0mclip_grad_norm\u001b[0m\u001b[0;34m(\u001b[0m\u001b[0mtrainable_params_\u001b[0m\u001b[0;34m(\u001b[0m\u001b[0mself\u001b[0m\u001b[0;34m.\u001b[0m\u001b[0mm\u001b[0m\u001b[0;34m)\u001b[0m\u001b[0;34m,\u001b[0m \u001b[0mself\u001b[0m\u001b[0;34m.\u001b[0m\u001b[0mclip\u001b[0m\u001b[0;34m)\u001b[0m\u001b[0;34m\u001b[0m\u001b[0m\n",
      "\u001b[0;32m~/src/anaconda3/envs/fastai/lib/python3.6/site-packages/torch/autograd/variable.py\u001b[0m in \u001b[0;36mbackward\u001b[0;34m(self, gradient, retain_graph, create_graph, retain_variables)\u001b[0m\n\u001b[1;32m    165\u001b[0m                 \u001b[0mVariable\u001b[0m\u001b[0;34m.\u001b[0m\u001b[0;34m\u001b[0m\u001b[0m\n\u001b[1;32m    166\u001b[0m         \"\"\"\n\u001b[0;32m--> 167\u001b[0;31m         \u001b[0mtorch\u001b[0m\u001b[0;34m.\u001b[0m\u001b[0mautograd\u001b[0m\u001b[0;34m.\u001b[0m\u001b[0mbackward\u001b[0m\u001b[0;34m(\u001b[0m\u001b[0mself\u001b[0m\u001b[0;34m,\u001b[0m \u001b[0mgradient\u001b[0m\u001b[0;34m,\u001b[0m \u001b[0mretain_graph\u001b[0m\u001b[0;34m,\u001b[0m \u001b[0mcreate_graph\u001b[0m\u001b[0;34m,\u001b[0m \u001b[0mretain_variables\u001b[0m\u001b[0;34m)\u001b[0m\u001b[0;34m\u001b[0m\u001b[0m\n\u001b[0m\u001b[1;32m    168\u001b[0m \u001b[0;34m\u001b[0m\u001b[0m\n\u001b[1;32m    169\u001b[0m     \u001b[0;32mdef\u001b[0m \u001b[0mregister_hook\u001b[0m\u001b[0;34m(\u001b[0m\u001b[0mself\u001b[0m\u001b[0;34m,\u001b[0m \u001b[0mhook\u001b[0m\u001b[0;34m)\u001b[0m\u001b[0;34m:\u001b[0m\u001b[0;34m\u001b[0m\u001b[0m\n",
      "\u001b[0;32m~/src/anaconda3/envs/fastai/lib/python3.6/site-packages/torch/autograd/__init__.py\u001b[0m in \u001b[0;36mbackward\u001b[0;34m(variables, grad_variables, retain_graph, create_graph, retain_variables)\u001b[0m\n\u001b[1;32m     97\u001b[0m \u001b[0;34m\u001b[0m\u001b[0m\n\u001b[1;32m     98\u001b[0m     Variable._execution_engine.run_backward(\n\u001b[0;32m---> 99\u001b[0;31m         variables, grad_variables, retain_graph)\n\u001b[0m\u001b[1;32m    100\u001b[0m \u001b[0;34m\u001b[0m\u001b[0m\n\u001b[1;32m    101\u001b[0m \u001b[0;34m\u001b[0m\u001b[0m\n",
      "\u001b[0;31mKeyboardInterrupt\u001b[0m: "
     ]
    }
   ],
   "source": [
    "learn.fit(lrs, 6, cycle_len=1, cycle_mult=2)"
   ]
  },
  {
   "cell_type": "code",
   "execution_count": null,
   "metadata": {},
   "outputs": [],
   "source": [
    "learn.sched.plot_loss()"
   ]
  },
  {
   "cell_type": "markdown",
   "metadata": {},
   "source": [
    "## Log Loss | Accuracy (final model here)"
   ]
  },
  {
   "cell_type": "code",
   "execution_count": null,
   "metadata": {},
   "outputs": [],
   "source": [
    "log_preds,y = learn.TTA()\n",
    "preds = np.mean(np.exp(log_preds),axis=0)\n",
    "(metrics.log_loss(y,preds), accuracy(preds,y))"
   ]
  },
  {
   "cell_type": "markdown",
   "metadata": {},
   "source": [
    "## Save predictions"
   ]
  },
  {
   "cell_type": "code",
   "execution_count": null,
   "metadata": {},
   "outputs": [],
   "source": [
    "# test_df = pd.read_json(PATH+\"/test.json\")\n",
    "# helper.make_test_file(log_preds,test_df,model_name='resnext50_sz75_zm15_bs32_comp_band',\n",
    "#                       classes=data.classes,\n",
    "#                       submission_folder =f'{PATH}sub'\n",
    "#                      )"
   ]
  }
 ],
 "metadata": {
  "kernelspec": {
   "display_name": "Python 3",
   "language": "python",
   "name": "python3"
  },
  "language_info": {
   "codemirror_mode": {
    "name": "ipython",
    "version": 3
   },
   "file_extension": ".py",
   "mimetype": "text/x-python",
   "name": "python",
   "nbconvert_exporter": "python",
   "pygments_lexer": "ipython3",
   "version": "3.6.4"
  }
 },
 "nbformat": 4,
 "nbformat_minor": 2
}
