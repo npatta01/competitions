{
 "cells": [
  {
   "cell_type": "markdown",
   "metadata": {},
   "source": [
    "# Kaggle Competition:  Iceberg or Ship"
   ]
  },
  {
   "cell_type": "markdown",
   "metadata": {},
   "source": [
    "# resnext50 architecture \n",
    "\n",
    "## increase epochs\n"
   ]
  },
  {
   "cell_type": "markdown",
   "metadata": {},
   "source": [
    "---\n",
    "## Import libraries"
   ]
  },
  {
   "cell_type": "code",
   "execution_count": 1,
   "metadata": {},
   "outputs": [
    {
     "name": "stdout",
     "output_type": "stream",
     "text": [
      "total 4352\r\n",
      "-rw-rw-r-- 1 ubuntu ubuntu 1405706 Jan 15 01:35 1b_getdata-csv.ipynb\r\n",
      "-rw-rw-r-- 1 ubuntu ubuntu  625023 Jan 14 18:47 1_getdata.ipynb\r\n",
      "-rw-rw-r-- 1 ubuntu ubuntu  245619 Jan 14 18:36 2_model_resnet34.ipynb\r\n",
      "-rw-rw-r-- 1 ubuntu ubuntu   13742 Jan 15 01:35 3_model_resnext50.ipynb\r\n",
      "-rw-rw-r-- 1 ubuntu ubuntu   14220 Jan 13 21:14 4_model_nasnet.ipynb\r\n",
      "-rw-rw-r-- 1 ubuntu ubuntu   64965 Jan 14 19:40 4_resnext_resize.ipynb\r\n",
      "-rw-rw-r-- 1 ubuntu ubuntu  147078 Jan 14 19:57 5_resnet18_resize.ipynb\r\n",
      "-rw-rw-r-- 1 ubuntu ubuntu  138629 Jan 14 19:52 6_resnext50_resize.ipynb\r\n",
      "-rw-rw-r-- 1 ubuntu ubuntu  205624 Jan 15 02:37 7_1_resnext50_more_epoch_submitted.ipynb\r\n",
      "-rw-rw-r-- 1 ubuntu ubuntu   49250 Jan 15 16:52 7_2_resnext50_more_epoch.ipynb\r\n",
      "-rw-rw-r-- 1 ubuntu ubuntu  218915 Jan 15 03:22 7_5_resnext50_more_epoch_update_sz.ipynb\r\n",
      "-rw-rw-r-- 1 ubuntu ubuntu  179449 Jan 14 21:28 7_resnext50_sz_100.ipynb\r\n",
      "-rw-rw-r-- 1 ubuntu ubuntu  201400 Jan 15 02:17 8_resnext50_more_epoch_sz300.ipynb\r\n",
      "-rw-rw-r-- 1 ubuntu ubuntu  137540 Jan 14 18:36 baseline.ipynb\r\n",
      "-rw-rw-r-- 1 ubuntu ubuntu    3299 Jan 15 01:35 helper.py\r\n",
      "-rw-rw-r-- 1 ubuntu ubuntu  767392 Jan 14 18:36 other_groverpr.ipynb\r\n",
      "drwxrwxr-x 2 ubuntu ubuntu    4096 Jan 15 01:42 __pycache__\r\n",
      "-rw-rw-r-- 1 ubuntu ubuntu    1492 Jan 15 14:56 README.md\r\n"
     ]
    }
   ],
   "source": [
    "!ls -l"
   ]
  },
  {
   "cell_type": "code",
   "execution_count": 2,
   "metadata": {},
   "outputs": [],
   "source": [
    "# Put these at the top of every notebook, to get automatic reloading and inline plotting\n",
    "%reload_ext autoreload\n",
    "%autoreload 2\n",
    "%matplotlib inline"
   ]
  },
  {
   "cell_type": "code",
   "execution_count": 3,
   "metadata": {},
   "outputs": [],
   "source": [
    "from fastai.imports import *"
   ]
  },
  {
   "cell_type": "code",
   "execution_count": 4,
   "metadata": {},
   "outputs": [],
   "source": [
    "# This file contains all the main external libs we'll use\n",
    "from fastai.imports import *\n",
    "from fastai.transforms import *\n",
    "from fastai.conv_learner import *\n",
    "from fastai.model import *\n",
    "from fastai.dataset import *\n",
    "from fastai.sgdr import *\n",
    "from fastai.plots import *\n",
    "import pandas as pd\n",
    "import numpy as np\n",
    "import shutil\n",
    "from IPython.display import FileLink, FileLinks\n",
    "\n",
    "from sklearn.model_selection import train_test_split\n",
    "import helper"
   ]
  },
  {
   "cell_type": "code",
   "execution_count": 5,
   "metadata": {},
   "outputs": [],
   "source": [
    "#PATH = \"/home/nidhin/data/iceberg/\"\n",
    "PATH = os.path.expanduser(\"~/data/iceberg/\")"
   ]
  },
  {
   "cell_type": "code",
   "execution_count": 6,
   "metadata": {},
   "outputs": [
    {
     "name": "stdout",
     "output_type": "stream",
     "text": [
      "total 1973264\r\n",
      "drwxrwxr-x  2 ubuntu ubuntu       4096 Jan  9 00:38 models\r\n",
      "-rw-rw-r--  1 ubuntu ubuntu     117951 Oct 23 17:27 sample_submission.csv\r\n",
      "-rw-rw-r--  1 ubuntu ubuntu      38566 Jan  7 20:36 sample_submission.csv.7z\r\n",
      "drwxrwxr-x  2 ubuntu ubuntu       4096 Jan 15 14:20 sub\r\n",
      "drwxrwxr-x  2 ubuntu ubuntu     274432 Jan 14 18:44 test\r\n",
      "-rw-rw-r--  1 ubuntu ubuntu 1521771850 Oct 23 17:27 test.json\r\n",
      "-rw-rw-r--  1 ubuntu ubuntu  257127394 Jan  7 20:36 test.json.7z\r\n",
      "drwxrwxr-x 12 ubuntu ubuntu       4096 Jan 15 13:38 tmp\r\n",
      "drwxrwxr-x  4 ubuntu ubuntu       4096 Jan 14 18:43 train\r\n",
      "-rw-rw-r--  1 ubuntu ubuntu  196313674 Oct 23 17:23 train.json\r\n",
      "-rw-rw-r--  1 ubuntu ubuntu   44932785 Jan  7 20:36 train.json.7z\r\n",
      "drwxrwxr-x  4 ubuntu ubuntu       4096 Jan 14 18:43 valid\r\n"
     ]
    }
   ],
   "source": [
    "!ls -l {PATH}"
   ]
  },
  {
   "cell_type": "code",
   "execution_count": 7,
   "metadata": {},
   "outputs": [],
   "source": [
    "np.random.seed(0)"
   ]
  },
  {
   "cell_type": "markdown",
   "metadata": {},
   "source": [
    "## Set Architecture"
   ]
  },
  {
   "cell_type": "code",
   "execution_count": 8,
   "metadata": {},
   "outputs": [],
   "source": [
    "arch=resnext50\n",
    "sz=200\n",
    "bs=32\n",
    "lr = 0.005"
   ]
  },
  {
   "cell_type": "code",
   "execution_count": 9,
   "metadata": {},
   "outputs": [
    {
     "data": {
      "application/vnd.jupyter.widget-view+json": {
       "model_id": "df271c419a7445348076c8a6fc97a396",
       "version_major": 2,
       "version_minor": 0
      },
      "text/html": [
       "<p>Failed to display Jupyter Widget of type <code>HBox</code>.</p>\n",
       "<p>\n",
       "  If you're reading this message in the Jupyter Notebook or JupyterLab Notebook, it may mean\n",
       "  that the widgets JavaScript is still loading. If this message persists, it\n",
       "  likely means that the widgets JavaScript library is either not installed or\n",
       "  not enabled. See the <a href=\"https://ipywidgets.readthedocs.io/en/stable/user_install.html\">Jupyter\n",
       "  Widgets Documentation</a> for setup instructions.\n",
       "</p>\n",
       "<p>\n",
       "  If you're reading this message in another frontend (for example, a static\n",
       "  rendering on GitHub or <a href=\"https://nbviewer.jupyter.org/\">NBViewer</a>),\n",
       "  it may mean that your frontend doesn't currently support widgets.\n",
       "</p>\n"
      ],
      "text/plain": [
       "HBox(children=(IntProgress(value=0, max=6), HTML(value='')))"
      ]
     },
     "metadata": {},
     "output_type": "display_data"
    },
    {
     "name": "stdout",
     "output_type": "stream",
     "text": [
      "                                                     \n"
     ]
    }
   ],
   "source": [
    "def get_data(sz, bs):\n",
    "    tfms = tfms_from_model(arch, sz, aug_tfms=transforms_top_down, max_zoom=1.05)\n",
    "    data = ImageClassifierData.from_paths(PATH, tfms=tfms, bs=bs,test_name='test')\n",
    "    return data\n",
    "\n",
    "data = get_data(sz, bs)\n",
    "data = data.resize(int(sz*1.4), 'tmp')"
   ]
  },
  {
   "cell_type": "code",
   "execution_count": 10,
   "metadata": {},
   "outputs": [
    {
     "name": "stdout",
     "output_type": "stream",
     "text": [
      "100%|██████████| 41/41 [00:13<00:00,  3.02it/s]\n",
      "100%|██████████| 11/11 [00:03<00:00,  3.31it/s]\n",
      "100%|██████████| 264/264 [01:20<00:00,  3.29it/s]\n"
     ]
    }
   ],
   "source": [
    "#tfms = tfms_from_model(arch, sz, aug_tfms=transforms_side_on, max_zoom=1.1)\n",
    "#data = ImageClassifierData.from_paths(PATH, tfms=tfms, bs=bs,test_name='test',)\n",
    "\n",
    "learn = ConvLearner.pretrained(arch, data, precompute=True, ps=0.5)"
   ]
  },
  {
   "cell_type": "markdown",
   "metadata": {},
   "source": [
    "### Learning Rate Finder"
   ]
  },
  {
   "cell_type": "code",
   "execution_count": 11,
   "metadata": {},
   "outputs": [
    {
     "data": {
      "application/vnd.jupyter.widget-view+json": {
       "model_id": "e84625d8accb4fe8ade18bae69217806",
       "version_major": 2,
       "version_minor": 0
      },
      "text/html": [
       "<p>Failed to display Jupyter Widget of type <code>HBox</code>.</p>\n",
       "<p>\n",
       "  If you're reading this message in the Jupyter Notebook or JupyterLab Notebook, it may mean\n",
       "  that the widgets JavaScript is still loading. If this message persists, it\n",
       "  likely means that the widgets JavaScript library is either not installed or\n",
       "  not enabled. See the <a href=\"https://ipywidgets.readthedocs.io/en/stable/user_install.html\">Jupyter\n",
       "  Widgets Documentation</a> for setup instructions.\n",
       "</p>\n",
       "<p>\n",
       "  If you're reading this message in another frontend (for example, a static\n",
       "  rendering on GitHub or <a href=\"https://nbviewer.jupyter.org/\">NBViewer</a>),\n",
       "  it may mean that your frontend doesn't currently support widgets.\n",
       "</p>\n"
      ],
      "text/plain": [
       "HBox(children=(IntProgress(value=0, description='Epoch', max=1), HTML(value='')))"
      ]
     },
     "metadata": {},
     "output_type": "display_data"
    },
    {
     "name": "stdout",
     "output_type": "stream",
     "text": [
      " 39%|███▉      | 16/41 [00:00<00:00, 28.62it/s, loss=3.65] \n",
      "                                                          \r"
     ]
    }
   ],
   "source": [
    "lrf = learn.lr_find()"
   ]
  },
  {
   "cell_type": "code",
   "execution_count": 12,
   "metadata": {},
   "outputs": [
    {
     "data": {
      "image/png": "[encoded data removed]",
      "text/plain": [
       "<matplotlib.figure.Figure at 0x7fc2e84c50b8>"
      ]
     },
     "metadata": {},
     "output_type": "display_data"
    }
   ],
   "source": [
    "learn.sched.plot_lr()"
   ]
  },
  {
   "cell_type": "code",
   "execution_count": 13,
   "metadata": {},
   "outputs": [
    {
     "data": {
      "image/png": "[encoded data removed]",
      "text/plain": [
       "<matplotlib.figure.Figure at 0x7fc2a82385c0>"
      ]
     },
     "metadata": {},
     "output_type": "display_data"
    }
   ],
   "source": [
    "learn.sched.plot() "
   ]
  },
  {
   "cell_type": "code",
   "execution_count": 14,
   "metadata": {},
   "outputs": [
    {
     "data": {
      "application/vnd.jupyter.widget-view+json": {
       "model_id": "648048d8d7254cb89e9e13f7b7f91fec",
       "version_major": 2,
       "version_minor": 0
      },
      "text/html": [
       "<p>Failed to display Jupyter Widget of type <code>HBox</code>.</p>\n",
       "<p>\n",
       "  If you're reading this message in the Jupyter Notebook or JupyterLab Notebook, it may mean\n",
       "  that the widgets JavaScript is still loading. If this message persists, it\n",
       "  likely means that the widgets JavaScript library is either not installed or\n",
       "  not enabled. See the <a href=\"https://ipywidgets.readthedocs.io/en/stable/user_install.html\">Jupyter\n",
       "  Widgets Documentation</a> for setup instructions.\n",
       "</p>\n",
       "<p>\n",
       "  If you're reading this message in another frontend (for example, a static\n",
       "  rendering on GitHub or <a href=\"https://nbviewer.jupyter.org/\">NBViewer</a>),\n",
       "  it may mean that your frontend doesn't currently support widgets.\n",
       "</p>\n"
      ],
      "text/plain": [
       "HBox(children=(IntProgress(value=0, description='Epoch', max=10), HTML(value='')))"
      ]
     },
     "metadata": {},
     "output_type": "display_data"
    },
    {
     "name": "stdout",
     "output_type": "stream",
     "text": [
      "[0.      0.53648 0.5541  0.70171]                          \n",
      "[1.      0.43886 0.38893 0.8125 ]                          \n",
      "[2.      0.43411 0.35774 0.82102]                          \n",
      "[3.      0.40166 0.37136 0.82671]                          \n",
      "[4.      0.38497 0.38369 0.81534]                          \n",
      "[5.      0.35851 0.38125 0.81534]                          \n",
      "[6.      0.32765 0.35433 0.82102]                          \n",
      "[7.      0.3257  0.38188 0.82954]                          \n",
      "[8.      0.32145 0.3746  0.84659]                          \n",
      "[9.      0.31764 0.38115 0.83239]                          \n",
      "\n"
     ]
    }
   ],
   "source": [
    "learn.fit(lr, 10)\n",
    "learn.precompute=False"
   ]
  },
  {
   "cell_type": "markdown",
   "metadata": {},
   "source": [
    "### Stochastic Gradient Descent with Restart"
   ]
  },
  {
   "cell_type": "code",
   "execution_count": 15,
   "metadata": {},
   "outputs": [
    {
     "data": {
      "application/vnd.jupyter.widget-view+json": {
       "model_id": "4262e9f0f2e443bbbced336a68c1158d",
       "version_major": 2,
       "version_minor": 0
      },
      "text/html": [
       "<p>Failed to display Jupyter Widget of type <code>HBox</code>.</p>\n",
       "<p>\n",
       "  If you're reading this message in the Jupyter Notebook or JupyterLab Notebook, it may mean\n",
       "  that the widgets JavaScript is still loading. If this message persists, it\n",
       "  likely means that the widgets JavaScript library is either not installed or\n",
       "  not enabled. See the <a href=\"https://ipywidgets.readthedocs.io/en/stable/user_install.html\">Jupyter\n",
       "  Widgets Documentation</a> for setup instructions.\n",
       "</p>\n",
       "<p>\n",
       "  If you're reading this message in another frontend (for example, a static\n",
       "  rendering on GitHub or <a href=\"https://nbviewer.jupyter.org/\">NBViewer</a>),\n",
       "  it may mean that your frontend doesn't currently support widgets.\n",
       "</p>\n"
      ],
      "text/plain": [
       "HBox(children=(IntProgress(value=0, description='Epoch', max=63), HTML(value='')))"
      ]
     },
     "metadata": {},
     "output_type": "display_data"
    },
    {
     "name": "stdout",
     "output_type": "stream",
     "text": [
      "[0.      0.44967 0.33133 0.84375]                          \n",
      "[1.      0.45333 0.32424 0.85227]                          \n",
      "[2.      0.43156 0.3264  0.84659]                          \n",
      "[3.      0.41209 0.31666 0.84943]                          \n",
      "[4.      0.41544 0.33222 0.82954]                          \n",
      "[5.      0.39065 0.31653 0.84659]                          \n",
      "[6.      0.37903 0.32075 0.84375]                          \n",
      "[7.      0.38897 0.33297 0.83239]                          \n",
      "[8.      0.37957 0.32438 0.84375]                          \n",
      "[9.      0.4008  0.31355 0.85227]                          \n",
      "[10.       0.42475  0.3272   0.84375]                      \n",
      "[11.       0.41092  0.32549  0.85796]                      \n",
      "[12.       0.40002  0.3267   0.84091]                      \n",
      "[13.       0.38353  0.32161  0.84091]                      \n",
      "[14.       0.37151  0.3234   0.84375]                      \n",
      "[15.       0.37986  0.32918  0.83523]                      \n",
      "[16.       0.38258  0.32124  0.84375]                      \n",
      "[17.       0.38662  0.3266   0.84375]                      \n",
      "[18.       0.39216  0.33088  0.83239]                      \n",
      "[19.       0.40656  0.34575  0.83523]                      \n",
      "[20.       0.36249  0.31065  0.84659]                      \n",
      "[21.       0.37241  0.31158  0.83807]                      \n",
      "[22.       0.38511  0.33413  0.81534]                      \n",
      "[23.       0.38514  0.31494  0.84659]                      \n",
      "[24.       0.37348  0.31508  0.85796]                      \n",
      "[25.       0.37969  0.32636  0.83523]                      \n",
      "[26.       0.35321  0.3157   0.85796]                      \n",
      "[27.       0.36691  0.32184  0.85511]                      \n",
      "[28.       0.36288  0.31509  0.85796]                      \n",
      "[29.       0.35238  0.30892  0.86079]                      \n",
      "[30.       0.34954  0.30944  0.86079]                      \n",
      "[31.       0.35817  0.3078   0.85796]                      \n",
      "[32.       0.38831  0.32791  0.84091]                      \n",
      "[33.       0.38803  0.3024   0.84659]                      \n",
      "[34.       0.38874  0.29678  0.84943]                      \n",
      "[35.       0.37186  0.32363  0.84659]                      \n",
      "[36.       0.38235  0.30435  0.84943]                      \n",
      "[37.       0.39947  0.33881  0.84375]                      \n",
      "[38.       0.3975   0.32219  0.85227]                      \n",
      "[39.       0.39436  0.31074  0.84943]                      \n",
      "[40.       0.38005  0.30701  0.86079]                      \n",
      "[41.       0.38996  0.31498  0.84091]                      \n",
      "[42.       0.40481  0.32     0.83807]                      \n",
      "[43.       0.39906  0.30455  0.84659]                      \n",
      "[44.       0.40247  0.30275  0.85796]                      \n",
      "[45.       0.3865   0.30506  0.86648]                      \n",
      "[46.       0.36795  0.29513  0.86364]                      \n",
      "[47.       0.37894  0.30219  0.85796]                      \n",
      "[48.       0.38376  0.30487  0.86648]                      \n",
      "[49.       0.36414  0.31784  0.86079]                      \n",
      "[50.       0.37758  0.30434  0.85796]                      \n",
      "[51.       0.38064  0.30474  0.86932]                      \n",
      "[52.       0.35889  0.29753  0.86079]                      \n",
      "[53.       0.38089  0.30865  0.84375]                      \n",
      "[54.       0.36047  0.29396  0.86648]                      \n",
      "[55.       0.33994  0.31085  0.86932]                      \n",
      "[56.       0.35762  0.29052  0.86079]                      \n",
      "[57.       0.37169  0.29317  0.86364]                      \n",
      "[58.       0.35406  0.30216  0.86932]                      \n",
      "[59.       0.35566  0.29961  0.86079]                      \n",
      "[60.       0.34781  0.30165  0.86648]                      \n",
      "[61.       0.36798  0.29715  0.85796]                      \n",
      "[62.       0.37291  0.29848  0.86364]                      \n",
      "\n"
     ]
    }
   ],
   "source": [
    "#learn.fit(lr, 4, cycle_len=2)\n",
    "learn.fit(lr, 6, cycle_len=1, cycle_mult=2)"
   ]
  },
  {
   "cell_type": "code",
   "execution_count": 16,
   "metadata": {},
   "outputs": [
    {
     "data": {
      "image/png": "[encoded data removed]",
      "text/plain": [
       "<matplotlib.figure.Figure at 0x7fc28674e470>"
      ]
     },
     "metadata": {},
     "output_type": "display_data"
    }
   ],
   "source": [
    "learn.sched.plot_lr()"
   ]
  },
  {
   "cell_type": "code",
   "execution_count": 17,
   "metadata": {},
   "outputs": [
    {
     "data": {
      "image/png": "[encoded data removed]",
      "text/plain": [
       "<matplotlib.figure.Figure at 0x7fc285ee9e48>"
      ]
     },
     "metadata": {},
     "output_type": "display_data"
    }
   ],
   "source": [
    "learn.sched.plot_loss()"
   ]
  },
  {
   "cell_type": "code",
   "execution_count": 18,
   "metadata": {},
   "outputs": [
    {
     "name": "stdout",
     "output_type": "stream",
     "text": [
      "                                             \r"
     ]
    },
    {
     "data": {
      "text/plain": [
       "(0.2939834827147395, 0.8722741433021807)"
      ]
     },
     "execution_count": 18,
     "metadata": {},
     "output_type": "execute_result"
    }
   ],
   "source": [
    "log_preds,y = learn.TTA()\n",
    "preds = np.mean(np.exp(log_preds),axis=0)\n",
    "(metrics.log_loss(y,preds), accuracy(preds,y))"
   ]
  },
  {
   "cell_type": "code",
   "execution_count": null,
   "metadata": {},
   "outputs": [],
   "source": []
  },
  {
   "cell_type": "markdown",
   "metadata": {},
   "source": [
    "### Unfreeze Layers"
   ]
  },
  {
   "cell_type": "code",
   "execution_count": 19,
   "metadata": {},
   "outputs": [],
   "source": [
    "# unfreeze layers\n",
    "learn.unfreeze()\n",
    "#lrs = np.array([lr/15,lr/12,lr/9])\n",
    "lrs = np.array([lr/9,lr/3,lr/1])\n",
    "\n",
    "#wd = 0.025\n",
    "#wds=[wd/100, wd/10, wd]\n",
    "#wds=[0.0025,0.025,0.25]\n"
   ]
  },
  {
   "cell_type": "markdown",
   "metadata": {},
   "source": [
    "### Run Learner Again"
   ]
  },
  {
   "cell_type": "code",
   "execution_count": 20,
   "metadata": {},
   "outputs": [
    {
     "data": {
      "application/vnd.jupyter.widget-view+json": {
       "model_id": "e78b98d0e60c467da1079d36ff016020",
       "version_major": 2,
       "version_minor": 0
      },
      "text/html": [
       "<p>Failed to display Jupyter Widget of type <code>HBox</code>.</p>\n",
       "<p>\n",
       "  If you're reading this message in the Jupyter Notebook or JupyterLab Notebook, it may mean\n",
       "  that the widgets JavaScript is still loading. If this message persists, it\n",
       "  likely means that the widgets JavaScript library is either not installed or\n",
       "  not enabled. See the <a href=\"https://ipywidgets.readthedocs.io/en/stable/user_install.html\">Jupyter\n",
       "  Widgets Documentation</a> for setup instructions.\n",
       "</p>\n",
       "<p>\n",
       "  If you're reading this message in another frontend (for example, a static\n",
       "  rendering on GitHub or <a href=\"https://nbviewer.jupyter.org/\">NBViewer</a>),\n",
       "  it may mean that your frontend doesn't currently support widgets.\n",
       "</p>\n"
      ],
      "text/plain": [
       "HBox(children=(IntProgress(value=0, description='Epoch', max=63), HTML(value='')))"
      ]
     },
     "metadata": {},
     "output_type": "display_data"
    },
    {
     "name": "stdout",
     "output_type": "stream",
     "text": [
      "[0.      0.61326 0.43311 0.79546]                          \n",
      "[1.      0.60955 0.84851 0.71875]                          \n",
      "[2.      0.54191 0.60438 0.67614]                          \n",
      "[3.      0.50616 0.68645 0.69318]                          \n",
      "[4.      0.49301 0.69229 0.67614]                          \n",
      "[5.      0.46209 0.61928 0.6875 ]                          \n",
      "[6.      0.45162 0.6356  0.67614]                          \n",
      "[7.      0.44667 0.88649 0.65057]                          \n",
      "[8.      0.44144 0.61111 0.71023]                          \n",
      "[9.      0.44139 0.54177 0.73296]                          \n",
      "[10.       0.40562  0.64604  0.69886]                      \n",
      "[11.       0.41071  0.50083  0.76136]                      \n",
      "[12.       0.40728  0.54395  0.75   ]                      \n",
      "[13.       0.37558  0.50935  0.76704]                      \n",
      "[14.       0.37284  0.4839   0.77273]                      \n",
      "[15.       0.38092  0.5862   0.74148]                      \n",
      "[16.       0.38286  0.43557  0.80114]                      \n",
      "[17.       0.36945  0.44871  0.77841]                      \n",
      "[18.       0.37197  0.41744  0.81534]                      \n",
      "[19.       0.36975  0.49207  0.80398]                      \n",
      "[20.       0.34858  0.45319  0.80966]                      \n",
      "[21.       0.3125   0.40611  0.82386]                      \n",
      "[22.       0.32725  0.35891  0.83239]                      \n",
      "[23.       0.37122  0.39752  0.80682]                      \n",
      "[24.       0.36089  0.32847  0.84659]                      \n",
      "[25.       0.34633  0.39272  0.82102]                      \n",
      "[26.       0.32047  0.37185  0.83523]                      \n",
      "[27.       0.32893  0.31706  0.85227]                      \n",
      "[28.       0.30515  0.39542  0.81534]                      \n",
      "[29.       0.29838  0.31489  0.85227]                      \n",
      "[30.       0.29501  0.37017  0.83239]                      \n",
      "[31.       0.32604  0.46674  0.81534]                      \n",
      "[32.       0.3156   0.43556  0.80966]                      \n",
      "[33.       0.36623  0.5467   0.76421]                      \n",
      "[34.       0.34673  0.46587  0.79261]                      \n",
      "[35.       0.35013  0.32582  0.85511]                      \n",
      "[36.       0.33122  0.40474  0.80966]                      \n",
      "[37.       0.34022  0.33962  0.84091]                      \n",
      "[38.       0.30652  0.36251  0.84091]                      \n",
      "[39.       0.33291  0.37716  0.82954]                      \n",
      "[40.       0.32519  0.41401  0.83239]                      \n",
      "[41.       0.30916  0.33079  0.85796]                      \n",
      "[42.       0.34305  0.46057  0.77557]                      \n",
      "[43.       0.36081  0.51307  0.77273]                      \n",
      "[44.       0.36241  0.39133  0.82954]                      \n",
      "[45.       0.37299  0.43087  0.80966]                      \n",
      "[46.       0.35959  0.38223  0.83523]                      \n",
      "[47.       0.31929  0.3704   0.83523]                      \n",
      "[48.       0.30837  0.34578  0.86079]                      \n",
      "[49.       0.30341  0.34201  0.84091]                      \n",
      "[50.       0.29869  0.39579  0.8125 ]                      \n",
      "[51.       0.28252  0.35775  0.85227]                      \n",
      "[52.       0.27056  0.37609  0.85227]                      \n",
      "[53.       0.2694   0.37358  0.86079]                      \n",
      "[54.       0.28828  0.3901   0.84659]                      \n",
      "[55.       0.27964  0.36935  0.85227]                      \n",
      "[56.       0.30892  0.34714  0.86932]                      \n",
      "[57.       0.26531  0.35318  0.86648]                      \n",
      "[58.       0.26049  0.37042  0.85796]                      \n",
      "[59.       0.26593  0.328    0.88068]                      \n",
      "[60.       0.27438  0.37316  0.83807]                      \n",
      "[61.       0.25542  0.32261  0.88068]                      \n",
      "[62.       0.2709   0.36107  0.86648]                      \n",
      "\n"
     ]
    }
   ],
   "source": [
    "learn.fit(lrs, 6, cycle_len=1, cycle_mult=2)\n",
    "#learn.fit(lrs, 5, cycle_len=1, cycle_mult=2,use_wd_sched=True,wds=wds)"
   ]
  },
  {
   "cell_type": "code",
   "execution_count": 21,
   "metadata": {},
   "outputs": [
    {
     "data": {
      "image/png": "[encoded data removed]",
      "text/plain": [
       "<matplotlib.figure.Figure at 0x7fc286706ba8>"
      ]
     },
     "metadata": {},
     "output_type": "display_data"
    }
   ],
   "source": [
    "learn.sched.plot_lr()"
   ]
  },
  {
   "cell_type": "code",
   "execution_count": 22,
   "metadata": {},
   "outputs": [
    {
     "data": {
      "image/png": "[encoded data removed]",
      "text/plain": [
       "<matplotlib.figure.Figure at 0x7fc285f36780>"
      ]
     },
     "metadata": {},
     "output_type": "display_data"
    }
   ],
   "source": [
    "learn.sched.plot_loss()"
   ]
  },
  {
   "cell_type": "code",
   "execution_count": 23,
   "metadata": {},
   "outputs": [
    {
     "name": "stdout",
     "output_type": "stream",
     "text": [
      "                                             \r"
     ]
    },
    {
     "data": {
      "text/plain": [
       "(0.26931735175919136, 0.8847352024922118)"
      ]
     },
     "execution_count": 23,
     "metadata": {},
     "output_type": "execute_result"
    }
   ],
   "source": [
    "log_preds,y = learn.TTA()\n",
    "preds = np.mean(np.exp(log_preds),axis=0)\n",
    "(metrics.log_loss(y,preds), accuracy(preds,y))"
   ]
  },
  {
   "cell_type": "code",
   "execution_count": 24,
   "metadata": {},
   "outputs": [],
   "source": [
    "learn.save('resnext50_sz200_zm14')"
   ]
  },
  {
   "cell_type": "code",
   "execution_count": 25,
   "metadata": {},
   "outputs": [],
   "source": [
    "learn.load('resnext50_sz200_zm14')"
   ]
  },
  {
   "cell_type": "code",
   "execution_count": 26,
   "metadata": {},
   "outputs": [],
   "source": [
    "#helper.make_submission(learn=learn, data=data, output_file_name = f'{PATH}sub/resnext50_sz200_zm14.csv')"
   ]
  },
  {
   "cell_type": "code",
   "execution_count": 27,
   "metadata": {},
   "outputs": [],
   "source": [
    "# End here\n"
   ]
  },
  {
   "cell_type": "code",
   "execution_count": null,
   "metadata": {},
   "outputs": [],
   "source": []
  },
  {
   "cell_type": "code",
   "execution_count": null,
   "metadata": {},
   "outputs": [],
   "source": []
  },
  {
   "cell_type": "markdown",
   "metadata": {},
   "source": [
    "### Run Learner again"
   ]
  },
  {
   "cell_type": "code",
   "execution_count": 28,
   "metadata": {},
   "outputs": [
    {
     "data": {
      "application/vnd.jupyter.widget-view+json": {
       "model_id": "8028e1d5cb7241e28bf12f753fc2d5bd",
       "version_major": 2,
       "version_minor": 0
      },
      "text/html": [
       "<p>Failed to display Jupyter Widget of type <code>HBox</code>.</p>\n",
       "<p>\n",
       "  If you're reading this message in the Jupyter Notebook or JupyterLab Notebook, it may mean\n",
       "  that the widgets JavaScript is still loading. If this message persists, it\n",
       "  likely means that the widgets JavaScript library is either not installed or\n",
       "  not enabled. See the <a href=\"https://ipywidgets.readthedocs.io/en/stable/user_install.html\">Jupyter\n",
       "  Widgets Documentation</a> for setup instructions.\n",
       "</p>\n",
       "<p>\n",
       "  If you're reading this message in another frontend (for example, a static\n",
       "  rendering on GitHub or <a href=\"https://nbviewer.jupyter.org/\">NBViewer</a>),\n",
       "  it may mean that your frontend doesn't currently support widgets.\n",
       "</p>\n"
      ],
      "text/plain": [
       "HBox(children=(IntProgress(value=0, description='Epoch', max=31), HTML(value='')))"
      ]
     },
     "metadata": {},
     "output_type": "display_data"
    },
    {
     "name": "stdout",
     "output_type": "stream",
     "text": [
      "[0.      0.29215 0.39612 0.85227]                          \n",
      "[1.      0.30875 0.34448 0.85511]                          \n",
      "[2.      0.28665 0.3103  0.875  ]                          \n",
      "[3.      0.28786 0.39548 0.83807]                          \n",
      "[4.      0.31165 0.38228 0.83239]                          \n",
      "[5.      0.28537 0.35878 0.86648]                          \n",
      "[6.      0.27897 0.35017 0.86079]                          \n",
      "[7.      0.47503 0.54495 0.73296]                          \n",
      "[8.      0.54585 0.51869 0.77273]                          \n",
      "[9.      0.55266 0.38205 0.80682]                          \n",
      "[10.       0.5008   0.36031  0.82386]                      \n",
      "[11.       0.4642   0.37627  0.80682]                      \n",
      "[12.       0.43219  0.34665  0.82954]                      \n",
      "[13.       0.43338  0.33244  0.84091]                      \n",
      "[14.       0.433    0.35728  0.82386]                      \n",
      "[15.       0.43699  0.33857  0.84375]                      \n",
      "[16.       0.4349   0.32925  0.82386]                      \n",
      "[17.       0.42244  0.34732  0.84375]                      \n",
      "[18.       0.41351  0.41512  0.78693]                      \n",
      "[19.       0.3958   0.35515  0.83239]                      \n",
      "[20.       0.37388  0.33239  0.84091]                      \n",
      "[21.       0.36328  0.37789  0.80966]                      \n",
      "[22.       0.35838  0.32244  0.84943]                      \n",
      "[23.       0.34535  0.30183  0.86932]                      \n",
      "[24.       0.33338  0.33546  0.83523]                      \n",
      "[25.       0.31364  0.32358  0.84091]                      \n",
      "[26.       0.32806  0.31588  0.86079]                      \n",
      "[27.       0.3207   0.32584  0.84943]                      \n",
      "[28.       0.3441   0.33076  0.84659]                      \n",
      "[29.       0.32085  0.32897  0.84375]                      \n",
      "[30.       0.31595  0.32587  0.84659]                      \n",
      "\n"
     ]
    }
   ],
   "source": [
    "learn.fit(lrs, 5, cycle_len=1, cycle_mult=2)"
   ]
  },
  {
   "cell_type": "code",
   "execution_count": 29,
   "metadata": {},
   "outputs": [
    {
     "data": {
      "image/png": "[encoded data removed]",
      "text/plain": [
       "<matplotlib.figure.Figure at 0x7fc286333048>"
      ]
     },
     "metadata": {},
     "output_type": "display_data"
    }
   ],
   "source": [
    "learn.sched.plot_loss()"
   ]
  },
  {
   "cell_type": "code",
   "execution_count": 30,
   "metadata": {},
   "outputs": [
    {
     "name": "stdout",
     "output_type": "stream",
     "text": [
      "                                             \r"
     ]
    },
    {
     "data": {
      "text/plain": [
       "(0.2844552046736451, 0.8629283489096573)"
      ]
     },
     "execution_count": 30,
     "metadata": {},
     "output_type": "execute_result"
    }
   ],
   "source": [
    "log_preds,y = learn.TTA()\n",
    "preds = np.mean(np.exp(log_preds),axis=0)\n",
    "(metrics.log_loss(y,preds), accuracy(preds,y))"
   ]
  },
  {
   "cell_type": "markdown",
   "metadata": {},
   "source": [
    "### Run Learner again"
   ]
  },
  {
   "cell_type": "code",
   "execution_count": 31,
   "metadata": {},
   "outputs": [
    {
     "data": {
      "application/vnd.jupyter.widget-view+json": {
       "model_id": "7ecdef5e4e094eb5a70267e66598a5a1",
       "version_major": 2,
       "version_minor": 0
      },
      "text/html": [
       "<p>Failed to display Jupyter Widget of type <code>HBox</code>.</p>\n",
       "<p>\n",
       "  If you're reading this message in the Jupyter Notebook or JupyterLab Notebook, it may mean\n",
       "  that the widgets JavaScript is still loading. If this message persists, it\n",
       "  likely means that the widgets JavaScript library is either not installed or\n",
       "  not enabled. See the <a href=\"https://ipywidgets.readthedocs.io/en/stable/user_install.html\">Jupyter\n",
       "  Widgets Documentation</a> for setup instructions.\n",
       "</p>\n",
       "<p>\n",
       "  If you're reading this message in another frontend (for example, a static\n",
       "  rendering on GitHub or <a href=\"https://nbviewer.jupyter.org/\">NBViewer</a>),\n",
       "  it may mean that your frontend doesn't currently support widgets.\n",
       "</p>\n"
      ],
      "text/plain": [
       "HBox(children=(IntProgress(value=0, description='Epoch', max=31), HTML(value='')))"
      ]
     },
     "metadata": {},
     "output_type": "display_data"
    },
    {
     "name": "stdout",
     "output_type": "stream",
     "text": [
      "[0.      0.34583 0.32001 0.84091]                          \n",
      "[1.      0.33123 0.34894 0.84659]                          \n",
      "[2.      0.32352 0.27838 0.89204]                          \n",
      "[3.      0.32043 0.344   0.84375]                          \n",
      "[4.      0.3426  0.32372 0.86079]                          \n",
      "[5.      0.32046 0.27913 0.87216]                          \n",
      "[6.      0.3035  0.28727 0.86648]                          \n",
      "[7.      0.30142 0.37639 0.82671]                          \n",
      "[8.      0.29589 0.34287 0.84943]                          \n",
      "[9.      0.28517 0.27845 0.87216]                          \n",
      "[10.       0.28706  0.32183  0.85796]                      \n",
      "[11.       0.27668  0.2912   0.875  ]                      \n",
      "[12.       0.31022  0.26975  0.87784]                      \n",
      "[13.       0.27496  0.2767   0.88068]                      \n",
      "[14.       0.27164  0.27112  0.88068]                      \n",
      "[15.       0.28745  0.28495  0.87216]                      \n",
      "[16.       0.36983  0.29913  0.86932]                      \n",
      "[17.       0.36645  0.2882   0.87784]                      \n",
      "[18.       0.38054  0.31356  0.86648]                      \n",
      "[19.       0.34699  0.30008  0.85511]                      \n",
      "[20.       0.31461  0.31809  0.85511]                      \n",
      "[21.       0.29025  0.33181  0.85227]                      \n",
      "[22.       0.2895   0.2971   0.87216]                      \n",
      "[23.       0.26634  0.28675  0.88636]                      \n",
      "[24.       0.2557   0.28441  0.87784]                      \n",
      "[25.       0.27524  0.29526  0.87784]                      \n",
      "[26.       0.30428  0.30917  0.86364]                      \n",
      "[27.       0.34413  0.32896  0.85796]                      \n",
      "[28.       0.29024  0.35274  0.85227]                      \n",
      "[29.       0.26066  0.32203  0.86079]                      \n",
      "[30.       0.26959  0.33487  0.84943]                      \n",
      "\n"
     ]
    }
   ],
   "source": [
    "learn.fit(lrs, 5, cycle_len=1, cycle_mult=2)"
   ]
  },
  {
   "cell_type": "code",
   "execution_count": 32,
   "metadata": {},
   "outputs": [
    {
     "data": {
      "image/png": "[encoded data removed]",
      "text/plain": [
       "<matplotlib.figure.Figure at 0x7fc286169ba8>"
      ]
     },
     "metadata": {},
     "output_type": "display_data"
    }
   ],
   "source": [
    "learn.sched.plot_loss()"
   ]
  },
  {
   "cell_type": "markdown",
   "metadata": {},
   "source": [
    "## Log Loss | Accuracy (final model here)"
   ]
  },
  {
   "cell_type": "code",
   "execution_count": 33,
   "metadata": {},
   "outputs": [
    {
     "name": "stdout",
     "output_type": "stream",
     "text": [
      "                                             \r"
     ]
    },
    {
     "data": {
      "text/plain": [
       "(0.2720286523382322, 0.8940809968847352)"
      ]
     },
     "execution_count": 33,
     "metadata": {},
     "output_type": "execute_result"
    }
   ],
   "source": [
    "log_preds,y = learn.TTA()\n",
    "preds = np.mean(np.exp(log_preds),axis=0)\n",
    "(metrics.log_loss(y,preds), accuracy(preds,y))"
   ]
  },
  {
   "cell_type": "code",
   "execution_count": 34,
   "metadata": {},
   "outputs": [],
   "source": [
    "learn.save('resnext50_sz200_zm14_learn')"
   ]
  },
  {
   "cell_type": "code",
   "execution_count": 35,
   "metadata": {},
   "outputs": [],
   "source": [
    "learn.load('resnext50_sz200_zm14_learn')"
   ]
  },
  {
   "cell_type": "markdown",
   "metadata": {},
   "source": [
    "## Save predictions"
   ]
  },
  {
   "cell_type": "code",
   "execution_count": 36,
   "metadata": {},
   "outputs": [],
   "source": [
    "#helper.make_submission(learn=learn, data=data, output_file_name = f'{PATH}sub/resnext50_sz150_zm14_learn.csv')"
   ]
  },
  {
   "cell_type": "code",
   "execution_count": 37,
   "metadata": {},
   "outputs": [],
   "source": [
    "# test_df = pd.read_json(PATH+\"/test.json\")\n",
    "# helper.make_test_file(log_preds,test_df,model_name='resnext50_sz75_zm15_bs32_comp_band',\n",
    "#                       classes=data.classes,\n",
    "#                       submission_folder =f'{PATH}sub'\n",
    "#                      )"
   ]
  }
 ],
 "metadata": {
  "kernelspec": {
   "display_name": "Python 3",
   "language": "python",
   "name": "python3"
  },
  "language_info": {
   "codemirror_mode": {
    "name": "ipython",
    "version": 3
   },
   "file_extension": ".py",
   "mimetype": "text/x-python",
   "name": "python",
   "nbconvert_exporter": "python",
   "pygments_lexer": "ipython3",
   "version": "3.6.4"
  }
 },
 "nbformat": 4,
 "nbformat_minor": 2
}
