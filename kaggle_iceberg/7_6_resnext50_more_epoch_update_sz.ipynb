{
 "cells": [
  {
   "cell_type": "markdown",
   "metadata": {},
   "source": [
    "# Kaggle Competition:  Iceberg or Ship"
   ]
  },
  {
   "cell_type": "markdown",
   "metadata": {},
   "source": [
    "# resnext50 architecture \n",
    "\n",
    "## start with image size of 75, increase epochs, update size recurrently\n"
   ]
  },
  {
   "cell_type": "markdown",
   "metadata": {},
   "source": [
    "---\n",
    "## Import libraries"
   ]
  },
  {
   "cell_type": "code",
   "execution_count": 1,
   "metadata": {},
   "outputs": [
    {
     "name": "stdout",
     "output_type": "stream",
     "text": [
      "total 4788\r\n",
      "-rw-rw-r-- 1 ubuntu ubuntu 1405706 Jan 15 01:35 1b_getdata-csv.ipynb\r\n",
      "-rw-rw-r-- 1 ubuntu ubuntu  625023 Jan 14 18:47 1_getdata.ipynb\r\n",
      "-rw-rw-r-- 1 ubuntu ubuntu  245619 Jan 14 18:36 2_model_resnet34.ipynb\r\n",
      "-rw-rw-r-- 1 ubuntu ubuntu   13742 Jan 15 01:35 3_model_resnext50.ipynb\r\n",
      "-rw-rw-r-- 1 ubuntu ubuntu   14220 Jan 13 21:14 4_model_nasnet.ipynb\r\n",
      "-rw-rw-r-- 1 ubuntu ubuntu   64965 Jan 14 19:40 4_resnext_resize.ipynb\r\n",
      "-rw-rw-r-- 1 ubuntu ubuntu  147078 Jan 14 19:57 5_resnet18_resize.ipynb\r\n",
      "-rw-rw-r-- 1 ubuntu ubuntu  138629 Jan 14 19:52 6_resnext50_resize.ipynb\r\n",
      "-rw-rw-r-- 1 ubuntu ubuntu  205624 Jan 15 02:37 7_1_resnext50_more_epoch_submitted.ipynb\r\n",
      "-rw-rw-r-- 1 ubuntu ubuntu  210001 Jan 15 18:51 7_2_resnext50_more_epoch.ipynb\r\n",
      "-rw-rw-r-- 1 ubuntu ubuntu  254485 Jan 20 19:36 7_5_resnext50_more_epoch_update_sz.ipynb\r\n",
      "-rw-rw-r-- 1 ubuntu ubuntu  246672 Jan 20 19:37 7_6_resnext50_more_epoch_update_sz.ipynb\r\n",
      "-rw-rw-r-- 1 ubuntu ubuntu  179449 Jan 14 21:28 7_resnext50_sz_100.ipynb\r\n",
      "-rw-rw-r-- 1 ubuntu ubuntu  201400 Jan 15 02:17 8_resnext50_more_epoch_sz300.ipynb\r\n",
      "-rw-rw-r-- 1 ubuntu ubuntu  137540 Jan 14 18:36 baseline.ipynb\r\n",
      "-rw-rw-r-- 1 ubuntu ubuntu    3299 Jan 15 01:35 helper.py\r\n",
      "-rw-rw-r-- 1 ubuntu ubuntu  767392 Jan 14 18:36 other_groverpr.ipynb\r\n",
      "drwxrwxr-x 2 ubuntu ubuntu    4096 Jan 15 01:42 __pycache__\r\n",
      "-rw-rw-r-- 1 ubuntu ubuntu    1492 Jan 15 14:56 README.md\r\n"
     ]
    }
   ],
   "source": [
    "!ls -l"
   ]
  },
  {
   "cell_type": "code",
   "execution_count": 2,
   "metadata": {},
   "outputs": [],
   "source": [
    "# Put these at the top of every notebook, to get automatic reloading and inline plotting\n",
    "%reload_ext autoreload\n",
    "%autoreload 2\n",
    "%matplotlib inline"
   ]
  },
  {
   "cell_type": "code",
   "execution_count": 3,
   "metadata": {},
   "outputs": [],
   "source": [
    "from fastai.imports import *"
   ]
  },
  {
   "cell_type": "code",
   "execution_count": 4,
   "metadata": {},
   "outputs": [],
   "source": [
    "# This file contains all the main external libs we'll use\n",
    "from fastai.imports import *\n",
    "from fastai.transforms import *\n",
    "from fastai.conv_learner import *\n",
    "from fastai.model import *\n",
    "from fastai.dataset import *\n",
    "from fastai.sgdr import *\n",
    "from fastai.plots import *\n",
    "import pandas as pd\n",
    "import numpy as np\n",
    "import shutil\n",
    "from IPython.display import FileLink, FileLinks\n",
    "\n",
    "from sklearn.model_selection import train_test_split\n",
    "import helper"
   ]
  },
  {
   "cell_type": "code",
   "execution_count": 5,
   "metadata": {},
   "outputs": [],
   "source": [
    "#PATH = \"/home/nidhin/data/iceberg/\"\n",
    "PATH = os.path.expanduser(\"~/data/iceberg/\")"
   ]
  },
  {
   "cell_type": "code",
   "execution_count": 6,
   "metadata": {},
   "outputs": [
    {
     "name": "stdout",
     "output_type": "stream",
     "text": [
      "total 1973264\r\n",
      "drwxrwxr-x  2 ubuntu ubuntu       4096 Jan  9 00:38 models\r\n",
      "-rw-rw-r--  1 ubuntu ubuntu     117951 Oct 23 17:27 sample_submission.csv\r\n",
      "-rw-rw-r--  1 ubuntu ubuntu      38566 Jan  7 20:36 sample_submission.csv.7z\r\n",
      "drwxrwxr-x  2 ubuntu ubuntu       4096 Jan 15 14:20 sub\r\n",
      "drwxrwxr-x  2 ubuntu ubuntu     274432 Jan 14 18:44 test\r\n",
      "-rw-rw-r--  1 ubuntu ubuntu 1521771850 Oct 23 17:27 test.json\r\n",
      "-rw-rw-r--  1 ubuntu ubuntu  257127394 Jan  7 20:36 test.json.7z\r\n",
      "drwxrwxr-x 13 ubuntu ubuntu       4096 Jan 15 16:52 tmp\r\n",
      "drwxrwxr-x  4 ubuntu ubuntu       4096 Jan 14 18:43 train\r\n",
      "-rw-rw-r--  1 ubuntu ubuntu  196313674 Oct 23 17:23 train.json\r\n",
      "-rw-rw-r--  1 ubuntu ubuntu   44932785 Jan  7 20:36 train.json.7z\r\n",
      "drwxrwxr-x  4 ubuntu ubuntu       4096 Jan 14 18:43 valid\r\n"
     ]
    }
   ],
   "source": [
    "!ls -l {PATH}"
   ]
  },
  {
   "cell_type": "code",
   "execution_count": 7,
   "metadata": {},
   "outputs": [],
   "source": [
    "np.random.seed(0)"
   ]
  },
  {
   "cell_type": "markdown",
   "metadata": {},
   "source": [
    "## Set Architecture"
   ]
  },
  {
   "cell_type": "code",
   "execution_count": 8,
   "metadata": {},
   "outputs": [],
   "source": [
    "arch=resnext50\n",
    "sz=75\n",
    "bs=32\n",
    "lr = 0.005"
   ]
  },
  {
   "cell_type": "code",
   "execution_count": 9,
   "metadata": {},
   "outputs": [
    {
     "data": {
      "application/vnd.jupyter.widget-view+json": {
       "model_id": "a26883dc44f14071bf67ea626253a420",
       "version_major": 2,
       "version_minor": 0
      },
      "text/html": [
       "<p>Failed to display Jupyter Widget of type <code>HBox</code>.</p>\n",
       "<p>\n",
       "  If you're reading this message in the Jupyter Notebook or JupyterLab Notebook, it may mean\n",
       "  that the widgets JavaScript is still loading. If this message persists, it\n",
       "  likely means that the widgets JavaScript library is either not installed or\n",
       "  not enabled. See the <a href=\"https://ipywidgets.readthedocs.io/en/stable/user_install.html\">Jupyter\n",
       "  Widgets Documentation</a> for setup instructions.\n",
       "</p>\n",
       "<p>\n",
       "  If you're reading this message in another frontend (for example, a static\n",
       "  rendering on GitHub or <a href=\"https://nbviewer.jupyter.org/\">NBViewer</a>),\n",
       "  it may mean that your frontend doesn't currently support widgets.\n",
       "</p>\n"
      ],
      "text/plain": [
       "HBox(children=(IntProgress(value=0, max=6), HTML(value='')))"
      ]
     },
     "metadata": {},
     "output_type": "display_data"
    },
    {
     "name": "stdout",
     "output_type": "stream",
     "text": [
      "\n"
     ]
    }
   ],
   "source": [
    "def get_data(sz, bs):\n",
    "    tfms = tfms_from_model(arch, sz, aug_tfms=transforms_top_down, max_zoom=1.10)\n",
    "    data = ImageClassifierData.from_paths(PATH, tfms=tfms, bs=bs,test_name='test')\n",
    "    return data\n",
    "\n",
    "data = get_data(sz, bs)\n",
    "data = data.resize(int(sz*1.1), 'tmp')"
   ]
  },
  {
   "cell_type": "code",
   "execution_count": 10,
   "metadata": {},
   "outputs": [],
   "source": [
    "#tfms = tfms_from_model(arch, sz, aug_tfms=transforms_side_on, max_zoom=1.1)\n",
    "#data = ImageClassifierData.from_paths(PATH, tfms=tfms, bs=bs,test_name='test',)\n",
    "\n",
    "learn = ConvLearner.pretrained(arch, data, precompute=True, ps=0.5)"
   ]
  },
  {
   "cell_type": "markdown",
   "metadata": {},
   "source": [
    "### Learning Rate Finder"
   ]
  },
  {
   "cell_type": "code",
   "execution_count": 11,
   "metadata": {},
   "outputs": [
    {
     "data": {
      "application/vnd.jupyter.widget-view+json": {
       "model_id": "1aa9dae10502449198258fea3a0ac6fc",
       "version_major": 2,
       "version_minor": 0
      },
      "text/html": [
       "<p>Failed to display Jupyter Widget of type <code>HBox</code>.</p>\n",
       "<p>\n",
       "  If you're reading this message in the Jupyter Notebook or JupyterLab Notebook, it may mean\n",
       "  that the widgets JavaScript is still loading. If this message persists, it\n",
       "  likely means that the widgets JavaScript library is either not installed or\n",
       "  not enabled. See the <a href=\"https://ipywidgets.readthedocs.io/en/stable/user_install.html\">Jupyter\n",
       "  Widgets Documentation</a> for setup instructions.\n",
       "</p>\n",
       "<p>\n",
       "  If you're reading this message in another frontend (for example, a static\n",
       "  rendering on GitHub or <a href=\"https://nbviewer.jupyter.org/\">NBViewer</a>),\n",
       "  it may mean that your frontend doesn't currently support widgets.\n",
       "</p>\n"
      ],
      "text/plain": [
       "HBox(children=(IntProgress(value=0, description='Epoch', max=1), HTML(value='')))"
      ]
     },
     "metadata": {},
     "output_type": "display_data"
    },
    {
     "name": "stdout",
     "output_type": "stream",
     "text": [
      " 61%|██████    | 25/41 [00:00<00:00, 26.35it/s, loss=7.22] \n",
      "                                                          \r"
     ]
    }
   ],
   "source": [
    "lrf = learn.lr_find()"
   ]
  },
  {
   "cell_type": "code",
   "execution_count": 12,
   "metadata": {},
   "outputs": [
    {
     "data": {
      "image/png": "[encoded data removed]",
      "text/plain": [
       "<matplotlib.figure.Figure at 0x7fa401d7ae80>"
      ]
     },
     "metadata": {},
     "output_type": "display_data"
    }
   ],
   "source": [
    "learn.sched.plot_lr()"
   ]
  },
  {
   "cell_type": "code",
   "execution_count": 13,
   "metadata": {},
   "outputs": [
    {
     "data": {
      "image/png": "[encoded data removed]",
      "text/plain": [
       "<matplotlib.figure.Figure at 0x7fa401d7a978>"
      ]
     },
     "metadata": {},
     "output_type": "display_data"
    }
   ],
   "source": [
    "learn.sched.plot() "
   ]
  },
  {
   "cell_type": "code",
   "execution_count": 14,
   "metadata": {},
   "outputs": [
    {
     "data": {
      "application/vnd.jupyter.widget-view+json": {
       "model_id": "47742206a9ed492190f9f16d0bc9f9b8",
       "version_major": 2,
       "version_minor": 0
      },
      "text/html": [
       "<p>Failed to display Jupyter Widget of type <code>HBox</code>.</p>\n",
       "<p>\n",
       "  If you're reading this message in the Jupyter Notebook or JupyterLab Notebook, it may mean\n",
       "  that the widgets JavaScript is still loading. If this message persists, it\n",
       "  likely means that the widgets JavaScript library is either not installed or\n",
       "  not enabled. See the <a href=\"https://ipywidgets.readthedocs.io/en/stable/user_install.html\">Jupyter\n",
       "  Widgets Documentation</a> for setup instructions.\n",
       "</p>\n",
       "<p>\n",
       "  If you're reading this message in another frontend (for example, a static\n",
       "  rendering on GitHub or <a href=\"https://nbviewer.jupyter.org/\">NBViewer</a>),\n",
       "  it may mean that your frontend doesn't currently support widgets.\n",
       "</p>\n"
      ],
      "text/plain": [
       "HBox(children=(IntProgress(value=0, description='Epoch', max=9), HTML(value='')))"
      ]
     },
     "metadata": {},
     "output_type": "display_data"
    },
    {
     "name": "stdout",
     "output_type": "stream",
     "text": [
      "[0.      0.59825 0.47099 0.73296]                          \n",
      "[1.      0.49927 0.40359 0.83239]                          \n",
      "[2.      0.44379 0.40082 0.82386]                          \n",
      "[3.      0.41769 0.42302 0.73864]                          \n",
      "[4.      0.40847 0.41662 0.84091]                          \n",
      "[5.      0.38639 0.39355 0.83239]                          \n",
      "[6.      0.37098 0.38299 0.83523]                          \n",
      "[7.      0.35066 0.37675 0.82954]                          \n",
      "[8.      0.34772 0.39196 0.84091]                          \n",
      "\n"
     ]
    }
   ],
   "source": [
    "learn.fit(lr, 9)\n",
    "learn.precompute=False"
   ]
  },
  {
   "cell_type": "markdown",
   "metadata": {},
   "source": [
    "### Stochastic Gradient Descent with Restart"
   ]
  },
  {
   "cell_type": "code",
   "execution_count": 15,
   "metadata": {},
   "outputs": [],
   "source": [
    "lr = 0.005"
   ]
  },
  {
   "cell_type": "code",
   "execution_count": 16,
   "metadata": {},
   "outputs": [
    {
     "data": {
      "application/vnd.jupyter.widget-view+json": {
       "model_id": "4414c1794d1b4d69aa7aa644bdd2fe29",
       "version_major": 2,
       "version_minor": 0
      },
      "text/html": [
       "<p>Failed to display Jupyter Widget of type <code>HBox</code>.</p>\n",
       "<p>\n",
       "  If you're reading this message in the Jupyter Notebook or JupyterLab Notebook, it may mean\n",
       "  that the widgets JavaScript is still loading. If this message persists, it\n",
       "  likely means that the widgets JavaScript library is either not installed or\n",
       "  not enabled. See the <a href=\"https://ipywidgets.readthedocs.io/en/stable/user_install.html\">Jupyter\n",
       "  Widgets Documentation</a> for setup instructions.\n",
       "</p>\n",
       "<p>\n",
       "  If you're reading this message in another frontend (for example, a static\n",
       "  rendering on GitHub or <a href=\"https://nbviewer.jupyter.org/\">NBViewer</a>),\n",
       "  it may mean that your frontend doesn't currently support widgets.\n",
       "</p>\n"
      ],
      "text/plain": [
       "HBox(children=(IntProgress(value=0, description='Epoch', max=31), HTML(value='')))"
      ]
     },
     "metadata": {},
     "output_type": "display_data"
    },
    {
     "name": "stdout",
     "output_type": "stream",
     "text": [
      "[0.      0.50614 0.40619 0.81818]                          \n",
      "[1.      0.46401 0.39647 0.81818]                          \n",
      "[2.      0.43891 0.3963  0.80398]                          \n",
      "[3.      0.46129 0.4569  0.77273]                          \n",
      "[4.      0.43853 0.44168 0.79261]                          \n",
      "[5.      0.43014 0.41541 0.78977]                          \n",
      "[6.      0.41912 0.41718 0.78693]                          \n",
      "[7.      0.41558 0.44    0.78125]                          \n",
      "[8.      0.4464  0.45278 0.78125]                          \n",
      "[9.      0.44    0.38377 0.81534]                          \n",
      "[10.       0.41521  0.41193  0.80114]                      \n",
      "[11.       0.40072  0.45434  0.76421]                      \n",
      "[12.       0.40318  0.44622  0.78693]                      \n",
      "[13.       0.4133   0.46559  0.77273]                      \n",
      "[14.       0.43405  0.4363   0.78409]                      \n",
      "[15.       0.43231  0.40133  0.80114]                      \n",
      "[16.       0.44167  0.40873  0.8125 ]                      \n",
      "[17.       0.40183  0.41913  0.80114]                      \n",
      "[18.       0.39167  0.41093  0.82386]                      \n",
      "[19.       0.45115  0.47243  0.78693]                      \n",
      "[20.       0.41668  0.4293   0.80398]                      \n",
      "[21.       0.44751  0.42755  0.8125 ]                      \n",
      "[22.       0.43608  0.42316  0.81534]                      \n",
      "[23.       0.40808  0.41283  0.82102]                      \n",
      "[24.       0.40741  0.42826  0.79261]                      \n",
      "[25.       0.38927  0.43788  0.79829]                      \n",
      "[26.       0.39333  0.46902  0.78125]                      \n",
      "[27.       0.39775  0.44175  0.79546]                      \n",
      "[28.       0.39281  0.43096  0.80114]                      \n",
      "[29.       0.39709  0.44073  0.79829]                      \n",
      "[30.       0.39224  0.4536   0.78977]                      \n",
      "\n"
     ]
    }
   ],
   "source": [
    "#learn.fit(lr, 4, cycle_len=2)\n",
    "learn.fit(lr, 5, cycle_len=1, cycle_mult=2)"
   ]
  },
  {
   "cell_type": "code",
   "execution_count": 17,
   "metadata": {},
   "outputs": [
    {
     "data": {
      "image/png": "[encoded data removed]",
      "text/plain": [
       "<matplotlib.figure.Figure at 0x7fa3b87812e8>"
      ]
     },
     "metadata": {},
     "output_type": "display_data"
    }
   ],
   "source": [
    "learn.sched.plot_lr()"
   ]
  },
  {
   "cell_type": "code",
   "execution_count": 18,
   "metadata": {},
   "outputs": [
    {
     "data": {
      "image/png": "[encoded data removed]",
      "text/plain": [
       "<matplotlib.figure.Figure at 0x7fa3b8747940>"
      ]
     },
     "metadata": {},
     "output_type": "display_data"
    }
   ],
   "source": [
    "learn.sched.plot_loss()"
   ]
  },
  {
   "cell_type": "code",
   "execution_count": 19,
   "metadata": {},
   "outputs": [
    {
     "name": "stdout",
     "output_type": "stream",
     "text": [
      "                                             \r"
     ]
    },
    {
     "data": {
      "text/plain": [
       "(0.3446784601138373, 0.8286604361370716)"
      ]
     },
     "execution_count": 19,
     "metadata": {},
     "output_type": "execute_result"
    }
   ],
   "source": [
    "log_preds,y = learn.TTA()\n",
    "preds = np.mean(np.exp(log_preds),axis=0)\n",
    "(metrics.log_loss(y,preds), accuracy(preds,y))"
   ]
  },
  {
   "cell_type": "code",
   "execution_count": 20,
   "metadata": {},
   "outputs": [],
   "source": [
    "# lr/10"
   ]
  },
  {
   "cell_type": "code",
   "execution_count": 21,
   "metadata": {},
   "outputs": [],
   "source": [
    "# lr/9"
   ]
  },
  {
   "cell_type": "code",
   "execution_count": 22,
   "metadata": {},
   "outputs": [],
   "source": [
    "# lr/3"
   ]
  },
  {
   "cell_type": "code",
   "execution_count": 23,
   "metadata": {},
   "outputs": [],
   "source": [
    "# lr/4"
   ]
  },
  {
   "cell_type": "markdown",
   "metadata": {},
   "source": [
    "### Unfreeze Layers"
   ]
  },
  {
   "cell_type": "code",
   "execution_count": 24,
   "metadata": {},
   "outputs": [],
   "source": [
    "# unfreeze layers\n",
    "learn.unfreeze()\n",
    "#lrs = np.array([lr/15,lr/12,lr/9])\n",
    "lrs = np.array([lr/9,lr/3,lr/1])\n",
    "\n",
    "#wd = 0.025\n",
    "#wds=[wd/100, wd/10, wd]\n",
    "#wds=[0.0025,0.025,0.25]\n"
   ]
  },
  {
   "cell_type": "markdown",
   "metadata": {},
   "source": [
    "### Run Learner Again"
   ]
  },
  {
   "cell_type": "code",
   "execution_count": 25,
   "metadata": {},
   "outputs": [
    {
     "data": {
      "application/vnd.jupyter.widget-view+json": {
       "model_id": "c3ba7090e4e942568f4c05477184318e",
       "version_major": 2,
       "version_minor": 0
      },
      "text/html": [
       "<p>Failed to display Jupyter Widget of type <code>HBox</code>.</p>\n",
       "<p>\n",
       "  If you're reading this message in the Jupyter Notebook or JupyterLab Notebook, it may mean\n",
       "  that the widgets JavaScript is still loading. If this message persists, it\n",
       "  likely means that the widgets JavaScript library is either not installed or\n",
       "  not enabled. See the <a href=\"https://ipywidgets.readthedocs.io/en/stable/user_install.html\">Jupyter\n",
       "  Widgets Documentation</a> for setup instructions.\n",
       "</p>\n",
       "<p>\n",
       "  If you're reading this message in another frontend (for example, a static\n",
       "  rendering on GitHub or <a href=\"https://nbviewer.jupyter.org/\">NBViewer</a>),\n",
       "  it may mean that your frontend doesn't currently support widgets.\n",
       "</p>\n"
      ],
      "text/plain": [
       "HBox(children=(IntProgress(value=0, description='Epoch', max=31), HTML(value='')))"
      ]
     },
     "metadata": {},
     "output_type": "display_data"
    },
    {
     "name": "stdout",
     "output_type": "stream",
     "text": [
      "[0.      0.555   0.46545 0.77557]                          \n",
      "[1.      0.45294 0.45004 0.80682]                          \n",
      "[2.      0.40165 0.34062 0.84943]                          \n",
      "[3.      0.39021 0.45488 0.78977]                          \n",
      "[4.      0.38996 0.32312 0.85227]                          \n",
      "[5.      0.36741 0.43905 0.80966]                          \n",
      "[6.      0.34174 0.35334 0.84375]                          \n",
      "[7.      0.34827 0.67212 0.75284]                          \n",
      "[8.      0.3414  0.44773 0.77273]                          \n",
      "[9.      0.35447 0.8174  0.66761]                          \n",
      "[10.       0.36961  0.3766   0.84659]                      \n",
      "[11.       0.34214  0.40903  0.82102]                      \n",
      "[12.       0.32158  0.34088  0.84091]                      \n",
      "[13.       0.31974  0.3299   0.84943]                      \n",
      "[14.       0.32591  0.3547   0.84375]                      \n",
      "[15.       0.32594  0.42812  0.82954]                      \n",
      "[16.       0.32818  0.33511  0.86932]                      \n",
      "[17.       0.32367  0.34902  0.83807]                      \n",
      "[18.       0.30399  0.41682  0.81818]                      \n",
      "[19.       0.28484  0.28024  0.85796]                      \n",
      "[20.       0.28274  0.27659  0.875  ]                      \n",
      "[21.       0.25788  0.28651  0.88068]                      \n",
      "[22.       0.2586   0.33209  0.85511]                      \n",
      "[23.       0.24801  0.27189  0.88921]                      \n",
      "[24.       0.24471  0.25653  0.89773]                      \n",
      "[25.       0.27175  0.26531  0.89489]                      \n",
      "[26.       0.28572  0.28665  0.87784]                      \n",
      "[27.       0.23269  0.27939  0.88068]                      \n",
      "[28.       0.21787  0.2873   0.87784]                      \n",
      "[29.       0.20307  0.25963  0.88352]                      \n",
      "[30.       0.20009  0.25841  0.88636]                      \n",
      "\n"
     ]
    }
   ],
   "source": [
    "learn.fit(lrs, 5, cycle_len=1, cycle_mult=2)\n",
    "#learn.fit(lrs, 5, cycle_len=1, cycle_mult=2,use_wd_sched=True,wds=wds)"
   ]
  },
  {
   "cell_type": "code",
   "execution_count": 26,
   "metadata": {},
   "outputs": [
    {
     "data": {
      "image/png": "[encoded data removed]",
      "text/plain": [
       "<matplotlib.figure.Figure at 0x7fa3c1b30438>"
      ]
     },
     "metadata": {},
     "output_type": "display_data"
    }
   ],
   "source": [
    "learn.sched.plot_lr()"
   ]
  },
  {
   "cell_type": "code",
   "execution_count": 27,
   "metadata": {},
   "outputs": [
    {
     "data": {
      "image/png": "[encoded data removed]",
      "text/plain": [
       "<matplotlib.figure.Figure at 0x7fa3c1b30668>"
      ]
     },
     "metadata": {},
     "output_type": "display_data"
    }
   ],
   "source": [
    "learn.sched.plot_loss()"
   ]
  },
  {
   "cell_type": "markdown",
   "metadata": {},
   "source": [
    "## Log Loss | Accuracy"
   ]
  },
  {
   "cell_type": "code",
   "execution_count": 28,
   "metadata": {},
   "outputs": [
    {
     "name": "stdout",
     "output_type": "stream",
     "text": [
      "                                             \r"
     ]
    },
    {
     "data": {
      "text/plain": [
       "(0.2356822522004143, 0.9096573208722741)"
      ]
     },
     "execution_count": 28,
     "metadata": {},
     "output_type": "execute_result"
    }
   ],
   "source": [
    "log_preds,y = learn.TTA()\n",
    "preds = np.mean(np.exp(log_preds),axis=0)\n",
    "(metrics.log_loss(y,preds), accuracy(preds,y))"
   ]
  },
  {
   "cell_type": "markdown",
   "metadata": {},
   "source": [
    "## Resize the images"
   ]
  },
  {
   "cell_type": "code",
   "execution_count": 29,
   "metadata": {},
   "outputs": [],
   "source": [
    "def get_data(sz, bs):\n",
    "    tfms = tfms_from_model(arch, sz, aug_tfms=transforms_top_down, max_zoom=1.00)\n",
    "    data = ImageClassifierData.from_paths(PATH, tfms=tfms, bs=bs,test_name='test')\n",
    "    return data"
   ]
  },
  {
   "cell_type": "markdown",
   "metadata": {},
   "source": [
    "## Image Size of 128"
   ]
  },
  {
   "cell_type": "code",
   "execution_count": 30,
   "metadata": {},
   "outputs": [
    {
     "data": {
      "application/vnd.jupyter.widget-view+json": {
       "model_id": "a10a7b775d1a4ee9a654576219209f38",
       "version_major": 2,
       "version_minor": 0
      },
      "text/html": [
       "<p>Failed to display Jupyter Widget of type <code>HBox</code>.</p>\n",
       "<p>\n",
       "  If you're reading this message in the Jupyter Notebook or JupyterLab Notebook, it may mean\n",
       "  that the widgets JavaScript is still loading. If this message persists, it\n",
       "  likely means that the widgets JavaScript library is either not installed or\n",
       "  not enabled. See the <a href=\"https://ipywidgets.readthedocs.io/en/stable/user_install.html\">Jupyter\n",
       "  Widgets Documentation</a> for setup instructions.\n",
       "</p>\n",
       "<p>\n",
       "  If you're reading this message in another frontend (for example, a static\n",
       "  rendering on GitHub or <a href=\"https://nbviewer.jupyter.org/\">NBViewer</a>),\n",
       "  it may mean that your frontend doesn't currently support widgets.\n",
       "</p>\n"
      ],
      "text/plain": [
       "HBox(children=(IntProgress(value=0, description='Epoch', max=7), HTML(value='')))"
      ]
     },
     "metadata": {},
     "output_type": "display_data"
    },
    {
     "name": "stdout",
     "output_type": "stream",
     "text": [
      "[0.      0.39422 0.30824 0.86364]                          \n",
      "[1.      0.33421 0.30572 0.86079]                          \n",
      "[2.      0.3204  0.31164 0.86079]                          \n",
      "[3.      0.30686 0.30337 0.85511]                          \n",
      "[4.      0.30224 0.28447 0.86932]                          \n",
      "[5.      0.31564 0.29473 0.85796]                          \n",
      "[6.      0.30586 0.29179 0.85511]                          \n",
      "\n"
     ]
    },
    {
     "data": {
      "application/vnd.jupyter.widget-view+json": {
       "model_id": "3919f2ed698e4da28ef44c2f3bf92eba",
       "version_major": 2,
       "version_minor": 0
      },
      "text/html": [
       "<p>Failed to display Jupyter Widget of type <code>HBox</code>.</p>\n",
       "<p>\n",
       "  If you're reading this message in the Jupyter Notebook or JupyterLab Notebook, it may mean\n",
       "  that the widgets JavaScript is still loading. If this message persists, it\n",
       "  likely means that the widgets JavaScript library is either not installed or\n",
       "  not enabled. See the <a href=\"https://ipywidgets.readthedocs.io/en/stable/user_install.html\">Jupyter\n",
       "  Widgets Documentation</a> for setup instructions.\n",
       "</p>\n",
       "<p>\n",
       "  If you're reading this message in another frontend (for example, a static\n",
       "  rendering on GitHub or <a href=\"https://nbviewer.jupyter.org/\">NBViewer</a>),\n",
       "  it may mean that your frontend doesn't currently support widgets.\n",
       "</p>\n"
      ],
      "text/plain": [
       "HBox(children=(IntProgress(value=0, description='Epoch', max=7), HTML(value='')))"
      ]
     },
     "metadata": {},
     "output_type": "display_data"
    },
    {
     "name": "stdout",
     "output_type": "stream",
     "text": [
      "[0.      0.37488 0.32175 0.83807]                          \n",
      "[1.      0.41735 0.34574 0.83523]                          \n",
      "[2.      0.38286 0.31647 0.85227]                          \n",
      "[3.      0.39189 0.27023 0.86932]                          \n",
      "[4.      0.37862 0.26703 0.89204]                          \n",
      "[5.      0.32292 0.24683 0.89773]                          \n",
      "[6.      0.31523 0.25111 0.89489]                          \n",
      "\n"
     ]
    }
   ],
   "source": [
    "#train for image size 128x128\n",
    "learn.set_data(get_data(128, 32))\n",
    "\n",
    "learn.freeze()\n",
    "learn.fit(lr, 3, cycle_len=1, cycle_mult=2)\n",
    "\n",
    "learn.unfreeze()\n",
    "learn.fit(lr, 3, cycle_len=1, cycle_mult=2)"
   ]
  },
  {
   "cell_type": "code",
   "execution_count": 31,
   "metadata": {},
   "outputs": [
    {
     "data": {
      "image/png": "[encoded data removed]",
      "text/plain": [
       "<matplotlib.figure.Figure at 0x7fa3b8686710>"
      ]
     },
     "metadata": {},
     "output_type": "display_data"
    }
   ],
   "source": [
    "learn.sched.plot_lr()"
   ]
  },
  {
   "cell_type": "code",
   "execution_count": 32,
   "metadata": {},
   "outputs": [
    {
     "data": {
      "image/png": "[encoded data removed]",
      "text/plain": [
       "<matplotlib.figure.Figure at 0x7fa3c00e4978>"
      ]
     },
     "metadata": {},
     "output_type": "display_data"
    }
   ],
   "source": [
    "learn.sched.plot_loss()"
   ]
  },
  {
   "cell_type": "markdown",
   "metadata": {},
   "source": [
    "## Log Loss | Accuracy"
   ]
  },
  {
   "cell_type": "code",
   "execution_count": 33,
   "metadata": {},
   "outputs": [
    {
     "name": "stdout",
     "output_type": "stream",
     "text": [
      "                                             \r"
     ]
    },
    {
     "data": {
      "text/plain": [
       "(0.24905085270318444, 0.897196261682243)"
      ]
     },
     "execution_count": 33,
     "metadata": {},
     "output_type": "execute_result"
    }
   ],
   "source": [
    "log_preds,y = learn.TTA()\n",
    "preds = np.mean(np.exp(log_preds),axis=0)\n",
    "(metrics.log_loss(y,preds), accuracy(preds,y))"
   ]
  },
  {
   "cell_type": "markdown",
   "metadata": {},
   "source": [
    "---\n",
    "## Image Size of 150"
   ]
  },
  {
   "cell_type": "code",
   "execution_count": 34,
   "metadata": {},
   "outputs": [
    {
     "data": {
      "application/vnd.jupyter.widget-view+json": {
       "model_id": "0441217e59244285afffe0de51ae79a0",
       "version_major": 2,
       "version_minor": 0
      },
      "text/html": [
       "<p>Failed to display Jupyter Widget of type <code>HBox</code>.</p>\n",
       "<p>\n",
       "  If you're reading this message in the Jupyter Notebook or JupyterLab Notebook, it may mean\n",
       "  that the widgets JavaScript is still loading. If this message persists, it\n",
       "  likely means that the widgets JavaScript library is either not installed or\n",
       "  not enabled. See the <a href=\"https://ipywidgets.readthedocs.io/en/stable/user_install.html\">Jupyter\n",
       "  Widgets Documentation</a> for setup instructions.\n",
       "</p>\n",
       "<p>\n",
       "  If you're reading this message in another frontend (for example, a static\n",
       "  rendering on GitHub or <a href=\"https://nbviewer.jupyter.org/\">NBViewer</a>),\n",
       "  it may mean that your frontend doesn't currently support widgets.\n",
       "</p>\n"
      ],
      "text/plain": [
       "HBox(children=(IntProgress(value=0, description='Epoch', max=7), HTML(value='')))"
      ]
     },
     "metadata": {},
     "output_type": "display_data"
    },
    {
     "name": "stdout",
     "output_type": "stream",
     "text": [
      "[0.      0.2788  0.28268 0.87798]                          \n",
      "[1.      0.29462 0.29526 0.86905]                          \n",
      "[2.      0.28896 0.28956 0.875  ]                          \n",
      "[3.      0.28625 0.29952 0.87202]                          \n",
      "[4.      0.29707 0.30062 0.86607]                          \n",
      "[5.      0.2777  0.32601 0.86309]                          \n",
      "[6.      0.263   0.32056 0.86607]                          \n",
      "\n"
     ]
    },
    {
     "data": {
      "application/vnd.jupyter.widget-view+json": {
       "model_id": "ee7663ab7ad246debd99d9c282349525",
       "version_major": 2,
       "version_minor": 0
      },
      "text/html": [
       "<p>Failed to display Jupyter Widget of type <code>HBox</code>.</p>\n",
       "<p>\n",
       "  If you're reading this message in the Jupyter Notebook or JupyterLab Notebook, it may mean\n",
       "  that the widgets JavaScript is still loading. If this message persists, it\n",
       "  likely means that the widgets JavaScript library is either not installed or\n",
       "  not enabled. See the <a href=\"https://ipywidgets.readthedocs.io/en/stable/user_install.html\">Jupyter\n",
       "  Widgets Documentation</a> for setup instructions.\n",
       "</p>\n",
       "<p>\n",
       "  If you're reading this message in another frontend (for example, a static\n",
       "  rendering on GitHub or <a href=\"https://nbviewer.jupyter.org/\">NBViewer</a>),\n",
       "  it may mean that your frontend doesn't currently support widgets.\n",
       "</p>\n"
      ],
      "text/plain": [
       "HBox(children=(IntProgress(value=0, description='Epoch', max=7), HTML(value='')))"
      ]
     },
     "metadata": {},
     "output_type": "display_data"
    },
    {
     "name": "stdout",
     "output_type": "stream",
     "text": [
      "[0.      0.371   0.29715 0.88691]                          \n",
      "[1.      0.38825 0.37787 0.83036]                          \n",
      "[2.      0.31659 0.34464 0.83631]                          \n",
      "[3.      0.38475 0.34366 0.85417]                          \n",
      "[4.      0.37291 0.29999 0.875  ]                          \n",
      "[5.      0.29536 0.29949 0.86905]                          \n",
      "[6.      0.29284 0.29812 0.87798]                          \n",
      "\n"
     ]
    }
   ],
   "source": [
    "#train for image size 150 x 150\n",
    "learn.set_data(get_data(150, 16))\n",
    "\n",
    "learn.freeze()\n",
    "learn.fit(lr, 3, cycle_len=1, cycle_mult=2)\n",
    "\n",
    "learn.unfreeze()\n",
    "learn.fit(lr, 3, cycle_len=1, cycle_mult=2)"
   ]
  },
  {
   "cell_type": "code",
   "execution_count": 35,
   "metadata": {},
   "outputs": [
    {
     "data": {
      "image/png": "[encoded data removed]",
      "text/plain": [
       "<matplotlib.figure.Figure at 0x7fa3b8701630>"
      ]
     },
     "metadata": {},
     "output_type": "display_data"
    }
   ],
   "source": [
    "learn.sched.plot_lr()"
   ]
  },
  {
   "cell_type": "code",
   "execution_count": 36,
   "metadata": {},
   "outputs": [
    {
     "data": {
      "image/png": "[encoded data removed]",
      "text/plain": [
       "<matplotlib.figure.Figure at 0x7fa3c01b0e48>"
      ]
     },
     "metadata": {},
     "output_type": "display_data"
    }
   ],
   "source": [
    "learn.sched.plot_loss()"
   ]
  },
  {
   "cell_type": "markdown",
   "metadata": {},
   "source": [
    "## Log Loss | Accuracy"
   ]
  },
  {
   "cell_type": "code",
   "execution_count": 37,
   "metadata": {},
   "outputs": [
    {
     "name": "stdout",
     "output_type": "stream",
     "text": [
      "                                             \r"
     ]
    },
    {
     "data": {
      "text/plain": [
       "(0.25082030876054084, 0.9034267912772586)"
      ]
     },
     "execution_count": 37,
     "metadata": {},
     "output_type": "execute_result"
    }
   ],
   "source": [
    "log_preds,y = learn.TTA()\n",
    "preds = np.mean(np.exp(log_preds),axis=0)\n",
    "(metrics.log_loss(y,preds), accuracy(preds,y))"
   ]
  },
  {
   "cell_type": "markdown",
   "metadata": {},
   "source": [
    "---\n",
    "## Save learner"
   ]
  },
  {
   "cell_type": "code",
   "execution_count": 48,
   "metadata": {},
   "outputs": [],
   "source": [
    "learn.save('resnext50_sz75_sequ')"
   ]
  },
  {
   "cell_type": "code",
   "execution_count": 49,
   "metadata": {},
   "outputs": [],
   "source": [
    "learn.load('resnext50_sz75_sequ')"
   ]
  },
  {
   "cell_type": "markdown",
   "metadata": {},
   "source": [
    "## Output predictions to csv file"
   ]
  },
  {
   "cell_type": "code",
   "execution_count": 50,
   "metadata": {},
   "outputs": [
    {
     "name": "stdout",
     "output_type": "stream",
     "text": [
      "                                             \r"
     ]
    }
   ],
   "source": [
    "helper.make_submission(learn=learn, data=data, output_file_name = f'{PATH}sub/resnext50_sz75_sequ.csv')"
   ]
  },
  {
   "cell_type": "markdown",
   "metadata": {},
   "source": [
    "# END FILE"
   ]
  },
  {
   "cell_type": "markdown",
   "metadata": {},
   "source": [
    "### Run Learner again"
   ]
  },
  {
   "cell_type": "code",
   "execution_count": 41,
   "metadata": {},
   "outputs": [],
   "source": [
    "#learn.fit(lrs, 5, cycle_len=1, cycle_mult=2)"
   ]
  },
  {
   "cell_type": "code",
   "execution_count": 42,
   "metadata": {},
   "outputs": [],
   "source": [
    "#learn.sched.plot_loss()"
   ]
  },
  {
   "cell_type": "code",
   "execution_count": 43,
   "metadata": {},
   "outputs": [],
   "source": [
    "# log_preds,y = learn.TTA()\n",
    "# preds = np.mean(np.exp(log_preds),axis=0)\n",
    "# (metrics.log_loss(y,preds), accuracy(preds,y))"
   ]
  },
  {
   "cell_type": "markdown",
   "metadata": {},
   "source": [
    "### Run Learner again"
   ]
  },
  {
   "cell_type": "code",
   "execution_count": 44,
   "metadata": {},
   "outputs": [],
   "source": [
    "#learn.fit(lrs, 5, cycle_len=1, cycle_mult=2)"
   ]
  },
  {
   "cell_type": "code",
   "execution_count": 45,
   "metadata": {},
   "outputs": [],
   "source": [
    "#learn.sched.plot_loss()"
   ]
  },
  {
   "cell_type": "markdown",
   "metadata": {},
   "source": [
    "## Log Loss | Accuracy (final model here)"
   ]
  },
  {
   "cell_type": "code",
   "execution_count": 46,
   "metadata": {},
   "outputs": [],
   "source": [
    "# log_preds,y = learn.TTA()\n",
    "# preds = np.mean(np.exp(log_preds),axis=0)\n",
    "# (metrics.log_loss(y,preds), accuracy(preds,y))"
   ]
  },
  {
   "cell_type": "markdown",
   "metadata": {},
   "source": [
    "## Save predictions"
   ]
  },
  {
   "cell_type": "code",
   "execution_count": 47,
   "metadata": {},
   "outputs": [],
   "source": [
    "# test_df = pd.read_json(PATH+\"/test.json\")\n",
    "# helper.make_test_file(log_preds,test_df,model_name='resnext50_sz75_zm15_bs32_comp_band',\n",
    "#                       classes=data.classes,\n",
    "#                       submission_folder =f'{PATH}sub'\n",
    "#                      )"
   ]
  }
 ],
 "metadata": {
  "kernelspec": {
   "display_name": "Python 3",
   "language": "python",
   "name": "python3"
  },
  "language_info": {
   "codemirror_mode": {
    "name": "ipython",
    "version": 3
   },
   "file_extension": ".py",
   "mimetype": "text/x-python",
   "name": "python",
   "nbconvert_exporter": "python",
   "pygments_lexer": "ipython3",
   "version": "3.6.4"
  }
 },
 "nbformat": 4,
 "nbformat_minor": 2
}
