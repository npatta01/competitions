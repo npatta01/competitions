{
 "cells": [
  {
   "cell_type": "code",
   "execution_count": 22,
   "metadata": {
    "collapsed": false
   },
   "outputs": [],
   "source": [
    "import pandas as pd\n",
    "import csv\n",
    "import numpy as np\n",
    "import operator"
   ]
  },
  {
   "cell_type": "code",
   "execution_count": 23,
   "metadata": {
    "collapsed": false
   },
   "outputs": [
    {
     "data": {
      "text/plain": [
       "u'/home/jshoun01/Data/kaggle/whale'"
      ]
     },
     "execution_count": 23,
     "metadata": {},
     "output_type": "execute_result"
    }
   ],
   "source": [
    "pwd"
   ]
  },
  {
   "cell_type": "code",
   "execution_count": 24,
   "metadata": {
    "collapsed": true
   },
   "outputs": [],
   "source": [
    "base_path='/home/jshoun01/Data/kaggle/whale/imgs'"
   ]
  },
  {
   "cell_type": "code",
   "execution_count": 25,
   "metadata": {
    "collapsed": false
   },
   "outputs": [
    {
     "name": "stdout",
     "output_type": "stream",
     "text": [
      "cookies.txt            \u001b[0m\u001b[01;31mimgs_subset.zip\u001b[0m            \u001b[01;31mtrain.csv.zip\u001b[0m\r\n",
      "digits_labels.txt      \u001b[01;31mimgs.zip\u001b[0m                   train_digits.csv\r\n",
      "digits_train.csv       \u001b[01;34m__MACOSX\u001b[0m/                  train_digits_shuffled.csv\r\n",
      "digits_validation.csv  sample_submission.csv      Untitled.ipynb\r\n",
      "\u001b[01;34mimgs\u001b[0m/                  \u001b[01;31msample_submission.csv.zip\u001b[0m  \u001b[01;35mw_7489.jpg\u001b[0m\r\n",
      "\u001b[01;34mimgs_subset\u001b[0m/           train.csv                  \u001b[01;31mw_7489.jpg.zip\u001b[0m\r\n"
     ]
    }
   ],
   "source": [
    "ls\n"
   ]
  },
  {
   "cell_type": "code",
   "execution_count": 26,
   "metadata": {
    "collapsed": true
   },
   "outputs": [],
   "source": [
    "train_df = pd.read_csv('train.csv')"
   ]
  },
  {
   "cell_type": "code",
   "execution_count": 27,
   "metadata": {
    "collapsed": true
   },
   "outputs": [],
   "source": [
    "train_df['full_path']=base_path+\"/\"+train_df['Image']"
   ]
  },
  {
   "cell_type": "code",
   "execution_count": 28,
   "metadata": {
    "collapsed": false
   },
   "outputs": [
    {
     "data": {
      "text/html": [
       "<div>\n",
       "<table border=\"1\" class=\"dataframe\">\n",
       "  <thead>\n",
       "    <tr style=\"text-align: right;\">\n",
       "      <th></th>\n",
       "      <th>Image</th>\n",
       "      <th>whaleID</th>\n",
       "      <th>full_path</th>\n",
       "    </tr>\n",
       "  </thead>\n",
       "  <tbody>\n",
       "    <tr>\n",
       "      <th>0</th>\n",
       "      <td>w_7812.jpg</td>\n",
       "      <td>whale_48813</td>\n",
       "      <td>/home/jshoun01/Data/kaggle/whale/imgs/w_7812.jpg</td>\n",
       "    </tr>\n",
       "    <tr>\n",
       "      <th>1</th>\n",
       "      <td>w_4598.jpg</td>\n",
       "      <td>whale_09913</td>\n",
       "      <td>/home/jshoun01/Data/kaggle/whale/imgs/w_4598.jpg</td>\n",
       "    </tr>\n",
       "    <tr>\n",
       "      <th>2</th>\n",
       "      <td>w_3828.jpg</td>\n",
       "      <td>whale_45062</td>\n",
       "      <td>/home/jshoun01/Data/kaggle/whale/imgs/w_3828.jpg</td>\n",
       "    </tr>\n",
       "    <tr>\n",
       "      <th>3</th>\n",
       "      <td>w_8734.jpg</td>\n",
       "      <td>whale_74162</td>\n",
       "      <td>/home/jshoun01/Data/kaggle/whale/imgs/w_8734.jpg</td>\n",
       "    </tr>\n",
       "    <tr>\n",
       "      <th>4</th>\n",
       "      <td>w_3251.jpg</td>\n",
       "      <td>whale_99558</td>\n",
       "      <td>/home/jshoun01/Data/kaggle/whale/imgs/w_3251.jpg</td>\n",
       "    </tr>\n",
       "  </tbody>\n",
       "</table>\n",
       "</div>"
      ],
      "text/plain": [
       "        Image      whaleID                                         full_path\n",
       "0  w_7812.jpg  whale_48813  /home/jshoun01/Data/kaggle/whale/imgs/w_7812.jpg\n",
       "1  w_4598.jpg  whale_09913  /home/jshoun01/Data/kaggle/whale/imgs/w_4598.jpg\n",
       "2  w_3828.jpg  whale_45062  /home/jshoun01/Data/kaggle/whale/imgs/w_3828.jpg\n",
       "3  w_8734.jpg  whale_74162  /home/jshoun01/Data/kaggle/whale/imgs/w_8734.jpg\n",
       "4  w_3251.jpg  whale_99558  /home/jshoun01/Data/kaggle/whale/imgs/w_3251.jpg"
      ]
     },
     "execution_count": 28,
     "metadata": {},
     "output_type": "execute_result"
    }
   ],
   "source": [
    "train_df.head()"
   ]
  },
  {
   "cell_type": "markdown",
   "metadata": {},
   "source": [
    "# labels"
   ]
  },
  {
   "cell_type": "code",
   "execution_count": 29,
   "metadata": {
    "collapsed": true
   },
   "outputs": [],
   "source": [
    "labels=train_df['whaleID']"
   ]
  },
  {
   "cell_type": "code",
   "execution_count": 30,
   "metadata": {
    "collapsed": false
   },
   "outputs": [],
   "source": [
    "labels_unique=labels.unique()\n",
    "labels_dict= {key: idx for idx,key in enumerate(labels_unique)}"
   ]
  },
  {
   "cell_type": "code",
   "execution_count": 31,
   "metadata": {
    "collapsed": false
   },
   "outputs": [
    {
     "data": {
      "text/plain": [
       "[('whale_48813', 0),\n",
       " ('whale_09913', 1),\n",
       " ('whale_45062', 2),\n",
       " ('whale_74162', 3),\n",
       " ('whale_99558', 4)]"
      ]
     },
     "execution_count": 31,
     "metadata": {},
     "output_type": "execute_result"
    }
   ],
   "source": [
    "sorted(labels_dict.items(),key=operator.itemgetter(1))[0:5]"
   ]
  },
  {
   "cell_type": "code",
   "execution_count": 32,
   "metadata": {
    "collapsed": false
   },
   "outputs": [],
   "source": [
    "with open('digits_labels.txt', 'w') as outfile:\n",
    "    for k, v in sorted(labels_dict.items(),key=operator.itemgetter(1)):\n",
    "        outfile.write(k+\"\\n\")\n",
    "    "
   ]
  },
  {
   "cell_type": "code",
   "execution_count": 33,
   "metadata": {
    "collapsed": false
   },
   "outputs": [
    {
     "name": "stdout",
     "output_type": "stream",
     "text": [
      "whale_48813\r\n",
      "whale_09913\r\n",
      "whale_45062\r\n",
      "whale_74162\r\n",
      "whale_99558\r\n",
      "whale_59255\r\n",
      "whale_87291\r\n",
      "whale_33152\r\n",
      "whale_88147\r\n",
      "whale_77693\r\n"
     ]
    }
   ],
   "source": [
    "!head digits_labels.txt"
   ]
  },
  {
   "cell_type": "code",
   "execution_count": 34,
   "metadata": {
    "collapsed": true
   },
   "outputs": [],
   "source": [
    "train_df['label_id']=train_df['whaleID'].apply(lambda x : labels_dict[x])"
   ]
  },
  {
   "cell_type": "code",
   "execution_count": 35,
   "metadata": {
    "collapsed": false
   },
   "outputs": [
    {
     "data": {
      "text/html": [
       "<div>\n",
       "<table border=\"1\" class=\"dataframe\">\n",
       "  <thead>\n",
       "    <tr style=\"text-align: right;\">\n",
       "      <th></th>\n",
       "      <th>Image</th>\n",
       "      <th>whaleID</th>\n",
       "      <th>full_path</th>\n",
       "      <th>label_id</th>\n",
       "    </tr>\n",
       "  </thead>\n",
       "  <tbody>\n",
       "    <tr>\n",
       "      <th>17</th>\n",
       "      <td>w_5390.jpg</td>\n",
       "      <td>whale_23574</td>\n",
       "      <td>/home/jshoun01/Data/kaggle/whale/imgs/w_5390.jpg</td>\n",
       "      <td>17</td>\n",
       "    </tr>\n",
       "    <tr>\n",
       "      <th>2914</th>\n",
       "      <td>w_7661.jpg</td>\n",
       "      <td>whale_29569</td>\n",
       "      <td>/home/jshoun01/Data/kaggle/whale/imgs/w_7661.jpg</td>\n",
       "      <td>53</td>\n",
       "    </tr>\n",
       "    <tr>\n",
       "      <th>1373</th>\n",
       "      <td>w_6639.jpg</td>\n",
       "      <td>whale_51195</td>\n",
       "      <td>/home/jshoun01/Data/kaggle/whale/imgs/w_6639.jpg</td>\n",
       "      <td>248</td>\n",
       "    </tr>\n",
       "    <tr>\n",
       "      <th>988</th>\n",
       "      <td>w_2131.jpg</td>\n",
       "      <td>whale_87155</td>\n",
       "      <td>/home/jshoun01/Data/kaggle/whale/imgs/w_2131.jpg</td>\n",
       "      <td>68</td>\n",
       "    </tr>\n",
       "    <tr>\n",
       "      <th>3896</th>\n",
       "      <td>w_6673.jpg</td>\n",
       "      <td>whale_68116</td>\n",
       "      <td>/home/jshoun01/Data/kaggle/whale/imgs/w_6673.jpg</td>\n",
       "      <td>35</td>\n",
       "    </tr>\n",
       "  </tbody>\n",
       "</table>\n",
       "</div>"
      ],
      "text/plain": [
       "           Image      whaleID  \\\n",
       "17    w_5390.jpg  whale_23574   \n",
       "2914  w_7661.jpg  whale_29569   \n",
       "1373  w_6639.jpg  whale_51195   \n",
       "988   w_2131.jpg  whale_87155   \n",
       "3896  w_6673.jpg  whale_68116   \n",
       "\n",
       "                                             full_path  label_id  \n",
       "17    /home/jshoun01/Data/kaggle/whale/imgs/w_5390.jpg        17  \n",
       "2914  /home/jshoun01/Data/kaggle/whale/imgs/w_7661.jpg        53  \n",
       "1373  /home/jshoun01/Data/kaggle/whale/imgs/w_6639.jpg       248  \n",
       "988   /home/jshoun01/Data/kaggle/whale/imgs/w_2131.jpg        68  \n",
       "3896  /home/jshoun01/Data/kaggle/whale/imgs/w_6673.jpg        35  "
      ]
     },
     "execution_count": 35,
     "metadata": {},
     "output_type": "execute_result"
    }
   ],
   "source": [
    "shuffled_df=train_df.iloc[np.random.permutation(np.arange(len(train_df)))]\n",
    "shuffled_df.head()"
   ]
  },
  {
   "cell_type": "code",
   "execution_count": 36,
   "metadata": {
    "collapsed": true
   },
   "outputs": [],
   "source": [
    "ratio=0.75\n",
    "train_last=int(len(train_df)*ratio)"
   ]
  },
  {
   "cell_type": "code",
   "execution_count": 37,
   "metadata": {
    "collapsed": false
   },
   "outputs": [],
   "source": [
    "train_split=shuffled_df[0:train_last]\n",
    "validation_split=shuffled_df[train_last:]"
   ]
  },
  {
   "cell_type": "code",
   "execution_count": 38,
   "metadata": {
    "collapsed": false
   },
   "outputs": [],
   "source": [
    "train_split[['full_path','label_id']].to_csv('digits_train.csv',header=False, index=False, sep=\" \")"
   ]
  },
  {
   "cell_type": "code",
   "execution_count": 39,
   "metadata": {
    "collapsed": false
   },
   "outputs": [
    {
     "name": "stdout",
     "output_type": "stream",
     "text": [
      "/home/jshoun01/Data/kaggle/whale/imgs/w_5390.jpg 17\r\n",
      "/home/jshoun01/Data/kaggle/whale/imgs/w_7661.jpg 53\r\n",
      "/home/jshoun01/Data/kaggle/whale/imgs/w_6639.jpg 248\r\n",
      "/home/jshoun01/Data/kaggle/whale/imgs/w_2131.jpg 68\r\n",
      "/home/jshoun01/Data/kaggle/whale/imgs/w_6673.jpg 35\r\n",
      "/home/jshoun01/Data/kaggle/whale/imgs/w_2236.jpg 20\r\n",
      "/home/jshoun01/Data/kaggle/whale/imgs/w_8180.jpg 265\r\n",
      "/home/jshoun01/Data/kaggle/whale/imgs/w_3010.jpg 75\r\n",
      "/home/jshoun01/Data/kaggle/whale/imgs/w_1004.jpg 30\r\n",
      "/home/jshoun01/Data/kaggle/whale/imgs/w_3707.jpg 58\r\n"
     ]
    }
   ],
   "source": [
    "!head digits_train.csv"
   ]
  },
  {
   "cell_type": "code",
   "execution_count": 40,
   "metadata": {
    "collapsed": true
   },
   "outputs": [],
   "source": [
    "validation_split[['full_path','label_id']].to_csv('digits_validation.csv',header=False, index=False, sep=\" \")"
   ]
  },
  {
   "cell_type": "code",
   "execution_count": 41,
   "metadata": {
    "collapsed": false
   },
   "outputs": [
    {
     "name": "stdout",
     "output_type": "stream",
     "text": [
      "/home/jshoun01/Data/kaggle/whale/imgs/w_3415.jpg 123\r\n",
      "/home/jshoun01/Data/kaggle/whale/imgs/w_2352.jpg 290\r\n",
      "/home/jshoun01/Data/kaggle/whale/imgs/w_7943.jpg 222\r\n",
      "/home/jshoun01/Data/kaggle/whale/imgs/w_6331.jpg 27\r\n",
      "/home/jshoun01/Data/kaggle/whale/imgs/w_7904.jpg 204\r\n",
      "/home/jshoun01/Data/kaggle/whale/imgs/w_7065.jpg 164\r\n",
      "/home/jshoun01/Data/kaggle/whale/imgs/w_4526.jpg 138\r\n",
      "/home/jshoun01/Data/kaggle/whale/imgs/w_4660.jpg 127\r\n",
      "/home/jshoun01/Data/kaggle/whale/imgs/w_3376.jpg 58\r\n",
      "/home/jshoun01/Data/kaggle/whale/imgs/w_5479.jpg 190\r\n"
     ]
    }
   ],
   "source": [
    "!head digits_validation.csv"
   ]
  },
  {
   "cell_type": "code",
   "execution_count": null,
   "metadata": {
    "collapsed": true
   },
   "outputs": [],
   "source": [
    "ra"
   ]
  }
 ],
 "metadata": {
  "kernelspec": {
   "display_name": "Python 2",
   "language": "python",
   "name": "python2"
  },
  "language_info": {
   "codemirror_mode": {
    "name": "ipython",
    "version": 2
   },
   "file_extension": ".py",
   "mimetype": "text/x-python",
   "name": "python",
   "nbconvert_exporter": "python",
   "pygments_lexer": "ipython2",
   "version": "2.7.6"
  }
 },
 "nbformat": 4,
 "nbformat_minor": 0
}
