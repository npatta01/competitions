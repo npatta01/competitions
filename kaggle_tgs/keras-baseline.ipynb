{
 "cells": [
  {
   "cell_type": "code",
   "execution_count": null,
   "metadata": {},
   "outputs": [],
   "source": [
    "!ls"
   ]
  },
  {
   "cell_type": "code",
   "execution_count": null,
   "metadata": {},
   "outputs": [],
   "source": [
    "!pwd"
   ]
  },
  {
   "cell_type": "code",
   "execution_count": null,
   "metadata": {},
   "outputs": [],
   "source": [
    "!ls /home/ubuntu/data/tgs"
   ]
  },
  {
   "cell_type": "code",
   "execution_count": null,
   "metadata": {},
   "outputs": [],
   "source": [
    "!pip install pydot"
   ]
  },
  {
   "cell_type": "code",
   "execution_count": 1,
   "metadata": {},
   "outputs": [
    {
     "name": "stderr",
     "output_type": "stream",
     "text": [
      "/home/ubuntu/anaconda3/lib/python3.6/site-packages/h5py/__init__.py:36: FutureWarning: Conversion of the second argument of issubdtype from `float` to `np.floating` is deprecated. In future, it will be treated as `np.float64 == np.dtype(float).type`.\n",
      "  from ._conv import register_converters as _register_converters\n"
     ]
    }
   ],
   "source": [
    "import os\n",
    "import numpy as np\n",
    "import cv2\n",
    "from tqdm import tqdm\n",
    "from sklearn.model_selection import train_test_split\n",
    "import pydot\n",
    "import tensorflow as tf"
   ]
  },
  {
   "cell_type": "code",
   "execution_count": 2,
   "metadata": {},
   "outputs": [
    {
     "name": "stderr",
     "output_type": "stream",
     "text": [
      "Using TensorFlow backend.\n"
     ]
    },
    {
     "data": {
      "text/plain": [
       "['/job:localhost/replica:0/task:0/device:GPU:0']"
      ]
     },
     "execution_count": 2,
     "metadata": {},
     "output_type": "execute_result"
    }
   ],
   "source": [
    "from keras import backend as K\n",
    "K.tensorflow_backend._get_available_gpus()"
   ]
  },
  {
   "cell_type": "code",
   "execution_count": 3,
   "metadata": {},
   "outputs": [
    {
     "data": {
      "text/plain": [
       "'1.10.1'"
      ]
     },
     "execution_count": 3,
     "metadata": {},
     "output_type": "execute_result"
    }
   ],
   "source": [
    "tf.__version__"
   ]
  },
  {
   "cell_type": "code",
   "execution_count": null,
   "metadata": {},
   "outputs": [],
   "source": []
  },
  {
   "cell_type": "code",
   "execution_count": 4,
   "metadata": {},
   "outputs": [],
   "source": [
    "TRAIN_IMAGE_DIR = 'input/train/images/'\n",
    "TRAIN_MASK_DIR = 'input/train/masks/'\n",
    "TEST_IMAGE_DIR = 'input/test/images/'\n",
    "\n",
    "train_fns = os.listdir(TRAIN_IMAGE_DIR)"
   ]
  },
  {
   "cell_type": "code",
   "execution_count": 5,
   "metadata": {
    "_cell_guid": "b1076dfc-b9ad-4769-8c92-a6c4dae69d19",
    "_uuid": "8f2839f25d086af736a60e9eeb907d3b93b6e0e5"
   },
   "outputs": [
    {
     "name": "stderr",
     "output_type": "stream",
     "text": [
      "100%|██████████| 4000/4000 [00:04<00:00, 957.90it/s] \n",
      "100%|██████████| 4000/4000 [00:02<00:00, 1652.76it/s]\n"
     ]
    },
    {
     "name": "stdout",
     "output_type": "stream",
     "text": [
      "__________________________________________________________________________________________________\n",
      "Layer (type)                    Output Shape         Param #     Connected to                     \n",
      "==================================================================================================\n",
      "input_1 (InputLayer)            (None, 101, 101, 1)  0                                            \n",
      "__________________________________________________________________________________________________\n",
      "conv2d_1 (Conv2D)               (None, 101, 101, 32) 320         input_1[0][0]                    \n",
      "__________________________________________________________________________________________________\n",
      "conv2d_5 (Conv2D)               (None, 101, 101, 24) 624         input_1[0][0]                    \n",
      "__________________________________________________________________________________________________\n",
      "conv2d_9 (Conv2D)               (None, 101, 101, 16) 800         input_1[0][0]                    \n",
      "__________________________________________________________________________________________________\n",
      "conv2d_2 (Conv2D)               (None, 101, 101, 32) 9248        conv2d_1[0][0]                   \n",
      "__________________________________________________________________________________________________\n",
      "conv2d_6 (Conv2D)               (None, 101, 101, 24) 14424       conv2d_5[0][0]                   \n",
      "__________________________________________________________________________________________________\n",
      "conv2d_10 (Conv2D)              (None, 101, 101, 16) 12560       conv2d_9[0][0]                   \n",
      "__________________________________________________________________________________________________\n",
      "conv2d_3 (Conv2D)               (None, 101, 101, 32) 9248        conv2d_2[0][0]                   \n",
      "__________________________________________________________________________________________________\n",
      "conv2d_7 (Conv2D)               (None, 101, 101, 24) 14424       conv2d_6[0][0]                   \n",
      "__________________________________________________________________________________________________\n",
      "conv2d_11 (Conv2D)              (None, 101, 101, 16) 12560       conv2d_10[0][0]                  \n",
      "__________________________________________________________________________________________________\n",
      "conv2d_4 (Conv2D)               (None, 101, 101, 32) 9248        conv2d_3[0][0]                   \n",
      "__________________________________________________________________________________________________\n",
      "conv2d_8 (Conv2D)               (None, 101, 101, 24) 14424       conv2d_7[0][0]                   \n",
      "__________________________________________________________________________________________________\n",
      "conv2d_12 (Conv2D)              (None, 101, 101, 16) 12560       conv2d_11[0][0]                  \n",
      "__________________________________________________________________________________________________\n",
      "concatenate_1 (Concatenate)     (None, 101, 101, 72) 0           conv2d_4[0][0]                   \n",
      "                                                                 conv2d_8[0][0]                   \n",
      "                                                                 conv2d_12[0][0]                  \n",
      "__________________________________________________________________________________________________\n",
      "conv2d_13 (Conv2D)              (None, 101, 101, 16) 1168        concatenate_1[0][0]              \n",
      "__________________________________________________________________________________________________\n",
      "conv2d_14 (Conv2D)              (None, 101, 101, 1)  17          conv2d_13[0][0]                  \n",
      "==================================================================================================\n",
      "Total params: 111,625\n",
      "Trainable params: 111,625\n",
      "Non-trainable params: 0\n",
      "__________________________________________________________________________________________________\n"
     ]
    }
   ],
   "source": [
    "\n",
    "\n",
    "\n",
    "X = [np.array(cv2.imread(TRAIN_IMAGE_DIR + p, cv2.IMREAD_GRAYSCALE), dtype=np.uint8) for p in tqdm(train_fns)]\n",
    "X = np.array(X)/255\n",
    "X = np.expand_dims(X,axis=3)\n",
    "\n",
    "y = [np.array(cv2.imread(TRAIN_MASK_DIR + p, cv2.IMREAD_GRAYSCALE), dtype=np.uint8) for p in tqdm(train_fns)]\n",
    "y = np.array(y)/255\n",
    "y = np.expand_dims(y,axis=3)\n",
    "\n",
    "X_train, X_valid, y_train, y_valid = train_test_split(X,y, random_state=23, test_size = 0.2)\n",
    "\n",
    "from keras.models import Model\n",
    "from keras.layers import Conv2D, Input, Concatenate\n",
    "from keras.callbacks import EarlyStopping, ModelCheckpoint\n",
    "def conv_block(num_layers,inp,units,kernel):\n",
    "    x = inp\n",
    "    for l in range(num_layers):\n",
    "        x = Conv2D(units, kernel_size=kernel, padding='SAME',activation='relu')(x)\n",
    "    return x\n",
    "\n",
    "\n",
    "inp = Input(shape=(101,101,1))\n",
    "cnn1 = conv_block(4,inp,32,3)\n",
    "cnn2 = conv_block(4,inp,24,5)\n",
    "cnn3 = conv_block(4,inp,16,7)\n",
    "concat = Concatenate()([cnn1,cnn2,cnn3])\n",
    "d1 = Conv2D(16,1, activation='relu')(concat)\n",
    "out = Conv2D(1,1, activation='sigmoid')(d1)\n",
    "\n",
    "model = Model(inputs = inp, outputs = out)\n",
    "model.summary()\n",
    "model.compile(optimizer='adam',loss='binary_crossentropy')\n",
    "\n",
    "\n",
    "\n"
   ]
  },
  {
   "cell_type": "code",
   "execution_count": 6,
   "metadata": {},
   "outputs": [],
   "source": [
    "from keras.utils import plot_model\n",
    "plot_model(model, to_file='model.png',show_layer_names=True, show_shapes=True)"
   ]
  },
  {
   "cell_type": "code",
   "execution_count": 7,
   "metadata": {},
   "outputs": [
    {
     "data": {
      "image/svg+xml": [
       "<svg height=\"556pt\" viewBox=\"0.00 0.00 420.50 556.00\" width=\"421pt\" xmlns=\"http://www.w3.org/2000/svg\" xmlns:xlink=\"http://www.w3.org/1999/xlink\">\n",
       "<g class=\"graph\" id=\"graph0\" transform=\"scale(1 1) rotate(0) translate(4 552)\">\n",
       "<title>G</title>\n",
       "<polygon fill=\"white\" points=\"-4,4 -4,-552 416.5,-552 416.5,4 -4,4\" stroke=\"none\"/>\n",
       "<!-- 140201293867776 -->\n",
       "<g class=\"node\" id=\"node1\"><title>140201293867776</title>\n",
       "<polygon fill=\"none\" points=\"140,-511.5 140,-547.5 265,-547.5 265,-511.5 140,-511.5\" stroke=\"black\"/>\n",
       "<text font-family=\"Times,serif\" font-size=\"14.00\" text-anchor=\"middle\" x=\"202.5\" y=\"-525.8\">input_1: InputLayer</text>\n",
       "</g>\n",
       "<!-- 140201293867048 -->\n",
       "<g class=\"node\" id=\"node2\"><title>140201293867048</title>\n",
       "<polygon fill=\"none\" points=\"0,-438.5 0,-474.5 123,-474.5 123,-438.5 0,-438.5\" stroke=\"black\"/>\n",
       "<text font-family=\"Times,serif\" font-size=\"14.00\" text-anchor=\"middle\" x=\"61.5\" y=\"-452.8\">conv2d_1: Conv2D</text>\n",
       "</g>\n",
       "<!-- 140201293867776&#45;&gt;140201293867048 -->\n",
       "<g class=\"edge\" id=\"edge1\"><title>140201293867776-&gt;140201293867048</title>\n",
       "<path d=\"M168.727,-511.494C149.51,-501.817 125.241,-489.597 104.655,-479.23\" fill=\"none\" stroke=\"black\"/>\n",
       "<polygon fill=\"black\" points=\"105.992,-475.985 95.4861,-474.614 102.844,-482.237 105.992,-475.985\" stroke=\"black\"/>\n",
       "</g>\n",
       "<!-- 140201293868000 -->\n",
       "<g class=\"node\" id=\"node3\"><title>140201293868000</title>\n",
       "<polygon fill=\"none\" points=\"141,-438.5 141,-474.5 264,-474.5 264,-438.5 141,-438.5\" stroke=\"black\"/>\n",
       "<text font-family=\"Times,serif\" font-size=\"14.00\" text-anchor=\"middle\" x=\"202.5\" y=\"-452.8\">conv2d_5: Conv2D</text>\n",
       "</g>\n",
       "<!-- 140201293867776&#45;&gt;140201293868000 -->\n",
       "<g class=\"edge\" id=\"edge2\"><title>140201293867776-&gt;140201293868000</title>\n",
       "<path d=\"M202.5,-511.313C202.5,-503.289 202.5,-493.547 202.5,-484.569\" fill=\"none\" stroke=\"black\"/>\n",
       "<polygon fill=\"black\" points=\"206,-484.529 202.5,-474.529 199,-484.529 206,-484.529\" stroke=\"black\"/>\n",
       "</g>\n",
       "<!-- 140201293782096 -->\n",
       "<g class=\"node\" id=\"node4\"><title>140201293782096</title>\n",
       "<polygon fill=\"none\" points=\"284,-438.5 284,-474.5 407,-474.5 407,-438.5 284,-438.5\" stroke=\"black\"/>\n",
       "<text font-family=\"Times,serif\" font-size=\"14.00\" text-anchor=\"middle\" x=\"345.5\" y=\"-452.8\">conv2d_9: Conv2D</text>\n",
       "</g>\n",
       "<!-- 140201293867776&#45;&gt;140201293782096 -->\n",
       "<g class=\"edge\" id=\"edge3\"><title>140201293867776-&gt;140201293782096</title>\n",
       "<path d=\"M236.752,-511.494C256.33,-501.773 281.076,-489.487 302.015,-479.09\" fill=\"none\" stroke=\"black\"/>\n",
       "<polygon fill=\"black\" points=\"303.632,-482.196 311.032,-474.614 300.519,-475.926 303.632,-482.196\" stroke=\"black\"/>\n",
       "</g>\n",
       "<!-- 140201293868168 -->\n",
       "<g class=\"node\" id=\"node5\"><title>140201293868168</title>\n",
       "<polygon fill=\"none\" points=\"0,-365.5 0,-401.5 123,-401.5 123,-365.5 0,-365.5\" stroke=\"black\"/>\n",
       "<text font-family=\"Times,serif\" font-size=\"14.00\" text-anchor=\"middle\" x=\"61.5\" y=\"-379.8\">conv2d_2: Conv2D</text>\n",
       "</g>\n",
       "<!-- 140201293867048&#45;&gt;140201293868168 -->\n",
       "<g class=\"edge\" id=\"edge4\"><title>140201293867048-&gt;140201293868168</title>\n",
       "<path d=\"M61.5,-438.313C61.5,-430.289 61.5,-420.547 61.5,-411.569\" fill=\"none\" stroke=\"black\"/>\n",
       "<polygon fill=\"black\" points=\"65.0001,-411.529 61.5,-401.529 58.0001,-411.529 65.0001,-411.529\" stroke=\"black\"/>\n",
       "</g>\n",
       "<!-- 140201293374464 -->\n",
       "<g class=\"node\" id=\"node6\"><title>140201293374464</title>\n",
       "<polygon fill=\"none\" points=\"141,-365.5 141,-401.5 264,-401.5 264,-365.5 141,-365.5\" stroke=\"black\"/>\n",
       "<text font-family=\"Times,serif\" font-size=\"14.00\" text-anchor=\"middle\" x=\"202.5\" y=\"-379.8\">conv2d_6: Conv2D</text>\n",
       "</g>\n",
       "<!-- 140201293868000&#45;&gt;140201293374464 -->\n",
       "<g class=\"edge\" id=\"edge5\"><title>140201293868000-&gt;140201293374464</title>\n",
       "<path d=\"M202.5,-438.313C202.5,-430.289 202.5,-420.547 202.5,-411.569\" fill=\"none\" stroke=\"black\"/>\n",
       "<polygon fill=\"black\" points=\"206,-411.529 202.5,-401.529 199,-411.529 206,-411.529\" stroke=\"black\"/>\n",
       "</g>\n",
       "<!-- 140201292862688 -->\n",
       "<g class=\"node\" id=\"node7\"><title>140201292862688</title>\n",
       "<polygon fill=\"none\" points=\"282.5,-365.5 282.5,-401.5 412.5,-401.5 412.5,-365.5 282.5,-365.5\" stroke=\"black\"/>\n",
       "<text font-family=\"Times,serif\" font-size=\"14.00\" text-anchor=\"middle\" x=\"347.5\" y=\"-379.8\">conv2d_10: Conv2D</text>\n",
       "</g>\n",
       "<!-- 140201293782096&#45;&gt;140201292862688 -->\n",
       "<g class=\"edge\" id=\"edge6\"><title>140201293782096-&gt;140201292862688</title>\n",
       "<path d=\"M345.984,-438.313C346.21,-430.289 346.485,-420.547 346.737,-411.569\" fill=\"none\" stroke=\"black\"/>\n",
       "<polygon fill=\"black\" points=\"350.237,-411.623 347.02,-401.529 343.24,-411.426 350.237,-411.623\" stroke=\"black\"/>\n",
       "</g>\n",
       "<!-- 140201293959632 -->\n",
       "<g class=\"node\" id=\"node8\"><title>140201293959632</title>\n",
       "<polygon fill=\"none\" points=\"0,-292.5 0,-328.5 123,-328.5 123,-292.5 0,-292.5\" stroke=\"black\"/>\n",
       "<text font-family=\"Times,serif\" font-size=\"14.00\" text-anchor=\"middle\" x=\"61.5\" y=\"-306.8\">conv2d_3: Conv2D</text>\n",
       "</g>\n",
       "<!-- 140201293868168&#45;&gt;140201293959632 -->\n",
       "<g class=\"edge\" id=\"edge7\"><title>140201293868168-&gt;140201293959632</title>\n",
       "<path d=\"M61.5,-365.313C61.5,-357.289 61.5,-347.547 61.5,-338.569\" fill=\"none\" stroke=\"black\"/>\n",
       "<polygon fill=\"black\" points=\"65.0001,-338.529 61.5,-328.529 58.0001,-338.529 65.0001,-338.529\" stroke=\"black\"/>\n",
       "</g>\n",
       "<!-- 140201293476024 -->\n",
       "<g class=\"node\" id=\"node9\"><title>140201293476024</title>\n",
       "<polygon fill=\"none\" points=\"141,-292.5 141,-328.5 264,-328.5 264,-292.5 141,-292.5\" stroke=\"black\"/>\n",
       "<text font-family=\"Times,serif\" font-size=\"14.00\" text-anchor=\"middle\" x=\"202.5\" y=\"-306.8\">conv2d_7: Conv2D</text>\n",
       "</g>\n",
       "<!-- 140201293374464&#45;&gt;140201293476024 -->\n",
       "<g class=\"edge\" id=\"edge8\"><title>140201293374464-&gt;140201293476024</title>\n",
       "<path d=\"M202.5,-365.313C202.5,-357.289 202.5,-347.547 202.5,-338.569\" fill=\"none\" stroke=\"black\"/>\n",
       "<polygon fill=\"black\" points=\"206,-338.529 202.5,-328.529 199,-338.529 206,-338.529\" stroke=\"black\"/>\n",
       "</g>\n",
       "<!-- 140201292985232 -->\n",
       "<g class=\"node\" id=\"node10\"><title>140201292985232</title>\n",
       "<polygon fill=\"none\" points=\"282.5,-292.5 282.5,-328.5 412.5,-328.5 412.5,-292.5 282.5,-292.5\" stroke=\"black\"/>\n",
       "<text font-family=\"Times,serif\" font-size=\"14.00\" text-anchor=\"middle\" x=\"347.5\" y=\"-306.8\">conv2d_11: Conv2D</text>\n",
       "</g>\n",
       "<!-- 140201292862688&#45;&gt;140201292985232 -->\n",
       "<g class=\"edge\" id=\"edge9\"><title>140201292862688-&gt;140201292985232</title>\n",
       "<path d=\"M347.5,-365.313C347.5,-357.289 347.5,-347.547 347.5,-338.569\" fill=\"none\" stroke=\"black\"/>\n",
       "<polygon fill=\"black\" points=\"351,-338.529 347.5,-328.529 344,-338.529 351,-338.529\" stroke=\"black\"/>\n",
       "</g>\n",
       "<!-- 140201293656248 -->\n",
       "<g class=\"node\" id=\"node11\"><title>140201293656248</title>\n",
       "<polygon fill=\"none\" points=\"0,-219.5 0,-255.5 123,-255.5 123,-219.5 0,-219.5\" stroke=\"black\"/>\n",
       "<text font-family=\"Times,serif\" font-size=\"14.00\" text-anchor=\"middle\" x=\"61.5\" y=\"-233.8\">conv2d_4: Conv2D</text>\n",
       "</g>\n",
       "<!-- 140201293959632&#45;&gt;140201293656248 -->\n",
       "<g class=\"edge\" id=\"edge10\"><title>140201293959632-&gt;140201293656248</title>\n",
       "<path d=\"M61.5,-292.313C61.5,-284.289 61.5,-274.547 61.5,-265.569\" fill=\"none\" stroke=\"black\"/>\n",
       "<polygon fill=\"black\" points=\"65.0001,-265.529 61.5,-255.529 58.0001,-265.529 65.0001,-265.529\" stroke=\"black\"/>\n",
       "</g>\n",
       "<!-- 140201293571296 -->\n",
       "<g class=\"node\" id=\"node12\"><title>140201293571296</title>\n",
       "<polygon fill=\"none\" points=\"141,-219.5 141,-255.5 264,-255.5 264,-219.5 141,-219.5\" stroke=\"black\"/>\n",
       "<text font-family=\"Times,serif\" font-size=\"14.00\" text-anchor=\"middle\" x=\"202.5\" y=\"-233.8\">conv2d_8: Conv2D</text>\n",
       "</g>\n",
       "<!-- 140201293476024&#45;&gt;140201293571296 -->\n",
       "<g class=\"edge\" id=\"edge11\"><title>140201293476024-&gt;140201293571296</title>\n",
       "<path d=\"M202.5,-292.313C202.5,-284.289 202.5,-274.547 202.5,-265.569\" fill=\"none\" stroke=\"black\"/>\n",
       "<polygon fill=\"black\" points=\"206,-265.529 202.5,-255.529 199,-265.529 206,-265.529\" stroke=\"black\"/>\n",
       "</g>\n",
       "<!-- 140201223238152 -->\n",
       "<g class=\"node\" id=\"node13\"><title>140201223238152</title>\n",
       "<polygon fill=\"none\" points=\"282.5,-219.5 282.5,-255.5 412.5,-255.5 412.5,-219.5 282.5,-219.5\" stroke=\"black\"/>\n",
       "<text font-family=\"Times,serif\" font-size=\"14.00\" text-anchor=\"middle\" x=\"347.5\" y=\"-233.8\">conv2d_12: Conv2D</text>\n",
       "</g>\n",
       "<!-- 140201292985232&#45;&gt;140201223238152 -->\n",
       "<g class=\"edge\" id=\"edge12\"><title>140201292985232-&gt;140201223238152</title>\n",
       "<path d=\"M347.5,-292.313C347.5,-284.289 347.5,-274.547 347.5,-265.569\" fill=\"none\" stroke=\"black\"/>\n",
       "<polygon fill=\"black\" points=\"351,-265.529 347.5,-255.529 344,-265.529 351,-265.529\" stroke=\"black\"/>\n",
       "</g>\n",
       "<!-- 140201293285752 -->\n",
       "<g class=\"node\" id=\"node14\"><title>140201293285752</title>\n",
       "<polygon fill=\"none\" points=\"118.5,-146.5 118.5,-182.5 286.5,-182.5 286.5,-146.5 118.5,-146.5\" stroke=\"black\"/>\n",
       "<text font-family=\"Times,serif\" font-size=\"14.00\" text-anchor=\"middle\" x=\"202.5\" y=\"-160.8\">concatenate_1: Concatenate</text>\n",
       "</g>\n",
       "<!-- 140201293656248&#45;&gt;140201293285752 -->\n",
       "<g class=\"edge\" id=\"edge13\"><title>140201293656248-&gt;140201293285752</title>\n",
       "<path d=\"M95.273,-219.494C114.49,-209.817 138.759,-197.597 159.345,-187.23\" fill=\"none\" stroke=\"black\"/>\n",
       "<polygon fill=\"black\" points=\"161.156,-190.237 168.514,-182.614 158.008,-183.985 161.156,-190.237\" stroke=\"black\"/>\n",
       "</g>\n",
       "<!-- 140201293571296&#45;&gt;140201293285752 -->\n",
       "<g class=\"edge\" id=\"edge14\"><title>140201293571296-&gt;140201293285752</title>\n",
       "<path d=\"M202.5,-219.313C202.5,-211.289 202.5,-201.547 202.5,-192.569\" fill=\"none\" stroke=\"black\"/>\n",
       "<polygon fill=\"black\" points=\"206,-192.529 202.5,-182.529 199,-192.529 206,-192.529\" stroke=\"black\"/>\n",
       "</g>\n",
       "<!-- 140201223238152&#45;&gt;140201293285752 -->\n",
       "<g class=\"edge\" id=\"edge15\"><title>140201223238152-&gt;140201293285752</title>\n",
       "<path d=\"M312.769,-219.494C292.918,-209.773 267.825,-197.487 246.593,-187.09\" fill=\"none\" stroke=\"black\"/>\n",
       "<polygon fill=\"black\" points=\"247.971,-183.868 237.45,-182.614 244.892,-190.155 247.971,-183.868\" stroke=\"black\"/>\n",
       "</g>\n",
       "<!-- 140201223343968 -->\n",
       "<g class=\"node\" id=\"node15\"><title>140201223343968</title>\n",
       "<polygon fill=\"none\" points=\"137.5,-73.5 137.5,-109.5 267.5,-109.5 267.5,-73.5 137.5,-73.5\" stroke=\"black\"/>\n",
       "<text font-family=\"Times,serif\" font-size=\"14.00\" text-anchor=\"middle\" x=\"202.5\" y=\"-87.8\">conv2d_13: Conv2D</text>\n",
       "</g>\n",
       "<!-- 140201293285752&#45;&gt;140201223343968 -->\n",
       "<g class=\"edge\" id=\"edge16\"><title>140201293285752-&gt;140201223343968</title>\n",
       "<path d=\"M202.5,-146.313C202.5,-138.289 202.5,-128.547 202.5,-119.569\" fill=\"none\" stroke=\"black\"/>\n",
       "<polygon fill=\"black\" points=\"206,-119.529 202.5,-109.529 199,-119.529 206,-119.529\" stroke=\"black\"/>\n",
       "</g>\n",
       "<!-- 140201223441880 -->\n",
       "<g class=\"node\" id=\"node16\"><title>140201223441880</title>\n",
       "<polygon fill=\"none\" points=\"137.5,-0.5 137.5,-36.5 267.5,-36.5 267.5,-0.5 137.5,-0.5\" stroke=\"black\"/>\n",
       "<text font-family=\"Times,serif\" font-size=\"14.00\" text-anchor=\"middle\" x=\"202.5\" y=\"-14.8\">conv2d_14: Conv2D</text>\n",
       "</g>\n",
       "<!-- 140201223343968&#45;&gt;140201223441880 -->\n",
       "<g class=\"edge\" id=\"edge17\"><title>140201223343968-&gt;140201223441880</title>\n",
       "<path d=\"M202.5,-73.3129C202.5,-65.2895 202.5,-55.5475 202.5,-46.5691\" fill=\"none\" stroke=\"black\"/>\n",
       "<polygon fill=\"black\" points=\"206,-46.5288 202.5,-36.5288 199,-46.5289 206,-46.5288\" stroke=\"black\"/>\n",
       "</g>\n",
       "</g>\n",
       "</svg>"
      ],
      "text/plain": [
       "<IPython.core.display.SVG object>"
      ]
     },
     "execution_count": 7,
     "metadata": {},
     "output_type": "execute_result"
    }
   ],
   "source": [
    "import pydot\n",
    "from IPython.display import SVG\n",
    "from keras.utils.vis_utils import model_to_dot\n",
    "\n",
    "SVG(model_to_dot(model).create(prog='dot', format='svg'))\n"
   ]
  },
  {
   "cell_type": "code",
   "execution_count": null,
   "metadata": {},
   "outputs": [],
   "source": []
  },
  {
   "cell_type": "code",
   "execution_count": null,
   "metadata": {},
   "outputs": [],
   "source": []
  },
  {
   "cell_type": "code",
   "execution_count": 8,
   "metadata": {},
   "outputs": [
    {
     "name": "stdout",
     "output_type": "stream",
     "text": [
      "Train on 3200 samples, validate on 800 samples\n",
      "Epoch 1/50\n",
      "3200/3200 [==============================] - 9s 3ms/step - loss: 0.5435 - val_loss: 0.4809\n",
      "Epoch 2/50\n",
      "3200/3200 [==============================] - 6s 2ms/step - loss: 0.4780 - val_loss: 0.4346\n",
      "Epoch 3/50\n",
      "3200/3200 [==============================] - 6s 2ms/step - loss: 0.4456 - val_loss: 0.4071\n",
      "Epoch 4/50\n",
      "3200/3200 [==============================] - 6s 2ms/step - loss: 0.4156 - val_loss: 0.3962\n",
      "Epoch 5/50\n",
      "3200/3200 [==============================] - 6s 2ms/step - loss: 0.3902 - val_loss: 0.4068\n",
      "Epoch 6/50\n",
      "3200/3200 [==============================] - 6s 2ms/step - loss: 0.3984 - val_loss: 0.3782\n",
      "Epoch 7/50\n",
      "3200/3200 [==============================] - 6s 2ms/step - loss: 0.3885 - val_loss: 0.3821\n",
      "Epoch 8/50\n",
      "3200/3200 [==============================] - 6s 2ms/step - loss: 0.3777 - val_loss: 0.3696\n",
      "Epoch 9/50\n",
      "3200/3200 [==============================] - 6s 2ms/step - loss: 0.3672 - val_loss: 0.3810\n",
      "Epoch 10/50\n",
      "3200/3200 [==============================] - 6s 2ms/step - loss: 0.3646 - val_loss: 0.3681\n",
      "Epoch 11/50\n",
      "3200/3200 [==============================] - 6s 2ms/step - loss: 0.3559 - val_loss: 0.3518\n",
      "Epoch 12/50\n",
      "3200/3200 [==============================] - 6s 2ms/step - loss: 0.3494 - val_loss: 0.3446\n",
      "Epoch 13/50\n",
      "3200/3200 [==============================] - 6s 2ms/step - loss: 0.3474 - val_loss: 0.3437\n",
      "Epoch 14/50\n",
      "3200/3200 [==============================] - 6s 2ms/step - loss: 0.3418 - val_loss: 0.3555\n",
      "Epoch 15/50\n",
      "3200/3200 [==============================] - 6s 2ms/step - loss: 0.3509 - val_loss: 0.3635\n",
      "Epoch 16/50\n",
      "3200/3200 [==============================] - 6s 2ms/step - loss: 0.3391 - val_loss: 0.3340\n",
      "Epoch 17/50\n",
      "3200/3200 [==============================] - 6s 2ms/step - loss: 0.3359 - val_loss: 0.3517\n",
      "Epoch 18/50\n",
      "3200/3200 [==============================] - 6s 2ms/step - loss: 0.3316 - val_loss: 0.3319\n",
      "Epoch 19/50\n",
      "3200/3200 [==============================] - 6s 2ms/step - loss: 0.3243 - val_loss: 0.3347\n",
      "Epoch 20/50\n",
      "3200/3200 [==============================] - 6s 2ms/step - loss: 0.3253 - val_loss: 0.3453\n",
      "Epoch 21/50\n",
      "3200/3200 [==============================] - 6s 2ms/step - loss: 0.3254 - val_loss: 0.3243\n",
      "Epoch 22/50\n",
      "3200/3200 [==============================] - 6s 2ms/step - loss: 0.3208 - val_loss: 0.3285\n",
      "Epoch 23/50\n",
      "3200/3200 [==============================] - 6s 2ms/step - loss: 0.3216 - val_loss: 0.3240\n",
      "Epoch 24/50\n",
      "3200/3200 [==============================] - 6s 2ms/step - loss: 0.3182 - val_loss: 0.3173\n",
      "Epoch 25/50\n",
      "3200/3200 [==============================] - 6s 2ms/step - loss: 0.3210 - val_loss: 0.3154\n",
      "Epoch 26/50\n",
      "3200/3200 [==============================] - 6s 2ms/step - loss: 0.3120 - val_loss: 0.3095\n",
      "Epoch 27/50\n",
      "3200/3200 [==============================] - 6s 2ms/step - loss: 0.3060 - val_loss: 0.3068\n",
      "Epoch 28/50\n",
      "3200/3200 [==============================] - 6s 2ms/step - loss: 0.3014 - val_loss: 0.3017\n",
      "Epoch 29/50\n",
      "3200/3200 [==============================] - 6s 2ms/step - loss: 0.3107 - val_loss: 0.3087\n",
      "Epoch 30/50\n",
      "3200/3200 [==============================] - 6s 2ms/step - loss: 0.3037 - val_loss: 0.3128\n",
      "Epoch 31/50\n",
      "3200/3200 [==============================] - 6s 2ms/step - loss: 0.2998 - val_loss: 0.3041\n",
      "Epoch 32/50\n",
      "3200/3200 [==============================] - 6s 2ms/step - loss: 0.2959 - val_loss: 0.2899\n",
      "Epoch 33/50\n",
      "3200/3200 [==============================] - 6s 2ms/step - loss: 0.2978 - val_loss: 0.2959\n",
      "Epoch 34/50\n",
      "3200/3200 [==============================] - 6s 2ms/step - loss: 0.2940 - val_loss: 0.2949\n",
      "Epoch 35/50\n",
      "3200/3200 [==============================] - 6s 2ms/step - loss: 0.2913 - val_loss: 0.2811\n",
      "Epoch 36/50\n",
      "3200/3200 [==============================] - 6s 2ms/step - loss: 0.2901 - val_loss: 0.3032\n",
      "Epoch 37/50\n",
      "3200/3200 [==============================] - 6s 2ms/step - loss: 0.2934 - val_loss: 0.2835\n",
      "Epoch 38/50\n",
      "3200/3200 [==============================] - 6s 2ms/step - loss: 0.2845 - val_loss: 0.2937\n",
      "Epoch 39/50\n",
      "3200/3200 [==============================] - 6s 2ms/step - loss: 0.2871 - val_loss: 0.2849\n",
      "Epoch 40/50\n",
      "3200/3200 [==============================] - 6s 2ms/step - loss: 0.2823 - val_loss: 0.2931\n"
     ]
    },
    {
     "data": {
      "text/plain": [
       "<keras.callbacks.History at 0x7f8315fb7b00>"
      ]
     },
     "execution_count": 8,
     "metadata": {},
     "output_type": "execute_result"
    }
   ],
   "source": [
    "early_stop = EarlyStopping(patience=5)\n",
    "check_point = ModelCheckpoint('model.hdf5',save_best_only=True)\n",
    "model.fit(X_train,y_train, epochs=50, validation_data=(X_valid,y_valid), callbacks=[early_stop,check_point],batch_size=32)\n"
   ]
  },
  {
   "cell_type": "code",
   "execution_count": null,
   "metadata": {},
   "outputs": [],
   "source": []
  },
  {
   "cell_type": "code",
   "execution_count": 9,
   "metadata": {
    "_cell_guid": "79c7e3d0-c299-4dcb-8224-4455121ee9b0",
    "_uuid": "d629ff2d2480ee46fbb7e2d37f6b5fab8052498a"
   },
   "outputs": [
    {
     "name": "stderr",
     "output_type": "stream",
     "text": [
      "100%|██████████| 18000/18000 [00:18<00:00, 961.28it/s] \n"
     ]
    },
    {
     "name": "stdout",
     "output_type": "stream",
     "text": [
      "18000/18000 [==============================] - 11s 608us/step\n"
     ]
    },
    {
     "name": "stderr",
     "output_type": "stream",
     "text": [
      "18000it [04:49, 62.22it/s]\n"
     ]
    }
   ],
   "source": [
    "\n",
    "test_fns = os.listdir(TEST_IMAGE_DIR)\n",
    "X_test = [np.array(cv2.imread(TEST_IMAGE_DIR + p, cv2.IMREAD_GRAYSCALE), dtype=np.uint8) for p in tqdm(test_fns)]\n",
    "X_test = np.array(X_test)/255\n",
    "X_test = np.expand_dims(X_test,axis=3)\n",
    "\n",
    "pred = model.predict(X_test, verbose = True)\n",
    "\n",
    "\n",
    "def RLenc(img, order='F', format=True):\n",
    "    \"\"\"\n",
    "    img is binary mask image, shape (r,c)\n",
    "    order is down-then-right, i.e. Fortran\n",
    "    format determines if the order needs to be preformatted (according to submission rules) or not\n",
    "\n",
    "    returns run length as an array or string (if format is True)\n",
    "    \"\"\"\n",
    "    bytes = img.reshape(img.shape[0] * img.shape[1], order=order)\n",
    "    runs = []  ## list of run lengths\n",
    "    r = 0  ## the current run length\n",
    "    pos = 1  ## count starts from 1 per WK\n",
    "    for c in bytes:\n",
    "        if (c == 0):\n",
    "            if r != 0:\n",
    "                runs.append((pos, r))\n",
    "                pos += r\n",
    "                r = 0\n",
    "            pos += 1\n",
    "        else:\n",
    "            r += 1\n",
    "\n",
    "    # if last run is unsaved (i.e. data ends with 1)\n",
    "    if r != 0:\n",
    "        runs.append((pos, r))\n",
    "        pos += r\n",
    "        r = 0\n",
    "\n",
    "    if format:\n",
    "        z = ''\n",
    "\n",
    "        for rr in runs:\n",
    "            z += '{} {} '.format(rr[0], rr[1])\n",
    "        return z[:-1]\n",
    "    else:\n",
    "        return runs\n",
    "\n",
    "pred_dict = {fn[:-4]:RLenc(np.round(pred[i,:,:,0])) for i,fn in tqdm(enumerate(test_fns))}\n",
    "\n",
    "\n"
   ]
  },
  {
   "cell_type": "code",
   "execution_count": null,
   "metadata": {},
   "outputs": [],
   "source": []
  },
  {
   "cell_type": "code",
   "execution_count": 12,
   "metadata": {},
   "outputs": [],
   "source": [
    "import pandas as pd\n",
    "\n",
    "\n",
    "\n",
    "sub = pd.DataFrame.from_dict(pred_dict,orient='index')\n",
    "sub.index.names = ['id']\n",
    "sub.columns = ['rle_mask']\n",
    "sub.to_csv('submissions/kaggle_baseline.csv.gz', compression=\"gzip\")"
   ]
  },
  {
   "cell_type": "code",
   "execution_count": 11,
   "metadata": {},
   "outputs": [
    {
     "name": "stdout",
     "output_type": "stream",
     "text": [
      "Warning: Your Kaggle API key is readable by otherusers on this system! To fix this, you can run'chmod 600 /home/ubuntu/.kaggle/kaggle.json'\n"
     ]
    }
   ],
   "source": [
    "import kaggle"
   ]
  },
  {
   "cell_type": "code",
   "execution_count": null,
   "metadata": {},
   "outputs": [],
   "source": [
    "kaggle.configuration"
   ]
  }
 ],
 "metadata": {
  "kernelspec": {
   "display_name": "Python 3",
   "language": "python",
   "name": "python3"
  },
  "language_info": {
   "codemirror_mode": {
    "name": "ipython",
    "version": 3
   },
   "file_extension": ".py",
   "mimetype": "text/x-python",
   "name": "python",
   "nbconvert_exporter": "python",
   "pygments_lexer": "ipython3",
   "version": "3.6.5"
  }
 },
 "nbformat": 4,
 "nbformat_minor": 2
}
